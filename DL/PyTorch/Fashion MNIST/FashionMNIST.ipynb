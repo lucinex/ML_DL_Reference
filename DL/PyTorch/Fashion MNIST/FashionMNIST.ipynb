{
  "cells": [
    {
      "cell_type": "code",
      "execution_count": null,
      "metadata": {
        "id": "G0nzCL-AItVK"
      },
      "outputs": [],
      "source": [
        "import torch \n",
        "import torch.nn as nn\n",
        "import torch.nn.functional as F\n",
        "import torch.optim as optim\n",
        "from torchvision import datasets\n",
        "from sklearn.model_selection import train_test_split\n",
        "from torch.utils.data import DataLoader\n",
        "from torch.utils.data import Dataset\n",
        "import numpy as np\n",
        "from sklearn.metrics import accuracy_score, confusion_matrix\n",
        "from sklearn.metrics import f1_score\n",
        "import time\n",
        "import os\n",
        "import pylab as pl\n",
        "import matplotlib.pyplot as plt\n",
        "from torch.nn.modules import loss\n",
        "%matplotlib inline"
      ]
    },
    {
      "cell_type": "code",
      "source": [
        "from matplotlib.pyplot import figure\n",
        "\n",
        "figure(figsize=(20, 16), dpi=80)"
      ],
      "metadata": {
        "colab": {
          "base_uri": "https://localhost:8080/",
          "height": 52
        },
        "id": "sNBiKo5waFpy",
        "outputId": "9a9da1a4-8355-422b-f7b6-c69305e5336c"
      },
      "execution_count": null,
      "outputs": [
        {
          "output_type": "execute_result",
          "data": {
            "text/plain": [
              "<Figure size 1600x1280 with 0 Axes>"
            ]
          },
          "metadata": {},
          "execution_count": 2
        },
        {
          "output_type": "display_data",
          "data": {
            "text/plain": [
              "<Figure size 1600x1280 with 0 Axes>"
            ]
          },
          "metadata": {}
        }
      ]
    },
    {
      "cell_type": "code",
      "execution_count": null,
      "metadata": {
        "id": "-uLUzQfZNE5J"
      },
      "outputs": [],
      "source": [
        "class MNISTdataset(Dataset):\n",
        "\n",
        "    def __init__(self, X,Y,onehot=False):\n",
        "      #reshaping and normalizing \n",
        "        self.onehot = onehot\n",
        "        self.X = X/255\n",
        "        if len(X.shape) != 4:\n",
        "          self.X = self.X.reshape(self.X.shape[0],1,28,28)\n",
        "        \n",
        "        self.Y = Y.type(torch.LongTensor)\n",
        "        if onehot:\n",
        "          self.Y = F.one_hot(self.Y)\n",
        "          self.Y = self.Y.type(torch.float32)\n",
        "    def __len__(self):\n",
        "        return len(self.Y)\n",
        "\n",
        "    def __getitem__(self, idx):\n",
        "        x = self.X[idx,:,:]\n",
        "        y = self.Y[idx]\n",
        "        return x, y\n",
        "\n",
        "class CONVNET(nn.Module):\n",
        "  def __init__(self,BATCH,out_features = 10):\n",
        "    super().__init__()\n",
        "    self.batch = BATCH\n",
        "    self.target_size = out_features\n",
        "\n",
        "    self.conv1 = nn.Conv2d(in_channels = 1,out_channels = 32,kernel_size = 5,stride = 1)\n",
        "    self.conv2 = nn.Conv2d(in_channels = 32,out_channels = 64,kernel_size = 5)\n",
        "    self.conv3 = nn.Conv2d(in_channels = 64,out_channels = 128,kernel_size = 3,stride = 1)\n",
        "    self.conv4 = nn.Conv2d(in_channels = 128,out_channels = 256,kernel_size = 3)\n",
        "    self.dropout2d = nn.Dropout2d(0.2)\n",
        "    self.dropout1 = nn.Dropout(0.6)\n",
        "    self.batch_norm_1 = nn.BatchNorm2d(num_features=32)\n",
        "    self.batch_norm_2 = nn.BatchNorm2d(num_features=256)\n",
        "    self.dense1 = nn.Linear(in_features = 2304,out_features = 512 )\n",
        "    self.dense2 = nn.Linear(in_features = 512,out_features = self.target_size )\n",
        "  def forward(self,x):\n",
        "    x = self.conv1(x)\n",
        "    x = self.batch_norm_1(x)\n",
        "    x = F.relu(x)\n",
        "    x = self.conv2(x)\n",
        "    x = F.max_pool2d(x,2)\n",
        "    x = F.relu(x)\n",
        "    x = self.conv3(x)\n",
        "    x = self.dropout2d(x)\n",
        "    x = F.relu(x)\n",
        "    x = self.conv4(x)\n",
        "    x = F.max_pool2d(x,2)\n",
        "    x = self.batch_norm_2(x)\n",
        "    x = F.relu(x)\n",
        "    \n",
        "    x = torch.flatten(x,1)\n",
        "    x = self.dense1(x)\n",
        "    x = F.relu(x)\n",
        "    x = self.dropout1(x)\n",
        "    x = self.dense2(x)\n",
        "    \n",
        "   \n",
        "    return x\n",
        "def train_one_epoch(model, dataloader, loss_fn, optimiser, device):\n",
        "  model.train()\n",
        "  train_loss = []\n",
        "  for inputs, targets in dataloader:\n",
        "    inputs = inputs.float()\n",
        "    if device=='cuda':\n",
        "      \n",
        "      inputs , targets = inputs.cuda(), targets.cuda()\n",
        "    \n",
        "\n",
        "    # calculate loss\n",
        "    preds = model(inputs)#hidden)\n",
        "    \n",
        "    loss = loss_fn(preds,targets)\n",
        "\n",
        "    # backpropagate loss and update weights\n",
        "    optimiser.zero_grad()\n",
        "    loss.backward()\n",
        "    optimiser.step()\n",
        "    train_loss += [loss.item()]\n",
        "  print(f\"train_loss : {np.mean(train_loss)}\")\n",
        "  return np.mean(train_loss)\n",
        "  \n",
        "def validation(model, dataloader, loss_fn,device):\n",
        "  losses = []\n",
        "  accuracy = []\n",
        "  model.eval()\n",
        "  \n",
        "  for inputs,targets in dataloader:\n",
        "      inputs  = inputs.float()\n",
        "      if device==\"cuda\":\n",
        "        inputs , targets = inputs.cuda(), targets.cuda()\n",
        "      \n",
        "      # calculate loss\n",
        "      preds = model(inputs)\n",
        "      loss = loss_fn(preds,targets)\n",
        "      losses.append(loss.item())\n",
        "\n",
        "      \n",
        "      preds = preds.cpu().detach().numpy()\n",
        "      x_p = np.argmax(preds,axis=-1)\n",
        "      x_t = targets.cpu().detach().numpy()#.reshape(-1)\n",
        "      try:\n",
        "        if x_t.shape[1] == 2:\n",
        "          x_t = x_t[:,-1]\n",
        "      except Exception as e:\n",
        "        pass\n",
        "      accu = accuracy_score(x_t,x_p)\n",
        "      accuracy.append(accu)\n",
        "\n",
        "\n",
        "  print(f\"val_loss_mean : {np.mean(losses)}\" + f\"\\t mean_accuracy: {np.mean(accuracy)}\")\n",
        "  \n",
        "  return np.mean(losses), np.mean(accuracy)\n",
        "\n",
        "def test(model, test_dataloader):\n",
        "  \n",
        "  model.eval()\n",
        "  \n",
        "  Preds = []\n",
        "  Targets = []\n",
        "  for inputs,targets in test_dataloader:\n",
        "      inputs  = inputs.float()\n",
        "      if device==\"cuda\":\n",
        "        inputs , targets = inputs.cuda(), targets.cuda()\n",
        "      preds = model(inputs)\n",
        "      preds = preds.cpu().detach().numpy()\n",
        "      x_p = np.argmax(preds,axis=-1).tolist()\n",
        "      x_t = targets.cpu().detach().numpy().reshape(-1).tolist()\n",
        "      Preds += x_p\n",
        "      Targets += x_t\n",
        " \n",
        "  f1 = f1_score(y_true=Targets, y_pred=Preds ,  average=\"weighted\")\n",
        "  accu = accuracy_score(Targets,Preds) \n",
        "  print(\"Label: {}\".format(Targets))\n",
        "  print(\"Preds: {}\".format(Preds))\n",
        "  print(\"\\n\") \n",
        "  print(f\"testing accuracy : {accu}\" + f\"\\t f1_score: {f1}\")\n",
        "  cm = confusion_matrix(Targets,Preds)\n",
        "  pl.matshow(cm)\n",
        "  pl.title('Confusion matrix  Fashion MNIST')\n",
        "  pl.colorbar()\n",
        "  return \n",
        "\n",
        " \n",
        "  \n",
        "def load_latest_model(model, name=\"model.pt\",device='cpu'):\n",
        "    \n",
        "    \n",
        "    model.load_state_dict(torch.load(name,map_location=torch.device(device)))\n",
        "    return model\n",
        "\n",
        "def train(model, train_dataloader, test_dataloader,\n",
        "          epochs, optimizer, criterion, scheduler=None,\n",
        "          name=\"model.pth\", path=None):\n",
        "\n",
        "\n",
        "    # compare overfitted\n",
        "    train_loss_data, valid_loss_data,accuracy_data = [], [] , []\n",
        "    # check for validation loss\n",
        "    valid_loss_min = np.Inf\n",
        "    # calculate time\n",
        "    since = time.time()\n",
        "\n",
        "    device = (\"cuda\" if torch.cuda.is_available() else \"cpu\")\n",
        "\n",
        "    for epoch in range(epochs):\n",
        "        print(\"Epoch: {}/{}\".format(epoch + 1, epochs))\n",
        "        # monitor training loss\n",
        "        train_loss = 0.0\n",
        "        valid_loss = 0.0\n",
        "        accu =0\n",
        "        total = 0\n",
        "        \n",
        "        e_since = time.time()\n",
        "\n",
        "        ###################\n",
        "        # train the model #\n",
        "        ###################\n",
        "        \n",
        "        train_loss = train_one_epoch(model, train_dataloader, criterion, optimizer, device)\n",
        "        \n",
        "        ######################\n",
        "        # validate the model #\n",
        "        ######################\n",
        "        print(\"\\t\\tGoing for validation\")\n",
        "        valid_loss, accuracy = validation(model, test_dataloader, criterion,device)\n",
        "        \n",
        "\n",
        "        # print training/validation statistics\n",
        "        # calculate average loss over an epoch\n",
        "\n",
        "        # calculate train loss and running loss\n",
        "        train_loss_data.append(train_loss)\n",
        "        valid_loss_data.append(valid_loss)\n",
        "        accuracy_data.append(accuracy*100)\n",
        "\n",
        "        print(\"\\tTrain loss:{:.6f}..\".format(train_loss),\n",
        "              \"\\tValid Loss:{:.6f}..\".format(valid_loss),\n",
        "              \"\\tAccuracy: {:.4f}\".format(accuracy))\n",
        "\n",
        "        if scheduler is not None:\n",
        "            scheduler.step(valid_loss)  # step up scheduler\n",
        "\n",
        "        # save model if validation loss has decreased\n",
        "        if valid_loss <= valid_loss_min:\n",
        "            print('\\tValidation loss decreased ({:.6f} --> {:.6f}).  Saving model ...'.format(\n",
        "                valid_loss_min,\n",
        "                valid_loss))\n",
        "            torch.save(model.state_dict(), name)\n",
        "            valid_loss_min = valid_loss\n",
        "            # save to google drive\n",
        "            if path is not None:\n",
        "                torch.save(model.state_dict(), path)\n",
        "\n",
        "        # Time take for one epoch\n",
        "        time_elapsed = time.time() - e_since\n",
        "        print('\\tEpoch:{} completed in {:.0f}m {:.0f}s'.format(\n",
        "            epoch + 1, time_elapsed // 60, time_elapsed % 60))\n",
        "\n",
        "    # compare total time\n",
        "    time_elapsed = time.time() - since\n",
        "    print('Training completed in {:.0f}m {:.0f}s'.format(\n",
        "        time_elapsed // 60, time_elapsed % 60))\n",
        "\n",
        "    # load best model\n",
        "    model = load_latest_model(model, name)\n",
        "\n",
        "    # return the model\n",
        "    return [model, train_loss_data, valid_loss_data, accuracy_data]\n",
        "\n",
        "\n",
        "\n",
        "def plot_dataset(dataset,nums = 2):\n",
        "  data = dataset.data.numpy()\n",
        "  labels = dataset.targets.numpy().tolist()\n",
        "  index = np.random.randint( 0,data.shape[0]-1,nums)\n",
        "  width=28\n",
        "  height=28\n",
        "  rows = int(nums/2);\n",
        "  cols = 2\n",
        "  axes=[]\n",
        "  fig=plt.figure()\n",
        "\n",
        "  for a in range(rows*cols):\n",
        "    b = data[index[a]]\n",
        "    axes.append( fig.add_subplot(rows, cols, a+1) )\n",
        "    subplot_title=(\"label \"+str(labels[index[a]]))\n",
        "    axes[-1].set_title(subplot_title)  \n",
        "    plt.imshow(b)\n",
        "  fig.tight_layout()    \n",
        "  plt.show()\n"
      ]
    },
    {
      "cell_type": "code",
      "source": [
        "# will be using only 10K images for train and test\n",
        "def prepare_data(data,labels, test_split=0.15,val_split=0.05,shuffle =False,onehot=False ):\n",
        "  #split train test \n",
        "  x_train,x_test,y_train,y_test = train_test_split(data,labels,test_size=test_split ,shuffle=shuffle)   #85/15 split\n",
        "  x_train,x_val,y_train,y_val = train_test_split(x_train,y_train,test_size=val_split )   #keep some for validation\n",
        "  #preprocess and reshape and create an iterator class\n",
        "  train_set = MNISTdataset(x_train,y_train,onehot)\n",
        "  test_set = MNISTdataset(x_test,y_test,onehot)\n",
        "  val_set = MNISTdataset(x_val,y_val,onehot)\n",
        "  #creating an iterator \n",
        "  train_dataloader = DataLoader(train_set, batch_size=BATCH, shuffle=True)\n",
        "  test_dataloader = DataLoader(test_set, batch_size=BATCH, shuffle=True)\n",
        "  val_dataloader = DataLoader(val_set, batch_size=BATCH, shuffle=True)\n",
        "\n",
        "  print(f\"train size {len(train_set)} \")\n",
        "  print(f\"test size {len(test_set)}\")\n",
        "  print(f\"validation set size {len(val_set)}\")\n",
        "\n",
        "  return train_dataloader,val_dataloader,test_dataloader"
      ],
      "metadata": {
        "id": "QBHVD55KZgnc"
      },
      "execution_count": null,
      "outputs": []
    },
    {
      "cell_type": "code",
      "source": [
        ""
      ],
      "metadata": {
        "id": "2QNaGJ-mQI1g"
      },
      "execution_count": null,
      "outputs": []
    },
    {
      "cell_type": "code",
      "execution_count": null,
      "metadata": {
        "id": "KHPSrRwCO1Y-"
      },
      "outputs": [],
      "source": [
        "#set parameters\n",
        "\n",
        "BATCH = 32\n",
        "epochs = 25\n",
        "path = '/content'\n",
        "model_path = '/content/model.pth'\n",
        "device = ('cuda' if torch.cuda.is_available() else 'cpu')\n",
        "\n",
        "learning_rate = 1e-3\n"
      ]
    },
    {
      "cell_type": "code",
      "source": [
        "#download data\n",
        "\n",
        "dataset = datasets.FashionMNIST(download=True,root='/content',train=True )\n",
        "\n",
        "data = dataset.data.reshape(dataset.data.shape[0],784)\n",
        "\n",
        "labels = dataset.targets"
      ],
      "metadata": {
        "id": "GZaFoU76SChV",
        "colab": {
          "base_uri": "https://localhost:8080/",
          "height": 442,
          "referenced_widgets": [
            "2b5d256e3b2c426cbd5b84a454597c8f",
            "903dee586cfc4c16aeb46c5a934bc23a",
            "3b9517898a454e7db12ac93e88fdbcb6",
            "28be44306c4b4e589ff2d7a3677c7c4c",
            "44f7faa633bd4f25a838103ca4667e78",
            "f61fe089232f41efb6b3772647244cba",
            "a03705dcfee740479c82da38ff5fea36",
            "15f8ae5b87ea4194b8afbf9a0a8d5672",
            "b81fa4c49d38468f96db282e5292e3e8",
            "5b00715675bd406eb26bc4f1322df04e",
            "911411c9f2f14b38a691bec0506a32df",
            "a8a88bd8d4ec4dc3b314f805472b525c",
            "ff4c2ea4c8d14a8697464965ab193ee3",
            "26cbce5eb4b840cf9de4ddbfecb0d11b",
            "83ed9681a82a492486cc8c155589dbb3",
            "edaad50e963f446e8f34f42f869dc12f",
            "9d097962b36a49539149def97db1091d",
            "83eb44703e8747d3b76ecf662c0be6f8",
            "cfd7cbd694e243ffba0b037c1a57a20b",
            "4a52e958166944599cdabaec90520f0e",
            "25f7dd8496394f5d89ecd13012928b06",
            "723ee17f01634d1995dddda5ae1771d2",
            "4666f42ce97844c49cd4b7e9e53cf52d",
            "91fa1330eaf64be2b590211f1a17d786",
            "7d6dcfac43514172845300ef3e8adbf9",
            "5cfa54f36721405e8dcab74e823d2998",
            "9cfee14d50ba44b9bfdae4dfcfba8e98",
            "67fbc4d5a6a249eda26185745ff92167",
            "f9cc7d31a6424b34868093c0f4843a45",
            "b7ad2ece11f84c379eb32d322df5719d",
            "ad855f58a51947c1aeb6eaebc433f304",
            "9664f26a6ea74a3881d24a9930a4f108",
            "70a05d2b027042e3b1abbb0e17cabc05",
            "d2f5e416a9d24af2997ec4d95cf62621",
            "5a3355a3af884c6eb6b271e0ab99f3d6",
            "b4e3f9420c3a405f86a9c9e6eaf20795",
            "4e20f001cdf64887b9689b65173c2d94",
            "cbb35e7ed9da43c68a650c3257a56ab9",
            "dad55ec7e68e48d18c10c34eaee9c39b",
            "f0ed997398224c9e90b9903e0f3e29e6",
            "96dcd61c5bb24539aea201c7550abadd",
            "8ae9f5e383224dc59251f597b777fc88",
            "66dab5e7d9664e579f51580ab47b7615",
            "8c88593d0b8549db87e7584fc2c7c772"
          ]
        },
        "outputId": "745dbc76-4cd6-463f-f2f0-0b550f09deb4"
      },
      "execution_count": null,
      "outputs": [
        {
          "output_type": "stream",
          "name": "stdout",
          "text": [
            "Downloading http://fashion-mnist.s3-website.eu-central-1.amazonaws.com/train-images-idx3-ubyte.gz\n",
            "Downloading http://fashion-mnist.s3-website.eu-central-1.amazonaws.com/train-images-idx3-ubyte.gz to /content/FashionMNIST/raw/train-images-idx3-ubyte.gz\n"
          ]
        },
        {
          "output_type": "display_data",
          "data": {
            "text/plain": [
              "  0%|          | 0/26421880 [00:00<?, ?it/s]"
            ],
            "application/vnd.jupyter.widget-view+json": {
              "version_major": 2,
              "version_minor": 0,
              "model_id": "2b5d256e3b2c426cbd5b84a454597c8f"
            }
          },
          "metadata": {}
        },
        {
          "output_type": "stream",
          "name": "stdout",
          "text": [
            "Extracting /content/FashionMNIST/raw/train-images-idx3-ubyte.gz to /content/FashionMNIST/raw\n",
            "\n",
            "Downloading http://fashion-mnist.s3-website.eu-central-1.amazonaws.com/train-labels-idx1-ubyte.gz\n",
            "Downloading http://fashion-mnist.s3-website.eu-central-1.amazonaws.com/train-labels-idx1-ubyte.gz to /content/FashionMNIST/raw/train-labels-idx1-ubyte.gz\n"
          ]
        },
        {
          "output_type": "display_data",
          "data": {
            "text/plain": [
              "  0%|          | 0/29515 [00:00<?, ?it/s]"
            ],
            "application/vnd.jupyter.widget-view+json": {
              "version_major": 2,
              "version_minor": 0,
              "model_id": "a8a88bd8d4ec4dc3b314f805472b525c"
            }
          },
          "metadata": {}
        },
        {
          "output_type": "stream",
          "name": "stdout",
          "text": [
            "Extracting /content/FashionMNIST/raw/train-labels-idx1-ubyte.gz to /content/FashionMNIST/raw\n",
            "\n",
            "Downloading http://fashion-mnist.s3-website.eu-central-1.amazonaws.com/t10k-images-idx3-ubyte.gz\n",
            "Downloading http://fashion-mnist.s3-website.eu-central-1.amazonaws.com/t10k-images-idx3-ubyte.gz to /content/FashionMNIST/raw/t10k-images-idx3-ubyte.gz\n"
          ]
        },
        {
          "output_type": "display_data",
          "data": {
            "text/plain": [
              "  0%|          | 0/4422102 [00:00<?, ?it/s]"
            ],
            "application/vnd.jupyter.widget-view+json": {
              "version_major": 2,
              "version_minor": 0,
              "model_id": "4666f42ce97844c49cd4b7e9e53cf52d"
            }
          },
          "metadata": {}
        },
        {
          "output_type": "stream",
          "name": "stdout",
          "text": [
            "Extracting /content/FashionMNIST/raw/t10k-images-idx3-ubyte.gz to /content/FashionMNIST/raw\n",
            "\n",
            "Downloading http://fashion-mnist.s3-website.eu-central-1.amazonaws.com/t10k-labels-idx1-ubyte.gz\n",
            "Downloading http://fashion-mnist.s3-website.eu-central-1.amazonaws.com/t10k-labels-idx1-ubyte.gz to /content/FashionMNIST/raw/t10k-labels-idx1-ubyte.gz\n"
          ]
        },
        {
          "output_type": "display_data",
          "data": {
            "text/plain": [
              "  0%|          | 0/5148 [00:00<?, ?it/s]"
            ],
            "application/vnd.jupyter.widget-view+json": {
              "version_major": 2,
              "version_minor": 0,
              "model_id": "d2f5e416a9d24af2997ec4d95cf62621"
            }
          },
          "metadata": {}
        },
        {
          "output_type": "stream",
          "name": "stdout",
          "text": [
            "Extracting /content/FashionMNIST/raw/t10k-labels-idx1-ubyte.gz to /content/FashionMNIST/raw\n",
            "\n"
          ]
        }
      ]
    },
    {
      "cell_type": "code",
      "source": [
        "#run below cells sequentially"
      ],
      "metadata": {
        "id": "R2Um5W1S-s9Q"
      },
      "execution_count": null,
      "outputs": []
    },
    {
      "cell_type": "code",
      "execution_count": null,
      "metadata": {
        "colab": {
          "base_uri": "https://localhost:8080/",
          "height": 297
        },
        "id": "TJdO78RwPjBE",
        "outputId": "aecef121-4997-4afd-d1ae-bba64ea82b01"
      },
      "outputs": [
        {
          "output_type": "display_data",
          "data": {
            "text/plain": [
              "<Figure size 432x288 with 4 Axes>"
            ],
            "image/png": "[encoded data removed]"
          },
          "metadata": {
            "needs_background": "light"
          }
        }
      ],
      "source": [
        "#lets see some of the images\n",
        "plot_dataset(dataset,nums=4)"
      ]
    },
    {
      "cell_type": "code",
      "source": [
        "#model 1\n",
        "\n",
        "train_dataloader,val_dataloader,test_dataloader = prepare_data(data,labels)\n",
        "model1 = CONVNET(BATCH)\n",
        "if torch.cuda.is_available():\n",
        "  model1.cuda()\n",
        "\n",
        "\n",
        "loss1 = nn.CrossEntropyLoss()\n",
        "opt1 = optim.Adam(model1.parameters(),lr=learning_rate)\n",
        "schedular1 = torch.optim.lr_scheduler.ReduceLROnPlateau(opt1,patience = 5) \n"
      ],
      "metadata": {
        "colab": {
          "base_uri": "https://localhost:8080/"
        },
        "id": "k_6X4oCtk4yv",
        "outputId": "e5e20178-3f08-46e8-cc0e-086d37237090"
      },
      "execution_count": null,
      "outputs": [
        {
          "output_type": "stream",
          "name": "stdout",
          "text": [
            "train size 48450 \n",
            "test size 9000\n",
            "validation set size 2550\n"
          ]
        }
      ]
    },
    {
      "cell_type": "code",
      "source": [
        "history1=train(model1,train_dataloader,val_dataloader,epochs,opt1,loss1,schedular1)\n",
        "model1,l1,l2,a3 = history1\n",
        "fig, (ax1, ax2) = plt.subplots(1, 2)\n",
        "ax1.plot(l1,label=\"Train_loss\")\n",
        "ax1.plot(l2,label=\"Val_loss\")\n",
        "ax1.set_xlabel('epochs')\n",
        "ax1.set_ylabel('Loss')\n",
        "ax1.legend()\n",
        "\n",
        "ax2.plot(a3,label=\"accuracy\")\n",
        "ax2.legend()\n",
        "\n",
        "test(model1,test_dataloader)"
      ],
      "metadata": {
        "colab": {
          "base_uri": "https://localhost:8080/",
          "height": 1000
        },
        "id": "ojq6EeFjlPhU",
        "outputId": "9dbb5db2-252a-4f44-c060-f123b4625a84"
      },
      "execution_count": null,
      "outputs": [
        {
          "output_type": "stream",
          "name": "stdout",
          "text": [
            "Epoch: 1/25\n",
            "train_loss : 0.544590782750361\n",
            "\t\tGoing for validation\n",
            "val_loss_mean : 0.3614574931033537\t mean_accuracy: 0.865802304964539\n",
            "\tTrain loss:0.544591.. \tValid Loss:0.361457.. \tAccuracy: 0.8658\n",
            "\tValidation loss decreased (inf --> 0.361457).  Saving model ...\n",
            "\tEpoch:1 completed in 0m 22s\n",
            "Epoch: 2/25\n",
            "train_loss : 0.3760452200280558\n",
            "\t\tGoing for validation\n",
            "val_loss_mean : 0.29323812419588263\t mean_accuracy: 0.897052304964539\n",
            "\tTrain loss:0.376045.. \tValid Loss:0.293238.. \tAccuracy: 0.8971\n",
            "\tValidation loss decreased (0.361457 --> 0.293238).  Saving model ...\n",
            "\tEpoch:2 completed in 0m 25s\n",
            "Epoch: 3/25\n",
            "train_loss : 0.32677862174046707\n",
            "\t\tGoing for validation\n",
            "val_loss_mean : 0.2988076298266438\t mean_accuracy: 0.8960549645390071\n",
            "\tTrain loss:0.326779.. \tValid Loss:0.298808.. \tAccuracy: 0.8961\n",
            "\tEpoch:3 completed in 0m 23s\n",
            "Epoch: 4/25\n",
            "train_loss : 0.29353885414699715\n",
            "\t\tGoing for validation\n",
            "val_loss_mean : 0.27668599408542643\t mean_accuracy: 0.8973847517730497\n",
            "\tTrain loss:0.293539.. \tValid Loss:0.276686.. \tAccuracy: 0.8974\n",
            "\tValidation loss decreased (0.293238 --> 0.276686).  Saving model ...\n",
            "\tEpoch:4 completed in 0m 23s\n",
            "Epoch: 5/25\n",
            "train_loss : 0.26889104009928677\n",
            "\t\tGoing for validation\n",
            "val_loss_mean : 0.2520166531515618\t mean_accuracy: 0.90802304964539\n",
            "\tTrain loss:0.268891.. \tValid Loss:0.252017.. \tAccuracy: 0.9080\n",
            "\tValidation loss decreased (0.276686 --> 0.252017).  Saving model ...\n",
            "\tEpoch:5 completed in 0m 25s\n",
            "Epoch: 6/25\n",
            "train_loss : 0.2482888031492729\n",
            "\t\tGoing for validation\n",
            "val_loss_mean : 0.252837826828109\t mean_accuracy: 0.913563829787234\n",
            "\tTrain loss:0.248289.. \tValid Loss:0.252838.. \tAccuracy: 0.9136\n",
            "\tEpoch:6 completed in 0m 21s\n",
            "Epoch: 7/25\n",
            "train_loss : 0.22799487717560318\n",
            "\t\tGoing for validation\n",
            "val_loss_mean : 0.24116366134679063\t mean_accuracy: 0.9155585106382979\n",
            "\tTrain loss:0.227995.. \tValid Loss:0.241164.. \tAccuracy: 0.9156\n",
            "\tValidation loss decreased (0.252017 --> 0.241164).  Saving model ...\n",
            "\tEpoch:7 completed in 0m 21s\n",
            "Epoch: 8/25\n",
            "train_loss : 0.2088202747433345\n",
            "\t\tGoing for validation\n",
            "val_loss_mean : 0.2757983660285777\t mean_accuracy: 0.9086879432624113\n",
            "\tTrain loss:0.208820.. \tValid Loss:0.275798.. \tAccuracy: 0.9087\n",
            "\tEpoch:8 completed in 0m 24s\n",
            "Epoch: 9/25\n",
            "train_loss : 0.19201541093021335\n",
            "\t\tGoing for validation\n",
            "val_loss_mean : 0.26164828904521326\t mean_accuracy: 0.9168882978723404\n",
            "\tTrain loss:0.192015.. \tValid Loss:0.261648.. \tAccuracy: 0.9169\n",
            "\tEpoch:9 completed in 0m 24s\n",
            "Epoch: 10/25\n",
            "train_loss : 0.17503809641136883\n",
            "\t\tGoing for validation\n",
            "val_loss_mean : 0.25973687766463305\t mean_accuracy: 0.9114583333333334\n",
            "\tTrain loss:0.175038.. \tValid Loss:0.259737.. \tAccuracy: 0.9115\n",
            "\tEpoch:10 completed in 0m 25s\n",
            "Epoch: 11/25\n",
            "train_loss : 0.1648671054385799\n",
            "\t\tGoing for validation\n",
            "val_loss_mean : 0.24776285108680843\t mean_accuracy: 0.9162234042553191\n",
            "\tTrain loss:0.164867.. \tValid Loss:0.247763.. \tAccuracy: 0.9162\n",
            "\tEpoch:11 completed in 0m 22s\n",
            "Epoch: 12/25\n",
            "train_loss : 0.15196925592564567\n",
            "\t\tGoing for validation\n",
            "val_loss_mean : 0.26188426206370563\t mean_accuracy: 0.9158909574468085\n",
            "\tTrain loss:0.151969.. \tValid Loss:0.261884.. \tAccuracy: 0.9159\n",
            "\tEpoch:12 completed in 0m 22s\n",
            "Epoch: 13/25\n",
            "train_loss : 0.14383518352948796\n",
            "\t\tGoing for validation\n",
            "val_loss_mean : 0.2777567656037021\t mean_accuracy: 0.913563829787234\n",
            "\tTrain loss:0.143835.. \tValid Loss:0.277757.. \tAccuracy: 0.9136\n",
            "\tEpoch:13 completed in 0m 22s\n",
            "Epoch: 14/25\n",
            "train_loss : 0.09698544990889138\n",
            "\t\tGoing for validation\n",
            "val_loss_mean : 0.2537716876992837\t mean_accuracy: 0.9229831560283688\n",
            "\tTrain loss:0.096985.. \tValid Loss:0.253772.. \tAccuracy: 0.9230\n",
            "\tEpoch:14 completed in 0m 22s\n",
            "Epoch: 15/25\n",
            "train_loss : 0.07958671456109118\n",
            "\t\tGoing for validation\n",
            "val_loss_mean : 0.2623819148825178\t mean_accuracy: 0.9235372340425532\n",
            "\tTrain loss:0.079587.. \tValid Loss:0.262382.. \tAccuracy: 0.9235\n",
            "\tEpoch:15 completed in 0m 21s\n",
            "Epoch: 16/25\n",
            "train_loss : 0.07165702664762658\n",
            "\t\tGoing for validation\n",
            "val_loss_mean : 0.276902765318308\t mean_accuracy: 0.9232047872340425\n",
            "\tTrain loss:0.071657.. \tValid Loss:0.276903.. \tAccuracy: 0.9232\n",
            "\tEpoch:16 completed in 0m 22s\n",
            "Epoch: 17/25\n",
            "train_loss : 0.06569018074155328\n",
            "\t\tGoing for validation\n",
            "val_loss_mean : 0.2830506304009811\t mean_accuracy: 0.9229831560283688\n",
            "\tTrain loss:0.065690.. \tValid Loss:0.283051.. \tAccuracy: 0.9230\n",
            "\tEpoch:17 completed in 0m 22s\n",
            "Epoch: 18/25\n",
            "train_loss : 0.061920596363515476\n",
            "\t\tGoing for validation\n",
            "val_loss_mean : 0.27145665617501163\t mean_accuracy: 0.9237588652482269\n",
            "\tTrain loss:0.061921.. \tValid Loss:0.271457.. \tAccuracy: 0.9238\n",
            "\tEpoch:18 completed in 0m 26s\n",
            "Epoch: 19/25\n",
            "train_loss : 0.05644477426511291\n",
            "\t\tGoing for validation\n",
            "val_loss_mean : 0.2892317389326289\t mean_accuracy: 0.9225398936170213\n",
            "\tTrain loss:0.056445.. \tValid Loss:0.289232.. \tAccuracy: 0.9225\n",
            "\tEpoch:19 completed in 0m 25s\n",
            "Epoch: 20/25\n",
            "train_loss : 0.050996174865821836\n",
            "\t\tGoing for validation\n",
            "val_loss_mean : 0.2754267937320463\t mean_accuracy: 0.9230939716312057\n",
            "\tTrain loss:0.050996.. \tValid Loss:0.275427.. \tAccuracy: 0.9231\n",
            "\tEpoch:20 completed in 0m 22s\n",
            "Epoch: 21/25\n",
            "train_loss : 0.05053437862074788\n",
            "\t\tGoing for validation\n",
            "val_loss_mean : 0.29228646720673707\t mean_accuracy: 0.9242021276595744\n",
            "\tTrain loss:0.050534.. \tValid Loss:0.292286.. \tAccuracy: 0.9242\n",
            "\tEpoch:21 completed in 0m 25s\n",
            "Epoch: 22/25\n",
            "train_loss : 0.04991259854326651\n",
            "\t\tGoing for validation\n",
            "val_loss_mean : 0.2964205829475565\t mean_accuracy: 0.9237588652482269\n",
            "\tTrain loss:0.049913.. \tValid Loss:0.296421.. \tAccuracy: 0.9238\n",
            "\tEpoch:22 completed in 0m 24s\n",
            "Epoch: 23/25\n",
            "train_loss : 0.04878106453608131\n",
            "\t\tGoing for validation\n",
            "val_loss_mean : 0.29197432930159783\t mean_accuracy: 0.9245345744680851\n",
            "\tTrain loss:0.048781.. \tValid Loss:0.291974.. \tAccuracy: 0.9245\n",
            "\tEpoch:23 completed in 0m 24s\n",
            "Epoch: 24/25\n",
            "train_loss : 0.04889601458126461\n",
            "\t\tGoing for validation\n",
            "val_loss_mean : 0.30327690587046546\t mean_accuracy: 0.9242021276595744\n",
            "\tTrain loss:0.048896.. \tValid Loss:0.303277.. \tAccuracy: 0.9242\n",
            "\tEpoch:24 completed in 0m 23s\n",
            "Epoch: 25/25\n",
            "train_loss : 0.0474717155863587\n",
            "\t\tGoing for validation\n",
            "val_loss_mean : 0.30431823734949914\t mean_accuracy: 0.9242021276595744\n",
            "\tTrain loss:0.047472.. \tValid Loss:0.304318.. \tAccuracy: 0.9242\n",
            "\tEpoch:25 completed in 0m 22s\n",
            "Training completed in 9m 35s\n",
            "Label: [2, 7, 8, 4, 8, 7, 4, 6, 5, 8, 0, 1, 2, 3, 0, 4, 5, 2, 3, 3, 5, 3, 2, 8, 2, 8, 3, 5, 1, 7, 0, 8, 0, 6, 0, 3, 9, 3, 8, 4, 3, 7, 1, 2, 8, 9, 8, 3, 4, 9, 1, 9, 9, 8, 4, 6, 0, 0, 3, 2, 2, 1, 5, 7, 0, 0, 0, 8, 9, 7, 9, 5, 5, 5, 4, 7, 7, 9, 4, 5, 4, 9, 2, 1, 5, 4, 2, 5, 9, 6, 8, 4, 1, 7, 4, 8, 7, 3, 5, 1, 5, 6, 7, 9, 3, 5, 8, 6, 4, 9, 1, 4, 7, 8, 3, 8, 6, 6, 8, 8, 6, 1, 9, 1, 4, 8, 2, 3, 4, 9, 4, 8, 7, 4, 1, 2, 3, 2, 6, 1, 1, 2, 6, 9, 7, 9, 6, 5, 6, 9, 8, 6, 1, 0, 3, 7, 1, 8, 4, 4, 9, 7, 0, 9, 6, 9, 9, 1, 5, 4, 5, 4, 5, 9, 3, 3, 4, 6, 5, 9, 9, 5, 5, 5, 4, 1, 0, 0, 3, 7, 8, 8, 3, 1, 2, 5, 1, 5, 6, 9, 8, 8, 7, 8, 8, 0, 3, 7, 9, 6, 6, 8, 9, 3, 8, 1, 4, 7, 9, 6, 7, 2, 3, 0, 3, 3, 4, 6, 4, 0, 6, 2, 0, 4, 9, 0, 4, 0, 1, 7, 8, 3, 8, 4, 7, 2, 6, 4, 1, 3, 8, 1, 0, 0, 5, 9, 7, 8, 1, 9, 1, 2, 7, 6, 1, 9, 2, 9, 4, 2, 1, 0, 4, 2, 2, 7, 6, 2, 4, 7, 3, 5, 1, 2, 6, 9, 7, 6, 0, 9, 6, 6, 7, 6, 2, 3, 7, 4, 9, 8, 7, 8, 5, 3, 5, 4, 4, 9, 3, 7, 6, 4, 8, 3, 9, 7, 9, 4, 9, 5, 7, 9, 4, 8, 3, 1, 9, 9, 6, 1, 8, 7, 9, 3, 0, 6, 1, 3, 1, 7, 9, 0, 2, 2, 4, 9, 7, 9, 4, 4, 5, 2, 8, 6, 4, 3, 3, 4, 4, 0, 8, 4, 2, 9, 2, 3, 8, 0, 7, 0, 1, 2, 5, 6, 5, 6, 7, 1, 3, 6, 6, 8, 8, 8, 2, 4, 1, 6, 3, 4, 0, 2, 4, 4, 3, 2, 2, 3, 0, 2, 2, 4, 4, 2, 9, 9, 9, 7, 5, 8, 6, 2, 9, 5, 9, 9, 9, 4, 4, 1, 2, 2, 9, 8, 2, 6, 6, 7, 5, 5, 9, 7, 7, 8, 1, 5, 8, 0, 2, 7, 0, 7, 8, 1, 3, 5, 9, 1, 5, 2, 9, 9, 2, 9, 1, 7, 1, 0, 0, 5, 8, 7, 2, 9, 6, 3, 2, 7, 3, 3, 9, 0, 9, 9, 9, 9, 2, 6, 2, 4, 6, 3, 5, 3, 4, 3, 4, 7, 8, 8, 5, 1, 9, 3, 7, 9, 2, 1, 6, 6, 0, 9, 4, 6, 3, 6, 9, 6, 4, 3, 3, 0, 9, 7, 0, 7, 2, 1, 4, 2, 6, 6, 0, 2, 4, 9, 0, 7, 1, 2, 7, 9, 2, 9, 7, 8, 2, 9, 4, 9, 5, 3, 0, 6, 5, 4, 4, 4, 0, 9, 7, 7, 1, 7, 7, 2, 0, 2, 0, 0, 5, 1, 7, 8, 6, 5, 3, 3, 5, 6, 4, 1, 0, 9, 5, 8, 9, 4, 8, 9, 5, 4, 9, 0, 2, 3, 3, 9, 7, 5, 4, 2, 6, 6, 3, 6, 8, 2, 2, 0, 9, 6, 6, 4, 0, 9, 7, 0, 9, 5, 9, 0, 8, 5, 0, 1, 3, 9, 2, 9, 8, 4, 4, 8, 5, 1, 4, 7, 6, 9, 7, 0, 9, 8, 0, 4, 3, 7, 4, 4, 9, 2, 0, 9, 6, 8, 1, 1, 0, 1, 8, 9, 8, 8, 6, 1, 2, 5, 4, 9, 8, 3, 0, 5, 9, 0, 5, 8, 9, 2, 5, 1, 2, 0, 6, 1, 0, 9, 4, 6, 0, 8, 0, 4, 8, 3, 2, 6, 9, 0, 2, 5, 4, 9, 0, 8, 3, 8, 3, 3, 3, 4, 2, 7, 2, 8, 8, 8, 0, 3, 3, 3, 5, 2, 6, 1, 2, 6, 9, 8, 6, 1, 2, 2, 4, 7, 4, 2, 6, 8, 0, 7, 8, 4, 9, 6, 4, 2, 8, 3, 8, 8, 4, 4, 6, 5, 3, 9, 6, 4, 3, 1, 3, 1, 6, 3, 0, 5, 5, 0, 2, 5, 4, 8, 9, 1, 7, 0, 7, 7, 2, 1, 6, 4, 2, 5, 3, 8, 0, 7, 5, 6, 5, 6, 7, 8, 1, 0, 7, 7, 2, 0, 4, 9, 6, 8, 1, 4, 6, 6, 3, 2, 5, 6, 6, 9, 1, 0, 1, 1, 5, 2, 7, 8, 3, 1, 3, 7, 4, 2, 4, 4, 8, 6, 7, 9, 8, 7, 7, 5, 1, 2, 8, 7, 0, 9, 1, 2, 3, 2, 9, 4, 2, 7, 8, 1, 1, 1, 1, 5, 4, 2, 4, 6, 3, 6, 9, 3, 1, 7, 6, 0, 5, 3, 9, 1, 6, 2, 4, 1, 5, 2, 9, 7, 2, 0, 0, 4, 5, 6, 1, 9, 5, 3, 6, 3, 6, 9, 5, 6, 7, 4, 1, 6, 2, 2, 4, 0, 0, 9, 3, 7, 8, 8, 0, 5, 4, 6, 7, 5, 6, 0, 9, 5, 9, 0, 4, 0, 2, 1, 8, 6, 9, 1, 9, 5, 1, 4, 5, 4, 4, 3, 3, 4, 1, 1, 7, 4, 4, 0, 6, 7, 6, 0, 9, 4, 7, 0, 7, 2, 6, 1, 5, 9, 2, 9, 0, 5, 8, 9, 7, 1, 0, 9, 2, 6, 4, 9, 2, 7, 4, 1, 4, 1, 8, 1, 4, 7, 8, 3, 9, 3, 3, 1, 7, 1, 8, 0, 0, 3, 9, 6, 1, 1, 7, 2, 4, 6, 8, 4, 2, 7, 6, 9, 4, 7, 6, 9, 0, 3, 7, 8, 4, 7, 5, 5, 7, 3, 5, 9, 0, 5, 7, 9, 8, 9, 3, 6, 9, 6, 3, 1, 8, 6, 2, 4, 0, 5, 3, 8, 8, 6, 1, 0, 5, 8, 0, 1, 8, 3, 5, 9, 4, 1, 4, 7, 0, 8, 0, 6, 1, 2, 0, 3, 9, 8, 4, 3, 4, 3, 1, 7, 4, 0, 0, 6, 7, 6, 2, 3, 3, 8, 0, 7, 0, 0, 3, 2, 0, 2, 2, 8, 0, 8, 1, 8, 2, 0, 8, 1, 4, 2, 4, 4, 1, 5, 0, 4, 1, 8, 9, 8, 4, 0, 0, 0, 3, 8, 6, 9, 2, 2, 2, 4, 2, 0, 2, 6, 3, 5, 7, 4, 0, 8, 5, 8, 8, 5, 4, 5, 0, 8, 5, 7, 6, 9, 7, 7, 8, 5, 7, 1, 5, 0, 6, 6, 2, 7, 6, 2, 0, 6, 2, 9, 8, 3, 6, 4, 9, 0, 1, 6, 9, 7, 2, 2, 6, 5, 3, 0, 9, 4, 7, 0, 0, 2, 4, 8, 0, 6, 1, 3, 1, 9, 4, 6, 5, 7, 9, 4, 7, 8, 4, 4, 1, 1, 0, 8, 3, 1, 3, 4, 4, 6, 9, 2, 6, 7, 0, 8, 0, 2, 3, 6, 7, 3, 6, 3, 5, 9, 7, 3, 1, 8, 6, 2, 9, 3, 5, 8, 8, 0, 4, 4, 9, 2, 6, 3, 9, 2, 7, 6, 0, 9, 3, 3, 0, 2, 2, 9, 7, 7, 3, 7, 8, 7, 1, 8, 1, 2, 4, 6, 5, 9, 0, 1, 4, 0, 2, 8, 1, 5, 9, 5, 3, 4, 1, 9, 1, 6, 0, 3, 1, 8, 8, 0, 1, 8, 9, 4, 7, 5, 5, 4, 9, 7, 1, 9, 1, 1, 2, 4, 8, 7, 9, 4, 2, 3, 8, 0, 5, 0, 8, 4, 0, 1, 3, 8, 4, 1, 8, 5, 8, 7, 4, 9, 5, 0, 0, 8, 6, 3, 7, 5, 3, 7, 8, 6, 6, 6, 8, 7, 2, 5, 1, 8, 9, 8, 0, 2, 3, 3, 7, 7, 8, 2, 0, 7, 5, 9, 1, 6, 5, 5, 8, 1, 8, 4, 0, 9, 0, 1, 5, 5, 7, 4, 8, 5, 7, 1, 4, 7, 4, 3, 0, 3, 8, 0, 3, 1, 7, 0, 2, 4, 2, 8, 8, 7, 6, 4, 6, 8, 9, 0, 3, 0, 9, 3, 3, 3, 4, 2, 5, 4, 7, 6, 8, 9, 2, 7, 8, 3, 1, 2, 0, 8, 8, 3, 6, 8, 0, 9, 9, 8, 1, 8, 4, 8, 7, 1, 0, 5, 7, 5, 6, 8, 6, 4, 4, 4, 0, 5, 9, 0, 3, 7, 1, 4, 3, 1, 8, 9, 4, 1, 8, 7, 3, 0, 3, 0, 8, 5, 3, 5, 6, 3, 1, 3, 1, 0, 6, 4, 4, 0, 8, 1, 8, 2, 2, 4, 3, 2, 0, 8, 0, 2, 8, 3, 7, 3, 5, 9, 7, 7, 9, 0, 5, 2, 7, 1, 5, 4, 9, 0, 1, 5, 0, 4, 5, 1, 0, 6, 1, 7, 2, 0, 5, 8, 4, 2, 3, 3, 2, 8, 2, 0, 1, 6, 6, 7, 8, 8, 1, 9, 3, 5, 9, 9, 4, 3, 0, 5, 2, 3, 6, 3, 1, 0, 9, 0, 7, 6, 4, 4, 5, 9, 2, 4, 6, 1, 5, 8, 8, 5, 9, 5, 8, 2, 1, 3, 0, 9, 1, 5, 8, 4, 8, 2, 7, 9, 6, 5, 5, 1, 5, 5, 2, 8, 8, 1, 8, 1, 9, 9, 1, 4, 9, 2, 7, 7, 7, 4, 2, 9, 0, 4, 3, 1, 7, 1, 4, 1, 0, 6, 6, 1, 4, 2, 7, 4, 8, 0, 8, 5, 2, 6, 5, 2, 1, 9, 5, 6, 9, 6, 3, 4, 2, 2, 0, 4, 6, 9, 9, 8, 0, 5, 5, 8, 8, 1, 0, 0, 0, 8, 5, 8, 3, 3, 6, 0, 9, 4, 0, 4, 7, 8, 5, 2, 8, 8, 7, 9, 0, 8, 7, 8, 5, 6, 9, 5, 5, 0, 0, 3, 4, 0, 6, 1, 3, 8, 4, 5, 8, 1, 6, 7, 0, 2, 7, 5, 2, 2, 6, 1, 0, 4, 4, 6, 6, 8, 6, 4, 9, 6, 7, 6, 4, 2, 9, 3, 7, 3, 1, 8, 6, 5, 9, 2, 6, 8, 9, 0, 8, 5, 4, 1, 6, 4, 8, 4, 3, 4, 4, 6, 7, 5, 5, 4, 2, 5, 3, 5, 2, 1, 1, 0, 9, 4, 8, 2, 4, 3, 0, 1, 0, 4, 4, 5, 1, 7, 2, 8, 8, 0, 7, 3, 3, 8, 9, 4, 1, 8, 4, 1, 2, 7, 7, 3, 6, 2, 5, 5, 4, 0, 9, 9, 2, 7, 2, 4, 9, 7, 4, 6, 8, 2, 5, 1, 2, 9, 8, 0, 3, 0, 3, 5, 4, 7, 4, 7, 7, 5, 4, 4, 9, 8, 9, 9, 8, 2, 4, 3, 5, 6, 3, 0, 1, 6, 1, 5, 3, 5, 4, 4, 1, 2, 5, 7, 7, 3, 9, 8, 6, 5, 4, 9, 7, 7, 5, 2, 1, 1, 6, 3, 4, 6, 5, 1, 9, 0, 7, 4, 1, 8, 1, 7, 4, 7, 5, 9, 5, 3, 8, 8, 4, 5, 0, 5, 6, 4, 6, 9, 6, 7, 3, 0, 7, 2, 0, 4, 1, 5, 8, 3, 8, 3, 6, 7, 1, 3, 3, 3, 2, 4, 6, 5, 8, 8, 3, 9, 0, 6, 2, 2, 1, 7, 6, 9, 0, 9, 3, 1, 6, 3, 3, 4, 6, 6, 1, 3, 8, 3, 4, 3, 8, 9, 2, 6, 1, 7, 3, 2, 9, 3, 5, 6, 8, 8, 2, 0, 8, 5, 3, 3, 2, 8, 0, 4, 1, 0, 1, 9, 3, 1, 9, 0, 8, 9, 2, 7, 1, 2, 4, 4, 4, 6, 1, 8, 4, 9, 4, 3, 1, 0, 4, 5, 0, 0, 3, 8, 3, 8, 3, 1, 0, 4, 5, 1, 7, 4, 1, 3, 5, 1, 6, 5, 3, 5, 2, 5, 7, 7, 6, 1, 1, 9, 7, 1, 8, 3, 3, 0, 5, 0, 3, 6, 7, 8, 5, 5, 6, 9, 4, 9, 9, 7, 1, 2, 8, 5, 2, 5, 4, 5, 1, 8, 8, 2, 3, 0, 6, 7, 9, 6, 0, 0, 6, 1, 0, 7, 3, 7, 5, 9, 9, 5, 4, 4, 0, 7, 8, 0, 9, 8, 8, 2, 4, 9, 2, 9, 5, 1, 4, 9, 6, 2, 2, 4, 9, 1, 0, 9, 7, 2, 8, 3, 3, 1, 3, 8, 4, 7, 1, 5, 9, 0, 5, 2, 1, 6, 2, 8, 7, 5, 7, 8, 6, 8, 4, 4, 9, 3, 9, 2, 9, 1, 5, 2, 0, 1, 4, 8, 3, 9, 2, 8, 0, 5, 9, 6, 1, 6, 1, 0, 2, 5, 3, 6, 3, 2, 0, 8, 2, 4, 9, 3, 0, 1, 1, 2, 3, 8, 0, 4, 3, 7, 9, 6, 3, 5, 8, 5, 6, 3, 6, 3, 0, 9, 0, 0, 7, 6, 5, 1, 9, 9, 5, 6, 9, 3, 7, 7, 4, 9, 7, 3, 2, 8, 0, 3, 8, 5, 7, 1, 2, 1, 6, 7, 3, 3, 8, 3, 0, 2, 6, 0, 5, 7, 4, 6, 4, 8, 3, 6, 4, 7, 4, 9, 9, 4, 1, 5, 4, 6, 6, 2, 1, 1, 8, 6, 9, 3, 1, 2, 5, 2, 8, 7, 9, 6, 2, 4, 6, 2, 4, 6, 5, 3, 9, 5, 2, 9, 4, 8, 8, 0, 1, 7, 5, 7, 3, 4, 8, 0, 4, 5, 7, 5, 6, 1, 0, 8, 0, 2, 2, 4, 6, 5, 2, 2, 1, 3, 2, 9, 3, 7, 8, 3, 3, 5, 5, 4, 3, 4, 3, 6, 1, 8, 8, 4, 6, 9, 1, 7, 0, 3, 6, 3, 8, 5, 1, 6, 6, 6, 0, 4, 0, 3, 0, 3, 2, 7, 2, 4, 7, 9, 5, 9, 9, 7, 2, 6, 0, 1, 2, 8, 3, 4, 9, 3, 9, 4, 7, 6, 6, 2, 4, 5, 4, 2, 1, 0, 5, 2, 5, 7, 6, 0, 8, 4, 8, 8, 3, 0, 9, 3, 6, 5, 5, 2, 9, 2, 7, 8, 5, 4, 6, 3, 1, 2, 6, 2, 7, 3, 6, 2, 4, 6, 0, 6, 8, 9, 8, 1, 9, 9, 1, 3, 8, 0, 1, 0, 6, 7, 4, 6, 5, 3, 9, 0, 7, 9, 7, 9, 9, 2, 9, 8, 8, 8, 4, 1, 3, 9, 7, 3, 9, 0, 6, 1, 1, 8, 4, 1, 7, 8, 4, 6, 5, 3, 3, 6, 6, 0, 9, 1, 8, 7, 1, 9, 1, 6, 6, 3, 6, 2, 6, 5, 7, 7, 2, 9, 7, 3, 4, 3, 0, 1, 3, 4, 3, 7, 1, 0, 3, 1, 8, 8, 5, 6, 0, 7, 8, 1, 3, 3, 0, 5, 0, 6, 5, 5, 7, 6, 3, 6, 5, 3, 8, 5, 5, 0, 4, 1, 5, 6, 1, 5, 7, 1, 3, 1, 4, 4, 2, 1, 3, 4, 5, 9, 0, 0, 7, 1, 5, 3, 3, 6, 4, 5, 2, 8, 2, 5, 5, 3, 6, 5, 4, 9, 2, 2, 7, 4, 6, 0, 1, 3, 1, 8, 6, 6, 4, 6, 7, 9, 4, 6, 5, 9, 4, 5, 5, 3, 5, 8, 0, 5, 6, 7, 1, 3, 8, 8, 5, 6, 7, 7, 6, 3, 4, 2, 9, 0, 6, 9, 9, 0, 2, 6, 1, 4, 2, 2, 4, 8, 8, 2, 4, 0, 7, 7, 4, 1, 1, 1, 6, 6, 0, 3, 3, 6, 9, 7, 4, 5, 7, 4, 0, 6, 3, 3, 5, 0, 6, 6, 7, 0, 0, 0, 5, 1, 1, 2, 9, 5, 3, 3, 0, 8, 8, 7, 0, 5, 2, 5, 5, 9, 8, 1, 5, 8, 9, 1, 3, 8, 8, 1, 7, 6, 5, 1, 3, 5, 5, 6, 9, 4, 8, 9, 5, 5, 3, 8, 7, 9, 9, 7, 3, 6, 6, 2, 2, 3, 0, 6, 0, 7, 7, 7, 1, 1, 3, 0, 9, 1, 2, 2, 8, 2, 1, 5, 4, 2, 5, 9, 2, 1, 0, 8, 3, 8, 3, 6, 2, 4, 0, 7, 7, 6, 9, 8, 1, 4, 5, 4, 2, 8, 5, 2, 0, 2, 7, 6, 9, 5, 0, 2, 7, 1, 0, 6, 7, 5, 3, 9, 5, 7, 6, 5, 0, 2, 3, 4, 9, 7, 5, 3, 3, 8, 0, 4, 6, 0, 1, 9, 1, 5, 3, 7, 4, 8, 2, 2, 9, 3, 0, 5, 0, 0, 2, 8, 3, 1, 0, 1, 3, 5, 6, 3, 2, 8, 9, 3, 7, 5, 8, 8, 2, 4, 7, 4, 4, 8, 7, 2, 5, 1, 6, 5, 5, 3, 3, 4, 0, 8, 0, 4, 7, 1, 9, 2, 2, 3, 2, 7, 0, 5, 2, 3, 8, 8, 9, 6, 0, 1, 6, 0, 5, 9, 3, 6, 3, 7, 0, 5, 3, 3, 9, 8, 5, 5, 8, 3, 1, 9, 9, 3, 7, 3, 5, 4, 3, 9, 9, 0, 2, 0, 0, 8, 2, 4, 6, 1, 4, 8, 1, 9, 8, 5, 5, 4, 6, 4, 1, 8, 9, 2, 4, 5, 7, 0, 4, 8, 9, 2, 4, 9, 1, 2, 1, 1, 1, 8, 8, 3, 5, 2, 8, 8, 8, 7, 5, 2, 3, 3, 8, 9, 9, 1, 4, 3, 2, 6, 2, 6, 5, 2, 7, 0, 4, 1, 4, 0, 4, 0, 5, 3, 8, 3, 0, 9, 3, 2, 2, 8, 3, 1, 3, 5, 4, 0, 9, 9, 3, 3, 1, 6, 2, 8, 7, 9, 8, 8, 2, 0, 2, 1, 4, 9, 3, 5, 8, 7, 7, 7, 7, 1, 9, 0, 4, 3, 6, 2, 3, 7, 7, 2, 9, 2, 5, 7, 1, 9, 5, 9, 6, 2, 1, 3, 2, 0, 1, 8, 0, 6, 0, 7, 0, 3, 6, 5, 8, 5, 6, 9, 9, 9, 6, 2, 8, 6, 8, 8, 2, 6, 2, 0, 3, 4, 4, 6, 8, 5, 0, 0, 6, 4, 7, 8, 4, 3, 0, 1, 4, 5, 1, 3, 5, 9, 5, 3, 2, 9, 6, 6, 0, 6, 5, 3, 9, 3, 1, 7, 5, 2, 9, 8, 7, 7, 2, 4, 8, 3, 4, 1, 0, 4, 1, 1, 2, 1, 7, 5, 3, 2, 8, 7, 6, 9, 2, 8, 1, 4, 2, 8, 6, 6, 6, 8, 5, 3, 5, 1, 0, 7, 5, 9, 3, 9, 2, 6, 6, 5, 5, 7, 5, 1, 6, 8, 4, 5, 4, 8, 6, 2, 9, 0, 7, 3, 2, 9, 5, 9, 6, 5, 1, 1, 2, 8, 5, 9, 9, 1, 1, 6, 4, 4, 5, 5, 5, 6, 7, 5, 5, 5, 5, 7, 0, 9, 2, 3, 7, 7, 2, 4, 5, 3, 7, 5, 6, 8, 1, 7, 9, 6, 3, 6, 1, 5, 4, 6, 9, 1, 5, 6, 1, 5, 7, 2, 0, 2, 4, 1, 7, 1, 8, 4, 9, 8, 6, 4, 9, 7, 9, 6, 7, 9, 9, 9, 7, 8, 9, 8, 6, 6, 6, 1, 4, 5, 0, 2, 0, 5, 0, 4, 3, 5, 4, 5, 1, 8, 7, 1, 4, 4, 3, 1, 3, 3, 1, 3, 7, 2, 3, 4, 3, 4, 7, 1, 9, 3, 4, 8, 3, 1, 4, 4, 4, 0, 8, 3, 6, 4, 5, 8, 8, 5, 3, 2, 1, 5, 6, 0, 3, 4, 6, 7, 1, 6, 7, 9, 9, 4, 1, 4, 9, 3, 8, 5, 1, 7, 3, 7, 6, 4, 4, 1, 8, 0, 0, 7, 7, 9, 7, 8, 3, 0, 9, 9, 2, 1, 3, 6, 1, 8, 0, 8, 1, 5, 3, 3, 6, 8, 9, 6, 3, 6, 7, 9, 2, 0, 6, 9, 4, 8, 4, 5, 0, 1, 0, 4, 1, 8, 3, 9, 8, 0, 9, 1, 4, 5, 6, 7, 9, 8, 8, 8, 8, 3, 3, 9, 2, 6, 5, 6, 5, 1, 0, 0, 8, 7, 7, 6, 0, 7, 3, 4, 7, 3, 2, 0, 5, 9, 5, 1, 8, 4, 5, 6, 1, 1, 5, 8, 3, 5, 1, 1, 7, 4, 2, 2, 7, 0, 8, 5, 7, 2, 4, 6, 3, 3, 7, 4, 1, 0, 2, 2, 8, 8, 6, 7, 0, 6, 9, 5, 5, 4, 0, 6, 2, 4, 8, 3, 7, 9, 1, 1, 2, 5, 3, 6, 3, 0, 0, 1, 6, 8, 9, 9, 4, 0, 1, 9, 1, 6, 3, 4, 7, 2, 5, 3, 0, 0, 8, 6, 3, 4, 7, 2, 5, 2, 0, 7, 7, 2, 2, 6, 1, 1, 5, 1, 5, 8, 6, 9, 0, 0, 8, 0, 9, 1, 9, 5, 3, 6, 9, 8, 2, 3, 9, 2, 8, 0, 3, 0, 6, 9, 3, 4, 1, 3, 4, 2, 3, 8, 8, 3, 7, 9, 2, 0, 6, 5, 4, 4, 0, 9, 9, 4, 8, 6, 2, 9, 1, 5, 5, 7, 9, 3, 1, 5, 1, 9, 4, 5, 6, 2, 4, 2, 0, 8, 9, 7, 7, 4, 2, 0, 5, 6, 7, 4, 8, 5, 7, 9, 9, 9, 3, 2, 9, 1, 4, 9, 0, 4, 0, 3, 8, 3, 1, 1, 3, 8, 6, 9, 5, 4, 3, 6, 1, 0, 1, 6, 0, 6, 9, 7, 8, 8, 2, 6, 9, 5, 8, 0, 9, 8, 9, 3, 5, 9, 3, 3, 8, 0, 5, 7, 5, 0, 3, 1, 7, 2, 0, 4, 7, 9, 5, 0, 7, 9, 7, 2, 9, 4, 6, 4, 4, 3, 9, 2, 1, 8, 4, 6, 6, 1, 8, 1, 1, 4, 2, 1, 2, 9, 2, 8, 8, 2, 2, 5, 5, 8, 8, 4, 8, 7, 7, 8, 3, 2, 7, 9, 0, 0, 5, 4, 3, 5, 9, 6, 5, 7, 5, 3, 5, 4, 8, 5, 0, 4, 0, 1, 7, 8, 4, 6, 5, 2, 6, 8, 3, 2, 0, 0, 3, 6, 8, 7, 4, 4, 9, 6, 6, 3, 3, 8, 4, 5, 2, 2, 3, 7, 5, 2, 7, 4, 0, 5, 8, 1, 1, 3, 5, 9, 3, 2, 9, 9, 0, 5, 8, 0, 6, 5, 1, 2, 1, 1, 6, 9, 4, 2, 3, 6, 8, 9, 4, 7, 5, 3, 4, 3, 5, 8, 1, 0, 1, 5, 3, 8, 2, 8, 3, 5, 7, 9, 2, 4, 3, 6, 7, 5, 2, 3, 7, 2, 4, 1, 6, 2, 9, 9, 5, 5, 7, 1, 5, 8, 0, 8, 1, 4, 6, 0, 0, 0, 2, 5, 0, 2, 4, 4, 4, 9, 4, 0, 5, 0, 4, 6, 9, 8, 9, 9, 0, 0, 1, 3, 6, 5, 1, 5, 0, 4, 0, 8, 6, 7, 5, 8, 2, 0, 0, 2, 0, 5, 4, 9, 3, 0, 8, 2, 6, 3, 4, 2, 2, 2, 6, 3, 3, 4, 3, 2, 9, 1, 9, 8, 1, 2, 7, 8, 6, 1, 4, 6, 4, 3, 0, 1, 5, 1, 4, 2, 8, 9, 5, 1, 2, 9, 8, 1, 5, 4, 5, 8, 7, 8, 9, 4, 0, 8, 3, 5, 5, 8, 6, 1, 2, 2, 7, 5, 6, 8, 5, 8, 8, 3, 6, 9, 3, 6, 3, 5, 7, 6, 5, 2, 9, 6, 2, 2, 9, 5, 2, 1, 0, 6, 0, 6, 3, 2, 1, 7, 2, 7, 2, 2, 4, 8, 6, 9, 3, 7, 7, 8, 7, 8, 7, 7, 7, 1, 5, 9, 9, 8, 8, 7, 1, 2, 7, 9, 2, 1, 3, 8, 5, 8, 5, 1, 4, 5, 8, 3, 9, 0, 6, 0, 5, 2, 8, 8, 1, 8, 5, 2, 7, 2, 7, 3, 2, 3, 2, 8, 2, 6, 4, 8, 5, 7, 7, 7, 6, 8, 0, 2, 0, 5, 0, 0, 4, 2, 4, 3, 6, 4, 1, 4, 7, 3, 3, 2, 2, 7, 4, 4, 0, 6, 0, 9, 3, 8, 4, 6, 0, 8, 5, 5, 9, 9, 7, 8, 0, 3, 6, 0, 9, 2, 9, 3, 9, 5, 0, 9, 9, 6, 0, 4, 4, 9, 4, 8, 2, 2, 7, 6, 3, 7, 2, 7, 3, 8, 5, 0, 1, 2, 9, 2, 9, 2, 1, 7, 3, 8, 4, 8, 2, 7, 0, 5, 8, 2, 9, 2, 9, 3, 0, 9, 5, 6, 3, 6, 0, 8, 5, 1, 5, 4, 3, 0, 7, 5, 7, 5, 3, 2, 0, 1, 1, 3, 1, 4, 1, 0, 0, 7, 7, 2, 0, 5, 5, 9, 0, 9, 7, 4, 4, 7, 6, 6, 6, 6, 1, 9, 2, 1, 1, 7, 1, 2, 2, 3, 6, 6, 9, 0, 9, 7, 6, 2, 5, 5, 3, 7, 9, 5, 3, 0, 9, 6, 9, 5, 0, 6, 6, 7, 0, 1, 2, 7, 5, 3, 3, 0, 0, 0, 0, 7, 4, 1, 1, 3, 8, 4, 5, 5, 3, 9, 6, 6, 7, 2, 2, 2, 5, 7, 9, 6, 0, 2, 2, 3, 6, 0, 2, 4, 0, 8, 0, 9, 0, 9, 8, 0, 1, 1, 3, 8, 8, 0, 1, 6, 0, 1, 6, 6, 5, 1, 6, 2, 4, 5, 1, 5, 9, 8, 3, 1, 9, 8, 2, 4, 7, 5, 7, 8, 5, 9, 4, 1, 6, 7, 1, 5, 1, 4, 4, 8, 3, 7, 7, 0, 1, 4, 7, 2, 2, 9, 5, 3, 2, 9, 0, 7, 3, 2, 0, 7, 7, 2, 1, 9, 2, 7, 4, 2, 0, 5, 8, 6, 0, 2, 9, 0, 5, 9, 1, 2, 2, 7, 7, 0, 3, 8, 3, 3, 9, 7, 9, 1, 6, 4, 2, 7, 9, 4, 0, 6, 8, 4, 4, 3, 0, 8, 3, 9, 3, 1, 2, 8, 2, 8, 6, 4, 3, 6, 3, 4, 8, 1, 2, 1, 0, 7, 4, 5, 5, 7, 1, 0, 3, 3, 3, 5, 4, 8, 9, 7, 2, 6, 0, 6, 6, 6, 1, 3, 6, 9, 6, 9, 8, 7, 7, 2, 8, 2, 5, 9, 7, 0, 9, 0, 5, 7, 6, 3, 4, 8, 3, 1, 5, 2, 4, 4, 3, 1, 5, 9, 3, 7, 8, 3, 7, 7, 8, 9, 0, 4, 2, 7, 9, 5, 7, 7, 8, 7, 1, 3, 1, 4, 2, 6, 6, 3, 1, 8, 4, 0, 6, 3, 2, 3, 3, 9, 4, 3, 9, 9, 2, 6, 6, 5, 5, 9, 3, 5, 3, 7, 8, 9, 6, 7, 1, 9, 3, 8, 8, 4, 8, 8, 8, 9, 2, 9, 1, 7, 5, 8, 8, 3, 9, 7, 3, 1, 9, 9, 4, 7, 5, 5, 7, 9, 0, 7, 4, 2, 9, 7, 0, 1, 2, 2, 0, 6, 1, 7, 5, 5, 6, 6, 7, 9, 2, 5, 5, 6, 3, 3, 9, 9, 2, 4, 6, 8, 5, 9, 8, 9, 6, 1, 1, 1, 4, 7, 5, 9, 1, 6, 5, 9, 1, 8, 4, 0, 5, 4, 9, 4, 6, 1, 9, 1, 7, 7, 8, 4, 1, 1, 5, 0, 8, 2, 7, 3, 3, 9, 4, 7, 2, 4, 4, 0, 8, 7, 7, 9, 0, 9, 3, 9, 5, 7, 0, 5, 2, 0, 2, 1, 0, 3, 0, 0, 8, 3, 6, 7, 5, 6, 6, 5, 4, 2, 6, 8, 7, 4, 3, 8, 4, 2, 9, 2, 6, 7, 9, 9, 4, 8, 7, 9, 3, 7, 2, 2, 5, 0, 2, 9, 7, 2, 5, 6, 8, 2, 6, 5, 7, 1, 5, 5, 7, 4, 4, 5, 6, 5, 4, 4, 8, 1, 1, 0, 4, 0, 5, 7, 4, 6, 7, 9, 5, 0, 5, 4, 9, 4, 2, 9, 3, 4, 0, 8, 0, 1, 3, 3, 8, 0, 0, 6, 5, 3, 1, 9, 7, 8, 0, 7, 1, 7, 9, 1, 2, 1, 9, 4, 5, 7, 9, 5, 2, 6, 1, 1, 2, 4, 6, 8, 1, 2, 0, 3, 4, 0, 3, 4, 9, 2, 8, 2, 4, 3, 0, 3, 2, 6, 7, 3, 7, 0, 1, 6, 4, 2, 4, 5, 8, 2, 0, 0, 1, 2, 6, 3, 6, 4, 1, 3, 1, 4, 8, 7, 8, 9, 7, 9, 3, 0, 2, 0, 1, 6, 9, 2, 4, 3, 3, 9, 0, 0, 3, 4, 7, 7, 9, 1, 4, 5, 2, 9, 3, 8, 4, 1, 4, 2, 5, 8, 4, 0, 7, 0, 9, 2, 9, 0, 2, 2, 2, 7, 2, 7, 7, 3, 6, 3, 7, 5, 5, 6, 2, 0, 0, 2, 8, 6, 8, 2, 3, 0, 8, 4, 4, 2, 0, 5, 3, 4, 4, 9, 6, 8, 8, 6, 1, 1, 7, 8, 4, 0, 5, 5, 6, 0, 8, 2, 0, 6, 7, 3, 5, 1, 4, 9, 9, 2, 3, 0, 3, 8, 9, 0, 8, 7, 9, 1, 0, 7, 9, 7, 9, 1, 9, 1, 2, 4, 7, 8, 2, 9, 9, 7, 4, 8, 6, 9, 5, 9, 6, 0, 1, 6, 5, 1, 7, 0, 6, 9, 5, 3, 0, 9, 3, 0, 3, 0, 3, 1, 4, 0, 5, 1, 5, 8, 6, 5, 9, 5, 4, 6, 9, 0, 2, 2, 6, 6, 6, 9, 0, 3, 5, 8, 5, 6, 9, 7, 0, 8, 8, 5, 5, 8, 8, 8, 4, 3, 9, 6, 4, 6, 9, 6, 7, 4, 0, 0, 1, 4, 4, 0, 4, 4, 0, 2, 6, 0, 4, 6, 8, 5, 1, 4, 9, 0, 8, 1, 9, 1, 0, 4, 7, 1, 1, 0, 1, 2, 6, 4, 3, 4, 5, 0, 8, 5, 6, 4, 5, 3, 5, 0, 0, 4, 8, 3, 0, 1, 1, 9, 7, 1, 9, 8, 7, 8, 0, 8, 3, 9, 6, 3, 7, 5, 7, 3, 8, 0, 0, 7, 0, 3, 5, 0, 0, 3, 5, 5, 4, 3, 1, 6, 1, 5, 9, 9, 6, 7, 4, 9, 4, 8, 1, 3, 8, 7, 2, 0, 1, 6, 5, 4, 9, 2, 3, 2, 9, 6, 2, 0, 4, 3, 4, 2, 0, 2, 5, 5, 2, 3, 6, 2, 8, 4, 0, 1, 0, 8, 0, 2, 6, 4, 6, 8, 6, 9, 5, 7, 5, 0, 7, 9, 6, 7, 7, 2, 3, 8, 8, 9, 0, 6, 7, 5, 2, 2, 4, 1, 3, 5, 7, 4, 9, 6, 0, 0, 1, 3, 2, 8, 2, 7, 8, 3, 7, 4, 2, 2, 6, 6, 2, 3, 3, 8, 8, 2, 2, 1, 6, 5, 4, 7, 5, 8, 9, 4, 5, 5, 8, 9, 0, 0, 8, 3, 2, 4, 4, 5, 2, 3, 9, 0, 6, 6, 6, 1, 5, 0, 9, 4, 0, 9, 1, 0, 0, 7, 2, 8, 7, 0, 9, 9, 5, 9, 6, 0, 2, 6, 3, 9, 2, 7, 4, 6, 4, 0, 0, 7, 6, 9, 4, 1, 6, 1, 0, 2, 4, 6, 6, 9, 2, 3, 5, 3, 1, 5, 2, 4, 7, 9, 3, 2, 5, 2, 3, 8, 7, 4, 2, 6, 6, 1, 4, 0, 3, 7, 0, 4, 4, 5, 9, 5, 0, 7, 4, 7, 7, 6, 9, 5, 0, 8, 0, 4, 0, 4, 6, 1, 6, 1, 6, 3, 5, 2, 5, 0, 7, 9, 7, 2, 6, 8, 4, 2, 2, 0, 8, 9, 6, 5, 8, 1, 3, 8, 4, 2, 3, 5, 8, 7, 6, 2, 0, 1, 4, 5, 4, 5, 4, 0, 8, 4, 3, 4, 6, 0, 7, 0, 0, 6, 6, 8, 4, 1, 8, 2, 2, 2, 7, 1, 2, 5, 1, 5, 1, 1, 6, 2, 3, 0, 9, 7, 7, 5, 5, 7, 4, 9, 4, 8, 1, 0, 7, 4, 1, 3, 1, 2, 7, 2, 7, 2, 4, 7, 6, 0, 6, 5, 0, 9, 1, 7, 2, 9, 5, 4, 6, 9, 8, 5, 3, 7, 0, 2, 5, 6, 7, 0, 1, 9, 8, 6, 3, 1, 1, 1, 2, 5, 6, 9, 4, 8, 0, 2, 9, 0, 5, 7, 5, 3, 0, 5, 3, 4, 8, 9, 7, 7, 3, 8, 6, 4, 4, 6, 4, 3, 2, 7, 5, 9, 3, 3, 6, 1, 7, 8, 1, 3, 1, 9, 0, 6, 3, 8, 4, 7, 0, 2, 4, 1, 4, 4, 2, 8, 7, 0, 5, 1, 8, 3, 0, 7, 5, 1, 4, 3, 2, 7, 1, 1, 7, 3, 0, 3, 2, 2, 7, 2, 1, 1, 6, 4, 4, 4, 2, 0, 1, 6, 4, 0, 9, 2, 1, 1, 3, 9, 4, 4, 1, 2, 0, 0, 7, 6, 6, 8, 5, 8, 6, 0, 7, 5, 1, 8, 5, 9, 9, 5, 9, 2, 7, 5, 2, 3, 6, 2, 5, 4, 9, 5, 8, 2, 9, 5, 9, 4, 8, 0, 8, 3, 2, 6, 2, 0, 0, 7, 5, 6, 3, 8, 6, 7, 2, 1, 4, 4, 5, 4, 0, 0, 8, 6, 5, 5, 9, 5, 1, 1, 9, 0, 8, 6, 2, 4, 8, 7, 1, 1, 6, 9, 3, 8, 1, 8, 2, 6, 4, 3, 0, 2, 6, 7, 4, 8, 5, 8, 6, 0, 0, 3, 3, 3, 9, 2, 1, 3, 6, 9, 0, 7, 3, 3, 9, 5, 6, 0, 0, 6, 6, 0, 6, 9, 9, 3, 1, 7, 2, 5, 2, 0, 4, 0, 5, 0, 9, 9, 5, 8, 7, 9, 3, 5, 3, 3, 6, 6, 7, 9, 1, 3, 5, 9, 1, 9, 5, 5, 1, 2, 6, 4, 6, 7, 1, 9, 0, 7, 8, 3, 1, 3, 4, 4, 6, 2, 0, 5, 7, 7, 1, 3, 8, 2, 4, 6, 0, 3, 0, 6, 4, 1, 0, 4, 1, 7, 3, 9, 8, 5, 3, 2, 4, 6, 7, 2, 9, 1, 2, 7, 2, 0, 2, 4, 2, 1, 2, 1, 4, 8, 3, 3, 0, 8, 9, 6, 1, 5, 3, 3, 9, 3, 4, 1, 6, 4, 5, 9, 9, 4, 1, 2, 1, 9, 9, 7, 3, 8, 7, 9, 0, 7, 1, 8, 7, 9, 1, 1, 1, 9, 0, 7, 7, 5, 0, 7, 4, 5, 3, 2, 1, 3, 6, 5, 3, 4, 2, 7, 3, 0, 1, 2, 6, 6, 4, 6, 5, 6, 4, 3, 1, 0, 5, 8, 7, 8, 6, 6, 0, 1, 4, 0, 2, 0, 2, 5, 5, 9, 4, 1, 8, 5, 5, 4, 3, 7, 5, 4, 4, 3, 3, 3, 3, 1, 1, 9, 3, 0, 5, 5, 3, 8, 9, 6, 4, 7, 0, 7, 5, 2, 6, 4, 1, 3, 2, 3, 8, 9, 4, 5, 9, 7, 2, 1, 1, 9, 6, 7, 0, 9, 7, 9, 0, 4, 0, 6, 6, 2, 3, 6, 5, 5, 2, 8, 7, 8, 7, 4, 6, 7, 7, 8, 0, 3, 2, 4, 6, 6, 7, 8, 8, 0, 3, 8, 3, 8, 8, 2, 5, 5, 3, 4, 1, 8, 2, 5, 8, 7, 4, 5, 6, 4, 4, 5, 7, 0, 9, 4, 7, 3, 9, 0, 4, 7, 0, 6, 9, 7, 2, 7, 9, 2, 1, 8, 1, 3, 6, 2, 0, 7, 5, 4, 3, 8, 2, 4, 4, 7, 5, 1, 5, 7, 5, 6, 0, 3, 2, 4, 7, 7, 0, 9, 8, 6, 2, 0, 7, 6, 6, 6, 7, 3, 4, 8, 4, 8, 6, 6, 7, 7, 8, 4, 6, 9, 3, 1, 9, 2, 8, 9, 6, 8, 2, 5, 7, 6, 5, 8, 4, 0, 7, 0, 5, 9, 8, 3, 7, 3, 8, 5, 6, 7, 3, 0, 2, 8, 2, 7, 8, 7, 6, 3, 9, 3, 7, 1, 2, 4, 2, 3, 3, 5, 5, 9, 2, 7, 8, 4, 4, 3, 1, 1, 1, 1, 9, 3, 5, 6, 2, 7, 6, 0, 8, 3, 5, 0, 8, 0, 9, 6, 8, 3, 9, 0, 0, 2, 9, 4, 1, 8, 7, 1, 8, 5, 0, 3, 9, 9, 2, 3, 0, 6, 0, 1, 2, 5, 0, 0, 7, 8, 8, 0, 6, 7, 6, 9, 1, 8, 5, 3, 3, 3, 4, 7, 0, 3, 1, 4, 3, 9, 9, 2, 6, 6, 4, 1, 2, 7, 6, 0, 9, 7, 1, 2, 6, 7, 0, 4, 2, 2, 4, 6, 7, 4, 6, 3, 6, 1, 8, 0, 3, 1, 9, 8, 9, 5, 0, 8, 3, 0, 4, 1, 0, 8, 9, 2, 5, 4, 1, 4, 3, 5, 7, 2, 7, 4, 9, 1, 4, 2, 4, 5, 9, 0, 8, 4, 0, 3, 3, 8, 2, 6, 1, 6, 0, 9, 5, 5, 1, 3, 3, 1, 1, 1, 4, 8, 5, 5, 8, 9, 7, 5, 6, 1, 7, 5, 4, 2, 5, 3, 1, 2, 9, 0, 7, 2, 5, 6, 6, 1, 3, 5, 1, 5, 1, 7, 2, 8, 5, 0, 9, 3, 4, 2, 0, 3, 4, 0, 3, 3, 9, 7, 2, 6, 7, 2, 9, 2, 8, 3, 2, 7, 0, 2, 7, 9, 2, 5, 8, 1, 7, 3, 0, 5, 0, 9, 3, 3, 0, 6, 3, 7, 6, 8, 3, 0, 6, 4, 3, 1, 3, 9, 6, 4, 5, 5, 3, 0, 1, 9, 2, 7, 5, 1, 8, 2, 0, 9, 7, 1, 6, 4, 4, 1, 4, 5, 4, 4, 0, 0, 4, 1, 7, 1, 3, 0, 3, 3, 4, 7, 4, 2, 0, 2, 0, 3, 5, 9, 0, 1, 7, 7, 2, 0, 7, 1, 9, 3, 1, 2, 4, 3, 7, 5, 3, 3, 1, 4, 9, 8, 5, 3, 0, 9, 2, 5, 3, 4, 6, 6, 2, 9, 7, 4, 8, 3, 4, 2, 9, 2, 1, 4, 5, 5, 9, 0, 5, 6, 6, 4, 3, 1, 3, 4, 9, 1, 9, 9, 2, 7, 0, 9, 5, 9, 2, 6, 2, 0, 2, 8, 9, 1, 4, 8, 9, 4, 9, 2, 8, 0, 4, 9, 7, 1, 9, 0, 4, 3, 4, 9, 1, 9, 2, 7, 3, 5, 4, 0, 0, 1, 4, 8, 9, 5, 4, 2, 2, 0, 3, 7, 3, 7, 3, 0, 7, 0, 8, 6, 0, 1, 2, 4, 1, 5, 8, 4, 2, 3, 7, 4, 0, 7, 5, 8, 6, 0, 1, 1, 2, 2, 1, 7, 3, 8, 0, 9, 5, 1, 4, 1, 3, 8, 4, 5, 1, 1, 6, 7, 6, 1, 2, 3, 6, 5, 3, 6, 9, 1, 0, 9, 9, 1, 2, 7, 9, 8, 0, 5, 5, 6, 1, 6, 9, 8, 5, 6, 9, 9, 8, 0, 6, 5, 9, 9, 2, 1, 1, 4, 0, 9, 1, 1, 3, 7, 0, 4, 6, 7, 5, 9, 7, 8, 4, 3, 9, 7, 4, 9, 5, 5, 8, 2, 0, 3, 7, 3, 0, 7, 5, 5, 9, 6, 5, 3, 9, 1, 1, 2, 7, 3, 6, 0, 3, 8, 2, 3, 4, 0, 6, 1, 4, 0, 5, 0, 5, 7, 5, 4, 8, 8, 8, 7, 8, 9, 1, 1, 8, 5, 0, 2, 6, 4, 5, 1, 2, 0, 8, 4, 2, 8, 5, 0, 5, 7, 4, 9, 0, 6, 9, 5, 0, 7, 1, 4, 7, 8, 2, 4, 2, 9, 4, 6, 0, 1, 5, 4, 3, 4, 2, 6, 8, 9, 9, 2, 6, 1, 2, 7, 0, 7, 6, 3, 9, 2, 9, 5, 1, 1, 1, 9, 4, 7, 9, 6, 2, 6, 8, 9, 3, 6, 4, 7, 6, 2, 9, 5, 1, 3, 8, 0, 2, 3, 8, 3, 1, 6, 6, 4, 2, 4, 9, 4, 6, 5, 1, 5, 2, 2, 0, 1, 8, 3, 7, 7, 6, 5, 0, 8, 4, 4, 2, 7, 9, 4, 0, 2, 2, 0, 1, 5, 9, 4, 9, 9, 6, 7, 2, 6, 2, 6, 5, 2, 8, 3, 9, 9, 6, 5, 2, 0, 4, 8, 7, 3, 8, 1, 6, 4, 5, 6, 7, 2, 1, 8, 5, 9, 1, 9, 0, 1, 4, 7, 6, 7, 7, 4, 6, 0, 9, 9, 5, 5, 4, 3, 1, 1, 7, 3, 4, 6, 9, 8, 6, 4, 6, 2, 7, 3, 0, 1, 1, 4, 3, 4, 8, 0, 6, 7, 2, 7, 5, 3, 4, 1, 0, 4, 2, 8, 7, 7, 5, 3, 3, 4, 8, 8, 6, 3, 1, 9, 0, 2, 5, 6, 1, 1, 1, 1, 4, 3, 3, 7, 7, 2, 9, 0, 0, 5, 4, 6, 8, 1, 1, 5, 9, 3, 9, 8, 7, 4, 2, 5, 1, 9, 7, 1, 2, 3, 4, 5, 8, 6, 5, 6, 2, 9, 8, 0, 4, 4, 4, 4, 7, 4, 2, 3, 8, 1, 4, 8, 5, 7, 0, 6, 2, 6, 6, 9, 8, 4, 3, 8, 5, 0, 6, 4, 6, 9, 9, 1, 8, 1, 5, 0, 5, 5, 9, 4, 9, 1, 4, 6, 7, 5, 4, 3, 9, 4, 4, 6, 7, 7, 8, 0, 5, 7, 9, 7, 3, 8, 2, 7, 8, 6, 8, 4, 6, 5, 8, 1, 5, 3, 8, 8, 0, 9, 6, 0, 4, 2, 8, 2, 5, 6, 3, 0, 0, 2, 2, 1, 2, 4, 8, 4, 2, 3, 0, 9, 7, 6, 9, 6, 0, 5, 4, 7, 9, 9, 2, 8, 8, 6, 0, 6, 9, 5, 6, 0, 1, 2, 9, 3, 3, 9, 2, 0, 1, 4, 0, 8, 2, 9, 1, 2, 0, 5, 5, 7, 8, 2, 5, 4, 0, 9, 3, 8, 6, 0, 0, 5, 4, 6, 3, 7, 9, 6, 2, 3, 0, 7, 8, 1, 6, 9, 3, 2, 5, 1, 7, 6, 4, 4, 9, 5, 1, 4, 2, 6, 1, 5, 9, 5, 9, 2, 6, 2, 2, 1, 4, 1, 4, 8, 7, 4, 0, 5, 5, 4, 3, 1, 2, 0, 3, 4, 2, 8, 4, 4, 5, 5, 4, 4, 4, 1, 9, 1, 6, 6, 0, 7, 6, 7, 9, 3, 6, 5, 2, 4, 2, 6, 9, 4, 6, 2, 6, 0, 6, 3, 5, 0, 4, 1, 3, 5, 3, 9, 9, 4, 3, 7, 0, 7, 9, 4, 7, 3, 3, 6, 5, 3, 9, 3, 0, 3, 6, 5, 0, 3, 4, 6, 9, 4, 1, 6, 0, 0, 8, 2, 0, 9, 6, 5, 5, 7, 0, 1, 8, 4, 8, 2, 2, 1, 0, 0, 1, 8, 5, 0, 9, 8, 8, 2, 1, 7, 7, 9, 5, 3, 4, 1, 8, 1, 3, 4, 7, 8, 3, 9, 9, 9, 1, 9, 8, 1, 6, 2, 6, 8, 0, 3, 0, 6, 2, 5, 7, 6, 7, 3, 6, 7, 9, 5, 2, 7, 3, 6, 4, 0, 4, 3, 2, 1, 2, 3, 2, 4, 9, 9, 8, 9, 5, 8, 4, 0, 3, 9, 8, 2, 8, 3, 3, 0, 7, 2, 1, 9, 8, 1, 1, 7, 2, 0, 0, 1, 9, 6, 5, 7, 9, 5, 6, 0, 9, 5, 2, 8, 9, 1, 1, 0, 0, 5, 1, 0, 3, 5, 3, 8, 3, 5, 3, 8, 9, 0, 3, 8, 0, 5, 3, 5, 7, 6, 9, 5, 2, 8, 7, 7, 6, 8, 4, 0, 9, 3, 4, 1, 0, 1, 6, 8, 0, 6, 6, 9, 5, 3, 4, 0, 5, 0, 8, 6, 0, 4, 3, 2, 8, 9, 6, 7, 0, 5, 1, 9, 1, 7, 6, 2, 0, 7, 4, 9, 4, 3, 3, 2, 1, 1, 0, 3, 1, 4, 4, 3, 7, 3, 0, 8, 9, 2, 0, 6, 9, 5, 3, 0, 9, 0, 5, 2, 6, 1, 1, 8, 5, 2, 2, 5, 0, 2, 5, 0, 0, 0, 4, 4, 4, 3, 2, 9, 3, 1, 0, 6, 3, 5, 5, 7, 4, 6, 0, 0, 8, 9, 9, 0, 1, 7, 3, 4, 0, 3, 5, 8, 7, 7, 5, 1, 2, 1, 4, 9, 1, 7, 2, 8, 9, 0, 6, 4, 3, 6, 6, 1, 2, 8, 4, 4, 9, 8, 4, 3, 3, 1, 4, 6, 6, 2, 9, 6, 9, 8, 4, 8, 9, 0, 6, 8, 5, 6, 0, 5, 5, 4, 4, 0, 6, 5, 0, 5, 0, 7, 1, 2, 8, 4, 6, 9, 6, 3, 8, 3, 5, 6, 4, 3, 0, 1, 6, 8, 8, 2, 7, 2, 9, 2, 0, 8, 5, 1, 0, 0, 2, 2, 7, 2, 3, 7, 5, 4, 4, 3, 7, 3, 5, 9, 1, 2, 2, 6, 4, 2, 5, 0, 0, 1, 9, 5, 1, 2, 7, 0, 0, 5, 1, 5, 1, 5, 0, 9, 5, 4, 3, 3, 5, 5, 1, 0, 1, 9, 2, 5, 6, 1, 1, 3, 4, 6, 9, 7, 5, 0, 1, 4, 3, 8, 9, 8, 1, 2, 9, 1, 2, 7, 4, 7, 7, 3, 5, 2, 4, 6, 2, 6, 5, 5, 7, 8, 0, 1, 2, 4, 1, 6, 7, 9, 1, 3, 3, 9, 1, 7, 1, 3, 5, 6, 2, 8, 0, 0, 5, 8, 1, 0, 4, 2, 5, 3, 4, 2, 8, 8, 5, 3, 2, 9, 8, 0, 7, 8, 1, 6, 4, 8, 8, 3, 5, 9, 3, 4, 0, 3, 0, 0, 1, 6, 3, 5, 0, 7, 8, 0, 7, 1, 5, 2, 1, 6, 1, 2, 5, 0, 0, 1, 2, 3, 3, 1, 9, 7, 2, 1, 9, 4, 6, 2, 4, 1, 4, 1, 1, 7, 9, 5, 0, 6, 3, 8, 1, 6, 9, 9, 9, 4, 3, 4, 2, 5, 1, 7, 0, 6, 4, 9, 7, 1, 4, 2, 9, 9, 0, 3, 9, 9, 9, 7, 0, 5, 1, 5, 6, 9, 0, 2, 9, 4, 9, 3, 6, 1, 3, 9, 1, 7, 6, 0, 1, 8, 1, 3, 9, 0, 2, 9, 4, 0, 3, 4, 4, 8, 8, 4, 4, 3, 1, 3, 8, 7, 8, 6, 9, 9, 4, 2, 7, 4, 3, 4, 7, 5, 4, 5, 4, 7, 5, 5, 3, 9, 7, 4, 6, 2, 4, 2, 1, 4, 2, 6, 4, 9, 5, 6, 2, 2, 5, 8, 5, 4, 0, 4, 5, 3, 3, 4, 7, 6, 0, 3, 7, 6, 3, 1, 2, 6, 0, 5, 7, 4, 3, 3, 7, 2, 5, 2, 7, 7, 9, 5, 1, 3, 9, 4, 9, 7, 3, 0, 1, 9, 8, 1, 0, 3, 0, 1, 9, 4, 7, 7, 6, 6, 6, 7, 4, 6, 2, 0, 6, 3, 9, 0, 8, 9, 3, 8, 6, 1, 2, 4, 1, 6, 8, 3, 9, 4, 7, 6, 7, 3, 7, 2, 6, 2, 8, 7, 1, 6, 7, 7, 1, 3, 1, 8, 9, 5, 3, 8, 6, 6, 3, 0, 3, 7, 0, 9, 8, 2, 2, 0, 9, 2, 6, 8, 5, 9, 8, 8, 8, 7, 4, 2, 8, 8, 9, 4, 7, 0, 3, 4, 4, 8, 4, 2, 3, 2, 9, 1, 7, 6, 8, 2, 3, 3, 1, 1, 8, 5, 8, 1, 8, 9, 9, 6, 9, 4, 7, 6, 1, 1, 9, 2, 0, 8, 1, 2, 5, 9, 3, 5, 3, 5, 6, 2, 0, 5, 0, 6, 1, 3, 0, 9, 2, 1, 7, 1, 6, 8, 3, 8, 5, 0, 7, 2, 3, 1, 0, 5, 6, 0, 3, 3, 0, 0, 9, 3, 5, 4, 6, 2, 2, 8, 0, 9, 4, 4, 3, 6, 0, 6, 4, 3, 6, 2, 4, 0, 2, 2, 0, 3, 0, 2, 6, 0, 5, 3, 6, 9, 1, 4, 2, 8, 2, 5, 8, 9, 4, 5, 0, 7, 2, 4, 9, 9, 2, 2, 5, 0, 0, 1, 9, 2, 2, 7, 3, 6, 8, 7, 2, 9, 3, 8, 8, 8, 8, 1, 0, 8, 8, 1, 2, 2, 6, 8, 0, 1, 1, 1, 3, 4, 6, 6, 3, 1, 1, 1, 7, 8, 3, 3, 3, 6, 5, 4, 2, 4, 4, 7, 4, 0, 8, 0, 2, 7, 5, 5, 2, 7, 3, 7, 6, 0, 3, 0, 3, 6, 2, 4, 7, 0, 5, 8, 8, 4, 7, 2, 8, 0, 5, 8, 0, 1, 1, 6, 3, 9, 9, 9, 0, 8, 3, 2, 6, 2, 0, 3, 4, 1, 9, 3, 1, 7, 8, 9, 2, 0, 0, 4, 5, 9, 7, 5, 8, 3, 3, 3, 0, 3, 6, 4, 2, 4, 2, 9, 1, 8, 2, 0, 8, 7, 8, 7, 7, 1, 8, 9, 7, 5, 4, 3, 8, 2, 0, 8, 1, 3, 3, 7, 0, 7, 6, 0, 8, 4, 8, 7, 1, 3, 7, 7, 5, 5, 4, 7, 3, 8, 5, 4, 1, 2, 6, 3, 8, 7, 0, 4, 8, 6, 5, 1, 2, 5, 6, 7, 6, 0, 3, 0, 6, 7, 9, 4, 4, 8, 0, 7, 1, 7, 9, 5, 2, 4, 5, 5, 0, 9, 3, 6, 0, 4, 1, 9, 0, 8, 9, 1, 5, 8, 3, 4, 4, 7, 6, 8, 6, 5, 9, 9, 9, 2, 0, 9, 6, 2, 6, 4, 3, 7, 2, 5, 4, 7, 1, 2, 7, 1, 1, 7, 9, 0, 4, 3, 3, 8, 5, 6, 5, 8, 8, 1, 3, 5, 7, 8, 9, 9, 8, 3, 1, 9, 8, 1, 4, 8, 1, 6, 7, 8, 5, 2, 7, 9, 5, 2, 6, 9, 5, 1, 0, 6, 4, 2, 9, 1, 5, 5, 2, 0, 8, 6, 5, 4, 4, 9, 3, 8, 7, 8, 4, 2, 6, 8, 5, 3, 2, 8, 5, 5, 1, 9, 4, 6, 7, 7, 9, 1, 1, 0, 1, 5, 3, 8, 1, 0, 7, 7, 1, 6, 6, 8, 1, 7, 5, 7, 4, 5, 6, 1, 1, 2, 3, 9, 4, 0, 9, 6, 3, 6, 5, 9, 9, 0, 7, 7, 2, 4, 4, 7, 8, 1, 2, 3, 4, 6, 6, 2, 0, 7, 7, 6, 4, 4, 8, 5, 7, 1, 4, 9, 2, 2, 2, 6, 5, 0, 2, 0, 5, 3, 3, 3, 5, 8, 0, 9, 2, 4, 3, 5, 5, 0, 4, 2, 3, 6, 5, 2, 4, 4, 4, 1, 1, 6, 7, 4, 4, 6, 9, 8, 0, 4, 3, 5, 9, 2, 3, 4, 1, 9, 5, 8, 5, 6, 1, 1, 0, 1, 1, 0, 4, 8, 6, 1, 5, 1, 7, 2, 4, 9, 2, 2, 3, 3, 0, 5, 0, 9, 9, 3, 0, 8, 4, 3, 2, 0, 4, 7, 8, 1, 8, 5, 3, 9, 5, 0, 2, 4, 3, 7, 7, 9, 9, 5, 8, 4, 4, 7, 0, 7, 4, 2, 1, 5, 5, 1, 6, 4, 2, 7, 0, 0, 1, 0, 0, 5, 1, 8, 3, 6, 8, 1, 9, 1, 6, 1, 1, 0, 0, 7, 6, 8, 3, 8, 2, 6, 2, 9, 3, 7, 0, 3, 1, 8, 4, 6, 5, 5, 2, 1, 7, 0, 0, 3, 4, 1, 5, 1, 7, 2, 0, 9, 4, 5, 8, 9, 2, 0, 2, 7, 4, 2, 2, 0, 9, 7, 5, 3, 8, 3, 2, 8, 4, 0, 1, 0, 6, 5, 1, 4, 8, 6, 2, 5, 6, 9, 4, 4, 0, 0, 7, 0, 0, 0, 4, 6, 0, 5, 3, 3, 4, 3, 2, 7, 8, 0, 3, 6, 9, 2, 4, 4, 4, 2, 8, 5, 4, 2, 4, 0, 4, 7, 2, 5, 5, 4, 9, 3, 5, 6, 1, 6, 6, 8, 6, 2, 0, 0, 2, 3, 6, 9, 2, 5, 6, 9, 7, 4, 4, 0, 6, 2, 1, 4, 0, 0, 4, 0, 0, 1, 2, 9, 4, 8, 9, 6, 5, 7, 6, 8, 5, 6, 5, 3, 4, 1, 3, 6, 9, 4, 4, 5, 1, 2, 0, 9, 9, 1, 7, 7, 8, 7, 4, 9, 7, 7, 2, 2, 9, 8, 2, 9, 0, 4, 4, 6, 1, 2, 5, 2, 4, 6, 9, 7, 0, 8, 3, 7, 0, 4, 0, 7, 2, 9, 6, 3, 2, 4, 5, 0, 4, 7, 6, 1, 5, 1, 2, 5, 5, 1, 1, 3, 3, 3, 7, 0, 8, 2, 4, 9, 6, 9, 6, 7, 5, 1, 2, 1, 2, 3, 9, 9, 4, 1, 2, 0, 2, 0, 1, 4, 3, 9, 6, 9, 6, 2, 8, 4, 0, 3, 8, 2, 1, 4, 7, 2, 6, 3, 6, 8, 4, 6, 7, 9, 8, 6, 3, 4, 9, 8, 0, 5, 3, 0, 5, 1, 3, 8, 2, 9, 7, 2, 8, 1, 8, 2, 4, 1, 2, 5, 0, 3, 6, 5, 0, 7, 9, 8, 2, 7, 1, 6, 9, 6, 8, 3, 0, 4, 2, 9, 1, 2, 9, 3, 2, 5, 1, 7, 7, 5, 4, 9, 4, 5, 6, 4, 0, 8, 3, 5, 5, 3, 3, 9, 6, 1, 7, 1, 5, 7, 9, 1, 2, 4, 4, 9, 5, 7, 2, 0, 7, 1, 8, 7, 9, 4]\n",
            "Preds: [2, 7, 8, 4, 8, 7, 4, 4, 5, 8, 0, 1, 2, 3, 3, 6, 5, 2, 3, 3, 5, 3, 2, 8, 2, 8, 3, 5, 1, 7, 6, 8, 0, 6, 0, 3, 9, 3, 8, 4, 3, 7, 1, 2, 8, 9, 8, 3, 4, 9, 1, 9, 9, 8, 4, 0, 0, 0, 3, 2, 2, 1, 5, 7, 0, 3, 0, 8, 9, 7, 9, 5, 5, 5, 4, 7, 7, 9, 4, 5, 4, 7, 2, 1, 5, 4, 2, 5, 9, 0, 8, 4, 3, 7, 4, 8, 7, 3, 5, 1, 5, 6, 7, 9, 4, 5, 8, 6, 4, 9, 1, 4, 7, 8, 3, 8, 6, 6, 8, 8, 6, 1, 9, 1, 4, 8, 2, 4, 4, 9, 4, 8, 5, 6, 1, 2, 3, 2, 6, 1, 1, 2, 4, 9, 7, 9, 0, 5, 6, 9, 8, 6, 1, 0, 4, 7, 1, 8, 4, 6, 9, 7, 0, 9, 0, 9, 9, 1, 5, 4, 5, 4, 5, 9, 3, 3, 4, 6, 5, 9, 9, 5, 5, 5, 4, 1, 0, 0, 3, 7, 8, 8, 3, 1, 6, 5, 1, 5, 6, 9, 8, 8, 7, 8, 8, 0, 3, 7, 9, 0, 0, 8, 9, 3, 8, 1, 4, 7, 9, 6, 7, 2, 3, 0, 3, 4, 4, 6, 4, 0, 6, 2, 0, 4, 9, 0, 4, 0, 1, 7, 8, 3, 8, 2, 7, 2, 4, 4, 1, 3, 8, 1, 0, 0, 5, 9, 7, 8, 1, 9, 1, 2, 7, 6, 1, 9, 2, 9, 4, 2, 1, 0, 6, 2, 2, 7, 6, 2, 4, 7, 3, 5, 1, 2, 6, 9, 7, 6, 0, 9, 3, 6, 7, 0, 0, 3, 7, 4, 9, 8, 7, 8, 5, 3, 5, 4, 4, 9, 3, 7, 4, 4, 6, 3, 9, 7, 9, 4, 9, 5, 7, 9, 4, 8, 3, 1, 9, 9, 2, 1, 8, 7, 9, 3, 0, 3, 3, 3, 1, 7, 9, 0, 2, 2, 4, 9, 7, 9, 4, 4, 5, 2, 8, 6, 4, 3, 3, 4, 4, 0, 8, 6, 2, 9, 2, 3, 8, 0, 7, 0, 1, 2, 5, 2, 5, 6, 7, 1, 3, 6, 6, 8, 8, 8, 0, 4, 1, 6, 3, 4, 0, 2, 4, 4, 3, 2, 2, 3, 0, 2, 2, 4, 4, 2, 9, 9, 9, 9, 5, 8, 6, 2, 9, 5, 9, 9, 9, 4, 4, 1, 2, 2, 9, 8, 2, 6, 6, 7, 5, 5, 9, 7, 7, 8, 1, 5, 4, 0, 2, 7, 0, 7, 8, 1, 3, 5, 9, 1, 5, 2, 9, 9, 2, 9, 1, 7, 1, 0, 0, 5, 8, 7, 0, 9, 6, 4, 2, 7, 3, 0, 9, 0, 9, 9, 9, 9, 6, 6, 2, 4, 6, 3, 5, 3, 2, 3, 4, 7, 8, 8, 5, 1, 9, 3, 7, 9, 2, 1, 6, 6, 0, 7, 4, 0, 3, 6, 9, 4, 4, 3, 3, 0, 9, 7, 0, 7, 2, 1, 4, 6, 6, 4, 0, 2, 4, 9, 0, 7, 1, 6, 7, 9, 2, 9, 7, 8, 2, 9, 4, 9, 5, 3, 0, 6, 5, 4, 6, 4, 0, 9, 7, 7, 1, 7, 7, 2, 3, 2, 0, 0, 5, 1, 7, 8, 6, 5, 3, 3, 5, 0, 4, 1, 0, 9, 5, 8, 9, 0, 8, 9, 5, 4, 9, 0, 2, 3, 3, 9, 7, 5, 4, 2, 0, 6, 3, 6, 8, 2, 2, 0, 9, 6, 6, 4, 0, 9, 7, 0, 9, 5, 9, 0, 8, 5, 0, 1, 3, 9, 2, 9, 8, 4, 4, 8, 5, 1, 4, 7, 6, 9, 9, 0, 9, 8, 0, 4, 3, 7, 4, 4, 9, 2, 0, 9, 0, 8, 1, 1, 0, 1, 8, 9, 8, 8, 6, 1, 2, 5, 4, 9, 8, 3, 0, 5, 9, 0, 5, 8, 9, 2, 5, 1, 2, 0, 6, 1, 0, 9, 4, 6, 0, 8, 0, 4, 8, 3, 2, 6, 9, 0, 6, 5, 4, 9, 0, 8, 3, 8, 6, 3, 6, 4, 2, 7, 2, 8, 8, 4, 0, 3, 3, 3, 5, 2, 6, 1, 2, 2, 9, 8, 4, 1, 2, 2, 4, 7, 4, 2, 6, 8, 0, 7, 8, 4, 9, 6, 6, 6, 8, 3, 8, 8, 4, 4, 0, 5, 3, 7, 4, 4, 3, 1, 3, 1, 4, 3, 0, 5, 5, 0, 2, 5, 4, 8, 9, 1, 7, 6, 7, 7, 2, 1, 6, 4, 2, 5, 1, 8, 0, 7, 5, 4, 5, 6, 9, 8, 1, 0, 7, 7, 2, 0, 2, 9, 6, 8, 1, 4, 6, 2, 3, 2, 5, 4, 6, 9, 1, 0, 1, 1, 5, 2, 7, 8, 3, 1, 3, 7, 4, 2, 4, 4, 8, 0, 7, 9, 8, 7, 7, 5, 1, 2, 8, 7, 0, 9, 1, 2, 3, 2, 9, 4, 2, 7, 8, 0, 1, 1, 1, 5, 4, 2, 4, 0, 3, 6, 9, 3, 1, 7, 0, 6, 5, 3, 9, 1, 6, 2, 4, 1, 5, 2, 9, 7, 2, 0, 6, 4, 5, 0, 1, 9, 5, 3, 6, 3, 0, 9, 5, 6, 7, 4, 1, 6, 2, 2, 4, 0, 0, 9, 3, 9, 8, 8, 0, 5, 4, 6, 7, 5, 6, 0, 9, 5, 9, 6, 4, 0, 2, 1, 8, 6, 9, 1, 9, 5, 1, 4, 5, 4, 4, 3, 3, 4, 1, 1, 7, 4, 4, 0, 0, 7, 6, 0, 9, 4, 7, 0, 7, 4, 6, 1, 5, 9, 2, 9, 0, 5, 8, 9, 7, 1, 0, 9, 2, 6, 4, 9, 2, 7, 4, 1, 4, 1, 8, 1, 4, 7, 8, 3, 9, 3, 3, 1, 7, 1, 8, 0, 0, 3, 9, 6, 1, 1, 7, 2, 4, 6, 8, 4, 2, 7, 6, 9, 4, 7, 6, 9, 0, 3, 7, 8, 4, 7, 5, 7, 7, 3, 5, 7, 0, 5, 7, 9, 8, 9, 3, 6, 9, 0, 3, 1, 8, 0, 2, 4, 0, 5, 3, 8, 8, 6, 4, 0, 5, 8, 6, 1, 8, 3, 5, 9, 2, 1, 4, 7, 0, 8, 0, 0, 1, 2, 3, 3, 9, 8, 4, 3, 2, 3, 1, 7, 4, 0, 0, 3, 7, 4, 2, 3, 3, 8, 0, 7, 0, 0, 3, 2, 0, 2, 0, 8, 6, 3, 1, 8, 2, 0, 8, 1, 4, 2, 4, 4, 1, 5, 0, 4, 1, 8, 9, 8, 4, 0, 0, 8, 3, 8, 6, 9, 6, 2, 2, 4, 2, 0, 2, 6, 3, 5, 7, 4, 0, 8, 5, 8, 8, 5, 4, 5, 0, 8, 5, 7, 6, 9, 7, 7, 8, 8, 7, 1, 5, 0, 6, 6, 0, 7, 6, 2, 0, 4, 2, 9, 8, 3, 6, 4, 9, 0, 1, 6, 9, 7, 2, 2, 0, 7, 6, 0, 9, 4, 7, 0, 0, 2, 6, 8, 0, 6, 1, 3, 1, 9, 4, 6, 5, 7, 9, 4, 7, 8, 4, 6, 1, 1, 0, 8, 3, 1, 3, 4, 4, 6, 9, 2, 6, 7, 6, 8, 6, 2, 3, 6, 7, 3, 6, 3, 5, 9, 7, 3, 1, 8, 6, 2, 9, 3, 5, 8, 8, 0, 4, 4, 9, 2, 6, 3, 9, 6, 7, 0, 0, 9, 3, 4, 0, 0, 2, 9, 7, 7, 3, 7, 8, 7, 1, 8, 1, 2, 4, 0, 5, 9, 0, 1, 4, 0, 6, 8, 1, 5, 9, 5, 3, 4, 1, 9, 1, 6, 0, 3, 1, 8, 8, 6, 1, 8, 9, 4, 7, 5, 5, 4, 9, 7, 1, 9, 1, 1, 2, 4, 8, 7, 9, 4, 2, 3, 8, 0, 5, 0, 8, 4, 0, 1, 3, 8, 4, 1, 8, 5, 8, 7, 4, 9, 5, 0, 0, 8, 6, 3, 9, 5, 3, 7, 8, 6, 6, 6, 2, 7, 5, 5, 1, 8, 9, 8, 0, 2, 3, 3, 7, 7, 8, 4, 0, 7, 5, 9, 1, 6, 5, 5, 8, 1, 8, 4, 0, 9, 3, 1, 5, 5, 7, 4, 8, 5, 7, 1, 4, 7, 4, 4, 0, 3, 8, 0, 3, 1, 7, 0, 4, 4, 2, 8, 8, 7, 3, 4, 6, 8, 7, 0, 3, 0, 9, 3, 3, 3, 4, 2, 5, 4, 7, 4, 8, 9, 2, 7, 8, 3, 1, 2, 0, 8, 8, 3, 6, 8, 0, 9, 9, 8, 1, 8, 4, 8, 7, 1, 6, 5, 9, 5, 6, 8, 4, 4, 4, 4, 0, 5, 9, 0, 3, 9, 1, 4, 3, 1, 8, 9, 4, 1, 8, 7, 3, 0, 3, 0, 8, 5, 3, 5, 6, 3, 1, 3, 1, 0, 6, 4, 4, 0, 8, 1, 8, 2, 2, 4, 3, 2, 0, 8, 0, 2, 8, 3, 7, 3, 5, 9, 7, 7, 9, 0, 5, 2, 7, 1, 5, 4, 9, 0, 1, 5, 0, 4, 5, 1, 0, 6, 1, 7, 2, 6, 5, 8, 4, 4, 4, 3, 2, 8, 2, 0, 1, 6, 6, 7, 8, 8, 1, 9, 3, 5, 9, 9, 2, 3, 0, 5, 6, 3, 6, 6, 1, 0, 9, 6, 7, 6, 4, 4, 5, 9, 2, 4, 2, 1, 5, 8, 8, 5, 9, 5, 8, 6, 1, 3, 0, 9, 1, 5, 8, 4, 8, 3, 7, 9, 0, 5, 5, 1, 5, 5, 2, 8, 8, 1, 8, 1, 9, 9, 1, 4, 9, 2, 7, 7, 7, 4, 2, 5, 0, 4, 3, 1, 7, 1, 4, 1, 0, 6, 4, 1, 4, 2, 7, 4, 8, 0, 8, 8, 2, 6, 5, 2, 1, 9, 7, 6, 9, 6, 3, 4, 2, 2, 0, 4, 6, 9, 9, 8, 0, 5, 5, 8, 8, 1, 0, 0, 0, 8, 5, 8, 3, 3, 2, 0, 9, 4, 0, 4, 7, 8, 5, 2, 8, 8, 7, 9, 6, 8, 7, 8, 5, 6, 9, 5, 5, 0, 0, 3, 4, 6, 6, 1, 3, 8, 6, 5, 8, 1, 0, 7, 6, 2, 7, 5, 4, 2, 6, 1, 0, 4, 4, 2, 6, 8, 6, 4, 9, 3, 7, 6, 4, 2, 9, 3, 7, 3, 1, 8, 6, 5, 9, 2, 6, 8, 9, 0, 8, 5, 4, 1, 0, 4, 8, 4, 3, 4, 4, 6, 7, 5, 5, 4, 2, 5, 3, 5, 2, 1, 1, 6, 9, 4, 8, 2, 4, 3, 0, 1, 0, 4, 4, 5, 1, 7, 2, 8, 0, 0, 7, 3, 3, 8, 9, 3, 1, 8, 4, 1, 2, 7, 7, 3, 6, 2, 5, 5, 4, 0, 9, 9, 4, 7, 2, 4, 9, 7, 4, 0, 8, 2, 5, 8, 2, 9, 8, 0, 3, 0, 3, 5, 4, 7, 2, 7, 7, 7, 8, 4, 9, 8, 9, 9, 8, 2, 4, 3, 7, 6, 3, 0, 1, 6, 1, 5, 3, 5, 4, 4, 1, 2, 5, 7, 7, 3, 9, 8, 4, 5, 4, 9, 7, 7, 5, 2, 1, 1, 0, 3, 2, 4, 5, 1, 9, 0, 7, 3, 1, 8, 1, 7, 3, 7, 5, 9, 5, 3, 8, 8, 4, 5, 6, 5, 6, 6, 6, 9, 6, 7, 3, 0, 7, 4, 0, 4, 1, 5, 8, 3, 8, 3, 6, 7, 1, 3, 3, 3, 4, 4, 6, 5, 8, 8, 3, 9, 0, 0, 6, 2, 1, 7, 2, 9, 0, 9, 3, 1, 6, 3, 3, 4, 4, 6, 1, 3, 8, 3, 3, 3, 8, 9, 4, 6, 1, 7, 3, 2, 9, 3, 5, 6, 8, 8, 3, 0, 8, 5, 3, 3, 2, 8, 0, 4, 1, 0, 1, 9, 3, 1, 9, 0, 8, 9, 2, 7, 1, 2, 8, 4, 4, 0, 1, 8, 4, 9, 4, 3, 1, 0, 4, 5, 0, 6, 3, 8, 3, 8, 3, 8, 0, 4, 5, 1, 7, 4, 1, 4, 5, 1, 6, 5, 3, 5, 2, 5, 7, 9, 6, 1, 1, 9, 7, 1, 8, 6, 3, 0, 5, 6, 3, 4, 7, 8, 5, 5, 6, 9, 4, 9, 9, 7, 1, 2, 8, 5, 4, 5, 4, 5, 1, 8, 8, 2, 3, 0, 3, 7, 9, 6, 0, 0, 6, 1, 0, 7, 3, 7, 5, 9, 9, 5, 4, 4, 0, 7, 8, 0, 9, 8, 8, 2, 4, 9, 2, 9, 9, 1, 2, 9, 6, 2, 2, 4, 9, 1, 3, 9, 7, 2, 8, 3, 3, 1, 3, 8, 4, 9, 1, 5, 9, 0, 5, 6, 1, 6, 2, 8, 7, 5, 7, 8, 6, 8, 4, 4, 9, 3, 9, 2, 9, 1, 5, 2, 0, 1, 4, 8, 3, 9, 2, 8, 0, 5, 9, 6, 8, 4, 1, 0, 2, 5, 3, 6, 3, 2, 0, 8, 2, 4, 9, 3, 0, 1, 1, 2, 0, 8, 0, 4, 3, 7, 7, 6, 3, 5, 8, 5, 0, 3, 6, 3, 0, 9, 6, 0, 7, 6, 5, 1, 9, 9, 5, 6, 9, 3, 7, 7, 3, 9, 7, 3, 2, 8, 0, 3, 8, 5, 7, 1, 6, 3, 6, 7, 3, 3, 0, 3, 0, 2, 2, 0, 5, 7, 4, 6, 4, 8, 3, 6, 2, 7, 4, 9, 9, 4, 1, 5, 4, 6, 2, 2, 3, 1, 8, 0, 9, 6, 1, 2, 5, 0, 8, 7, 9, 2, 4, 4, 6, 6, 4, 6, 5, 3, 9, 5, 2, 9, 4, 8, 8, 0, 1, 7, 5, 7, 6, 4, 8, 0, 4, 5, 7, 5, 6, 1, 0, 8, 0, 2, 8, 4, 6, 5, 2, 2, 1, 3, 2, 9, 3, 7, 8, 3, 3, 5, 5, 4, 3, 2, 3, 6, 1, 8, 8, 4, 0, 9, 1, 7, 0, 3, 6, 3, 8, 5, 1, 6, 6, 6, 0, 4, 0, 3, 0, 3, 6, 7, 2, 4, 7, 9, 5, 9, 9, 7, 2, 2, 0, 1, 2, 8, 3, 4, 9, 3, 9, 4, 7, 4, 6, 2, 4, 5, 4, 6, 1, 0, 5, 2, 5, 7, 6, 0, 8, 4, 8, 8, 3, 0, 9, 3, 6, 5, 5, 2, 9, 2, 7, 8, 8, 4, 0, 3, 1, 2, 6, 2, 7, 3, 6, 2, 4, 0, 0, 6, 8, 9, 8, 1, 9, 9, 1, 3, 8, 0, 1, 0, 6, 7, 4, 6, 5, 3, 9, 0, 7, 9, 7, 9, 9, 2, 9, 8, 7, 8, 4, 1, 3, 9, 7, 3, 9, 0, 6, 1, 1, 8, 4, 1, 7, 8, 4, 3, 5, 3, 3, 6, 6, 6, 9, 1, 8, 5, 1, 9, 1, 6, 0, 3, 2, 2, 6, 5, 9, 7, 2, 9, 9, 3, 4, 3, 0, 1, 3, 4, 3, 7, 1, 0, 3, 1, 8, 8, 5, 6, 0, 7, 8, 1, 3, 3, 0, 5, 0, 6, 5, 5, 7, 6, 3, 0, 5, 3, 8, 5, 5, 0, 4, 1, 5, 6, 1, 5, 7, 1, 3, 1, 4, 3, 2, 1, 3, 4, 5, 9, 0, 0, 7, 1, 5, 3, 3, 3, 4, 5, 2, 8, 2, 5, 5, 3, 6, 5, 4, 9, 2, 2, 7, 4, 6, 0, 1, 3, 1, 8, 6, 4, 4, 6, 7, 9, 4, 2, 5, 9, 4, 5, 5, 3, 5, 8, 0, 5, 6, 7, 1, 3, 8, 8, 5, 0, 7, 7, 6, 3, 2, 2, 9, 0, 6, 9, 9, 0, 2, 6, 1, 4, 2, 0, 4, 8, 8, 2, 4, 0, 7, 7, 4, 1, 1, 1, 6, 6, 0, 3, 3, 6, 9, 7, 4, 5, 7, 4, 0, 0, 3, 3, 5, 0, 4, 4, 7, 0, 0, 0, 5, 1, 1, 4, 9, 5, 3, 3, 0, 8, 8, 7, 0, 5, 6, 5, 5, 9, 8, 1, 5, 8, 9, 1, 3, 8, 8, 1, 7, 6, 5, 1, 3, 5, 5, 6, 9, 4, 8, 9, 5, 5, 3, 8, 7, 9, 9, 7, 3, 4, 6, 2, 2, 3, 0, 0, 0, 7, 7, 7, 1, 1, 3, 0, 9, 1, 2, 2, 8, 2, 1, 5, 4, 2, 5, 9, 2, 1, 0, 8, 3, 8, 3, 6, 6, 4, 0, 7, 7, 6, 9, 8, 1, 4, 5, 4, 2, 8, 5, 2, 0, 2, 7, 4, 9, 5, 0, 2, 7, 1, 0, 6, 7, 5, 3, 9, 5, 7, 6, 5, 0, 2, 3, 4, 9, 7, 5, 6, 3, 8, 0, 4, 6, 0, 1, 9, 1, 5, 3, 7, 4, 8, 2, 2, 9, 3, 8, 5, 0, 0, 2, 8, 3, 1, 6, 1, 3, 5, 6, 3, 2, 8, 9, 3, 7, 5, 8, 8, 2, 4, 7, 4, 4, 8, 7, 2, 5, 1, 0, 5, 5, 4, 3, 4, 0, 8, 0, 4, 7, 1, 9, 2, 2, 4, 2, 7, 0, 5, 6, 3, 8, 8, 9, 6, 0, 1, 6, 0, 5, 9, 3, 6, 3, 7, 0, 5, 3, 3, 9, 8, 5, 5, 8, 3, 1, 9, 9, 3, 7, 3, 5, 4, 3, 9, 9, 0, 2, 0, 0, 8, 2, 4, 6, 1, 4, 8, 1, 9, 8, 5, 5, 4, 4, 4, 1, 4, 9, 0, 6, 5, 7, 0, 4, 8, 9, 2, 4, 9, 1, 2, 1, 1, 1, 8, 8, 4, 5, 0, 8, 8, 8, 7, 5, 2, 3, 3, 8, 9, 9, 1, 4, 3, 2, 6, 2, 4, 5, 2, 7, 0, 4, 1, 4, 0, 4, 0, 5, 3, 8, 3, 6, 9, 3, 2, 2, 8, 3, 1, 3, 5, 4, 0, 9, 9, 3, 3, 1, 6, 2, 8, 9, 9, 8, 8, 2, 0, 2, 1, 4, 9, 3, 5, 8, 7, 7, 7, 7, 1, 9, 0, 4, 3, 6, 2, 3, 7, 7, 2, 9, 2, 5, 7, 1, 9, 5, 9, 0, 2, 1, 3, 2, 0, 1, 8, 0, 2, 0, 7, 0, 3, 6, 5, 0, 5, 6, 9, 9, 9, 2, 4, 8, 3, 8, 8, 2, 6, 2, 0, 3, 4, 4, 6, 8, 5, 6, 0, 0, 6, 7, 8, 4, 3, 0, 1, 4, 5, 1, 3, 5, 9, 5, 3, 2, 9, 3, 6, 0, 6, 5, 3, 9, 3, 1, 7, 5, 2, 9, 8, 7, 7, 2, 4, 8, 3, 4, 1, 0, 4, 1, 1, 2, 1, 7, 5, 3, 2, 8, 7, 6, 7, 2, 8, 1, 4, 2, 8, 6, 6, 0, 8, 5, 3, 5, 1, 6, 7, 5, 9, 3, 9, 2, 3, 4, 5, 5, 7, 5, 1, 4, 8, 4, 5, 4, 8, 6, 2, 9, 0, 7, 3, 0, 9, 5, 9, 6, 5, 1, 1, 2, 8, 5, 9, 9, 1, 1, 6, 4, 4, 5, 9, 5, 6, 7, 5, 5, 5, 5, 7, 0, 9, 2, 3, 7, 7, 2, 4, 5, 3, 7, 5, 6, 8, 1, 7, 9, 0, 3, 6, 1, 5, 4, 6, 9, 1, 5, 6, 1, 5, 7, 2, 0, 2, 4, 1, 7, 1, 8, 4, 9, 8, 6, 4, 7, 7, 9, 6, 7, 9, 9, 9, 7, 8, 7, 8, 6, 6, 0, 1, 4, 5, 0, 2, 0, 5, 0, 4, 3, 5, 4, 5, 1, 8, 7, 1, 4, 4, 3, 1, 3, 3, 1, 3, 7, 2, 3, 2, 3, 4, 7, 1, 9, 3, 4, 8, 3, 1, 4, 4, 4, 0, 8, 3, 2, 4, 5, 8, 8, 5, 3, 2, 1, 5, 6, 6, 3, 4, 6, 7, 1, 6, 7, 9, 9, 4, 1, 4, 9, 3, 8, 5, 1, 7, 3, 7, 6, 6, 4, 1, 8, 0, 0, 7, 9, 9, 7, 8, 3, 0, 9, 9, 2, 1, 3, 4, 3, 8, 0, 8, 1, 5, 4, 3, 6, 8, 9, 6, 3, 6, 7, 9, 2, 0, 6, 9, 4, 8, 4, 5, 0, 1, 0, 4, 1, 8, 3, 9, 8, 0, 9, 1, 4, 7, 6, 7, 9, 8, 8, 8, 8, 3, 3, 9, 6, 4, 5, 6, 5, 1, 0, 0, 8, 7, 7, 6, 0, 7, 3, 4, 7, 3, 2, 0, 5, 9, 5, 1, 8, 4, 5, 0, 1, 1, 5, 8, 3, 5, 1, 1, 7, 4, 2, 2, 7, 0, 8, 5, 7, 4, 4, 6, 3, 3, 7, 4, 1, 0, 4, 2, 8, 8, 4, 7, 0, 6, 9, 5, 5, 4, 0, 6, 2, 4, 8, 3, 7, 7, 1, 1, 2, 5, 3, 0, 3, 0, 0, 1, 6, 8, 9, 9, 4, 0, 1, 9, 1, 6, 3, 4, 7, 2, 5, 3, 0, 0, 8, 6, 3, 4, 7, 2, 5, 2, 0, 7, 7, 2, 2, 6, 1, 1, 5, 1, 5, 8, 0, 9, 0, 0, 8, 6, 9, 1, 9, 5, 3, 6, 9, 8, 2, 3, 9, 2, 8, 0, 3, 0, 6, 9, 3, 4, 1, 3, 4, 2, 3, 8, 8, 3, 7, 9, 4, 0, 0, 5, 4, 4, 0, 9, 9, 4, 8, 6, 2, 9, 1, 5, 5, 7, 9, 3, 1, 5, 1, 9, 4, 5, 6, 2, 4, 2, 0, 8, 9, 7, 7, 4, 2, 0, 5, 0, 7, 4, 8, 5, 7, 9, 9, 9, 3, 2, 9, 1, 4, 9, 0, 4, 0, 3, 8, 3, 1, 1, 3, 8, 6, 9, 5, 4, 3, 4, 1, 6, 1, 6, 0, 6, 9, 7, 8, 8, 2, 6, 9, 5, 8, 0, 9, 8, 9, 3, 5, 9, 3, 4, 8, 0, 5, 7, 5, 0, 3, 1, 7, 2, 0, 4, 7, 9, 5, 0, 7, 9, 7, 2, 9, 4, 6, 4, 4, 3, 9, 2, 1, 8, 4, 6, 6, 1, 8, 1, 1, 4, 6, 1, 2, 9, 4, 8, 8, 2, 2, 5, 5, 8, 8, 4, 8, 7, 7, 8, 3, 2, 7, 7, 0, 0, 5, 2, 3, 5, 9, 6, 5, 9, 5, 3, 5, 4, 8, 5, 0, 4, 6, 1, 7, 8, 6, 6, 5, 2, 0, 8, 3, 2, 0, 3, 3, 6, 8, 9, 4, 4, 9, 6, 6, 3, 3, 8, 4, 5, 2, 2, 3, 7, 9, 2, 7, 4, 0, 5, 8, 1, 1, 3, 5, 9, 3, 2, 9, 9, 0, 5, 8, 0, 4, 5, 1, 2, 1, 1, 6, 9, 4, 2, 3, 6, 8, 9, 4, 7, 5, 3, 4, 3, 5, 8, 1, 0, 1, 5, 3, 8, 2, 8, 3, 5, 7, 9, 2, 4, 3, 4, 7, 5, 2, 3, 7, 2, 4, 1, 6, 2, 9, 9, 5, 5, 7, 1, 5, 8, 0, 8, 1, 4, 6, 0, 0, 0, 2, 5, 0, 2, 4, 4, 4, 9, 4, 0, 5, 0, 4, 4, 9, 8, 9, 9, 6, 0, 1, 3, 6, 5, 1, 5, 0, 4, 0, 8, 6, 7, 5, 8, 2, 0, 6, 6, 0, 5, 4, 9, 3, 0, 8, 6, 6, 3, 4, 2, 2, 2, 6, 3, 3, 8, 3, 2, 9, 1, 9, 8, 1, 2, 9, 8, 6, 1, 4, 6, 4, 3, 0, 1, 5, 1, 4, 2, 8, 9, 5, 1, 2, 9, 8, 8, 5, 4, 7, 8, 7, 8, 9, 4, 0, 8, 3, 5, 5, 8, 0, 1, 2, 2, 7, 5, 2, 8, 5, 8, 8, 3, 8, 9, 3, 6, 3, 5, 7, 6, 5, 2, 9, 6, 2, 4, 9, 5, 2, 1, 0, 6, 0, 6, 0, 2, 1, 7, 2, 7, 2, 4, 4, 8, 6, 9, 3, 7, 9, 8, 7, 8, 7, 7, 7, 1, 5, 9, 9, 8, 8, 7, 1, 2, 7, 9, 2, 1, 3, 8, 5, 8, 5, 1, 4, 5, 8, 3, 9, 0, 6, 0, 5, 4, 8, 8, 1, 8, 5, 2, 7, 4, 7, 3, 2, 3, 2, 8, 4, 6, 4, 8, 5, 7, 7, 7, 6, 6, 0, 2, 0, 5, 6, 6, 4, 6, 4, 3, 0, 4, 1, 4, 5, 3, 3, 2, 2, 7, 4, 4, 0, 0, 0, 9, 3, 8, 6, 6, 0, 8, 5, 5, 9, 9, 7, 8, 6, 3, 6, 0, 9, 2, 9, 3, 9, 5, 0, 9, 9, 4, 0, 4, 4, 9, 4, 8, 2, 2, 7, 2, 3, 7, 2, 7, 3, 8, 5, 0, 1, 2, 9, 2, 9, 2, 1, 7, 3, 8, 4, 8, 2, 7, 0, 5, 8, 2, 9, 2, 9, 3, 0, 9, 5, 0, 3, 6, 0, 8, 5, 1, 5, 4, 3, 0, 7, 5, 7, 5, 3, 2, 0, 1, 1, 3, 1, 4, 1, 0, 0, 7, 7, 6, 0, 5, 5, 9, 6, 9, 7, 4, 2, 7, 6, 6, 6, 2, 1, 9, 2, 1, 1, 7, 1, 2, 2, 3, 6, 6, 9, 0, 9, 7, 6, 2, 5, 5, 3, 7, 9, 5, 3, 0, 9, 6, 9, 5, 0, 6, 6, 7, 0, 1, 2, 7, 5, 3, 3, 0, 0, 0, 0, 7, 4, 1, 1, 3, 8, 6, 5, 5, 3, 9, 6, 6, 7, 2, 2, 2, 5, 7, 9, 6, 0, 2, 2, 3, 6, 0, 2, 4, 0, 8, 0, 9, 0, 9, 8, 0, 1, 1, 3, 8, 8, 0, 1, 2, 2, 1, 0, 6, 5, 1, 6, 2, 4, 5, 1, 5, 9, 8, 3, 1, 9, 8, 6, 4, 7, 5, 7, 8, 5, 9, 4, 1, 6, 7, 1, 5, 1, 4, 4, 8, 3, 7, 7, 0, 1, 4, 7, 2, 4, 9, 5, 3, 2, 9, 0, 7, 3, 2, 0, 7, 7, 2, 1, 9, 2, 7, 4, 2, 0, 5, 8, 6, 0, 6, 9, 0, 5, 9, 1, 2, 2, 7, 7, 0, 3, 8, 3, 3, 9, 7, 9, 1, 6, 4, 2, 7, 9, 4, 0, 6, 8, 4, 4, 3, 0, 8, 3, 9, 3, 1, 4, 8, 2, 8, 6, 4, 2, 6, 3, 4, 8, 1, 2, 1, 0, 7, 2, 5, 5, 7, 1, 0, 3, 1, 3, 5, 4, 8, 9, 7, 2, 6, 0, 6, 3, 6, 1, 3, 6, 9, 6, 9, 8, 7, 7, 2, 8, 2, 5, 9, 7, 0, 9, 0, 5, 7, 6, 3, 4, 8, 3, 1, 5, 2, 4, 2, 3, 1, 5, 9, 3, 7, 8, 3, 7, 7, 8, 9, 6, 4, 2, 7, 9, 5, 7, 7, 8, 7, 1, 0, 1, 4, 2, 6, 2, 3, 1, 8, 4, 0, 4, 3, 2, 3, 3, 9, 4, 3, 9, 9, 2, 6, 6, 5, 5, 7, 3, 5, 4, 7, 8, 9, 6, 7, 1, 9, 3, 8, 8, 4, 8, 8, 8, 9, 2, 9, 1, 7, 5, 8, 8, 3, 9, 9, 3, 1, 9, 9, 3, 7, 5, 5, 7, 9, 0, 7, 4, 2, 9, 7, 6, 1, 2, 2, 0, 6, 1, 7, 5, 7, 6, 0, 7, 9, 2, 5, 5, 6, 3, 3, 9, 9, 2, 4, 2, 8, 5, 9, 8, 9, 3, 1, 1, 1, 4, 7, 5, 9, 1, 6, 5, 9, 1, 8, 4, 0, 5, 4, 9, 4, 6, 1, 9, 1, 7, 7, 8, 4, 1, 1, 5, 0, 8, 2, 7, 4, 3, 9, 4, 7, 2, 4, 4, 0, 8, 7, 7, 9, 0, 9, 3, 9, 5, 7, 0, 5, 2, 6, 4, 1, 0, 3, 3, 0, 8, 3, 4, 7, 5, 6, 6, 5, 2, 2, 6, 8, 7, 4, 3, 8, 4, 6, 9, 6, 0, 7, 9, 9, 4, 8, 7, 9, 3, 7, 4, 2, 5, 0, 2, 9, 7, 2, 5, 0, 8, 2, 6, 5, 7, 1, 5, 5, 7, 4, 4, 5, 6, 9, 4, 4, 8, 1, 1, 0, 4, 0, 5, 7, 4, 6, 7, 9, 5, 0, 5, 4, 9, 4, 2, 9, 3, 4, 0, 8, 0, 1, 3, 3, 8, 0, 6, 6, 5, 3, 1, 9, 9, 8, 0, 7, 1, 7, 9, 1, 2, 1, 9, 4, 5, 7, 9, 5, 2, 6, 1, 1, 2, 4, 6, 8, 1, 4, 0, 3, 4, 0, 3, 4, 9, 2, 8, 2, 4, 3, 0, 3, 2, 6, 7, 3, 7, 0, 1, 6, 4, 2, 4, 5, 8, 0, 0, 0, 1, 2, 6, 3, 0, 6, 1, 3, 1, 4, 8, 7, 8, 9, 7, 9, 3, 0, 2, 0, 1, 6, 9, 2, 4, 3, 3, 9, 6, 0, 3, 4, 7, 7, 7, 1, 4, 5, 2, 9, 3, 8, 4, 1, 4, 6, 5, 8, 4, 8, 7, 6, 9, 2, 9, 0, 2, 2, 3, 7, 2, 7, 7, 3, 4, 3, 7, 5, 5, 6, 2, 0, 0, 2, 8, 6, 8, 2, 3, 6, 8, 4, 4, 2, 0, 5, 3, 4, 4, 9, 6, 8, 8, 6, 1, 1, 7, 8, 4, 0, 5, 5, 6, 0, 8, 2, 6, 2, 7, 3, 5, 1, 4, 9, 9, 2, 6, 0, 3, 8, 9, 0, 8, 7, 9, 1, 0, 7, 9, 7, 9, 1, 9, 8, 0, 4, 7, 8, 2, 9, 9, 7, 4, 8, 0, 9, 5, 9, 6, 0, 1, 4, 5, 1, 7, 0, 6, 9, 5, 3, 0, 9, 3, 0, 3, 0, 3, 1, 4, 0, 5, 1, 5, 8, 4, 7, 9, 5, 4, 6, 9, 0, 2, 2, 6, 6, 0, 9, 0, 3, 5, 8, 5, 6, 9, 7, 0, 8, 8, 5, 5, 8, 8, 8, 6, 3, 9, 6, 2, 6, 9, 6, 7, 4, 0, 0, 1, 4, 4, 0, 4, 4, 0, 2, 4, 0, 4, 4, 8, 5, 1, 4, 9, 0, 8, 1, 9, 1, 2, 4, 7, 1, 3, 0, 1, 2, 6, 4, 3, 4, 5, 0, 8, 5, 6, 4, 5, 3, 5, 6, 8, 4, 8, 3, 0, 1, 1, 7, 7, 1, 9, 8, 7, 8, 0, 8, 3, 9, 6, 3, 7, 5, 7, 3, 8, 2, 0, 7, 0, 0, 5, 0, 0, 3, 5, 5, 6, 3, 1, 6, 1, 5, 9, 9, 6, 5, 4, 9, 4, 8, 1, 3, 8, 7, 2, 0, 1, 6, 5, 4, 9, 4, 3, 2, 9, 4, 2, 0, 4, 3, 4, 2, 0, 4, 5, 5, 4, 3, 0, 2, 8, 4, 0, 3, 0, 8, 0, 2, 6, 4, 6, 8, 6, 9, 5, 7, 5, 0, 7, 9, 2, 7, 7, 2, 3, 8, 8, 9, 0, 6, 7, 5, 6, 2, 4, 1, 3, 5, 7, 4, 9, 6, 0, 0, 1, 3, 2, 8, 2, 7, 8, 3, 7, 4, 4, 2, 4, 6, 2, 3, 3, 8, 8, 2, 2, 1, 6, 5, 4, 7, 5, 8, 9, 4, 5, 5, 8, 9, 6, 0, 8, 3, 2, 3, 4, 9, 2, 3, 9, 0, 6, 6, 6, 1, 5, 0, 9, 4, 0, 9, 1, 0, 9, 9, 2, 8, 7, 0, 9, 9, 5, 9, 3, 0, 2, 6, 3, 9, 0, 7, 4, 6, 4, 0, 0, 7, 3, 9, 4, 1, 6, 1, 0, 2, 4, 4, 6, 9, 2, 3, 5, 3, 1, 5, 2, 4, 7, 9, 3, 2, 5, 2, 3, 8, 7, 4, 2, 6, 6, 1, 2, 0, 3, 7, 0, 4, 6, 5, 9, 5, 0, 7, 4, 9, 7, 0, 9, 5, 0, 8, 0, 3, 0, 4, 8, 1, 6, 1, 6, 4, 5, 2, 5, 3, 7, 9, 7, 2, 0, 8, 4, 2, 2, 0, 8, 9, 6, 5, 8, 1, 3, 8, 4, 2, 3, 5, 8, 7, 6, 2, 3, 1, 4, 5, 4, 5, 4, 0, 8, 4, 3, 4, 6, 0, 7, 0, 0, 6, 6, 8, 4, 1, 4, 2, 2, 2, 7, 1, 2, 5, 1, 5, 1, 1, 2, 2, 3, 0, 9, 9, 7, 5, 5, 7, 2, 9, 4, 8, 1, 0, 7, 4, 1, 3, 1, 2, 7, 2, 7, 2, 4, 9, 4, 0, 6, 7, 0, 9, 1, 7, 2, 9, 5, 3, 6, 9, 8, 5, 3, 7, 2, 2, 5, 6, 7, 0, 1, 9, 8, 6, 3, 1, 1, 1, 2, 5, 6, 9, 4, 8, 0, 2, 9, 0, 7, 7, 5, 3, 0, 5, 3, 4, 8, 9, 7, 7, 3, 8, 6, 3, 4, 4, 4, 3, 2, 7, 5, 9, 3, 3, 6, 1, 7, 8, 1, 3, 1, 9, 0, 2, 3, 8, 4, 7, 0, 2, 4, 1, 4, 4, 2, 8, 7, 3, 5, 1, 8, 3, 0, 7, 7, 1, 4, 3, 4, 7, 1, 3, 7, 3, 0, 3, 2, 2, 7, 2, 1, 1, 6, 4, 4, 4, 4, 0, 3, 6, 4, 0, 9, 2, 1, 1, 3, 9, 4, 4, 1, 4, 0, 0, 7, 2, 6, 8, 5, 8, 6, 0, 7, 5, 1, 8, 5, 9, 9, 5, 9, 2, 7, 5, 2, 3, 6, 2, 5, 4, 9, 5, 8, 2, 9, 5, 9, 4, 8, 0, 8, 3, 2, 6, 6, 0, 0, 7, 5, 6, 3, 8, 6, 7, 2, 1, 4, 4, 5, 4, 0, 0, 8, 6, 5, 5, 9, 5, 1, 1, 9, 0, 8, 6, 6, 4, 8, 9, 1, 1, 6, 9, 3, 8, 1, 8, 2, 2, 2, 3, 0, 4, 6, 7, 4, 8, 5, 8, 6, 0, 6, 3, 3, 3, 9, 2, 1, 3, 6, 9, 0, 7, 6, 3, 9, 5, 6, 0, 0, 6, 6, 6, 3, 9, 9, 3, 1, 7, 2, 7, 2, 0, 4, 0, 5, 0, 9, 9, 5, 8, 7, 9, 3, 5, 3, 3, 6, 6, 7, 9, 1, 3, 5, 7, 1, 9, 5, 5, 1, 2, 6, 2, 6, 7, 1, 9, 0, 7, 8, 3, 1, 3, 2, 4, 6, 2, 0, 5, 7, 7, 1, 3, 8, 2, 4, 0, 0, 3, 0, 6, 4, 1, 0, 4, 1, 7, 3, 9, 8, 5, 3, 2, 4, 6, 7, 2, 9, 1, 2, 7, 2, 0, 2, 4, 2, 1, 2, 1, 4, 8, 0, 3, 0, 8, 9, 2, 1, 5, 3, 3, 9, 0, 2, 1, 6, 4, 5, 9, 9, 4, 1, 2, 1, 9, 9, 7, 3, 8, 7, 9, 3, 7, 1, 8, 7, 9, 6, 1, 1, 9, 0, 7, 7, 5, 6, 7, 4, 5, 3, 2, 1, 3, 6, 5, 3, 4, 8, 7, 3, 0, 1, 2, 6, 6, 4, 6, 5, 6, 4, 3, 1, 3, 5, 8, 7, 8, 6, 6, 0, 1, 4, 0, 2, 0, 2, 5, 5, 9, 4, 1, 8, 5, 5, 4, 3, 9, 5, 1, 4, 3, 3, 3, 3, 1, 1, 9, 3, 0, 5, 5, 3, 8, 9, 6, 4, 7, 0, 7, 5, 2, 4, 4, 1, 3, 2, 3, 8, 9, 4, 5, 9, 7, 2, 1, 1, 9, 6, 7, 0, 9, 7, 9, 0, 4, 0, 0, 3, 2, 4, 6, 5, 5, 2, 8, 7, 8, 7, 4, 6, 7, 7, 8, 0, 3, 2, 4, 6, 6, 7, 8, 8, 0, 3, 8, 3, 8, 8, 2, 5, 5, 3, 6, 3, 8, 2, 5, 8, 7, 4, 5, 6, 4, 4, 5, 7, 6, 9, 8, 7, 3, 9, 0, 4, 7, 0, 6, 5, 7, 4, 7, 9, 2, 1, 8, 1, 3, 6, 2, 0, 7, 5, 4, 3, 8, 2, 3, 2, 7, 9, 1, 5, 7, 5, 6, 0, 3, 2, 4, 7, 7, 0, 9, 8, 6, 2, 0, 7, 6, 6, 6, 7, 3, 4, 8, 4, 8, 6, 6, 7, 7, 8, 4, 6, 9, 3, 1, 9, 2, 8, 9, 6, 8, 2, 7, 7, 4, 5, 8, 2, 0, 7, 0, 5, 9, 8, 3, 7, 3, 8, 5, 4, 7, 3, 0, 2, 8, 2, 7, 8, 7, 6, 3, 9, 3, 7, 1, 2, 4, 6, 3, 3, 5, 5, 9, 2, 9, 8, 4, 4, 3, 1, 1, 1, 1, 9, 3, 5, 6, 2, 7, 6, 0, 8, 3, 5, 0, 8, 5, 9, 6, 8, 3, 9, 0, 0, 2, 9, 4, 1, 8, 7, 1, 8, 5, 0, 3, 9, 9, 2, 3, 0, 6, 0, 1, 2, 5, 0, 0, 7, 8, 8, 0, 6, 7, 6, 9, 1, 8, 5, 4, 3, 3, 4, 7, 0, 3, 1, 4, 3, 7, 9, 2, 6, 4, 4, 3, 2, 7, 0, 0, 9, 7, 1, 2, 3, 7, 0, 4, 4, 2, 4, 4, 7, 4, 4, 3, 6, 1, 8, 0, 3, 1, 9, 8, 9, 5, 0, 8, 3, 0, 4, 1, 0, 8, 9, 2, 5, 4, 1, 6, 3, 5, 7, 2, 7, 4, 9, 1, 4, 2, 4, 5, 9, 0, 8, 4, 0, 3, 3, 8, 2, 6, 1, 6, 6, 9, 5, 5, 1, 3, 3, 1, 1, 1, 4, 8, 5, 5, 8, 9, 7, 5, 6, 1, 7, 5, 4, 2, 5, 3, 1, 2, 9, 0, 7, 2, 5, 6, 2, 1, 3, 5, 1, 5, 1, 7, 2, 8, 5, 0, 9, 3, 6, 2, 0, 3, 4, 0, 3, 3, 9, 7, 2, 6, 7, 2, 9, 6, 8, 3, 2, 7, 0, 2, 7, 9, 2, 7, 8, 1, 7, 3, 0, 5, 0, 9, 6, 3, 0, 6, 3, 7, 6, 8, 3, 0, 2, 4, 6, 1, 3, 9, 6, 4, 5, 5, 3, 0, 1, 9, 2, 7, 5, 3, 8, 2, 6, 9, 7, 1, 0, 4, 4, 1, 4, 5, 4, 4, 0, 0, 4, 1, 7, 1, 3, 0, 3, 3, 2, 7, 4, 2, 0, 2, 0, 6, 5, 9, 2, 1, 7, 7, 4, 0, 7, 1, 9, 3, 1, 4, 4, 3, 7, 5, 3, 3, 1, 4, 9, 8, 5, 3, 0, 9, 2, 5, 3, 4, 6, 6, 2, 9, 7, 4, 4, 3, 4, 4, 9, 2, 1, 4, 5, 5, 9, 0, 5, 6, 6, 4, 3, 1, 3, 4, 9, 1, 9, 9, 2, 7, 0, 9, 5, 9, 3, 6, 2, 0, 2, 8, 9, 1, 4, 8, 9, 4, 9, 2, 8, 0, 4, 9, 7, 1, 9, 0, 4, 6, 4, 9, 1, 9, 2, 7, 9, 5, 6, 0, 0, 1, 4, 8, 9, 5, 4, 2, 2, 0, 3, 7, 3, 7, 3, 0, 7, 0, 8, 6, 0, 1, 2, 4, 1, 5, 8, 4, 2, 3, 7, 4, 0, 7, 5, 8, 6, 0, 1, 1, 2, 2, 1, 7, 3, 8, 0, 9, 5, 1, 4, 1, 3, 8, 4, 5, 1, 1, 6, 7, 6, 1, 2, 3, 6, 5, 3, 6, 9, 1, 0, 9, 9, 1, 2, 7, 9, 8, 0, 5, 5, 6, 3, 6, 9, 8, 5, 6, 9, 9, 8, 0, 6, 5, 9, 9, 2, 1, 1, 4, 0, 9, 1, 1, 3, 7, 0, 4, 6, 7, 5, 9, 7, 8, 4, 3, 9, 7, 4, 9, 5, 5, 8, 2, 0, 3, 7, 3, 0, 7, 5, 5, 9, 6, 5, 3, 9, 1, 1, 2, 7, 3, 6, 0, 3, 8, 2, 3, 4, 0, 0, 1, 3, 0, 5, 0, 5, 7, 5, 4, 8, 8, 8, 7, 8, 9, 1, 1, 8, 5, 0, 2, 6, 4, 7, 1, 2, 0, 8, 4, 2, 8, 5, 0, 5, 7, 4, 9, 0, 6, 9, 5, 0, 7, 1, 4, 7, 8, 2, 4, 2, 9, 4, 6, 0, 1, 5, 4, 3, 4, 2, 6, 8, 9, 9, 2, 0, 1, 2, 7, 0, 7, 6, 3, 9, 2, 9, 5, 1, 1, 1, 9, 4, 7, 9, 6, 0, 3, 8, 9, 3, 6, 4, 7, 0, 2, 9, 5, 1, 3, 8, 0, 4, 3, 8, 3, 1, 4, 6, 4, 2, 4, 9, 4, 4, 5, 1, 5, 2, 2, 0, 1, 8, 3, 7, 7, 6, 5, 0, 8, 4, 4, 2, 7, 9, 4, 0, 2, 0, 0, 1, 5, 9, 6, 7, 9, 2, 9, 2, 3, 2, 6, 5, 2, 8, 3, 9, 9, 6, 5, 2, 0, 4, 8, 7, 3, 8, 1, 6, 4, 5, 4, 7, 2, 1, 8, 5, 9, 1, 9, 0, 1, 4, 7, 6, 7, 7, 4, 6, 0, 9, 9, 5, 5, 4, 3, 1, 1, 7, 3, 6, 6, 9, 8, 6, 4, 6, 2, 9, 3, 0, 1, 1, 4, 3, 4, 8, 8, 6, 7, 2, 7, 5, 3, 4, 1, 0, 4, 2, 8, 7, 7, 5, 3, 3, 4, 8, 8, 6, 3, 1, 9, 0, 2, 5, 6, 1, 1, 1, 1, 4, 4, 3, 7, 7, 2, 9, 0, 0, 5, 4, 2, 8, 1, 1, 5, 9, 3, 9, 8, 7, 4, 2, 5, 1, 9, 7, 1, 2, 3, 4, 5, 8, 4, 5, 2, 2, 9, 8, 0, 4, 4, 4, 4, 7, 4, 2, 3, 8, 1, 4, 8, 5, 7, 0, 6, 2, 6, 6, 9, 8, 4, 3, 8, 7, 0, 6, 4, 8, 9, 9, 1, 8, 1, 5, 0, 5, 5, 9, 4, 9, 1, 4, 6, 7, 5, 4, 3, 9, 4, 4, 6, 7, 7, 8, 0, 5, 7, 9, 7, 3, 8, 2, 7, 8, 6, 8, 4, 6, 5, 8, 1, 5, 3, 8, 8, 0, 7, 0, 0, 4, 2, 8, 2, 5, 6, 4, 0, 0, 2, 2, 1, 4, 4, 8, 4, 2, 3, 0, 9, 7, 6, 9, 0, 0, 5, 4, 7, 9, 9, 2, 8, 8, 3, 0, 6, 9, 5, 4, 0, 1, 2, 9, 3, 3, 9, 2, 0, 1, 4, 0, 8, 4, 9, 1, 2, 0, 5, 5, 7, 8, 2, 5, 4, 0, 9, 3, 8, 6, 0, 0, 5, 4, 6, 3, 7, 9, 6, 2, 3, 0, 7, 8, 1, 4, 9, 3, 2, 5, 1, 7, 0, 4, 4, 9, 5, 1, 3, 2, 6, 1, 5, 9, 5, 9, 2, 6, 2, 0, 1, 2, 1, 4, 8, 7, 4, 0, 5, 5, 4, 3, 1, 2, 0, 3, 4, 2, 8, 4, 4, 5, 5, 4, 4, 4, 1, 9, 1, 0, 0, 0, 7, 6, 7, 9, 3, 2, 5, 4, 4, 2, 6, 9, 4, 6, 2, 4, 0, 4, 3, 5, 0, 4, 1, 3, 5, 3, 9, 9, 4, 3, 7, 0, 7, 9, 4, 7, 3, 3, 6, 5, 3, 9, 3, 0, 3, 6, 5, 0, 3, 4, 8, 9, 4, 1, 6, 0, 0, 8, 4, 0, 9, 6, 5, 5, 7, 6, 1, 8, 4, 8, 2, 2, 1, 0, 0, 1, 8, 5, 0, 9, 8, 8, 2, 1, 7, 7, 9, 5, 3, 4, 1, 8, 1, 3, 4, 7, 8, 3, 9, 9, 9, 1, 9, 8, 1, 6, 4, 6, 8, 0, 3, 0, 6, 2, 5, 7, 4, 7, 3, 0, 7, 9, 5, 2, 7, 3, 6, 4, 0, 4, 3, 2, 1, 6, 3, 2, 4, 9, 9, 8, 9, 5, 8, 4, 0, 3, 9, 8, 2, 8, 3, 3, 0, 7, 4, 1, 9, 8, 1, 1, 7, 2, 0, 0, 1, 9, 6, 7, 7, 9, 5, 0, 0, 9, 5, 2, 8, 9, 1, 1, 0, 0, 5, 1, 0, 3, 5, 3, 8, 3, 5, 3, 8, 9, 0, 3, 8, 0, 5, 3, 5, 7, 6, 9, 5, 2, 8, 7, 7, 6, 8, 4, 0, 9, 3, 4, 1, 0, 1, 6, 8, 0, 6, 6, 9, 5, 3, 4, 6, 5, 0, 8, 6, 0, 4, 4, 2, 8, 9, 6, 7, 0, 5, 1, 9, 1, 7, 4, 2, 0, 7, 4, 9, 6, 3, 3, 4, 1, 1, 0, 3, 1, 4, 4, 3, 7, 3, 0, 8, 9, 3, 0, 6, 9, 5, 3, 0, 9, 0, 5, 2, 6, 1, 1, 8, 5, 2, 2, 5, 0, 2, 5, 0, 0, 0, 4, 9, 6, 3, 2, 9, 3, 1, 0, 6, 3, 5, 5, 7, 4, 6, 0, 0, 8, 9, 9, 0, 1, 7, 3, 4, 0, 3, 5, 8, 7, 7, 5, 1, 2, 1, 4, 9, 1, 7, 2, 8, 9, 0, 0, 4, 3, 6, 6, 1, 4, 8, 4, 4, 9, 8, 4, 3, 3, 1, 4, 6, 6, 2, 9, 6, 9, 8, 6, 8, 9, 0, 6, 8, 5, 6, 0, 5, 5, 4, 4, 0, 6, 5, 0, 5, 0, 7, 1, 2, 8, 4, 6, 9, 6, 3, 8, 3, 5, 6, 4, 3, 0, 1, 6, 8, 8, 2, 7, 2, 9, 3, 0, 8, 5, 1, 6, 0, 2, 2, 7, 2, 3, 7, 5, 4, 4, 3, 7, 3, 5, 9, 1, 3, 2, 6, 4, 2, 5, 0, 0, 1, 9, 5, 1, 2, 9, 0, 0, 5, 1, 5, 1, 5, 0, 9, 5, 6, 3, 3, 5, 5, 1, 0, 1, 9, 2, 5, 6, 1, 1, 3, 6, 3, 9, 7, 5, 0, 1, 4, 3, 8, 9, 8, 1, 2, 9, 1, 2, 7, 4, 7, 7, 3, 5, 2, 4, 2, 2, 6, 5, 5, 7, 6, 0, 1, 2, 4, 1, 4, 7, 9, 1, 3, 3, 9, 1, 7, 1, 3, 5, 6, 2, 8, 0, 0, 5, 8, 1, 6, 4, 0, 5, 3, 4, 0, 8, 8, 5, 3, 2, 9, 8, 0, 7, 8, 1, 6, 4, 8, 8, 3, 5, 9, 3, 4, 0, 3, 0, 0, 1, 6, 3, 5, 0, 7, 8, 0, 7, 1, 5, 2, 1, 6, 1, 2, 5, 0, 0, 1, 2, 3, 3, 1, 7, 7, 2, 1, 9, 4, 2, 2, 4, 1, 3, 1, 1, 7, 9, 5, 0, 6, 4, 8, 1, 6, 9, 9, 9, 4, 4, 2, 2, 5, 1, 7, 0, 6, 2, 9, 7, 1, 4, 2, 9, 9, 0, 3, 9, 9, 9, 7, 0, 5, 1, 5, 2, 9, 0, 2, 9, 4, 9, 3, 6, 1, 3, 9, 1, 7, 6, 0, 1, 8, 1, 3, 9, 0, 2, 9, 4, 0, 3, 4, 4, 8, 8, 3, 4, 3, 1, 3, 8, 7, 8, 6, 9, 9, 4, 2, 7, 4, 3, 4, 7, 5, 4, 5, 4, 7, 7, 5, 3, 9, 7, 4, 6, 2, 4, 2, 1, 4, 2, 4, 4, 9, 5, 0, 2, 2, 5, 8, 5, 6, 3, 4, 5, 3, 3, 4, 7, 6, 0, 3, 7, 0, 3, 1, 2, 6, 6, 5, 7, 4, 3, 3, 7, 2, 5, 4, 7, 7, 9, 5, 1, 3, 9, 4, 9, 7, 3, 0, 1, 9, 8, 1, 0, 3, 0, 1, 9, 4, 7, 7, 4, 6, 6, 7, 4, 6, 2, 0, 0, 3, 9, 0, 8, 9, 3, 8, 6, 1, 2, 4, 1, 6, 8, 3, 9, 4, 7, 6, 7, 3, 7, 4, 6, 2, 8, 7, 1, 6, 7, 7, 1, 3, 1, 8, 9, 7, 3, 8, 6, 6, 3, 0, 3, 7, 0, 9, 8, 2, 2, 6, 9, 2, 6, 8, 5, 9, 8, 8, 8, 7, 4, 2, 8, 8, 9, 4, 9, 0, 3, 6, 4, 8, 4, 2, 3, 2, 9, 1, 7, 4, 8, 4, 0, 3, 1, 1, 8, 5, 8, 1, 8, 9, 9, 3, 9, 4, 7, 6, 1, 1, 9, 2, 0, 8, 1, 2, 5, 7, 3, 5, 2, 5, 0, 2, 0, 5, 0, 6, 1, 3, 0, 9, 2, 1, 7, 1, 6, 8, 3, 8, 5, 0, 7, 2, 3, 1, 8, 5, 4, 0, 3, 3, 0, 0, 9, 3, 5, 4, 6, 2, 2, 8, 0, 9, 4, 4, 3, 6, 0, 6, 4, 3, 6, 2, 4, 0, 2, 2, 0, 3, 6, 2, 0, 0, 5, 3, 4, 9, 1, 4, 2, 8, 2, 5, 8, 9, 4, 5, 0, 7, 2, 4, 9, 9, 2, 2, 5, 0, 0, 1, 9, 2, 2, 7, 3, 6, 8, 7, 2, 9, 3, 8, 8, 8, 8, 1, 0, 8, 8, 1, 2, 6, 6, 8, 0, 1, 1, 1, 3, 4, 6, 6, 4, 1, 1, 1, 7, 8, 3, 3, 3, 0, 5, 4, 2, 4, 4, 7, 4, 0, 8, 0, 2, 7, 5, 5, 2, 7, 3, 7, 6, 0, 3, 0, 3, 6, 2, 4, 7, 0, 5, 8, 8, 4, 7, 2, 8, 0, 5, 8, 0, 1, 1, 2, 3, 9, 9, 9, 0, 8, 0, 3, 6, 2, 0, 3, 4, 1, 9, 3, 1, 7, 8, 9, 6, 0, 0, 4, 5, 9, 7, 5, 8, 3, 3, 3, 6, 3, 6, 4, 2, 2, 4, 9, 1, 8, 2, 0, 8, 7, 8, 7, 7, 1, 8, 9, 7, 5, 4, 3, 8, 2, 0, 8, 1, 3, 3, 7, 0, 7, 6, 0, 8, 4, 8, 7, 1, 3, 9, 7, 5, 5, 4, 7, 3, 8, 5, 4, 1, 2, 4, 3, 8, 7, 0, 4, 8, 6, 5, 1, 4, 5, 6, 7, 6, 0, 3, 0, 6, 7, 9, 4, 4, 8, 6, 7, 1, 7, 7, 5, 2, 4, 5, 5, 0, 9, 3, 6, 0, 4, 1, 9, 0, 8, 9, 1, 5, 8, 3, 4, 4, 7, 0, 8, 6, 5, 9, 9, 9, 0, 0, 9, 6, 6, 6, 4, 3, 7, 2, 5, 4, 7, 1, 2, 7, 1, 1, 7, 9, 6, 4, 3, 3, 8, 5, 6, 5, 8, 8, 1, 3, 5, 7, 8, 9, 9, 8, 3, 1, 9, 8, 1, 3, 8, 1, 2, 7, 8, 5, 3, 7, 9, 5, 2, 6, 9, 5, 1, 0, 6, 4, 2, 9, 3, 5, 5, 2, 0, 8, 0, 5, 4, 4, 9, 3, 8, 7, 8, 4, 2, 6, 8, 5, 3, 2, 8, 5, 5, 1, 9, 4, 0, 7, 7, 9, 1, 1, 0, 1, 5, 3, 8, 1, 0, 7, 7, 1, 6, 6, 8, 1, 7, 5, 7, 4, 5, 6, 1, 1, 2, 3, 9, 4, 0, 7, 6, 3, 6, 5, 9, 9, 0, 7, 7, 2, 4, 4, 7, 8, 1, 2, 3, 4, 4, 6, 2, 6, 7, 7, 6, 4, 4, 8, 7, 7, 1, 4, 9, 2, 4, 2, 6, 5, 6, 2, 0, 5, 3, 3, 3, 5, 8, 0, 9, 4, 4, 3, 5, 5, 0, 4, 2, 3, 6, 5, 6, 4, 4, 4, 1, 1, 6, 7, 4, 4, 6, 9, 8, 0, 4, 3, 5, 9, 2, 6, 4, 1, 9, 5, 8, 5, 2, 1, 1, 0, 3, 1, 0, 4, 8, 6, 1, 5, 1, 7, 4, 4, 9, 2, 2, 3, 3, 0, 5, 0, 9, 9, 3, 0, 8, 4, 3, 6, 0, 4, 7, 8, 3, 8, 5, 3, 9, 5, 0, 2, 3, 3, 7, 7, 9, 9, 5, 8, 4, 4, 7, 0, 7, 4, 4, 1, 5, 5, 1, 6, 4, 6, 7, 0, 6, 1, 0, 0, 5, 1, 8, 3, 4, 8, 1, 9, 1, 6, 1, 1, 0, 0, 7, 3, 8, 3, 8, 2, 6, 2, 9, 0, 7, 0, 3, 1, 8, 4, 6, 5, 5, 2, 1, 7, 3, 0, 3, 4, 1, 5, 1, 7, 2, 0, 9, 4, 5, 8, 9, 2, 0, 2, 7, 4, 2, 2, 0, 9, 7, 5, 3, 8, 3, 4, 8, 4, 0, 1, 3, 6, 5, 1, 4, 8, 0, 2, 5, 6, 9, 4, 4, 0, 0, 7, 0, 0, 0, 4, 6, 0, 5, 3, 3, 4, 3, 2, 7, 8, 2, 3, 0, 9, 2, 4, 4, 4, 2, 8, 5, 4, 2, 4, 0, 4, 7, 2, 5, 5, 4, 9, 3, 5, 6, 1, 6, 6, 8, 6, 2, 0, 0, 2, 4, 4, 9, 2, 5, 6, 9, 7, 4, 4, 0, 6, 2, 1, 4, 0, 0, 4, 0, 0, 1, 2, 9, 4, 8, 9, 6, 5, 7, 6, 8, 5, 6, 5, 3, 4, 1, 3, 6, 9, 4, 4, 5, 3, 2, 0, 9, 9, 1, 7, 7, 8, 7, 4, 9, 7, 7, 2, 2, 9, 8, 2, 9, 0, 4, 4, 6, 1, 2, 5, 2, 4, 6, 9, 7, 0, 8, 3, 7, 0, 4, 6, 7, 2, 9, 6, 3, 2, 4, 5, 0, 4, 7, 6, 1, 5, 1, 2, 5, 5, 1, 1, 6, 3, 3, 7, 0, 8, 2, 3, 9, 6, 9, 6, 7, 5, 1, 2, 1, 2, 3, 9, 7, 6, 1, 2, 0, 6, 0, 1, 4, 3, 9, 4, 9, 6, 2, 8, 4, 0, 3, 8, 6, 1, 4, 7, 2, 0, 3, 6, 8, 4, 6, 7, 9, 8, 6, 3, 4, 9, 8, 0, 5, 3, 0, 5, 1, 3, 8, 2, 9, 7, 2, 8, 1, 8, 2, 4, 1, 2, 5, 0, 3, 6, 5, 0, 7, 9, 8, 2, 7, 1, 6, 9, 6, 8, 3, 0, 4, 2, 7, 1, 2, 9, 3, 2, 5, 1, 7, 7, 5, 4, 9, 4, 5, 6, 4, 0, 8, 3, 5, 5, 3, 3, 9, 6, 1, 7, 1, 5, 7, 9, 1, 4, 4, 4, 9, 5, 7, 4, 0, 7, 1, 8, 7, 9, 4]\n",
            "\n",
            "\n",
            "testing accuracy : 0.916\t f1_score: 0.915515087693082\n"
          ]
        },
        {
          "output_type": "display_data",
          "data": {
            "text/plain": [
              "<Figure size 432x288 with 2 Axes>"
            ],
            "image/png": "[encoded data removed]"
          },
          "metadata": {
            "needs_background": "light"
          }
        },
        {
          "output_type": "display_data",
          "data": {
            "text/plain": [
              "<Figure size 288x288 with 2 Axes>"
            ],
            "image/png": "[encoded data removed]"
          },
          "metadata": {
            "needs_background": "light"
          }
        }
      ]
    },
    {
      "cell_type": "code",
      "execution_count": null,
      "metadata": {
        "colab": {
          "base_uri": "https://localhost:8080/",
          "height": 370
        },
        "id": "EPyFbz-4osNm",
        "outputId": "f4f59c56-78af-4d64-c058-cee738d4dad3"
      },
      "outputs": [
        {
          "output_type": "stream",
          "name": "stdout",
          "text": [
            "Label: [8, 1, 3, 3, 3, 4, 0, 0, 6, 5, 8, 2, 7, 5, 6, 9, 5, 7, 0, 9, 1, 5, 8, 9, 4, 7, 0, 3, 3, 8, 4, 4, 0, 8, 3, 3, 2, 0, 6, 1, 5, 3, 7, 3, 6, 0, 6, 6, 2, 0, 3, 0, 1, 6, 1, 8, 1, 7, 2, 3, 6, 8, 1, 3, 3, 2, 0, 9, 5, 9, 3, 7, 3, 8, 1, 1, 7, 6, 2, 3, 3, 2, 9, 8, 9, 9, 2, 6, 2, 9, 2, 7, 0, 9, 0, 7, 8, 5, 4, 0, 0, 9, 1, 7, 4, 5, 0, 5, 5, 4, 2, 8, 3, 4, 1, 2, 8, 0, 7, 2, 7, 2, 0, 2, 1, 3, 6, 4, 7, 6, 6, 5, 0, 9, 5, 3, 5, 5, 1, 7, 4, 7, 3, 5, 8, 9, 6, 7, 1, 9, 7, 2, 8, 6, 1, 9, 1, 9, 3, 9, 5, 7, 4, 0, 2, 1, 3, 6, 5, 2, 1, 9, 1, 0, 9, 6, 2, 6, 8, 4, 2, 4, 4, 6, 3, 1, 1, 5, 8, 7, 4, 3, 4, 3, 6, 4, 1, 4, 4, 5, 4, 0, 7, 6, 3, 4, 2, 7, 0, 5, 6, 9, 4, 4, 7, 1, 1, 0, 3, 3, 4, 4, 4, 7, 3, 1, 9, 1, 8, 1, 8, 8, 6, 0, 8, 6, 5, 5, 6, 0, 4, 3, 9, 6, 2, 8, 5, 5, 0, 7, 3, 6, 1, 2, 0, 7, 6, 7, 0, 2, 4, 2, 6, 0, 2, 7, 8, 3, 3, 1, 1, 4, 3, 2, 2, 8, 9, 8, 2, 5, 1, 2, 0, 8, 0, 4, 0, 9, 5, 5, 7, 8, 1, 9, 0, 3, 5, 0, 8, 8, 4, 6, 0, 0, 0, 8, 5, 6, 4, 7, 6, 9, 1, 3, 9, 1, 1, 4, 2, 7, 4, 4, 3, 7, 8, 6, 2, 0, 8, 5, 0, 2, 5, 0, 0, 6, 9, 0, 2, 7, 0, 3, 1, 8, 4, 5, 4, 0, 1, 8, 4, 3, 8, 2, 2, 7, 1, 3, 7, 4, 5, 2, 4, 8, 7, 9, 1, 5, 2, 2, 3, 3, 3, 4, 2, 2, 2, 1, 2, 0, 8, 2, 5, 0, 5, 5, 3, 4, 8, 6, 6, 6, 4, 2, 4, 4, 7, 5, 4, 8, 6, 8, 9, 7, 7, 1, 6, 1, 3, 0, 1, 6, 4, 5, 8, 7, 0, 4, 8, 7, 4, 2, 2, 1, 7, 9, 0, 7, 9, 7, 0, 0, 0, 2, 2, 5, 5, 6, 4, 2, 4, 0, 2, 2, 8, 2, 1, 4, 0, 5, 1, 7, 3, 3, 2, 3, 2, 1, 1, 4, 2, 0, 5, 8, 2, 5, 3, 9, 9, 4, 3, 5, 6, 5, 1, 7, 4, 1, 7, 2, 3, 4, 7, 0, 5, 9, 5, 5, 5, 2, 5, 7, 4, 6, 7, 4, 3, 2, 6, 8, 3, 7, 1, 7, 3, 3, 6, 3, 1, 6, 8, 5, 2, 5, 6, 6, 8, 3, 4, 9, 3, 5, 8, 1, 8, 8, 3, 1, 3, 5, 6, 8, 4, 4, 9, 0, 1, 0, 3, 4, 7, 9, 1, 3, 3, 8, 7, 7, 1, 3, 8, 5, 0, 3, 1, 3, 5, 9, 6, 1, 3, 6, 8, 9, 0, 7, 3, 7, 4, 3, 7, 2, 0, 1, 8, 6, 3, 7, 8, 4, 0, 2, 7, 6, 3, 5, 3, 6, 3, 3, 8, 9, 3, 3, 1, 1, 7, 0, 4, 9, 2, 3, 9, 4, 7, 4, 4, 1, 2, 1, 4, 8, 7, 3, 4, 2, 3, 7, 8, 7, 1, 6, 8, 3, 8, 4, 7, 6, 2, 6, 3, 8, 2, 2, 2, 6, 6, 3, 8, 2, 5, 2, 9, 9, 9, 3, 6, 2, 5, 7, 1, 7, 5, 6, 0, 9, 2, 4, 5, 2, 2, 9, 6, 5, 9, 3, 5, 2, 7, 8, 9, 9, 6, 2, 0, 8, 7, 9, 0, 0, 9, 7, 3, 3, 0, 3, 5, 5, 2, 3, 9, 5, 1, 4, 8, 6, 2, 8, 9, 1, 1, 5, 0, 2, 0, 9, 9, 5, 6, 7, 8, 4, 9, 0, 4, 9, 8, 1, 2, 1, 4, 8, 2, 1, 4, 9, 0, 4, 1, 4, 5, 1, 1, 1, 7, 4, 7, 5, 9, 5, 0, 8, 3, 7, 3, 0, 5, 5, 9, 1, 7, 5, 1, 4, 3, 2, 5, 8, 1, 4, 6, 3, 8, 4, 8, 9, 3, 8, 5, 9, 9, 9, 1, 5, 5, 1, 7, 3, 0, 2, 6, 7, 4, 1, 9, 0, 8, 5, 3, 3, 7, 0, 6, 7, 0, 7, 6, 4, 6, 4, 2, 0, 6, 1, 5, 7, 1, 2, 6, 3, 1, 6, 0, 6, 7, 3, 2, 7, 8, 3, 1, 2, 4, 7, 4, 5, 1, 8, 3, 7, 9, 8, 9, 6, 3, 9, 4, 5, 9, 3, 5, 9, 5, 1, 8, 3, 8, 2, 1, 7, 9, 2, 1, 6, 6, 9, 8, 5, 6, 4, 6, 5, 8, 0, 3, 2, 2, 8, 8, 4, 8, 6, 6, 6, 5, 8, 2, 4, 1, 2, 9, 9, 2, 8, 6, 4, 8, 4, 6, 0, 4, 9, 4, 1, 1, 3, 1, 9, 4, 2, 2, 8, 7, 4, 1, 4, 1, 0, 2, 2, 0, 3, 3, 9, 1, 6, 3, 7, 2, 2, 4, 2, 6, 3, 9, 5, 1, 3, 5, 2, 2, 5, 5, 9, 5, 0, 9, 6, 7, 4, 9, 6, 4, 7, 4, 8, 2, 5, 6, 5, 7, 2, 8, 6, 6, 9, 3, 8, 9, 5, 3, 9, 2, 0, 0, 5, 1, 2, 2, 0, 9, 0, 9, 1, 6, 7, 8, 7, 8, 3, 5, 7, 4, 4, 3, 8, 2, 8, 8, 2, 1, 1, 9, 7, 8, 7, 9, 4, 6, 7, 0, 5, 9, 6, 7, 1, 7, 5, 2, 8, 8, 0, 7, 5, 3, 2, 7, 4, 3, 2, 1, 4, 6, 8, 4, 4, 7, 5, 0, 2, 5, 7, 3, 2, 8, 4, 1, 8, 6, 4, 7, 1, 9, 1, 0, 5, 1, 8, 0, 5, 8, 2, 1, 5, 2, 7, 7, 9, 4, 5, 4, 3, 8, 0, 4, 6, 8, 9, 3, 0, 3, 1, 1, 0, 1, 1, 7, 8, 3, 6, 8, 7, 4, 3, 4, 9, 6, 8, 2, 4, 5, 0, 2, 0, 8, 4, 0, 0, 8, 3, 6, 9, 8, 8, 9, 7, 2, 6, 7, 2, 3, 9, 0, 3, 8, 0, 0, 1, 2, 0, 1, 7, 5, 0, 6, 1, 4, 7, 8, 6, 3, 7, 6, 3, 8, 2, 8, 4, 9, 9, 0, 4, 6, 5, 1, 4, 6, 9, 4, 4, 4, 5, 7, 2, 4, 9, 1, 3, 2, 3, 8, 3, 4, 9, 2, 5, 2, 2, 8, 9, 3, 5, 2, 6, 1, 5, 2, 0, 1, 1, 3, 5, 1, 5, 5, 3, 6, 6, 1, 4, 7, 2, 8, 9, 8, 0, 7, 2, 8, 4, 0, 4, 5, 3, 7, 5, 9, 6, 8, 2, 1, 3, 7, 7, 8, 4, 0, 8, 0, 2, 3, 0, 3, 9, 9, 4, 9, 4, 0, 3, 7, 0, 3, 5, 3, 0, 2, 3, 4, 4, 5, 4, 8, 0, 6, 7, 3, 0, 3, 6, 7, 9, 0, 6, 8, 1, 1, 2, 8, 8, 1, 2, 9, 5, 9, 9, 8, 9, 8, 9, 1, 2, 2, 0, 6, 2, 3, 3, 3, 8, 8, 5, 6, 5, 6, 6, 4, 5, 1, 4, 8, 5, 6, 9, 6, 9, 5, 5, 1, 3, 6, 9, 4, 7, 6, 8, 5, 5, 2, 5, 8, 6, 4, 9, 3, 1, 1, 1, 3, 3, 2, 3, 3, 3, 4, 7, 9, 5, 5, 2, 1, 5, 7, 4, 8, 4, 6, 6, 3, 3, 8, 6, 5, 2, 9, 7, 3, 0, 0, 4, 5, 6, 1, 6, 1, 6, 3, 1, 1, 7, 4, 2, 2, 7, 3, 0, 5, 5, 8, 2, 5, 2, 4, 7, 7, 2, 9, 9, 3, 4, 4, 0, 4, 6, 3, 5, 5, 6, 2, 6, 5, 4, 9, 3, 4, 5, 1, 2, 5, 2, 1, 4, 4, 6, 9, 2, 5, 3, 1, 1, 2, 5, 5, 4, 5, 8, 3, 4, 7, 7, 5, 8, 7, 5, 0, 0, 4, 9, 4, 7, 3, 2, 2, 1, 9, 8, 4, 6, 8, 6, 1, 0, 0, 5, 1, 3, 7, 4, 5, 8, 5, 9, 1, 5, 5, 6, 7, 6, 4, 8, 9, 3, 3, 4, 4, 5, 2, 0, 0, 1, 6, 1, 1, 1, 0, 1, 9, 5, 5, 7, 6, 7, 3, 3, 8, 4, 4, 3, 2, 9, 1, 7, 4, 7, 6, 5, 4, 3, 9, 6, 7, 2, 0, 0, 4, 4, 4, 0, 5, 0, 8, 7, 7, 0, 9, 9, 4, 4, 8, 9, 7, 5, 5, 7, 6, 2, 3, 7, 9, 5, 0, 6, 2, 1, 1, 9, 1, 3, 6, 5, 4, 0, 8, 9, 4, 0, 4, 4, 8, 7, 1, 9, 7, 8, 5, 3, 5, 5, 4, 5, 9, 3, 5, 0, 3, 6, 7, 9, 8, 6, 2, 7, 5, 7, 4, 9, 3, 6, 6, 5, 7, 6, 3, 2, 6, 4, 1, 4, 4, 7, 1, 9, 4, 3, 9, 6, 1, 4, 8, 1, 6, 7, 5, 8, 4, 9, 9, 5, 7, 6, 4, 1, 7, 9, 1, 9, 9, 0, 4, 0, 0, 5, 4, 6, 9, 9, 3, 3, 1, 9, 2, 6, 0, 1, 3, 4, 0, 7, 7, 2, 1, 3, 9, 6, 8, 5, 8, 0, 5, 4, 5, 4, 6, 4, 1, 8, 1, 5, 0, 1, 0, 4, 9, 7, 9, 9, 2, 7, 0, 4, 5, 9, 5, 3, 3, 0, 9, 8, 0, 7, 9, 4, 1, 9, 8, 5, 8, 2, 5, 9, 0, 6, 4, 9, 2, 9, 8, 0, 8, 8, 2, 5, 4, 8, 0, 2, 9, 6, 8, 9, 5, 2, 2, 9, 2, 1, 3, 1, 9, 5, 0, 3, 0, 6, 4, 0, 5, 5, 2, 7, 7, 1, 1, 5, 2, 0, 6, 5, 6, 1, 0, 8, 9, 6, 1, 0, 2, 8, 0, 1, 5, 0, 8, 4, 9, 1, 0, 9, 3, 1, 1, 5, 7, 1, 6, 8, 2, 0, 5, 2, 3, 2, 3, 5, 2, 1, 3, 4, 6, 9, 2, 0, 0, 3, 9, 6, 1, 3, 6, 4, 0, 8, 2, 2, 0, 6, 0, 3, 6, 8, 7, 0, 3, 0, 1, 3, 5, 7, 5, 2, 2, 7, 3, 8, 7, 8, 9, 0, 2, 5, 9, 1, 0, 8, 3, 1, 4, 2, 2, 1, 1, 4, 1, 7, 2, 4, 2, 4, 9, 8, 5, 4, 2, 2, 0, 4, 2, 1, 9, 3, 4, 8, 1, 3, 4, 7, 3, 5, 3, 8, 4, 7, 0, 1, 2, 4, 5, 7, 6, 2, 4, 0, 0, 7, 0, 5, 4, 9, 2, 4, 4, 8, 4, 7, 4, 5, 7, 0, 8, 3, 1, 4, 0, 9, 4, 5, 4, 5, 6, 6, 7, 7, 2, 8, 2, 0, 2, 5, 6, 6, 9, 8, 1, 0, 7, 6, 6, 4, 0, 6, 8, 2, 9, 5, 6, 6, 4, 4, 3, 4, 0, 6, 3, 1, 2, 3, 1, 5, 6, 9, 7, 8, 5, 6, 4, 4, 4, 4, 4, 3, 6, 7, 6, 4, 5, 9, 8, 9, 3, 2, 2, 6, 7, 1, 8, 9, 0, 2, 8, 8, 3, 0, 6, 9, 6, 6, 9, 7, 9, 0, 2, 8, 2, 1, 7, 7, 6, 1, 1, 2, 1, 5, 7, 7, 9, 6, 5, 0, 1, 7, 0, 3, 9, 4, 2, 9, 6, 0, 1, 5, 8, 0, 9, 8, 2, 8, 5, 7, 5, 9, 8, 2, 2, 9, 2, 6, 3, 0, 2, 6, 1, 8, 8, 7, 8, 3, 8, 4, 0, 9, 2, 9, 3, 0, 7, 1, 3, 8, 5, 9, 4, 5, 3, 6, 8, 7, 9, 9, 8, 3, 2, 3, 4, 6, 2, 4, 6, 4, 5, 6, 2, 6, 9, 1, 8, 5, 0, 2, 1, 9, 5, 9, 6, 2, 2, 2, 6, 2, 9, 7, 8, 0, 8, 8, 2, 7, 8, 9, 4, 2, 1, 7, 4, 5, 2, 4, 1, 5, 9, 1, 0, 5, 7, 0, 5, 4, 4, 4, 0, 8, 0, 7, 8, 1, 0, 0, 0, 1, 5, 2, 7, 0, 6, 6, 4, 3, 0, 1, 1, 1, 2, 3, 2, 2, 2, 4, 0, 2, 7, 1, 3, 2, 6, 4, 8, 8, 7, 3, 5, 3, 9, 9, 6, 8, 2, 1, 4, 5, 3, 9, 4, 4, 8, 3, 3, 5, 3, 8, 0, 8, 3, 9, 0, 5, 3, 4, 7, 8, 5, 0, 1, 4, 4, 4, 3, 1, 1, 6, 5, 5, 2, 1, 8, 2, 5, 8, 0, 5, 2, 0, 8, 8, 0, 6, 9, 3, 1, 0, 8, 6, 7, 6, 7, 0, 1, 6, 3, 8, 9, 3, 4, 2, 2, 4, 6, 2, 8, 9, 5, 6, 5, 3, 5, 1, 7, 9, 3, 9, 4, 0, 4, 5, 3, 3, 9, 3, 6, 5, 0, 7, 0, 0, 6, 4, 4, 9, 9, 9, 3, 5, 5, 0, 4, 8, 0, 4, 8, 7, 0, 9, 9, 2, 1, 4, 4, 0, 1, 5, 9, 5, 0, 1, 0, 1, 1, 5, 4, 2, 2, 5, 1, 1, 8, 3, 6, 0, 7, 7, 3, 2, 0, 7, 4, 0, 1, 3, 3, 6, 1, 2, 2, 7, 2, 4, 0, 0, 0, 3, 6, 0, 0, 3, 6, 3, 7, 4, 2, 0, 0, 3, 8, 3, 6, 3, 1, 9, 3, 1, 0, 8, 3, 9, 0, 7, 0, 2, 2, 5, 2, 2, 6, 6, 4, 6, 0, 4, 9, 4, 6, 9, 0, 1, 5, 6, 4, 4, 7, 8, 7, 7, 2, 7, 7, 9, 9, 5, 9, 3, 8, 9, 3, 2, 1, 6, 0, 7, 6, 2, 5, 9, 1, 6, 7, 4, 8, 9, 4, 9, 0, 9, 1, 0, 5, 8, 2, 6, 5, 2, 7, 1, 1, 1, 0, 3, 7, 5, 2, 1, 8, 6, 1, 2, 8, 6, 4, 4, 0, 3, 0, 3, 1, 1, 6, 1, 7, 3, 4, 4, 2, 1, 2, 5, 8, 3, 4, 6, 3, 2, 6, 3, 4, 0, 7, 5, 3, 0, 3, 8, 2, 6, 6, 4, 5, 5, 7, 3, 1, 0, 4, 5, 8, 8, 3, 8, 6, 0, 8, 4, 4, 8, 9, 1, 2, 9, 5, 6, 8, 8, 1, 7, 8, 0, 6, 8, 3, 5, 5, 4, 4, 3, 9, 8, 1, 0, 2, 1, 7, 2, 4, 6, 3, 9, 8, 7, 8, 1, 1, 3, 6, 9, 6, 7, 4, 5, 7, 7, 7, 9, 5, 8, 6, 5, 7, 9, 6, 3, 7, 4, 0, 1, 6, 8, 8, 1, 4, 3, 5, 7, 4, 4, 4, 3, 8, 1, 3, 9, 9, 5, 4, 2, 6, 4, 9, 9, 4, 0, 0, 6, 7, 2, 7, 9, 9, 5, 7, 2, 7, 0, 0, 1, 1, 7, 3, 4, 3, 5, 6, 2, 5, 0, 2, 8, 9, 9, 8, 4, 3, 9, 5, 9, 6, 3, 1, 1, 2, 5, 5, 4, 0, 1, 4, 8, 4, 9, 2, 0, 1, 0, 0, 3, 1, 2, 5, 6, 1, 1, 9, 0, 6, 6, 6, 3, 0, 7, 1, 1, 3, 0, 1, 6, 7, 5, 9, 3, 9, 9, 8, 6, 4, 3, 1, 6, 3, 6, 6, 7, 8, 7, 5, 3, 3, 0, 6, 6, 5, 5, 5, 1, 2, 3, 1, 3, 1, 4, 4, 1, 6, 3, 4, 5, 0, 5, 3, 2, 9, 1, 8, 9, 1, 3, 0, 7, 2, 5, 9, 2, 5, 9, 0, 2, 7, 4, 0, 1, 7, 1, 6, 4, 1, 5, 1, 3, 8, 1, 6, 7, 7, 8, 0, 2, 3, 2, 1, 7, 3, 7, 4, 7, 2, 1, 8, 7, 5, 9, 4, 4, 0, 5, 4, 7, 6, 9, 8, 4, 0, 9, 4, 9, 8, 4, 4, 4, 5, 1, 4, 5, 2, 1, 8, 7, 0, 3, 8, 3, 3, 6, 8, 0, 8, 2, 5, 4, 8, 9, 2, 7, 5, 5, 1, 1, 3, 1, 6, 9, 6, 8, 3, 0, 5, 0, 9, 7, 2, 6, 0, 3, 7, 7, 2, 8, 1, 9, 2, 3, 2, 4, 3, 8, 1, 8, 1, 0, 0, 0, 3, 2, 1, 0, 2, 2, 6, 3, 2, 7, 4, 1, 9, 4, 5, 7, 3, 4, 2, 6, 6, 1, 4, 8, 9, 7, 7, 9, 2, 0, 5, 0, 9, 3, 8, 9, 8, 7, 4, 9, 4, 5, 7, 9, 7, 1, 3, 6, 8, 5, 4, 5, 1, 6, 7, 5, 7, 1, 8, 2, 6, 2, 4, 7, 5, 0, 8, 6, 7, 5, 2, 0, 1, 6, 7, 4, 2, 9, 4, 9, 0, 2, 8, 3, 7, 6, 7, 1, 8, 6, 0, 4, 6, 8, 3, 7, 5, 9, 9, 9, 7, 1, 5, 3, 0, 7, 0, 1, 9, 1, 0, 3, 2, 6, 8, 5, 2, 3, 4, 8, 9, 7, 6, 8, 8, 5, 3, 8, 4, 9, 5, 1, 2, 6, 5, 7, 8, 6, 0, 4, 6, 2, 2, 5, 2, 7, 0, 4, 7, 9, 5, 7, 4, 4, 0, 8, 9, 3, 1, 3, 6, 8, 6, 2, 1, 3, 3, 9, 7, 3, 8, 9, 8, 7, 1, 3, 4, 0, 7, 3, 6, 9, 2, 2, 8, 0, 9, 6, 1, 4, 6, 7, 9, 9, 4, 5, 8, 0, 1, 9, 1, 1, 6, 2, 4, 5, 8, 6, 1, 4, 5, 2, 9, 8, 6, 7, 9, 3, 0, 3, 0, 1, 6, 1, 3, 5, 4, 7, 2, 4, 6, 5, 2, 8, 2, 5, 0, 4, 7, 9, 5, 1, 8, 7, 4, 2, 2, 1, 9, 4, 1, 6, 0, 3, 7, 4, 0, 1, 5, 3, 6, 2, 0, 3, 9, 4, 5, 3, 0, 3, 9, 5, 2, 6, 3, 6, 0, 2, 0, 9, 1, 5, 0, 6, 7, 0, 5, 1, 9, 5, 4, 3, 5, 8, 6, 8, 1, 6, 9, 5, 9, 9, 4, 3, 3, 0, 3, 1, 1, 2, 1, 7, 3, 2, 6, 8, 1, 5, 0, 3, 6, 4, 6, 5, 1, 0, 2, 9, 4, 6, 2, 9, 2, 4, 0, 8, 4, 2, 2, 3, 1, 8, 1, 0, 9, 9, 0, 0, 9, 5, 5, 5, 3, 2, 6, 2, 7, 0, 8, 8, 1, 2, 5, 0, 3, 7, 1, 1, 2, 1, 9, 2, 1, 4, 2, 1, 5, 4, 7, 1, 2, 5, 2, 8, 8, 6, 1, 1, 2, 6, 9, 1, 3, 8, 4, 1, 8, 6, 2, 7, 4, 1, 8, 1, 0, 9, 5, 1, 6, 9, 2, 2, 3, 2, 7, 5, 2, 8, 5, 2, 1, 3, 4, 0, 7, 2, 0, 6, 7, 7, 6, 2, 4, 6, 3, 4, 9, 5, 2, 0, 1, 1, 0, 3, 0, 0, 0, 4, 7, 9, 4, 0, 9, 7, 0, 0, 7, 4, 0, 0, 1, 1, 4, 3, 9, 2, 6, 2, 5, 6, 9, 3, 4, 7, 1, 6, 9, 9, 3, 3, 9, 1, 5, 8, 3, 0, 3, 4, 6, 3, 0, 6, 1, 6, 3, 3, 1, 0, 0, 9, 9, 6, 9, 4, 1, 2, 1, 5, 4, 8, 6, 3, 8, 4, 3, 0, 3, 4, 1, 2, 9, 3, 0, 9, 0, 6, 0, 4, 5, 2, 3, 3, 5, 8, 0, 1, 2, 3, 7, 6, 0, 3, 5, 1, 2, 9, 4, 6, 0, 9, 8, 1, 6, 4, 9, 7, 8, 7, 0, 6, 0, 5, 5, 1, 7, 2, 9, 9, 0, 8, 6, 1, 0, 6, 7, 8, 2, 6, 2, 3, 9, 3, 4, 0, 8, 6, 1, 4, 5, 4, 5, 8, 5, 6, 7, 3, 3, 0, 9, 4, 9, 1, 6, 4, 7, 6, 6, 6, 7, 3, 4, 6, 8, 0, 3, 5, 2, 6, 0, 4, 2, 5, 2, 6, 4, 6, 2, 9, 6, 6, 9, 0, 8, 3, 0, 0, 7, 5, 2, 8, 2, 9, 1, 0, 8, 8, 9, 0, 9, 6, 7, 3, 7, 7, 6, 5, 1, 3, 1, 2, 3, 1, 7, 5, 9, 5, 4, 2, 4, 3, 0, 4, 5, 0, 3, 0, 6, 7, 1, 5, 5, 1, 1, 5, 9, 0, 2, 1, 3, 3, 3, 7, 0, 3, 3, 8, 7, 5, 8, 3, 0, 6, 5, 4, 6, 0, 1, 5, 3, 2, 3, 5, 4, 0, 0, 6, 9, 9, 9, 9, 0, 9, 6, 3, 4, 8, 5, 9, 7, 4, 2, 3, 9, 4, 3, 9, 9, 5, 6, 8, 8, 3, 8, 4, 4, 3, 2, 2, 4, 9, 1, 2, 7, 0, 4, 2, 3, 9, 4, 8, 6, 9, 5, 6, 9, 7, 6, 4, 1, 3, 5, 1, 0, 4, 4, 3, 2, 8, 2, 0, 3, 7, 2, 3, 0, 1, 4, 7, 7, 5, 6, 8, 9, 0, 4, 3, 4, 5, 3, 0, 0, 0, 9, 6, 9, 0, 5, 4, 6, 8, 6, 2, 3, 8, 7, 1, 3, 5, 8, 8, 2, 7, 4, 3, 8, 9, 3, 0, 3, 0, 1, 2, 0, 7, 7, 8, 3, 0, 3, 6, 9, 4, 5, 0, 9, 6, 5, 3, 4, 6, 5, 3, 7, 1, 1, 7, 7, 9, 4, 8, 2, 1, 6, 0, 1, 5, 2, 5, 9, 2, 6, 6, 8, 0, 0, 5, 9, 8, 1, 4, 3, 1, 5, 2, 1, 3, 8, 5, 6, 2, 1, 5, 7, 9, 4, 4, 2, 2, 8, 6, 8, 8, 2, 4, 4, 7, 6, 6, 5, 3, 5, 0, 3, 6, 0, 2, 4, 5, 4, 7, 9, 3, 4, 0, 4, 5, 3, 3, 6, 1, 4, 0, 5, 6, 4, 2, 3, 0, 9, 7, 6, 8, 3, 0, 5, 5, 2, 3, 3, 8, 6, 9, 8, 1, 0, 4, 4, 5, 1, 0, 1, 7, 5, 3, 7, 7, 3, 6, 9, 5, 5, 3, 6, 2, 9, 2, 7, 2, 6, 9, 7, 4, 7, 2, 7, 3, 5, 1, 7, 4, 3, 5, 4, 6, 3, 2, 0, 9, 0, 3, 4, 8, 3, 6, 2, 3, 1, 0, 8, 0, 0, 8, 0, 7, 0, 3, 6, 6, 8, 4, 4, 9, 5, 9, 8, 0, 4, 5, 8, 2, 4, 0, 0, 3, 3, 6, 3, 4, 0, 8, 2, 1, 3, 1, 1, 5, 0, 4, 1, 3, 1, 8, 6, 8, 3, 1, 1, 3, 3, 6, 5, 8, 6, 5, 4, 1, 8, 5, 2, 0, 8, 3, 2, 4, 3, 8, 4, 6, 8, 1, 9, 2, 7, 0, 6, 7, 8, 0, 6, 5, 7, 9, 9, 9, 8, 5, 9, 0, 6, 9, 2, 2, 7, 2, 1, 4, 0, 9, 8, 5, 2, 4, 8, 7, 4, 2, 2, 2, 4, 6, 1, 0, 6, 8, 2, 0, 5, 6, 3, 7, 3, 9, 2, 5, 9, 8, 2, 6, 0, 9, 6, 6, 5, 5, 8, 3, 6, 5, 7, 0, 2, 3, 8, 7, 6, 3, 5, 0, 4, 3, 7, 2, 2, 9, 9, 4, 3, 7, 5, 5, 7, 7, 7, 0, 2, 2, 7, 2, 4, 2, 9, 3, 1, 1, 7, 5, 5, 9, 9, 0, 4, 6, 7, 6, 4, 5, 0, 0, 2, 1, 5, 4, 8, 7, 7, 0, 6, 4, 2, 8, 2, 8, 1, 6, 2, 9, 4, 6, 1, 9, 0, 4, 0, 3, 4, 1, 3, 5, 2, 4, 2, 6, 3, 6, 2, 4, 7, 7, 9, 8, 7, 1, 4, 1, 0, 7, 3, 6, 5, 1, 8, 5, 3, 7, 6, 9, 4, 5, 1, 1, 5, 4, 2, 8, 2, 8, 5, 8, 4, 8, 1, 5, 3, 7, 5, 8, 0, 4, 3, 2, 2, 4, 8, 8, 2, 1, 3, 7, 6, 2, 3, 3, 9, 8, 9, 1, 7, 9, 1, 4, 8, 2, 2, 9, 8, 2, 0, 4, 4, 4, 0, 3, 7, 8, 4, 8, 1, 9, 3, 8, 1, 8, 0, 9, 4, 8, 8, 5, 7, 5, 2, 8, 3, 7, 5, 8, 7, 8, 3, 3, 5, 7, 4, 9, 0, 4, 7, 5, 4, 9, 1, 9, 9, 9, 7, 7, 4, 3, 1, 2, 6, 2, 7, 0, 7, 6, 6, 0, 3, 9, 8, 2, 6, 7, 7, 9, 4, 9, 1, 4, 1, 3, 4, 0, 9, 0, 0, 7, 4, 4, 9, 7, 2, 6, 9, 5, 9, 3, 0, 0, 4, 7, 6, 5, 9, 2, 2, 7, 4, 6, 2, 8, 5, 1, 1, 1, 2, 5, 9, 0, 3, 4, 8, 5, 8, 7, 5, 1, 1, 0, 7, 1, 9, 4, 2, 9, 2, 2, 7, 4, 0, 8, 1, 0, 6, 0, 0, 2, 5, 9, 4, 4, 7, 0, 0, 7, 1, 6, 8, 4, 1, 4, 6, 7, 4, 8, 7, 3, 1, 0, 7, 5, 6, 6, 9, 8, 8, 6, 1, 8, 3, 3, 7, 0, 0, 6, 3, 8, 8, 6, 8, 0, 2, 0, 3, 8, 5, 7, 0, 5, 8, 2, 6, 4, 5, 9, 1, 1, 7, 8, 6, 2, 6, 7, 5, 0, 4, 8, 2, 0, 2, 1, 2, 8, 8, 9, 0, 3, 0, 3, 6, 7, 3, 3, 8, 2, 1, 9, 8, 4, 9, 0, 1, 3, 2, 0, 0, 6, 9, 7, 6, 3, 1, 0, 6, 3, 5, 2, 1, 1, 9, 0, 8, 4, 1, 0, 9, 8, 3, 7, 2, 9, 3, 2, 0, 8, 4, 5, 3, 1, 7, 7, 8, 1, 3, 4, 0, 5, 9, 9, 0, 7, 4, 9, 5, 4, 4, 8, 5, 6, 1, 2, 0, 0, 9, 7, 9, 6, 6, 9, 8, 8, 3, 1, 6, 0, 2, 6, 2, 5, 4, 7, 5, 6, 6, 0, 3, 7, 7, 4, 7, 8, 2, 4, 0, 0, 9, 8, 4, 9, 1, 2, 6, 0, 9, 9, 5, 7, 0, 8, 6, 2, 2, 9, 5, 5, 9, 9, 3, 4, 1, 7, 7, 7, 0, 4, 8, 4, 4, 3, 2, 5, 6, 5, 8, 3, 1, 6, 6, 5, 7, 3, 6, 1, 6, 0, 6, 9, 0, 8, 2, 5, 5, 2, 1, 1, 2, 7, 1, 8, 4, 5, 0, 1, 4, 6, 8, 3, 1, 5, 9, 8, 0, 3, 4, 9, 3, 7, 0, 6, 1, 7, 6, 1, 1, 3, 8, 0, 9, 4, 9, 1, 7, 1, 5, 5, 4, 7, 8, 5, 3, 5, 0, 4, 0, 8, 8, 6, 1, 5, 9, 7, 5, 3, 5, 9, 1, 3, 2, 8, 4, 6, 4, 3, 4, 6, 0, 3, 2, 7, 5, 5, 3, 8, 8, 1, 3, 4, 0, 9, 6, 5, 3, 9, 2, 1, 0, 3, 5, 4, 5, 2, 9, 7, 2, 6, 2, 4, 8, 2, 7, 0, 4, 7, 4, 1, 4, 0, 5, 9, 7, 5, 9, 1, 0, 2, 3, 6, 9, 5, 6, 0, 2, 4, 9, 7, 9, 3, 5, 2, 7, 0, 0, 1, 0, 9, 4, 9, 6, 4, 8, 4, 8, 6, 6, 0, 0, 9, 4, 3, 0, 4, 1, 4, 9, 5, 4, 9, 1, 7, 7, 1, 3, 9, 4, 1, 4, 8, 5, 9, 2, 0, 7, 5, 8, 5, 9, 2, 6, 0, 6, 1, 2, 3, 7, 2, 9, 5, 4, 0, 9, 7, 0, 2, 3, 9, 9, 3, 1, 8, 9, 3, 8, 3, 8, 9, 7, 6, 2, 0, 4, 2, 5, 7, 2, 1, 0, 6, 8, 4, 1, 8, 1, 4, 3, 1, 1, 0, 9, 1, 9, 7, 5, 0, 8, 6, 9, 4, 7, 8, 0, 5, 0, 2, 1, 5, 1, 4, 3, 1, 0, 4, 1, 7, 1, 5, 4, 8, 3, 5, 1, 2, 1, 0, 4, 5, 8, 6, 4, 5, 1, 6, 4, 3, 8, 7, 6, 7, 8, 1, 2, 2, 9, 2, 9, 1, 0, 0, 6, 3, 7, 8, 5, 6, 9, 1, 7, 8, 2, 6, 5, 9, 9, 4, 6, 7, 4, 4, 6, 6, 7, 6, 3, 6, 6, 9, 2, 4, 0, 3, 4, 8, 7, 8, 7, 0, 5, 8, 7, 7, 4, 2, 0, 7, 4, 7, 3, 9, 3, 8, 2, 5, 3, 1, 3, 0, 8, 4, 9, 1, 3, 4, 1, 0, 5, 6, 3, 0, 4, 4, 6, 7, 7, 3, 6, 3, 5, 5, 8, 3, 0, 9, 4, 2, 4, 4, 7, 6, 8, 7, 3, 0, 6, 8, 7, 2, 3, 0, 8, 0, 8, 2, 3, 8, 7, 6, 8, 1, 5, 2, 7, 4, 9, 7, 2, 1, 3, 6, 7, 9, 0, 1, 4, 6, 5, 7, 5, 6, 0, 2, 4, 5, 9, 3, 8, 3, 7, 3, 0, 4, 5, 0, 0, 4, 6, 0, 9, 1, 0, 8, 7, 0, 1, 4, 6, 4, 8, 2, 6, 7, 4, 6, 7, 5, 1, 8, 2, 5, 4, 3, 4, 9, 5, 9, 4, 7, 9, 9, 0, 9, 1, 3, 6, 3, 4, 9, 7, 0, 3, 5, 8, 9, 9, 6, 3, 6, 1, 6, 6, 3, 2, 3, 2, 4, 7, 8, 1, 3, 7, 3, 0, 4, 2, 5, 6, 3, 3, 6, 0, 7, 3, 4, 7, 3, 7, 8, 5, 5, 2, 8, 4, 3, 9, 7, 2, 0, 8, 2, 4, 9, 1, 1, 3, 9, 8, 8, 4, 6, 8, 5, 1, 7, 8, 0, 8, 8, 7, 7, 2, 0, 2, 5, 4, 2, 8, 9, 2, 4, 7, 8, 7, 2, 7, 9, 2, 7, 8, 3, 6, 7, 8, 2, 5, 6, 8, 3, 0, 8, 6, 6, 6, 4, 9, 9, 9, 4, 0, 7, 7, 2, 2, 6, 8, 8, 8, 5, 4, 2, 5, 7, 4, 9, 9, 7, 0, 5, 1, 3, 2, 6, 2, 1, 7, 5, 8, 2, 8, 6, 5, 8, 0, 2, 5, 0, 9, 5, 8, 6, 2, 4, 0, 6, 8, 2, 5, 3, 5, 1, 9, 7, 1, 6, 8, 3, 7, 4, 0, 2, 5, 0, 8, 2, 9, 6, 2, 4, 9, 1, 8, 9, 0, 8, 5, 3, 6, 4, 0, 2, 5, 4, 0, 0, 8, 3, 9, 3, 6, 4, 3, 0, 0, 1, 7, 4, 3, 1, 4, 1, 3, 3, 0, 6, 0, 4, 9, 3, 0, 5, 5, 5, 4, 8, 7, 9, 2, 9, 0, 2, 3, 8, 4, 1, 2, 7, 4, 5, 3, 5, 7, 4, 2, 6, 5, 0, 2, 9, 8, 2, 2, 9, 8, 5, 9, 7, 9, 2, 1, 5, 0, 1, 0, 4, 4, 0, 7, 0, 1, 2, 2, 1, 7, 0, 6, 3, 3, 7, 9, 2, 5, 9, 9, 0, 9, 9, 5, 1, 4, 6, 7, 9, 5, 2, 6, 3, 5, 1, 7, 2, 1, 7, 1, 2, 3, 4, 3, 9, 9, 6, 9, 6, 9, 5, 3, 2, 1, 0, 4, 2, 3, 2, 3, 4, 2, 0, 7, 1, 8, 3, 0, 2, 9, 5, 9, 5, 8, 6, 3, 1, 5, 3, 8, 4, 4, 3, 2, 8, 3, 8, 7, 3, 1, 4, 9, 8, 6, 1, 6, 4, 5, 7, 0, 0, 7, 6, 7, 4, 6, 7, 7, 3, 9, 9, 0, 8, 3, 8, 5, 0, 1, 5, 1, 4, 5, 6, 6, 5, 6, 0, 1, 7, 0, 1, 0, 4, 7, 8, 5, 0, 0, 4, 2, 6, 3, 3, 9, 0, 7, 3, 2, 2, 7, 8, 3, 4, 0, 1, 5, 9, 3, 5, 9, 6, 0, 6, 2, 5, 0, 3, 2, 6, 1, 4, 9, 9, 3, 1, 5, 2, 3, 3, 1, 3, 2, 5, 6, 2, 8, 8, 8, 0, 4, 8, 2, 4, 0, 4, 1, 6, 6, 2, 2, 9, 3, 3, 7, 8, 6, 6, 0, 9, 8, 6, 9, 3, 9, 7, 4, 9, 8, 0, 3, 0, 9, 4, 3, 7, 3, 0, 4, 6, 6, 1, 5, 8, 3, 1, 9, 7, 2, 3, 3, 4, 3, 7, 6, 7, 7, 8, 1, 4, 7, 4, 8, 0, 3, 2, 7, 8, 3, 0, 1, 6, 3, 2, 1, 4, 1, 9, 5, 9, 7, 9, 7, 8, 7, 1, 9, 7, 7, 8, 2, 2, 6, 2, 0, 2, 7, 4, 4, 4, 9, 9, 5, 2, 5, 7, 1, 4, 6, 9, 3, 6, 8, 6, 5, 1, 6, 0, 6, 4, 1, 0, 8, 7, 4, 6, 1, 8, 1, 8, 7, 3, 1, 8, 3, 1, 2, 7, 5, 3, 2, 3, 5, 1, 0, 5, 6, 1, 1, 3, 1, 6, 6, 3, 4, 9, 4, 9, 3, 6, 9, 2, 4, 3, 3, 3, 5, 5, 8, 7, 4, 2, 0, 8, 4, 9, 3, 5, 7, 3, 6, 4, 0, 1, 2, 6, 4, 9, 8, 9, 5, 9, 1, 2, 2, 7, 1, 6, 9, 1, 3, 1, 5, 0, 4, 7, 6, 5, 3, 2, 5, 6, 9, 5, 6, 7, 8, 1, 1, 1, 8, 8, 8, 5, 5, 8, 8, 7, 4, 0, 8, 8, 2, 7, 4, 2, 7, 5, 2, 4, 1, 4, 6, 1, 7, 0, 6, 2, 8, 6, 7, 6, 2, 9, 6, 9, 8, 2, 9, 3, 0, 2, 1, 9, 7, 1, 0, 3, 3, 0, 7, 9, 2, 7, 5, 3, 5, 2, 2, 1, 9, 6, 1, 5, 6, 8, 4, 0, 2, 6, 3, 7, 6, 3, 0, 9, 2, 9, 4, 4, 0, 9, 5, 3, 8, 8, 4, 5, 6, 0, 1, 7, 6, 9, 9, 5, 0, 4, 8, 9, 2, 0, 7, 3, 7, 6, 9, 9, 1, 2, 0, 2, 4, 2, 9, 8, 0, 5, 2, 3, 0, 4, 5, 6, 4, 9, 0, 4, 7, 3, 1, 8, 5, 8, 3, 2, 4, 4, 0, 1, 7, 9, 5, 7, 0, 2, 0, 4, 8, 1, 7, 3, 7, 6, 0, 5, 2, 8, 9, 6, 1, 2, 4, 7, 4, 1, 5, 9, 0, 2, 1, 1, 7, 7, 4, 1, 6, 4, 0, 0, 5, 8, 2, 8, 0, 5, 8, 9, 1, 5, 8, 2, 9, 5, 4, 5, 7, 4, 0, 6, 3, 9, 9, 9, 5, 6, 3, 3, 9, 1, 6, 2, 2, 3, 9, 3, 9, 0, 9, 5, 7, 9, 9, 7, 9, 2, 7, 0, 6, 9, 1, 1, 2, 6, 8, 3, 7, 7, 2, 6, 5, 9, 7, 0, 5, 1, 8, 6, 6, 6, 5, 5, 1, 8, 0, 9, 8, 1, 7, 4, 8, 6, 7, 3, 9, 2, 3, 4, 2, 9, 2, 5, 0, 0, 2, 5, 1, 4, 1, 0, 1, 7, 0, 3, 1, 2, 5, 5, 2, 6, 4, 7, 9, 6, 4, 4, 9, 0, 9, 4, 4, 9, 3, 6, 1, 7, 9, 4, 8, 9, 1, 8, 0, 2, 0, 9, 3, 6, 8, 8, 4, 0, 9, 5, 2, 9, 0, 0, 6, 4, 7, 9, 7, 3, 0, 3, 9, 9, 7, 6, 7, 1, 4, 1, 8, 4, 9, 2, 9, 3, 2, 6, 5, 4, 8, 6, 5, 1, 3, 2, 4, 3, 4, 8, 0, 0, 7, 2, 1, 5, 8, 7, 7, 5, 4, 3, 2, 7, 1, 1, 0, 5, 1, 4, 0, 4, 3, 5, 8, 0, 5, 9, 7, 2, 8, 6, 9, 2, 2, 3, 0, 5, 2, 3, 0, 2, 8, 0, 0, 3, 1, 9, 2, 8, 8, 5, 0, 2, 4, 3, 9, 8, 5, 3, 3, 5, 0, 2, 7, 4, 0, 1, 1, 8, 3, 6, 7, 3, 0, 2, 2, 3, 8, 5, 2, 5, 2, 4, 8, 1, 1, 0, 1, 4, 9, 6, 9, 4, 1, 5, 1, 0, 5, 8, 8, 3, 3, 6, 0, 2, 2, 9, 0, 0, 8, 2, 3, 0, 8, 7, 9, 7, 3, 8, 9, 5, 4, 1, 8, 2, 8, 3, 2, 2, 5, 2, 8, 3, 4, 1, 1, 2, 8, 8, 1, 7, 7, 7, 4, 4, 0, 9, 5, 4, 2, 5, 5, 7, 0, 5, 8, 2, 7, 5, 3, 8, 1, 4, 3, 5, 7, 2, 7, 2, 1, 5, 8, 9, 1, 2, 4, 0, 6, 9, 0, 8, 0, 0, 7, 1, 5, 4, 8, 3, 0, 1, 0, 8, 0, 5, 5, 7, 2, 5, 3, 1, 3, 7, 7, 9, 1, 4, 9, 0, 1, 5, 4, 9, 8, 7, 4, 9, 0, 8, 3, 1, 0, 7, 9, 0, 6, 7, 5, 9, 4, 0, 2, 0, 2, 8, 4, 9, 7, 0, 3, 2, 4, 5, 5, 5, 0, 0, 6, 4, 0, 4, 7, 4, 9, 6, 7, 5, 0, 0, 8, 5, 0, 4, 9, 4, 4, 7, 9, 5, 9, 6, 1, 9, 1, 2, 7, 5, 8, 3, 4, 1, 0, 0, 7, 5, 6, 6, 5, 7, 2, 4, 5, 3, 0, 0, 4, 7, 3, 8, 3, 0, 8, 5, 8, 7, 1, 4, 6, 0, 6, 8, 4, 4, 2, 1, 9, 5, 0, 3, 1, 5, 5, 3, 2, 6, 2, 7, 1, 3, 5, 0, 2, 8, 7, 3, 1, 1, 9, 9, 8, 0, 3, 6, 3, 2, 6, 2, 9, 0, 7, 0, 0, 0, 5, 8, 1, 0, 9, 5, 1, 8, 9, 9, 5, 7, 0, 6, 6, 9, 1, 9, 1, 1, 6, 2, 7, 6, 1, 1, 7, 0, 7, 1, 6, 9, 2, 1, 7, 7, 8, 9, 2, 8, 1, 6, 8, 8, 9, 6, 2, 8, 8, 0, 1, 6, 2, 4, 7, 9, 4, 5, 7, 6, 4, 4, 0, 3, 0, 8, 9, 0, 8, 3, 5, 5, 1, 6, 7, 6, 2, 9, 5, 6, 3, 7, 6, 6, 0, 7, 4, 4, 2, 0, 0, 8, 6, 6, 3, 5, 5, 6, 6, 5, 8, 4, 5, 1, 1, 9, 6, 1, 6, 3, 6, 9, 8, 5, 9, 6, 9, 1, 8, 5, 3, 4, 5, 6, 9, 0, 4, 9, 1, 5, 0, 8, 1, 8, 3, 4, 5, 2, 8, 4, 0, 0, 1, 3, 2, 9, 8, 8, 2, 4, 0, 0, 1, 4, 6, 3, 9, 6, 0, 9, 8, 5, 1, 9, 6, 1, 3, 5, 3, 6, 8, 5, 8, 5, 1, 9, 3, 8, 1, 9, 5, 7, 8, 2, 2, 1, 2, 0, 4, 7, 8, 1, 5, 7, 6, 9, 9, 5, 5, 6, 6, 3, 7, 9, 7, 9, 1, 7, 1, 6, 7, 4, 6, 3, 0, 9, 8, 5, 6, 7, 6, 3, 1, 3, 6, 2, 2, 2, 6, 8, 4, 2, 4, 8, 8, 3, 0, 9, 6, 3, 2, 2, 0, 3, 5, 7, 1, 6, 7, 7, 1, 2, 8, 4, 8, 5, 6, 2, 5, 8, 3, 7, 5, 3, 4, 0, 7, 0, 8, 5, 4, 8, 9, 1, 2, 3, 2, 9, 2, 5, 1, 3, 8, 4, 1, 3, 2, 0, 5, 2, 7, 9, 2, 9, 1, 3, 5, 6, 2, 8, 9, 1, 1, 1, 2, 6, 7, 5, 4, 9, 6, 2, 9, 2, 4, 2, 4, 9, 7, 6, 3, 1, 3, 8, 5, 2, 7, 8, 4, 9, 8, 0, 4, 9, 7, 4, 6, 3, 6, 5, 4, 1, 4, 8, 7, 0, 2, 8, 3, 9, 6, 2, 9, 0, 4, 7, 1, 8, 0, 2, 9, 3, 0, 6, 7, 3, 3, 7, 4, 9, 4, 1, 2, 1, 5, 8, 3, 1, 9, 2, 9, 6, 6, 1, 1, 7, 0, 7, 8, 4, 4, 9, 6, 5, 9, 2, 6, 5, 5, 8, 9, 0, 8, 9, 4, 8, 4, 7, 8, 4, 9, 6, 3, 9, 3, 1, 4, 6, 0, 6, 4, 1, 2, 5, 8, 5, 1, 8, 4, 1, 3, 9, 9, 4, 8, 3, 1, 6, 7, 2, 5, 5, 2, 4, 5, 4, 6, 2, 6, 8, 5, 0, 8, 9, 9, 7, 1, 2, 3, 1, 5, 3, 8, 9, 9, 2, 8, 1, 2, 7, 7, 2, 7, 5, 7, 6, 2, 3, 9, 7, 1, 0, 3, 3, 4, 3, 1, 7, 4, 2, 0, 8, 7, 0, 6, 0, 9, 2, 9, 6, 5, 5, 0, 9, 7, 5, 4, 5, 5, 6, 4, 5, 6, 7, 3, 3, 9, 3, 0, 0, 0, 5, 9, 6, 6, 8, 9, 0, 9, 4, 1, 2, 8, 3, 4, 2, 9, 6, 9, 2, 1, 6, 6, 3, 5, 4, 2, 8, 1, 1, 3, 3, 9, 6, 1, 9, 6, 0, 7, 9, 2, 0, 3, 4, 9, 1, 9, 6, 2, 0, 6, 8, 0, 7, 6, 2, 1, 5, 5, 2, 9, 6, 6, 3, 9, 7, 5, 1, 8, 0, 9, 1, 1, 8, 2, 4, 2, 8, 6, 8, 0, 0, 3, 3, 7, 6, 1, 6, 0, 5, 3, 9, 7, 1, 8, 7, 4, 7, 9, 7, 9, 2, 7, 9, 7, 0, 7, 0, 0, 7, 1, 4, 2, 9, 5, 5, 0, 4, 0, 8, 7, 4, 8, 3, 7, 3, 9, 6, 3, 3, 6, 1, 7, 9, 8, 0, 4, 6, 2, 5, 0, 2, 6, 1, 6, 9, 0, 0, 5, 6, 7, 6, 3, 5, 0, 6, 5, 4, 4, 6, 6, 0, 3, 2, 4, 8, 8, 5, 1, 9, 2, 1, 8, 9, 4, 3, 3, 7, 6, 9, 8, 8, 7, 3, 8, 5, 2, 6, 4, 5, 7, 6, 9, 7, 9, 0, 0, 3, 0, 8, 5, 1, 4, 8, 3, 4, 9, 5, 7, 9, 0, 8, 6, 3, 5, 3, 5, 9, 2, 9, 3, 5, 5, 5, 6, 2, 2, 3, 6, 0, 0, 1, 1, 8, 8, 4, 6, 4, 5, 7, 0, 1, 8, 9, 2, 5, 9, 7, 0, 7, 4, 7, 9, 1, 6, 1, 9, 9, 8, 7, 3, 4, 9, 7, 3, 8, 4, 2, 8, 8, 9, 1, 8, 8, 3, 6, 8, 9, 3, 0, 0, 8, 4, 6, 9, 3, 3, 3, 8, 9, 7, 7, 0, 7, 3, 9, 8, 1, 2, 6, 9, 4, 0, 0, 3, 8, 7, 9, 6, 8, 9, 3, 0, 0, 5, 6, 2, 2, 7, 7, 9, 9, 3, 3, 2, 7, 3, 7, 1, 4, 9, 3, 3, 0, 4, 0, 1, 9, 1, 8, 6, 3, 2, 5, 4, 6, 5, 9, 2, 2, 5, 5, 6, 6, 7, 7, 4, 0, 4, 8, 9, 7, 0, 9, 1, 4, 3, 5, 0, 3, 8, 6, 3, 1, 4, 5, 8, 2, 2, 5, 3, 0, 7, 6, 5, 4, 6, 8, 2, 7, 4, 3, 2, 1, 0, 0, 9, 5, 6, 7, 2, 7, 8, 2, 0, 5, 0, 9, 8, 4, 6, 2, 7, 1, 6, 5, 9, 3, 0, 7, 4, 1, 6, 6, 0, 3, 2, 5, 8, 3, 9, 4, 2, 4, 6, 4, 6, 1, 3, 8, 1, 1, 5, 4, 3, 5, 5, 2, 8, 5, 5, 9, 6, 7, 1, 5, 6, 8, 1, 9, 0, 7, 4, 5, 4, 3, 6, 6, 5, 2, 1, 6, 2, 7, 1, 0, 6, 4, 4, 6, 8, 2, 3, 5, 2, 2, 9, 9, 1, 4, 4, 4, 9, 3, 1, 7, 4, 6, 9, 7, 8, 6, 4, 7, 7, 0, 6, 6, 5, 4, 8, 2, 7, 3, 9, 6, 4, 0, 7, 7, 6, 3, 4, 0, 7, 8, 3, 0, 7, 2, 5, 9, 5, 8, 8, 4, 7, 5, 8, 2, 4, 5, 9, 8, 9, 1, 8, 8, 6, 9, 1, 8, 5, 9, 0, 6, 0, 1, 4, 4, 9, 5, 7, 9, 7, 5, 9, 4, 3, 1, 3, 0, 7, 9, 6, 2, 4, 0, 5, 6, 2, 8, 0, 2, 1, 6, 6, 1, 9, 9, 5, 9, 5, 1, 4, 2, 6, 4, 4, 7, 2, 4, 4, 0, 2, 4, 0, 8, 1, 5, 4, 5, 0, 6, 8, 3, 4, 1, 9, 6, 2, 1, 6, 2, 2, 1, 0, 0, 7, 6, 1, 1, 7, 0, 5, 5, 9, 6, 5, 3, 3, 0, 6, 8, 4, 9, 4, 7, 5, 2, 8, 1, 5, 4, 4, 8, 0, 6, 9, 8, 9, 5, 0, 9, 4, 7, 3, 8, 5, 4, 8, 4, 2, 6, 1, 3, 9, 8, 8, 4, 6, 9, 2, 7, 7, 4, 0, 4, 9, 9, 0, 4, 7, 1, 6, 2, 6, 5, 0, 8, 3, 6, 1, 7, 0, 2, 6, 8, 3, 2, 4, 3, 7, 4, 9, 1, 2, 8, 1, 3, 3, 9, 5, 2, 3, 2, 3, 7, 7, 2, 7, 9, 6, 4, 5, 4, 0, 6, 6, 7, 7, 0, 4, 3, 9, 7, 5, 9, 5, 3, 6, 4, 6, 2, 7, 3, 6, 7, 4, 3, 2, 3, 7, 2, 1, 2, 6, 0, 3, 3, 9, 6, 4, 0, 5, 7, 2, 7, 8, 2, 0, 3, 4, 8, 0, 0, 7, 4, 8, 3, 0, 2, 6, 2, 2, 3, 1, 3, 0, 9, 1, 7, 2, 6, 3, 4, 0, 9, 6, 6, 3, 8, 5, 5, 3, 8, 9, 5, 1, 1, 3, 3, 9, 6, 3, 5, 9, 2, 2, 3, 5, 7, 9, 8, 2, 7, 9, 3, 8, 6, 3, 0, 8, 6, 4, 0, 2, 6, 0, 6, 3, 8, 7, 5, 3, 6, 8, 3, 6, 6, 9, 4, 2, 0, 5, 9, 3, 9, 0, 5, 3, 4, 3, 7, 8, 6, 3, 8, 6, 7, 3, 0, 0, 1, 5, 5, 5, 8, 9, 1, 2, 2, 0, 9, 0, 2, 2, 3, 9, 2, 9, 4, 0, 1, 7, 6, 5, 2, 8, 8, 4, 2, 8, 3, 2, 1, 4, 3, 6, 9, 4, 1, 0, 8, 1, 0, 0, 4, 2, 3, 7, 9, 8, 6, 7, 4, 4, 9, 3, 5, 8, 6, 3, 5, 9, 5, 5, 1, 2, 8, 8, 6, 2, 8, 4, 3, 2, 0, 2, 4, 2, 3, 8, 0, 2, 4, 9, 7, 4, 7, 8, 4, 3, 6, 6, 8, 2, 8, 4, 9, 8, 4, 3, 3, 3, 9, 2, 2, 7, 7, 2, 2, 8, 4, 5, 1, 4, 3, 3, 3, 9, 6, 1, 2, 6, 5, 9, 0, 4, 4, 0, 5, 4, 1, 3, 4, 2, 9, 1, 2, 3, 9, 4, 5, 3, 2, 4, 1, 3, 4, 8, 9, 1, 1, 6, 9, 6, 1, 6, 8, 0, 8, 1, 8, 0, 1, 2, 0, 0, 0, 8, 7, 9, 6, 5, 7, 6, 8, 6, 1, 4, 9, 5, 7, 8, 8, 2, 5, 0, 3, 4, 3, 4, 4, 5, 5, 5, 1, 6, 7, 1, 2, 9, 7, 4, 7, 3, 6, 4, 4, 7, 5, 2, 3, 4, 1, 4, 8, 7, 4, 6, 5, 3, 8, 8, 5, 3, 6, 1, 2, 7, 0, 7, 4, 5, 9, 0, 4, 6, 7, 9, 8, 0, 7, 5, 1, 6, 0, 1, 1, 8, 6, 2, 8, 1, 9, 8, 6, 0, 9, 4, 8, 3, 7, 1, 3, 9, 6, 2, 1, 5, 4, 4, 3, 9, 7, 9, 5, 5, 1, 7, 9, 3, 9, 1, 1, 0, 9, 5, 9, 3, 3, 9, 1, 5, 2, 7, 8, 8, 9, 2, 1, 6, 8, 0, 1, 5, 8, 1, 0, 0, 3, 4, 8, 2, 8, 1, 2, 5, 1, 8, 2, 8, 9, 6, 1, 5, 0, 7, 9, 9, 2, 6, 7, 8, 8, 9, 4, 3, 2, 8, 8, 1, 0, 3, 5, 8, 4, 7, 9, 4, 5, 4, 4, 6, 1, 0, 4, 0, 0, 2, 9, 5, 8, 9, 8, 4, 8, 3, 8, 0, 1, 4, 5, 2, 2, 1, 2, 0, 5, 5, 1, 5, 6, 3, 7, 8, 4, 7, 9, 1, 8, 8, 0, 5, 6, 8, 7, 1, 4, 2, 1, 6, 9, 9, 0, 0, 7, 0, 2, 8, 5, 2, 1, 4, 8, 1, 4, 4, 3, 3, 1, 7, 2, 3, 8, 5, 2, 9, 5, 6, 5, 5, 6, 2, 2, 0, 3, 5, 4, 9, 0, 5, 7, 9, 2, 9, 1, 7, 6, 9, 0, 7, 8, 8, 9, 0, 5, 9, 8, 3, 9, 6, 0, 8, 6, 0, 7, 8, 4, 5, 7, 1, 9, 2, 1, 5, 8, 1, 2, 9, 1, 7, 5, 9, 6, 9, 1, 8, 7, 1, 2, 8, 3, 8, 2, 7, 6, 3, 1, 5, 8, 5, 4, 5, 6, 5, 9, 5, 1, 7, 7, 9, 3, 6, 9, 6, 0, 2, 0, 6, 0, 2, 0, 4, 7, 9, 0, 4, 5, 4, 8, 6, 8, 3, 6, 6, 7, 2, 5, 4, 5, 6, 6, 0, 2, 5, 5, 5, 4, 1, 0, 6, 8, 0, 2, 8, 3, 0, 9, 7, 9, 7, 3, 4, 8, 2, 7, 0, 2, 8, 4, 9, 3, 1, 6, 1, 0, 8, 0, 1, 0, 5, 9, 1, 6, 0, 4, 5, 8, 8, 8, 0, 0, 9, 6, 9, 3, 6, 9, 5, 6, 9, 1, 7, 1, 1, 7, 1, 0, 9, 2, 4, 7, 3, 9, 9, 7, 2, 9, 7, 5, 8, 5, 2, 8, 0, 9, 0, 7, 6, 2, 4, 1, 8, 4, 9, 9, 9, 6, 0, 1, 7, 8, 3, 6, 8, 5, 5, 1, 1, 3, 9, 4, 1, 7, 0, 0, 0, 0, 6, 2, 2, 5, 4, 8, 3, 3, 5, 8, 0, 2, 0, 0, 4, 4, 5, 8, 1, 8, 7, 4, 2, 0, 0, 6, 1, 5, 6, 5, 7, 9, 2, 1, 7, 7, 4, 0, 1, 0, 1, 5, 5, 8, 1, 1, 2, 9, 1, 8, 1, 9, 1, 2, 4, 7, 9, 5, 9, 7, 7, 4, 3, 5, 1, 0, 2, 5, 4, 3, 4, 2, 2, 2, 6, 1, 3, 9, 6, 4, 4, 2, 4, 5, 5, 9, 6, 0, 0, 1, 0, 6, 2, 0, 1, 4, 3, 9, 5, 1, 9, 4, 2, 7, 6, 0, 3, 5, 3, 1, 9, 3, 8, 3, 6, 5, 3, 4, 0, 3, 6, 1, 7, 5, 0, 0, 9, 6, 0, 0, 7, 9, 5, 5, 4, 7, 3, 6, 8, 0, 9, 6, 7, 0, 9, 0, 8, 6, 0, 5, 4, 3, 5, 4, 4, 3, 8, 0, 7, 0, 7, 1, 4, 2, 2, 9, 7, 9, 5, 2, 4, 3, 6, 1, 4, 9, 9, 5, 2, 6, 2, 4, 2, 3, 0, 0, 0, 0, 1, 6, 7, 8, 0, 1, 8, 7, 6, 9, 5, 4, 1, 5, 8, 1, 3, 3, 3, 1, 0, 2, 4, 1, 1, 4, 5, 9, 0, 3, 0, 5, 0, 5, 3, 9, 3, 5, 9, 7, 1, 3, 9, 6, 7, 9, 3, 7, 7, 0, 1, 8, 1, 2, 0, 0, 8, 0, 2, 1, 7, 7, 8, 0, 7, 4, 4, 9, 4, 4, 9, 5, 9, 7, 6, 7, 0, 3, 9, 0, 6, 2, 9, 7, 3, 1, 9, 2, 5, 3, 6, 2, 5, 3, 1, 3, 4, 4, 9, 0, 4, 7, 5, 5, 4, 7, 9, 5, 2, 8, 7, 4, 1, 8, 6, 3, 9, 0, 6, 8, 3, 0, 9, 9, 6, 3, 0, 2, 3, 4, 3, 0, 4, 4, 5, 7, 8, 7, 2, 9, 5, 9, 6, 7, 4, 7, 6, 6, 5, 4, 1, 8, 6, 1, 7, 5, 6, 1, 5, 9, 8, 9, 9, 1, 2, 9, 7, 0, 5, 7, 1, 2, 1, 4, 7, 0, 0, 8, 9, 6, 0, 2, 7, 0, 5, 0, 1, 4, 5, 7, 0, 7, 7, 8, 7, 5, 8, 4, 0, 3, 6, 6, 4, 7, 1, 3, 9, 7, 5, 8, 5, 0, 6, 0, 2, 7, 7, 6, 6, 4, 9, 4, 2, 0, 1, 7, 4, 8, 3, 6, 6, 3, 5, 8, 1, 3, 4, 2, 8, 5, 2, 2, 3, 2, 8, 5, 2, 8, 1, 8, 7, 9, 7, 6, 9, 9, 4, 5, 9, 5, 3, 4, 6, 9, 1, 5, 6, 4, 6, 9, 8, 2, 4, 0, 4, 9, 4, 1, 9, 1, 4, 2, 9, 4, 2, 1, 1, 4, 6, 3, 6, 2, 2, 9, 4, 6, 9, 3, 8, 5, 3, 4, 2, 2, 6, 5, 8, 4, 9, 8, 2, 5, 9, 8, 2, 9, 0, 3, 6, 7, 1, 7, 5, 4, 8, 4, 2, 1, 5, 0, 1, 7, 5, 9, 7, 8, 7, 5, 1, 5, 4, 9, 8, 6, 3, 7, 1, 3, 2, 8, 1, 4, 3, 4, 7, 0, 9, 8, 5, 3]\n",
            "Preds: [8, 1, 3, 3, 3, 4, 0, 0, 6, 5, 8, 2, 7, 5, 6, 9, 5, 7, 0, 9, 1, 5, 8, 9, 6, 7, 0, 3, 3, 8, 4, 4, 0, 8, 3, 3, 2, 0, 6, 1, 5, 3, 7, 3, 6, 0, 2, 6, 2, 0, 3, 0, 1, 6, 1, 8, 3, 7, 4, 4, 6, 8, 1, 3, 3, 2, 0, 9, 5, 9, 3, 7, 3, 8, 1, 1, 7, 2, 2, 3, 3, 2, 9, 8, 9, 9, 2, 6, 2, 9, 2, 7, 0, 9, 0, 7, 8, 5, 4, 0, 0, 9, 1, 7, 3, 5, 0, 5, 7, 4, 2, 8, 3, 6, 1, 6, 8, 0, 7, 2, 7, 4, 0, 2, 1, 3, 6, 4, 7, 6, 6, 5, 0, 9, 5, 0, 5, 5, 1, 7, 4, 7, 3, 5, 8, 9, 6, 7, 1, 9, 7, 2, 8, 6, 1, 9, 1, 9, 3, 9, 5, 7, 4, 0, 2, 1, 3, 6, 5, 2, 1, 9, 1, 0, 9, 6, 2, 0, 8, 4, 2, 4, 4, 6, 3, 1, 1, 5, 8, 7, 4, 3, 2, 3, 2, 3, 1, 4, 4, 5, 4, 0, 7, 6, 3, 4, 6, 7, 0, 5, 0, 9, 4, 4, 7, 1, 1, 0, 3, 3, 4, 4, 4, 7, 3, 1, 9, 1, 8, 1, 8, 8, 6, 0, 8, 6, 5, 5, 6, 0, 4, 3, 9, 6, 2, 8, 5, 5, 0, 7, 3, 6, 1, 2, 0, 7, 6, 7, 0, 2, 4, 2, 6, 0, 2, 7, 8, 3, 3, 1, 1, 4, 3, 2, 2, 8, 9, 8, 2, 5, 1, 2, 0, 8, 0, 4, 0, 9, 5, 5, 7, 8, 1, 9, 0, 3, 5, 0, 8, 8, 4, 0, 0, 0, 0, 8, 5, 0, 4, 7, 6, 9, 1, 3, 9, 1, 1, 4, 2, 7, 4, 4, 3, 7, 8, 2, 2, 0, 8, 5, 0, 2, 5, 0, 0, 0, 9, 0, 2, 7, 0, 3, 1, 8, 4, 5, 9, 0, 1, 0, 4, 3, 8, 2, 2, 7, 1, 3, 7, 2, 5, 2, 4, 8, 7, 9, 1, 5, 2, 2, 3, 3, 3, 4, 2, 2, 2, 1, 2, 0, 8, 3, 5, 0, 5, 5, 6, 4, 8, 6, 6, 6, 4, 2, 4, 4, 7, 9, 4, 8, 2, 8, 9, 7, 7, 1, 6, 1, 3, 0, 1, 6, 4, 5, 8, 7, 0, 4, 8, 7, 4, 2, 0, 1, 7, 9, 0, 7, 9, 7, 0, 0, 0, 2, 2, 5, 5, 4, 4, 2, 4, 6, 2, 2, 8, 4, 1, 4, 0, 5, 1, 7, 3, 3, 2, 3, 2, 1, 1, 4, 2, 0, 5, 8, 2, 5, 3, 9, 9, 4, 3, 5, 4, 5, 1, 7, 4, 1, 7, 2, 3, 4, 7, 6, 5, 9, 5, 5, 5, 2, 5, 7, 4, 6, 5, 4, 3, 2, 2, 8, 3, 7, 1, 7, 4, 3, 6, 3, 1, 6, 8, 5, 2, 5, 6, 6, 8, 3, 4, 9, 3, 5, 8, 1, 8, 8, 3, 1, 3, 5, 6, 8, 4, 4, 9, 0, 1, 0, 3, 4, 7, 9, 1, 3, 3, 8, 7, 7, 1, 3, 8, 5, 0, 3, 1, 3, 5, 9, 0, 1, 0, 6, 8, 9, 0, 7, 3, 7, 2, 3, 7, 2, 0, 1, 8, 6, 3, 7, 8, 4, 0, 2, 7, 6, 3, 5, 3, 6, 3, 3, 8, 9, 3, 3, 1, 1, 7, 0, 4, 9, 2, 3, 9, 4, 7, 4, 4, 1, 2, 1, 4, 8, 7, 3, 4, 2, 3, 7, 8, 7, 1, 6, 8, 3, 8, 4, 7, 6, 0, 6, 3, 8, 2, 2, 2, 6, 4, 3, 8, 4, 5, 2, 9, 9, 9, 3, 6, 2, 5, 7, 1, 7, 5, 3, 0, 9, 4, 4, 5, 6, 6, 9, 6, 5, 9, 3, 5, 2, 7, 8, 9, 9, 6, 2, 0, 8, 7, 9, 0, 0, 9, 7, 3, 3, 0, 3, 5, 5, 2, 3, 9, 5, 1, 6, 8, 6, 2, 8, 9, 1, 1, 5, 0, 2, 0, 9, 9, 5, 4, 7, 8, 4, 7, 0, 4, 9, 8, 1, 2, 1, 4, 8, 2, 1, 4, 9, 0, 4, 1, 4, 5, 1, 1, 1, 7, 4, 7, 5, 9, 5, 6, 8, 3, 7, 3, 0, 5, 5, 9, 1, 7, 5, 1, 4, 3, 2, 5, 8, 1, 4, 6, 3, 8, 4, 8, 9, 3, 8, 5, 9, 9, 9, 1, 5, 5, 1, 7, 3, 2, 6, 6, 7, 4, 1, 9, 6, 8, 5, 3, 3, 7, 0, 6, 7, 0, 7, 6, 4, 4, 4, 2, 0, 6, 1, 5, 7, 1, 2, 6, 6, 1, 6, 0, 6, 7, 3, 2, 7, 8, 3, 1, 2, 4, 7, 4, 5, 1, 8, 3, 7, 9, 8, 9, 6, 3, 9, 4, 5, 9, 3, 5, 9, 5, 1, 8, 3, 8, 2, 1, 7, 9, 2, 1, 6, 4, 9, 8, 5, 3, 4, 2, 5, 8, 0, 3, 2, 2, 8, 8, 4, 8, 6, 6, 6, 5, 8, 2, 4, 1, 2, 9, 9, 2, 8, 6, 4, 8, 4, 6, 0, 4, 9, 4, 3, 1, 3, 1, 9, 2, 2, 2, 8, 7, 4, 1, 4, 1, 0, 2, 2, 0, 3, 4, 9, 1, 6, 0, 7, 2, 2, 4, 2, 0, 3, 9, 5, 1, 3, 5, 2, 2, 5, 5, 9, 5, 0, 9, 6, 7, 4, 9, 6, 6, 7, 4, 8, 2, 5, 6, 5, 7, 2, 8, 6, 0, 9, 3, 4, 9, 5, 3, 9, 6, 0, 0, 5, 1, 2, 2, 0, 9, 0, 9, 1, 6, 7, 8, 7, 8, 3, 5, 7, 6, 2, 3, 8, 2, 8, 8, 2, 1, 1, 9, 7, 8, 7, 9, 4, 6, 7, 0, 5, 9, 6, 7, 1, 7, 5, 2, 8, 8, 0, 7, 5, 3, 2, 7, 4, 3, 2, 1, 4, 6, 8, 4, 0, 7, 5, 0, 6, 5, 7, 3, 2, 8, 4, 1, 8, 6, 4, 7, 1, 9, 1, 0, 5, 1, 8, 0, 5, 8, 2, 1, 5, 2, 7, 7, 9, 4, 5, 3, 3, 8, 0, 4, 2, 8, 9, 3, 0, 3, 1, 1, 0, 1, 1, 7, 8, 3, 6, 8, 7, 4, 3, 4, 9, 6, 8, 2, 4, 5, 0, 2, 0, 8, 4, 0, 0, 8, 3, 2, 9, 8, 8, 9, 7, 2, 6, 7, 2, 3, 9, 0, 3, 8, 0, 0, 1, 2, 0, 1, 7, 5, 6, 6, 1, 4, 7, 8, 6, 3, 7, 6, 3, 8, 2, 8, 4, 9, 9, 0, 4, 6, 5, 1, 4, 4, 9, 4, 4, 4, 5, 7, 2, 4, 9, 1, 3, 2, 4, 8, 3, 4, 9, 2, 5, 2, 2, 8, 9, 3, 5, 2, 6, 1, 7, 6, 0, 1, 1, 3, 5, 1, 5, 5, 3, 2, 6, 1, 4, 7, 2, 8, 9, 8, 0, 7, 2, 8, 6, 0, 4, 5, 3, 7, 5, 9, 6, 8, 2, 1, 3, 7, 7, 8, 4, 0, 8, 0, 2, 3, 0, 3, 9, 9, 4, 9, 4, 0, 3, 7, 0, 3, 5, 3, 0, 2, 3, 4, 4, 5, 4, 8, 0, 6, 7, 3, 0, 3, 6, 7, 9, 0, 6, 8, 1, 1, 2, 8, 8, 1, 2, 9, 5, 9, 9, 8, 9, 8, 9, 1, 2, 2, 0, 6, 2, 3, 3, 3, 8, 8, 5, 6, 8, 6, 3, 4, 5, 1, 4, 8, 5, 6, 9, 2, 9, 5, 5, 1, 3, 6, 9, 4, 7, 6, 8, 5, 5, 2, 5, 8, 3, 4, 9, 3, 1, 1, 1, 3, 3, 2, 3, 3, 3, 4, 7, 9, 5, 5, 2, 1, 5, 7, 4, 8, 4, 4, 6, 3, 3, 8, 6, 5, 2, 7, 7, 3, 0, 6, 4, 5, 6, 1, 6, 1, 6, 4, 1, 1, 7, 4, 2, 2, 7, 3, 0, 5, 5, 8, 2, 5, 2, 4, 7, 7, 2, 9, 9, 3, 2, 4, 0, 4, 6, 3, 5, 5, 6, 2, 6, 5, 4, 9, 3, 6, 5, 1, 2, 5, 2, 1, 3, 4, 6, 9, 2, 5, 3, 3, 1, 2, 5, 5, 4, 5, 8, 3, 4, 7, 7, 5, 8, 9, 5, 0, 0, 4, 9, 4, 7, 3, 2, 4, 1, 9, 8, 4, 6, 8, 6, 1, 0, 0, 5, 1, 3, 7, 4, 5, 8, 5, 9, 1, 5, 5, 6, 7, 6, 4, 8, 9, 3, 3, 4, 4, 5, 2, 0, 0, 1, 6, 8, 1, 3, 0, 1, 9, 7, 5, 7, 4, 7, 3, 3, 8, 4, 4, 3, 2, 9, 1, 7, 6, 7, 6, 5, 4, 6, 9, 6, 7, 4, 0, 0, 4, 4, 4, 0, 5, 0, 8, 7, 7, 0, 9, 9, 4, 4, 8, 9, 7, 5, 5, 7, 0, 4, 3, 7, 9, 5, 0, 6, 2, 1, 1, 9, 1, 3, 4, 5, 4, 0, 8, 9, 4, 0, 4, 6, 8, 9, 1, 9, 7, 8, 5, 3, 5, 5, 4, 5, 9, 3, 5, 0, 3, 6, 7, 9, 8, 6, 2, 7, 5, 7, 4, 9, 3, 6, 0, 5, 7, 6, 3, 2, 6, 4, 1, 4, 4, 7, 1, 9, 4, 3, 9, 6, 1, 4, 8, 1, 6, 7, 5, 8, 4, 9, 9, 5, 7, 0, 4, 1, 7, 9, 1, 9, 9, 0, 4, 0, 0, 5, 4, 6, 9, 9, 3, 3, 1, 9, 2, 6, 6, 1, 3, 4, 2, 9, 7, 2, 1, 4, 9, 6, 8, 5, 8, 6, 5, 4, 5, 4, 6, 4, 1, 8, 1, 5, 0, 1, 0, 4, 9, 7, 9, 9, 2, 7, 0, 4, 5, 9, 5, 3, 3, 0, 9, 8, 0, 7, 9, 3, 1, 9, 8, 5, 8, 2, 5, 9, 0, 6, 6, 9, 6, 9, 8, 0, 8, 8, 2, 5, 6, 8, 0, 4, 9, 6, 8, 9, 5, 6, 2, 9, 2, 1, 3, 1, 9, 5, 0, 3, 0, 6, 4, 0, 5, 8, 0, 7, 7, 3, 1, 5, 2, 3, 6, 5, 2, 1, 0, 8, 9, 0, 1, 0, 2, 8, 0, 1, 7, 0, 8, 4, 9, 1, 0, 9, 3, 1, 1, 5, 7, 1, 0, 8, 2, 0, 5, 2, 3, 2, 3, 5, 2, 1, 3, 4, 6, 9, 2, 0, 0, 3, 7, 4, 1, 3, 2, 4, 0, 8, 2, 2, 0, 2, 0, 3, 4, 8, 7, 0, 3, 0, 0, 3, 5, 7, 5, 2, 2, 7, 3, 8, 7, 8, 9, 0, 2, 5, 9, 3, 0, 8, 3, 1, 4, 2, 2, 1, 1, 4, 1, 7, 6, 4, 2, 2, 9, 8, 5, 4, 2, 0, 0, 4, 2, 1, 9, 3, 4, 8, 1, 3, 4, 7, 3, 5, 3, 8, 4, 7, 0, 1, 0, 2, 5, 7, 6, 2, 4, 0, 0, 7, 0, 5, 4, 9, 2, 4, 4, 8, 3, 7, 4, 5, 7, 0, 8, 3, 1, 4, 6, 9, 4, 5, 4, 5, 6, 6, 7, 7, 2, 8, 2, 0, 2, 5, 6, 3, 9, 8, 1, 0, 7, 6, 6, 4, 0, 6, 8, 2, 9, 5, 3, 0, 4, 4, 3, 4, 0, 4, 3, 1, 2, 6, 1, 5, 4, 9, 7, 8, 5, 6, 4, 4, 4, 4, 4, 3, 6, 7, 6, 4, 5, 9, 8, 9, 0, 2, 2, 3, 7, 1, 8, 9, 0, 4, 8, 8, 3, 0, 0, 9, 6, 6, 9, 7, 9, 0, 2, 8, 2, 1, 7, 7, 6, 1, 1, 2, 1, 5, 7, 7, 9, 6, 5, 0, 1, 7, 0, 3, 9, 4, 2, 9, 0, 0, 1, 5, 8, 0, 9, 8, 2, 8, 5, 7, 5, 9, 8, 2, 2, 9, 2, 0, 3, 6, 2, 2, 1, 8, 4, 7, 8, 4, 8, 4, 0, 9, 2, 9, 3, 0, 7, 1, 3, 8, 5, 9, 3, 5, 3, 0, 8, 7, 9, 9, 8, 3, 0, 3, 4, 0, 2, 4, 6, 4, 5, 6, 2, 6, 9, 1, 8, 5, 0, 2, 1, 9, 5, 9, 6, 2, 2, 4, 6, 2, 9, 7, 8, 0, 8, 8, 2, 7, 8, 9, 4, 2, 1, 7, 4, 5, 2, 4, 1, 5, 9, 1, 0, 5, 7, 6, 5, 4, 4, 4, 0, 8, 0, 7, 8, 1, 0, 6, 0, 1, 5, 2, 7, 0, 6, 6, 4, 3, 0, 1, 1, 3, 2, 3, 2, 2, 2, 4, 0, 2, 7, 1, 3, 2, 4, 4, 8, 8, 7, 3, 5, 3, 9, 9, 6, 8, 6, 1, 4, 5, 3, 9, 4, 4, 8, 2, 4, 5, 3, 8, 0, 8, 3, 9, 0, 5, 3, 4, 7, 8, 5, 0, 1, 4, 4, 2, 3, 1, 1, 6, 5, 5, 2, 1, 8, 6, 5, 8, 0, 5, 2, 0, 8, 8, 0, 6, 9, 3, 1, 0, 8, 6, 7, 6, 7, 0, 1, 6, 3, 8, 9, 3, 4, 2, 2, 4, 6, 2, 8, 9, 5, 6, 5, 3, 5, 1, 7, 9, 3, 9, 4, 0, 4, 5, 3, 3, 9, 3, 4, 5, 0, 7, 0, 0, 6, 4, 4, 9, 9, 9, 3, 5, 5, 0, 4, 8, 0, 4, 8, 7, 0, 9, 9, 2, 1, 4, 4, 0, 1, 5, 9, 5, 0, 1, 0, 1, 1, 5, 4, 2, 2, 5, 1, 1, 8, 3, 6, 6, 7, 7, 3, 2, 0, 7, 4, 0, 1, 3, 3, 4, 1, 2, 6, 7, 2, 4, 0, 0, 0, 3, 6, 0, 0, 3, 6, 3, 7, 4, 2, 0, 0, 3, 8, 3, 6, 3, 1, 9, 3, 1, 0, 8, 3, 9, 0, 7, 0, 2, 2, 5, 2, 2, 6, 6, 4, 6, 0, 4, 9, 4, 6, 9, 6, 1, 5, 2, 4, 4, 7, 8, 7, 7, 2, 7, 7, 9, 9, 5, 9, 3, 8, 9, 3, 4, 1, 6, 6, 7, 0, 2, 7, 9, 1, 0, 7, 4, 8, 9, 4, 9, 0, 9, 1, 0, 5, 8, 4, 4, 5, 5, 7, 1, 1, 1, 0, 3, 9, 5, 2, 1, 8, 4, 1, 2, 8, 6, 4, 4, 0, 3, 0, 3, 1, 1, 6, 1, 7, 3, 4, 4, 2, 1, 4, 5, 8, 3, 4, 0, 3, 2, 6, 3, 4, 0, 7, 5, 3, 0, 3, 8, 2, 0, 8, 4, 5, 5, 7, 3, 1, 0, 4, 5, 8, 8, 3, 8, 6, 0, 8, 2, 4, 8, 9, 1, 2, 9, 5, 0, 8, 8, 1, 7, 8, 0, 6, 8, 3, 5, 5, 4, 4, 3, 9, 8, 1, 0, 2, 1, 7, 2, 4, 4, 3, 9, 8, 7, 8, 1, 1, 3, 6, 9, 6, 7, 4, 5, 7, 7, 7, 9, 7, 8, 6, 9, 7, 9, 6, 3, 7, 4, 0, 1, 0, 8, 8, 1, 4, 3, 5, 7, 4, 4, 4, 4, 8, 1, 3, 9, 9, 5, 4, 2, 6, 4, 9, 9, 4, 0, 0, 4, 7, 2, 7, 9, 9, 5, 7, 2, 7, 0, 0, 1, 1, 7, 3, 8, 3, 5, 4, 2, 5, 0, 4, 8, 9, 9, 8, 4, 3, 9, 5, 9, 6, 3, 1, 1, 2, 5, 5, 4, 0, 1, 4, 8, 3, 9, 6, 0, 1, 0, 0, 3, 1, 2, 5, 6, 1, 1, 9, 0, 6, 6, 6, 3, 0, 7, 3, 1, 3, 0, 1, 6, 7, 5, 9, 3, 9, 7, 3, 6, 4, 3, 1, 6, 3, 6, 6, 7, 8, 7, 5, 3, 4, 0, 6, 0, 5, 5, 5, 1, 2, 3, 1, 3, 1, 4, 4, 1, 6, 6, 6, 5, 0, 5, 3, 4, 9, 1, 8, 9, 1, 3, 0, 7, 6, 5, 9, 2, 5, 9, 0, 2, 7, 6, 0, 1, 7, 1, 6, 4, 1, 5, 1, 3, 8, 1, 6, 7, 7, 8, 0, 2, 3, 2, 1, 7, 3, 7, 4, 7, 6, 1, 8, 7, 5, 9, 4, 2, 0, 5, 4, 7, 6, 9, 8, 4, 0, 9, 4, 9, 8, 2, 6, 4, 5, 1, 4, 5, 2, 1, 8, 7, 0, 4, 8, 3, 3, 0, 8, 0, 8, 2, 5, 3, 8, 9, 2, 7, 5, 5, 1, 1, 3, 1, 0, 9, 6, 8, 3, 3, 5, 0, 9, 7, 2, 4, 0, 3, 7, 7, 2, 8, 1, 7, 2, 3, 2, 4, 3, 8, 1, 8, 1, 0, 0, 8, 3, 2, 1, 0, 4, 2, 6, 3, 4, 7, 4, 1, 9, 4, 5, 7, 3, 4, 4, 6, 4, 1, 4, 8, 9, 5, 9, 9, 2, 0, 5, 0, 9, 3, 8, 9, 8, 7, 4, 9, 4, 5, 7, 9, 7, 1, 3, 6, 8, 5, 4, 5, 1, 6, 7, 5, 7, 3, 8, 4, 6, 2, 4, 7, 5, 0, 8, 6, 7, 5, 2, 9, 1, 6, 7, 4, 2, 9, 4, 9, 0, 2, 8, 3, 7, 6, 7, 1, 8, 6, 6, 4, 6, 8, 6, 7, 5, 9, 9, 9, 7, 1, 5, 3, 6, 7, 6, 1, 9, 1, 0, 3, 2, 6, 8, 5, 2, 3, 4, 8, 9, 7, 6, 8, 8, 5, 3, 8, 4, 9, 5, 1, 4, 6, 5, 7, 8, 4, 0, 4, 0, 2, 2, 5, 2, 7, 0, 4, 7, 9, 5, 7, 4, 4, 0, 8, 9, 3, 1, 3, 6, 8, 4, 2, 1, 3, 3, 9, 7, 3, 8, 9, 8, 7, 1, 3, 4, 0, 7, 3, 0, 9, 4, 2, 8, 0, 9, 2, 1, 4, 6, 7, 9, 9, 2, 5, 8, 0, 1, 9, 1, 1, 4, 6, 4, 5, 8, 4, 1, 4, 5, 2, 9, 8, 4, 7, 9, 3, 0, 3, 0, 1, 2, 1, 3, 5, 4, 7, 2, 4, 6, 5, 3, 8, 2, 5, 0, 4, 7, 9, 5, 1, 8, 7, 4, 2, 2, 1, 9, 4, 1, 6, 0, 3, 7, 4, 0, 1, 5, 6, 2, 2, 0, 3, 9, 4, 5, 3, 0, 3, 9, 5, 2, 6, 3, 6, 0, 2, 0, 9, 1, 5, 0, 6, 7, 0, 5, 1, 9, 5, 4, 4, 5, 8, 6, 8, 1, 6, 9, 5, 9, 9, 4, 3, 3, 0, 3, 1, 1, 2, 1, 7, 3, 2, 6, 8, 1, 5, 0, 3, 6, 4, 0, 5, 1, 0, 2, 9, 4, 6, 6, 9, 2, 4, 0, 8, 4, 2, 2, 3, 1, 8, 1, 0, 9, 9, 0, 0, 9, 7, 5, 5, 6, 2, 6, 2, 7, 0, 8, 8, 3, 2, 5, 0, 3, 7, 1, 1, 2, 1, 9, 2, 1, 4, 4, 1, 7, 4, 7, 1, 6, 5, 6, 8, 8, 6, 8, 1, 2, 6, 9, 1, 3, 8, 4, 1, 8, 4, 2, 7, 4, 3, 8, 1, 0, 7, 5, 1, 6, 9, 2, 2, 3, 2, 7, 5, 2, 8, 5, 4, 1, 3, 4, 0, 7, 2, 0, 6, 7, 7, 6, 2, 4, 6, 3, 4, 9, 5, 2, 0, 1, 1, 0, 3, 0, 0, 0, 4, 7, 9, 4, 0, 9, 7, 0, 0, 7, 2, 0, 0, 1, 1, 4, 3, 9, 2, 4, 2, 5, 6, 9, 3, 4, 7, 1, 6, 9, 9, 0, 3, 9, 1, 5, 8, 3, 0, 3, 4, 4, 3, 0, 6, 1, 6, 3, 3, 1, 0, 0, 9, 9, 4, 9, 4, 1, 6, 1, 5, 4, 8, 6, 3, 8, 4, 3, 0, 3, 4, 1, 4, 9, 3, 0, 9, 0, 6, 0, 4, 5, 2, 3, 3, 5, 8, 0, 1, 2, 3, 7, 8, 0, 3, 5, 1, 2, 9, 4, 6, 6, 9, 8, 1, 6, 6, 9, 7, 8, 7, 0, 6, 0, 5, 5, 1, 7, 2, 9, 9, 0, 8, 6, 1, 0, 6, 7, 8, 2, 3, 2, 3, 9, 3, 4, 0, 8, 6, 1, 4, 5, 4, 5, 8, 5, 6, 7, 3, 3, 0, 9, 4, 9, 1, 6, 4, 7, 6, 6, 6, 7, 3, 4, 6, 8, 0, 3, 7, 2, 6, 3, 4, 2, 5, 2, 6, 4, 6, 2, 9, 4, 6, 9, 0, 8, 3, 0, 0, 7, 5, 4, 8, 2, 9, 1, 0, 8, 8, 9, 0, 9, 6, 7, 3, 7, 7, 6, 5, 1, 3, 1, 2, 3, 1, 7, 5, 9, 5, 4, 2, 1, 3, 0, 4, 5, 0, 3, 0, 6, 7, 1, 5, 5, 1, 1, 5, 9, 0, 2, 1, 3, 3, 3, 7, 0, 3, 3, 8, 7, 5, 8, 3, 0, 6, 5, 4, 6, 8, 1, 5, 3, 2, 3, 5, 4, 0, 0, 6, 9, 9, 9, 9, 0, 9, 6, 3, 4, 8, 5, 9, 7, 4, 6, 3, 9, 4, 3, 9, 9, 5, 8, 8, 8, 3, 4, 4, 4, 3, 2, 2, 4, 9, 1, 2, 7, 0, 4, 2, 3, 7, 6, 8, 2, 9, 5, 6, 9, 7, 4, 4, 1, 3, 5, 1, 0, 4, 2, 3, 2, 8, 0, 0, 3, 7, 2, 3, 0, 1, 4, 7, 7, 5, 6, 8, 9, 0, 4, 3, 4, 5, 3, 0, 0, 0, 9, 6, 9, 0, 5, 4, 6, 8, 6, 2, 3, 8, 7, 1, 3, 5, 8, 0, 2, 7, 4, 4, 8, 9, 3, 0, 3, 0, 1, 2, 0, 7, 7, 8, 3, 6, 3, 6, 9, 4, 5, 0, 9, 6, 5, 3, 4, 6, 5, 3, 7, 1, 1, 7, 7, 9, 4, 8, 2, 1, 6, 0, 1, 5, 2, 5, 9, 2, 0, 4, 8, 0, 0, 5, 9, 8, 1, 4, 3, 1, 5, 2, 1, 6, 8, 5, 0, 2, 1, 5, 9, 9, 4, 4, 2, 2, 8, 6, 8, 8, 2, 4, 4, 7, 6, 3, 5, 3, 5, 0, 3, 6, 6, 2, 4, 5, 4, 7, 9, 3, 4, 0, 4, 7, 3, 3, 6, 1, 3, 0, 5, 6, 4, 2, 3, 0, 9, 7, 6, 8, 3, 0, 5, 5, 2, 3, 3, 8, 0, 7, 8, 1, 0, 3, 4, 5, 1, 0, 1, 7, 5, 3, 7, 7, 3, 6, 9, 5, 5, 3, 6, 2, 9, 2, 7, 2, 6, 9, 7, 4, 7, 2, 7, 1, 9, 1, 7, 4, 3, 5, 4, 6, 3, 2, 0, 9, 0, 3, 4, 8, 3, 0, 2, 3, 1, 0, 8, 0, 0, 8, 0, 7, 0, 3, 6, 6, 8, 4, 4, 9, 5, 9, 8, 6, 4, 5, 8, 2, 4, 0, 0, 3, 3, 6, 4, 4, 0, 8, 2, 1, 3, 1, 1, 5, 0, 4, 3, 3, 1, 8, 3, 8, 3, 1, 1, 3, 3, 6, 5, 8, 6, 5, 4, 1, 8, 9, 2, 0, 8, 6, 2, 4, 3, 8, 4, 6, 8, 1, 9, 4, 7, 0, 0, 7, 8, 0, 6, 5, 7, 9, 9, 9, 8, 5, 9, 0, 6, 9, 2, 2, 7, 2, 1, 4, 6, 9, 8, 5, 2, 4, 8, 7, 4, 2, 2, 2, 4, 6, 1, 0, 6, 8, 2, 0, 7, 6, 3, 7, 3, 9, 2, 5, 9, 8, 6, 6, 0, 9, 6, 6, 5, 5, 8, 3, 6, 5, 7, 0, 2, 3, 8, 7, 6, 3, 5, 0, 4, 3, 7, 2, 2, 9, 9, 4, 3, 7, 5, 5, 7, 9, 7, 0, 2, 2, 7, 2, 4, 3, 9, 3, 1, 1, 7, 5, 5, 9, 9, 0, 4, 6, 7, 6, 4, 5, 6, 0, 2, 1, 5, 4, 8, 7, 7, 6, 6, 4, 3, 8, 2, 8, 1, 6, 2, 9, 4, 4, 1, 9, 0, 4, 0, 3, 4, 1, 3, 5, 2, 4, 2, 2, 3, 6, 2, 4, 7, 7, 9, 8, 7, 1, 4, 1, 6, 7, 3, 6, 5, 1, 8, 5, 3, 7, 6, 9, 4, 5, 1, 1, 5, 4, 2, 8, 2, 8, 5, 8, 4, 8, 1, 5, 4, 7, 5, 8, 0, 4, 3, 6, 2, 4, 8, 8, 2, 1, 3, 7, 6, 2, 3, 3, 9, 8, 9, 1, 7, 9, 1, 3, 8, 2, 2, 9, 8, 4, 0, 4, 4, 4, 6, 3, 9, 8, 3, 8, 1, 9, 3, 8, 1, 8, 0, 9, 4, 8, 8, 5, 7, 5, 2, 8, 3, 7, 5, 8, 7, 8, 4, 3, 5, 7, 6, 9, 0, 4, 7, 5, 4, 9, 1, 9, 9, 9, 7, 7, 4, 3, 1, 2, 6, 2, 7, 0, 7, 6, 6, 0, 3, 9, 8, 6, 6, 7, 7, 9, 4, 9, 1, 4, 1, 6, 4, 0, 9, 8, 6, 7, 4, 4, 7, 7, 2, 6, 9, 5, 9, 3, 0, 0, 4, 7, 6, 5, 9, 2, 2, 7, 4, 6, 2, 8, 5, 1, 1, 1, 2, 5, 9, 0, 3, 4, 8, 5, 8, 7, 5, 1, 1, 0, 7, 1, 9, 4, 2, 9, 2, 2, 7, 4, 0, 8, 1, 0, 6, 0, 0, 2, 5, 9, 4, 4, 7, 0, 0, 7, 1, 3, 8, 4, 1, 4, 6, 7, 4, 8, 7, 3, 1, 0, 7, 5, 6, 0, 9, 8, 8, 6, 1, 8, 3, 3, 7, 0, 0, 6, 3, 8, 8, 6, 8, 0, 6, 6, 3, 8, 5, 7, 0, 5, 8, 2, 6, 4, 5, 9, 1, 1, 9, 8, 6, 2, 6, 7, 5, 0, 4, 8, 2, 0, 4, 1, 2, 8, 8, 9, 0, 3, 0, 3, 6, 7, 3, 3, 8, 2, 1, 9, 8, 4, 9, 0, 1, 3, 2, 0, 0, 6, 9, 7, 6, 3, 1, 0, 6, 3, 5, 2, 1, 1, 9, 0, 8, 4, 1, 0, 9, 8, 3, 7, 2, 7, 3, 2, 0, 8, 4, 5, 3, 8, 7, 7, 8, 1, 3, 4, 0, 5, 9, 9, 0, 7, 4, 9, 5, 4, 2, 8, 5, 6, 1, 2, 6, 0, 9, 7, 9, 2, 0, 9, 8, 8, 3, 1, 6, 0, 2, 4, 2, 5, 4, 7, 5, 4, 6, 0, 3, 7, 7, 4, 7, 8, 2, 4, 0, 0, 9, 8, 6, 9, 1, 2, 6, 0, 9, 9, 5, 7, 0, 8, 6, 2, 2, 9, 5, 5, 9, 9, 3, 4, 1, 7, 7, 7, 0, 4, 8, 2, 4, 3, 2, 5, 4, 5, 8, 3, 1, 6, 6, 5, 7, 3, 6, 1, 6, 0, 2, 9, 0, 8, 2, 5, 5, 2, 1, 1, 2, 7, 1, 8, 4, 5, 0, 1, 4, 4, 8, 3, 1, 5, 9, 8, 0, 3, 4, 9, 3, 7, 0, 0, 1, 7, 6, 1, 1, 3, 8, 0, 9, 4, 9, 1, 7, 1, 5, 5, 4, 9, 8, 5, 3, 5, 0, 4, 0, 8, 8, 0, 3, 5, 9, 7, 5, 3, 5, 9, 1, 3, 2, 8, 4, 6, 4, 3, 4, 6, 0, 3, 2, 7, 5, 5, 3, 8, 8, 1, 3, 4, 0, 9, 6, 5, 3, 9, 2, 1, 0, 3, 5, 4, 5, 2, 9, 7, 2, 6, 2, 4, 8, 2, 7, 0, 4, 7, 4, 1, 4, 0, 5, 9, 7, 5, 9, 1, 0, 2, 3, 6, 9, 5, 6, 0, 2, 4, 9, 7, 9, 3, 5, 6, 7, 0, 0, 1, 0, 9, 4, 9, 6, 4, 8, 4, 8, 6, 6, 0, 0, 9, 4, 0, 0, 4, 1, 4, 9, 5, 4, 9, 1, 7, 7, 1, 3, 9, 4, 1, 4, 8, 5, 9, 2, 0, 7, 5, 8, 5, 9, 2, 6, 0, 6, 1, 2, 3, 7, 2, 9, 5, 4, 0, 9, 7, 0, 2, 3, 9, 9, 3, 1, 8, 9, 3, 8, 3, 8, 9, 7, 6, 4, 0, 4, 2, 5, 7, 2, 1, 0, 6, 8, 4, 1, 8, 1, 4, 3, 1, 1, 0, 9, 1, 9, 7, 5, 0, 8, 3, 9, 4, 7, 8, 0, 5, 0, 2, 1, 5, 1, 4, 3, 1, 0, 2, 1, 7, 1, 5, 4, 8, 3, 5, 1, 4, 1, 0, 4, 5, 8, 6, 4, 5, 1, 6, 4, 3, 8, 7, 4, 7, 8, 1, 2, 2, 9, 2, 9, 1, 0, 0, 4, 3, 7, 8, 5, 6, 9, 1, 7, 8, 2, 6, 5, 9, 9, 6, 6, 7, 4, 4, 6, 6, 7, 2, 3, 6, 6, 9, 2, 4, 0, 3, 4, 8, 7, 8, 7, 0, 5, 8, 9, 7, 4, 2, 0, 7, 4, 7, 3, 9, 3, 8, 2, 5, 3, 1, 3, 0, 8, 4, 9, 1, 3, 4, 1, 0, 5, 4, 3, 0, 4, 4, 6, 7, 7, 3, 6, 3, 5, 5, 8, 3, 0, 9, 4, 2, 4, 4, 7, 6, 8, 7, 3, 0, 6, 8, 9, 2, 3, 0, 8, 0, 8, 0, 3, 8, 7, 6, 8, 1, 5, 2, 7, 4, 9, 7, 2, 1, 3, 6, 7, 9, 0, 1, 4, 6, 5, 7, 5, 4, 0, 2, 4, 8, 9, 3, 8, 3, 7, 3, 0, 4, 5, 0, 0, 4, 0, 0, 9, 1, 0, 8, 7, 0, 1, 4, 0, 4, 8, 2, 6, 7, 4, 6, 7, 5, 1, 8, 2, 5, 4, 3, 4, 9, 5, 9, 4, 7, 9, 9, 0, 9, 1, 3, 6, 3, 4, 9, 7, 0, 3, 5, 8, 9, 9, 6, 3, 6, 1, 6, 6, 3, 2, 3, 2, 4, 7, 8, 1, 3, 7, 3, 0, 4, 2, 5, 6, 3, 3, 2, 0, 7, 3, 4, 7, 3, 7, 8, 5, 5, 2, 8, 2, 4, 9, 7, 2, 0, 8, 6, 4, 7, 1, 1, 3, 9, 8, 8, 4, 6, 8, 5, 1, 7, 8, 0, 8, 8, 7, 7, 2, 0, 3, 5, 4, 2, 8, 9, 2, 4, 7, 8, 7, 2, 7, 9, 4, 7, 8, 3, 6, 7, 8, 2, 5, 6, 8, 3, 0, 8, 6, 6, 6, 4, 9, 9, 9, 4, 0, 7, 7, 6, 2, 6, 8, 8, 8, 7, 2, 0, 5, 7, 4, 9, 9, 7, 0, 5, 1, 3, 2, 6, 2, 1, 7, 5, 8, 2, 8, 6, 5, 8, 0, 2, 5, 0, 9, 5, 6, 6, 2, 4, 0, 6, 8, 2, 5, 3, 5, 1, 9, 7, 1, 6, 8, 3, 7, 4, 0, 2, 5, 0, 8, 4, 9, 6, 2, 6, 9, 1, 8, 9, 0, 8, 5, 3, 6, 4, 0, 2, 5, 4, 0, 6, 8, 3, 9, 3, 0, 4, 3, 6, 0, 1, 7, 4, 3, 1, 4, 1, 3, 3, 0, 4, 0, 4, 9, 3, 0, 5, 5, 5, 4, 8, 7, 9, 0, 9, 8, 2, 3, 8, 4, 1, 2, 7, 4, 5, 3, 5, 7, 4, 2, 6, 5, 0, 2, 9, 8, 6, 2, 9, 8, 5, 9, 7, 7, 2, 1, 5, 0, 1, 6, 4, 4, 0, 7, 0, 1, 2, 2, 1, 7, 0, 6, 3, 3, 7, 9, 2, 5, 9, 9, 0, 9, 9, 5, 1, 4, 6, 9, 9, 5, 2, 6, 3, 5, 1, 7, 2, 1, 7, 1, 2, 3, 4, 3, 9, 9, 6, 9, 4, 9, 5, 3, 2, 1, 0, 4, 2, 3, 6, 3, 4, 2, 0, 7, 1, 8, 3, 0, 2, 9, 5, 9, 5, 8, 0, 3, 1, 5, 3, 8, 4, 4, 3, 2, 8, 3, 8, 7, 3, 1, 4, 9, 8, 0, 1, 4, 4, 5, 7, 0, 6, 7, 6, 7, 4, 6, 7, 7, 3, 9, 9, 0, 8, 3, 8, 5, 0, 1, 5, 1, 4, 5, 2, 6, 5, 6, 0, 1, 7, 0, 1, 0, 4, 7, 8, 5, 8, 0, 4, 2, 6, 3, 3, 9, 0, 7, 3, 2, 0, 7, 8, 4, 4, 0, 1, 5, 9, 3, 5, 9, 6, 0, 6, 2, 5, 0, 3, 2, 6, 1, 4, 9, 9, 3, 1, 5, 2, 3, 4, 1, 3, 6, 5, 0, 2, 8, 8, 8, 0, 4, 8, 2, 4, 0, 4, 1, 0, 4, 2, 2, 9, 3, 3, 7, 8, 6, 6, 0, 9, 8, 6, 9, 3, 9, 7, 4, 9, 8, 0, 3, 6, 9, 4, 3, 7, 4, 0, 4, 6, 0, 1, 5, 8, 3, 1, 7, 7, 2, 3, 3, 4, 3, 7, 6, 7, 7, 8, 1, 4, 7, 4, 8, 0, 3, 4, 7, 8, 3, 0, 1, 0, 3, 2, 1, 4, 1, 9, 5, 7, 7, 9, 7, 8, 7, 1, 9, 7, 7, 8, 2, 4, 6, 2, 0, 6, 7, 4, 6, 4, 9, 9, 5, 2, 5, 7, 1, 4, 6, 9, 3, 2, 8, 0, 5, 1, 6, 0, 6, 4, 1, 0, 8, 7, 4, 6, 1, 8, 1, 8, 7, 3, 1, 8, 3, 1, 2, 7, 5, 3, 3, 3, 5, 1, 0, 5, 2, 1, 1, 3, 1, 6, 0, 3, 4, 9, 2, 9, 3, 0, 9, 2, 4, 3, 3, 3, 5, 5, 8, 7, 4, 2, 0, 8, 6, 9, 6, 5, 7, 3, 6, 4, 0, 1, 6, 6, 4, 9, 8, 9, 5, 9, 1, 2, 0, 9, 1, 6, 9, 1, 3, 1, 5, 0, 4, 7, 6, 5, 3, 2, 5, 6, 9, 5, 6, 7, 8, 1, 3, 1, 8, 8, 8, 5, 5, 8, 8, 7, 4, 0, 8, 8, 2, 7, 6, 2, 7, 5, 2, 4, 1, 4, 6, 1, 7, 0, 4, 2, 8, 6, 7, 2, 2, 9, 6, 9, 8, 2, 9, 3, 0, 2, 1, 9, 7, 1, 0, 3, 3, 0, 7, 9, 4, 7, 5, 3, 5, 2, 2, 1, 9, 6, 1, 5, 6, 8, 4, 0, 0, 4, 3, 7, 6, 3, 0, 9, 2, 7, 4, 4, 0, 9, 5, 3, 8, 8, 4, 5, 6, 0, 1, 7, 6, 9, 9, 5, 0, 4, 8, 9, 2, 6, 7, 3, 9, 6, 7, 9, 1, 2, 0, 2, 4, 2, 9, 8, 0, 5, 0, 3, 0, 4, 5, 2, 4, 9, 0, 4, 7, 3, 1, 8, 5, 8, 6, 2, 4, 2, 0, 1, 7, 9, 5, 7, 0, 2, 0, 4, 8, 1, 7, 3, 7, 3, 6, 5, 2, 8, 9, 6, 1, 2, 2, 9, 4, 1, 5, 9, 0, 2, 1, 1, 7, 7, 4, 1, 6, 4, 0, 0, 5, 8, 2, 8, 0, 5, 8, 9, 1, 5, 8, 2, 9, 5, 4, 5, 7, 4, 0, 2, 3, 9, 9, 9, 7, 4, 3, 2, 9, 1, 6, 2, 2, 3, 9, 3, 9, 6, 9, 5, 7, 9, 9, 7, 9, 2, 7, 0, 6, 7, 1, 1, 2, 6, 8, 3, 7, 7, 4, 6, 5, 9, 7, 0, 5, 1, 8, 4, 6, 6, 5, 5, 1, 8, 0, 9, 8, 1, 7, 4, 8, 6, 7, 3, 9, 2, 0, 4, 2, 9, 2, 5, 0, 0, 2, 5, 1, 4, 1, 0, 1, 9, 0, 3, 1, 2, 5, 5, 2, 6, 4, 7, 9, 6, 4, 4, 9, 0, 9, 4, 2, 9, 3, 6, 1, 7, 9, 6, 8, 9, 1, 8, 0, 2, 0, 9, 3, 6, 8, 8, 4, 0, 9, 5, 2, 9, 0, 0, 6, 4, 7, 9, 7, 3, 0, 3, 9, 9, 7, 6, 7, 1, 4, 1, 8, 4, 9, 2, 9, 3, 2, 6, 5, 4, 8, 6, 5, 1, 4, 2, 4, 3, 4, 8, 0, 0, 7, 8, 1, 5, 8, 7, 7, 5, 4, 3, 2, 7, 1, 1, 0, 5, 1, 4, 0, 3, 3, 5, 8, 0, 5, 9, 7, 2, 8, 6, 9, 2, 2, 3, 0, 5, 2, 3, 0, 2, 8, 0, 0, 3, 1, 9, 2, 8, 8, 5, 0, 2, 3, 3, 9, 8, 5, 3, 3, 5, 0, 4, 7, 3, 0, 1, 1, 8, 3, 6, 7, 3, 0, 2, 2, 3, 8, 5, 4, 5, 2, 4, 8, 1, 1, 0, 1, 4, 9, 6, 9, 4, 1, 5, 1, 0, 5, 8, 8, 3, 3, 6, 0, 2, 2, 9, 0, 0, 8, 2, 3, 3, 8, 7, 9, 7, 0, 8, 9, 5, 4, 1, 8, 2, 8, 3, 4, 2, 5, 2, 8, 3, 3, 1, 1, 2, 8, 8, 1, 7, 7, 7, 4, 4, 0, 9, 5, 4, 2, 5, 5, 7, 0, 5, 8, 2, 7, 5, 3, 8, 1, 4, 3, 5, 7, 2, 7, 2, 1, 5, 8, 9, 1, 2, 4, 8, 6, 9, 0, 8, 0, 0, 7, 1, 5, 6, 8, 3, 0, 1, 0, 8, 0, 5, 5, 7, 2, 5, 3, 1, 3, 7, 7, 9, 1, 4, 9, 0, 1, 9, 4, 9, 8, 7, 4, 9, 6, 8, 3, 1, 0, 7, 9, 6, 6, 7, 5, 9, 4, 0, 4, 0, 2, 8, 6, 9, 7, 0, 3, 2, 4, 5, 5, 5, 0, 6, 6, 4, 0, 4, 7, 4, 9, 3, 7, 5, 0, 0, 8, 5, 0, 4, 9, 4, 4, 7, 7, 5, 9, 6, 1, 9, 1, 6, 7, 5, 8, 3, 4, 1, 0, 0, 7, 5, 0, 6, 5, 7, 2, 4, 5, 3, 0, 0, 4, 7, 3, 8, 3, 0, 8, 5, 8, 9, 1, 4, 0, 0, 0, 8, 4, 4, 2, 1, 9, 5, 3, 3, 1, 5, 5, 3, 2, 0, 2, 7, 1, 3, 5, 0, 2, 8, 7, 3, 1, 4, 9, 9, 8, 6, 3, 6, 3, 2, 6, 4, 9, 6, 7, 0, 0, 0, 5, 8, 1, 0, 9, 5, 1, 8, 9, 9, 5, 7, 0, 4, 6, 9, 1, 9, 1, 1, 6, 2, 7, 2, 1, 1, 7, 0, 7, 1, 6, 7, 0, 1, 7, 7, 8, 9, 2, 8, 1, 6, 8, 8, 9, 6, 2, 8, 8, 0, 1, 6, 2, 2, 7, 9, 4, 5, 7, 6, 8, 4, 0, 3, 0, 8, 9, 0, 8, 3, 5, 5, 3, 0, 7, 6, 2, 9, 5, 6, 3, 7, 6, 6, 0, 7, 4, 4, 2, 0, 0, 8, 6, 6, 3, 7, 5, 6, 6, 5, 8, 4, 5, 1, 1, 9, 4, 1, 0, 3, 6, 9, 8, 5, 9, 6, 9, 1, 8, 5, 3, 4, 5, 6, 9, 0, 4, 9, 1, 5, 0, 8, 1, 8, 3, 4, 5, 2, 8, 4, 0, 0, 1, 3, 2, 5, 8, 8, 2, 4, 3, 0, 1, 4, 6, 3, 9, 6, 0, 9, 8, 5, 1, 9, 4, 1, 3, 5, 3, 6, 8, 5, 8, 5, 1, 9, 6, 8, 1, 9, 5, 7, 8, 2, 2, 1, 2, 0, 4, 7, 8, 1, 5, 7, 6, 9, 9, 5, 5, 6, 2, 3, 7, 9, 7, 9, 1, 7, 1, 6, 7, 4, 0, 3, 0, 9, 8, 5, 0, 9, 3, 3, 1, 3, 6, 4, 2, 2, 0, 8, 4, 2, 4, 0, 8, 4, 0, 9, 6, 3, 2, 2, 0, 3, 5, 7, 1, 6, 7, 9, 1, 2, 8, 4, 8, 5, 4, 2, 5, 8, 3, 7, 5, 3, 4, 0, 7, 0, 8, 5, 4, 8, 9, 1, 2, 3, 2, 9, 2, 5, 1, 3, 8, 4, 1, 3, 2, 0, 5, 2, 7, 9, 2, 9, 1, 3, 5, 6, 2, 8, 9, 1, 1, 1, 2, 2, 7, 5, 4, 9, 6, 2, 9, 2, 4, 2, 4, 9, 7, 6, 3, 1, 3, 8, 5, 4, 7, 8, 6, 9, 8, 0, 4, 9, 7, 4, 6, 3, 6, 5, 4, 1, 4, 8, 7, 3, 2, 8, 3, 9, 6, 6, 9, 0, 3, 7, 1, 8, 0, 2, 9, 3, 0, 6, 9, 3, 3, 7, 4, 9, 4, 1, 2, 1, 5, 8, 3, 1, 9, 2, 9, 6, 6, 1, 1, 7, 0, 7, 8, 4, 4, 9, 3, 5, 9, 2, 0, 5, 5, 8, 9, 0, 8, 9, 4, 8, 2, 7, 8, 4, 9, 2, 3, 9, 1, 1, 4, 6, 0, 6, 4, 1, 2, 5, 6, 5, 1, 8, 4, 1, 3, 9, 9, 4, 8, 3, 1, 3, 7, 2, 5, 5, 4, 4, 5, 4, 6, 2, 6, 8, 5, 0, 8, 9, 9, 7, 1, 2, 3, 1, 5, 3, 8, 9, 9, 2, 8, 1, 2, 7, 7, 2, 7, 5, 7, 6, 2, 3, 9, 7, 1, 0, 3, 3, 2, 3, 1, 7, 4, 2, 6, 8, 7, 0, 0, 0, 9, 0, 9, 0, 5, 5, 2, 9, 7, 5, 4, 5, 5, 6, 4, 5, 6, 7, 3, 3, 9, 3, 0, 0, 0, 5, 9, 4, 3, 8, 9, 0, 7, 4, 1, 2, 8, 3, 4, 2, 9, 2, 9, 0, 1, 6, 6, 3, 5, 4, 2, 8, 1, 1, 3, 3, 9, 4, 1, 9, 6, 0, 7, 9, 2, 3, 3, 4, 7, 1, 9, 6, 2, 0, 4, 8, 0, 9, 6, 2, 1, 5, 9, 2, 9, 6, 6, 3, 9, 7, 5, 1, 8, 0, 9, 1, 1, 8, 2, 4, 2, 8, 0, 8, 6, 6, 3, 6, 7, 6, 1, 6, 0, 5, 3, 9, 7, 1, 8, 7, 4, 7, 9, 7, 9, 2, 7, 7, 7, 0, 7, 0, 0, 7, 1, 4, 6, 9, 5, 5, 0, 4, 0, 8, 7, 4, 8, 3, 7, 3, 9, 6, 3, 3, 6, 1, 7, 9, 8, 0, 4, 6, 2, 5, 0, 2, 4, 1, 6, 9, 0, 0, 5, 4, 9, 6, 3, 5, 0, 6, 5, 4, 4, 0, 6, 0, 3, 2, 8, 8, 8, 5, 1, 9, 6, 1, 8, 9, 2, 3, 3, 7, 6, 9, 8, 8, 7, 3, 8, 5, 2, 6, 4, 5, 7, 6, 9, 7, 9, 3, 0, 3, 6, 8, 5, 1, 4, 8, 3, 4, 9, 5, 7, 9, 0, 8, 0, 3, 7, 3, 5, 9, 2, 9, 3, 5, 5, 5, 6, 2, 2, 3, 3, 0, 0, 1, 1, 8, 8, 4, 6, 4, 5, 7, 0, 1, 8, 9, 2, 5, 9, 7, 6, 7, 4, 7, 9, 6, 6, 1, 9, 9, 8, 7, 3, 4, 9, 7, 4, 8, 4, 2, 8, 8, 9, 1, 8, 8, 4, 6, 8, 9, 3, 0, 0, 8, 4, 6, 9, 3, 3, 6, 8, 9, 7, 7, 0, 7, 3, 9, 8, 1, 2, 6, 9, 4, 0, 0, 3, 8, 7, 9, 0, 8, 9, 3, 0, 0, 5, 6, 2, 2, 7, 7, 9, 9, 3, 3, 2, 7, 3, 7, 1, 4, 7, 3, 3, 0, 4, 0, 1, 9, 1, 8, 2, 3, 2, 5, 4, 6, 5, 9, 2, 4, 5, 5, 6, 0, 7, 9, 4, 0, 4, 8, 9, 7, 0, 9, 1, 4, 3, 5, 6, 3, 8, 8, 3, 1, 4, 5, 8, 2, 2, 5, 3, 0, 7, 6, 5, 4, 0, 8, 2, 7, 4, 3, 2, 1, 6, 6, 9, 5, 6, 7, 2, 7, 8, 4, 0, 5, 0, 9, 8, 4, 6, 4, 7, 1, 6, 5, 9, 3, 0, 7, 4, 1, 6, 6, 0, 3, 4, 5, 8, 3, 9, 4, 2, 4, 2, 4, 6, 1, 3, 8, 1, 1, 5, 6, 3, 5, 5, 2, 8, 5, 5, 9, 6, 7, 1, 5, 0, 8, 1, 9, 0, 7, 4, 5, 4, 3, 6, 6, 5, 2, 1, 6, 4, 7, 1, 0, 0, 4, 4, 4, 8, 4, 3, 5, 2, 2, 9, 9, 1, 4, 4, 4, 9, 3, 1, 7, 4, 6, 9, 7, 8, 4, 4, 7, 9, 0, 6, 4, 5, 4, 8, 6, 7, 3, 9, 6, 4, 0, 7, 7, 6, 3, 4, 0, 7, 8, 3, 0, 7, 2, 5, 9, 5, 8, 8, 4, 7, 5, 8, 2, 4, 5, 9, 8, 9, 1, 8, 8, 6, 9, 1, 8, 5, 9, 0, 6, 6, 1, 4, 4, 9, 5, 7, 9, 7, 5, 9, 4, 3, 1, 3, 0, 7, 9, 6, 2, 4, 0, 5, 6, 2, 8, 0, 2, 1, 6, 6, 1, 9, 9, 5, 9, 5, 1, 4, 3, 6, 4, 4, 7, 2, 4, 4, 0, 8, 4, 0, 8, 1, 5, 4, 5, 0, 6, 8, 3, 4, 1, 9, 6, 2, 1, 6, 6, 2, 1, 0, 0, 7, 6, 8, 1, 7, 0, 5, 5, 9, 6, 5, 3, 3, 0, 6, 8, 4, 7, 4, 7, 5, 2, 8, 8, 5, 4, 4, 8, 0, 6, 9, 4, 9, 5, 0, 9, 4, 7, 3, 8, 5, 4, 8, 4, 2, 6, 1, 3, 9, 8, 8, 4, 0, 9, 2, 7, 7, 4, 0, 4, 9, 9, 2, 4, 7, 1, 6, 2, 4, 5, 0, 8, 3, 3, 1, 7, 0, 2, 6, 8, 3, 2, 6, 4, 7, 6, 9, 1, 2, 8, 1, 3, 3, 9, 5, 2, 3, 4, 3, 7, 7, 2, 7, 9, 6, 4, 5, 4, 3, 6, 6, 7, 7, 0, 4, 3, 9, 7, 5, 9, 5, 3, 6, 4, 0, 2, 7, 3, 6, 7, 4, 3, 2, 3, 7, 2, 1, 2, 6, 0, 3, 3, 9, 6, 4, 0, 5, 7, 2, 7, 8, 4, 0, 3, 4, 8, 0, 0, 7, 4, 8, 3, 6, 2, 6, 2, 2, 3, 1, 3, 3, 9, 1, 7, 2, 6, 3, 4, 0, 9, 6, 3, 3, 8, 5, 5, 3, 8, 9, 5, 1, 1, 3, 3, 9, 6, 3, 5, 9, 2, 2, 3, 5, 7, 9, 8, 2, 7, 9, 3, 4, 0, 3, 0, 8, 6, 4, 0, 2, 6, 0, 4, 3, 8, 7, 5, 3, 6, 8, 3, 6, 6, 9, 4, 2, 0, 5, 9, 3, 9, 0, 5, 3, 4, 3, 5, 8, 6, 3, 8, 6, 7, 3, 0, 0, 1, 5, 5, 5, 8, 9, 1, 2, 2, 0, 9, 0, 2, 2, 3, 9, 2, 9, 4, 5, 1, 7, 6, 5, 2, 8, 8, 4, 2, 8, 4, 2, 1, 4, 3, 6, 9, 4, 1, 0, 8, 1, 0, 6, 4, 0, 3, 7, 9, 8, 6, 7, 4, 4, 9, 3, 5, 8, 6, 3, 5, 9, 5, 5, 1, 2, 8, 8, 6, 2, 8, 6, 3, 2, 6, 2, 4, 2, 3, 8, 0, 2, 4, 9, 7, 2, 7, 8, 4, 3, 6, 0, 8, 2, 8, 4, 9, 8, 4, 3, 3, 3, 9, 2, 2, 7, 7, 4, 2, 8, 4, 7, 1, 4, 3, 3, 3, 9, 0, 1, 2, 6, 5, 9, 0, 4, 4, 0, 5, 2, 1, 3, 4, 2, 9, 1, 2, 3, 9, 4, 5, 3, 0, 4, 1, 3, 4, 8, 9, 1, 3, 6, 9, 6, 1, 4, 8, 0, 8, 1, 8, 6, 1, 2, 0, 0, 0, 8, 7, 9, 6, 5, 7, 6, 8, 6, 1, 4, 9, 5, 7, 8, 8, 6, 5, 0, 3, 8, 3, 4, 4, 5, 5, 5, 1, 2, 7, 1, 2, 9, 7, 4, 7, 3, 0, 4, 4, 7, 7, 2, 3, 4, 1, 4, 8, 7, 4, 6, 5, 3, 8, 8, 5, 3, 6, 1, 2, 7, 0, 7, 4, 5, 9, 3, 4, 4, 7, 9, 8, 0, 7, 5, 1, 6, 0, 1, 1, 8, 6, 2, 8, 1, 9, 8, 3, 0, 9, 4, 8, 3, 7, 1, 3, 9, 6, 2, 1, 5, 3, 4, 3, 9, 7, 9, 5, 5, 1, 7, 9, 3, 9, 1, 1, 0, 9, 5, 9, 3, 3, 9, 1, 5, 2, 5, 8, 8, 9, 2, 1, 6, 2, 0, 1, 5, 8, 1, 0, 0, 3, 4, 6, 2, 8, 3, 2, 5, 1, 8, 2, 8, 9, 2, 1, 5, 0, 9, 9, 9, 2, 6, 7, 8, 8, 9, 4, 3, 2, 8, 8, 1, 0, 3, 5, 8, 4, 7, 9, 4, 5, 4, 4, 6, 1, 0, 4, 0, 0, 2, 9, 5, 8, 9, 8, 4, 8, 3, 8, 0, 1, 4, 5, 2, 2, 1, 3, 6, 5, 7, 1, 5, 6, 3, 7, 8, 4, 7, 9, 1, 8, 8, 0, 5, 6, 8, 7, 1, 6, 2, 1, 0, 9, 9, 0, 0, 7, 0, 2, 8, 5, 2, 1, 4, 8, 1, 4, 4, 3, 3, 1, 7, 2, 3, 8, 5, 2, 9, 5, 0, 5, 5, 6, 2, 6, 0, 3, 5, 4, 9, 0, 5, 7, 9, 2, 9, 1, 7, 6, 9, 2, 7, 8, 8, 9, 0, 5, 9, 8, 3, 9, 6, 6, 8, 0, 0, 7, 8, 4, 5, 7, 1, 9, 2, 1, 5, 8, 1, 2, 9, 1, 7, 5, 9, 0, 9, 1, 8, 7, 1, 2, 8, 3, 8, 2, 9, 0, 3, 1, 5, 8, 5, 4, 5, 2, 5, 9, 5, 1, 7, 9, 9, 3, 6, 9, 6, 0, 0, 0, 6, 0, 2, 0, 4, 7, 9, 0, 4, 5, 4, 8, 6, 8, 3, 6, 6, 7, 2, 5, 4, 5, 3, 4, 0, 6, 5, 5, 5, 4, 1, 6, 3, 8, 0, 2, 8, 3, 0, 9, 7, 9, 7, 3, 4, 8, 2, 7, 0, 2, 8, 4, 9, 3, 1, 6, 1, 0, 8, 0, 1, 0, 5, 9, 1, 6, 0, 4, 5, 8, 8, 8, 0, 0, 9, 6, 9, 3, 4, 9, 5, 4, 9, 1, 7, 1, 1, 7, 1, 6, 9, 2, 4, 7, 3, 9, 9, 7, 2, 9, 7, 5, 8, 5, 2, 8, 0, 9, 0, 7, 0, 2, 6, 1, 8, 4, 9, 9, 9, 6, 0, 1, 7, 8, 3, 6, 8, 5, 5, 1, 1, 3, 9, 4, 1, 7, 3, 0, 0, 6, 0, 2, 2, 5, 4, 8, 3, 3, 5, 8, 0, 4, 3, 3, 4, 4, 5, 8, 1, 8, 7, 4, 2, 0, 0, 6, 1, 5, 0, 5, 7, 9, 4, 1, 7, 7, 6, 0, 1, 6, 1, 5, 5, 8, 1, 1, 2, 9, 1, 8, 1, 9, 1, 2, 4, 7, 9, 5, 9, 7, 7, 4, 3, 5, 1, 0, 4, 5, 2, 3, 4, 2, 2, 2, 6, 1, 3, 9, 4, 4, 4, 4, 4, 5, 5, 9, 6, 0, 3, 1, 0, 6, 2, 0, 1, 4, 9, 9, 5, 1, 9, 6, 2, 7, 6, 0, 3, 5, 3, 1, 9, 3, 8, 3, 6, 5, 3, 4, 0, 3, 6, 1, 7, 5, 0, 0, 9, 4, 0, 0, 7, 9, 5, 5, 4, 7, 3, 6, 8, 0, 9, 6, 7, 0, 9, 6, 8, 6, 0, 5, 4, 3, 5, 4, 4, 3, 7, 0, 7, 0, 7, 1, 4, 2, 2, 9, 7, 9, 5, 2, 4, 3, 4, 1, 4, 9, 9, 5, 2, 6, 2, 4, 2, 3, 0, 0, 0, 0, 1, 0, 7, 8, 0, 1, 8, 7, 6, 9, 7, 4, 1, 5, 8, 1, 3, 3, 3, 1, 0, 2, 4, 1, 1, 4, 5, 9, 0, 3, 0, 7, 0, 5, 3, 9, 3, 5, 5, 7, 1, 0, 9, 6, 7, 9, 3, 7, 7, 0, 1, 8, 1, 2, 0, 0, 8, 0, 2, 1, 7, 7, 8, 6, 7, 4, 4, 9, 4, 4, 9, 5, 9, 7, 6, 7, 0, 3, 9, 0, 6, 2, 9, 7, 3, 1, 9, 2, 5, 3, 6, 4, 7, 3, 1, 3, 4, 4, 9, 0, 4, 7, 5, 5, 4, 7, 9, 5, 2, 8, 7, 4, 1, 8, 4, 3, 9, 0, 4, 8, 3, 6, 9, 9, 6, 3, 0, 2, 3, 4, 3, 0, 4, 4, 5, 7, 8, 7, 2, 9, 5, 9, 4, 7, 4, 7, 0, 6, 5, 4, 1, 8, 0, 1, 7, 5, 0, 1, 5, 9, 8, 9, 9, 1, 2, 9, 7, 0, 5, 7, 1, 3, 1, 4, 7, 0, 6, 8, 9, 2, 0, 6, 7, 0, 5, 2, 1, 4, 5, 9, 0, 7, 7, 8, 7, 5, 8, 4, 0, 3, 6, 6, 4, 7, 1, 3, 9, 9, 5, 8, 5, 0, 6, 0, 2, 7, 7, 6, 0, 4, 9, 4, 4, 0, 1, 9, 4, 8, 3, 0, 6, 0, 5, 8, 1, 3, 4, 2, 8, 5, 2, 2, 3, 2, 8, 5, 2, 8, 1, 8, 7, 9, 7, 6, 9, 9, 4, 5, 9, 5, 3, 4, 6, 9, 1, 5, 6, 4, 6, 9, 8, 2, 4, 0, 4, 9, 4, 1, 9, 1, 4, 2, 9, 4, 2, 1, 1, 4, 0, 3, 6, 2, 4, 9, 4, 6, 9, 3, 8, 5, 3, 4, 2, 2, 0, 5, 8, 2, 9, 8, 2, 5, 9, 8, 2, 9, 0, 3, 6, 7, 1, 7, 5, 4, 8, 4, 2, 1, 5, 0, 1, 7, 5, 9, 7, 8, 7, 5, 1, 5, 4, 9, 8, 6, 3, 7, 1, 3, 2, 8, 1, 4, 3, 4, 7, 0, 9, 8, 5, 3]\n",
            "\n",
            "\n",
            "testing accuracy : 0.916\t f1_score: 0.915515087693082\n"
          ]
        },
        {
          "output_type": "display_data",
          "data": {
            "text/plain": [
              "<Figure size 288x288 with 2 Axes>"
            ],
            "image/png": "[encoded data removed]"
          },
          "metadata": {
            "needs_background": "light"
          }
        }
      ],
      "source": [
        "\n",
        "load_latest_model(model1, name=\"/content/model.pth\",device=device)\n",
        "test(model1,test_dataloader)"
      ]
    },
    {
      "cell_type": "code",
      "execution_count": null,
      "metadata": {
        "id": "G2T9LNipwpGs"
      },
      "outputs": [],
      "source": [
        "def binary_oversample(data,labels,class_index=1,size = 10000):\n",
        "  labels = labels.numpy()\n",
        "  data = data.numpy().tolist()\n",
        "  labels = np.where(labels==class_index,1,0).tolist()\n",
        "\n",
        "  cls_1 = [i for i,e in enumerate(labels) if e == 1]\n",
        "  cls_2 = [i for i,e in enumerate(labels) if e != 1]\n",
        "  labels2 = []\n",
        "  data2 = []\n",
        "  flag = True\n",
        "  \n",
        "  while(len(labels2)!=size):\n",
        "    if flag:\n",
        "      index = np.random.choice(cls_1)\n",
        "      labels2.append(labels[index])\n",
        "      data2.append(data[index])\n",
        "      flag = False\n",
        "    else:\n",
        "      index = np.random.choice(cls_2)\n",
        "      labels2.append(labels[index])\n",
        "      data2.append(data[index])\n",
        "      flag = True\n",
        "\n",
        "  return np.array(data2),torch.tensor(labels2)"
      ]
    },
    {
      "cell_type": "code",
      "source": [
        "data2,labels2 = binary_oversample(data,labels,class_index=6,size = 10000)"
      ],
      "metadata": {
        "id": "OmAFebj5qDx8"
      },
      "execution_count": null,
      "outputs": []
    },
    {
      "cell_type": "code",
      "source": [
        "#model 2\n",
        "#\n",
        "train_dataloader_2,val_dataloader_2,test_dataloader_2 = prepare_data(data2,labels2,shuffle=True,onehot=True)\n",
        "model2 = CONVNET(BATCH,out_features = 2)\n",
        "if torch.cuda.is_available():\n",
        "  model2.cuda().float()\n",
        "else:\n",
        "  model2.float()\n",
        "\n",
        "\n",
        "loss2 = nn.BCEWithLogitsLoss()\n",
        "opt2 = optim.Adam(model2.parameters(),lr=learning_rate)\n",
        "schedular2 = torch.optim.lr_scheduler.ReduceLROnPlateau(opt2,patience = 3) \n"
      ],
      "metadata": {
        "colab": {
          "base_uri": "https://localhost:8080/"
        },
        "id": "6jxWyQ95l6Mv",
        "outputId": "ebe7b779-767b-4cdd-84a7-2fcb66a05c52"
      },
      "execution_count": null,
      "outputs": [
        {
          "output_type": "stream",
          "name": "stdout",
          "text": [
            "train size 8075 \n",
            "test size 1500\n",
            "validation set size 425\n"
          ]
        }
      ]
    },
    {
      "cell_type": "code",
      "source": [
        "for i,j in train_dataloader_2:\n",
        "  print(j.shape)\n",
        "  j = j.float()\n",
        "  print(j.shape)\n",
        "  p = model2(i.float())\n",
        "  loss2(p,j)\n",
        "  break"
      ],
      "metadata": {
        "id": "ydKkipsFwdPL"
      },
      "execution_count": null,
      "outputs": []
    },
    {
      "cell_type": "code",
      "source": [
        "j"
      ],
      "metadata": {
        "id": "YkQGdmXjBLoQ"
      },
      "execution_count": null,
      "outputs": []
    },
    {
      "cell_type": "code",
      "source": [
        "history2=train(model2,train_dataloader_2,val_dataloader_2,epochs,opt2,loss2,schedular2,name=\"model2.pth\")\n",
        "model2,l1,l2,a3 = history2\n",
        "fig, (ax1, ax2) = plt.subplots(1, 2)\n",
        "ax1.plot(l1,label=\"Train_loss\")\n",
        "ax1.plot(l2,label=\"Val_loss\")\n",
        "ax1.set_xlabel('epochs')\n",
        "ax1.set_ylabel('Loss')\n",
        "ax1.legend()\n",
        "\n",
        "ax2.plot(a3,label=\"accuracy\")\n",
        "ax2.legend()\n",
        "\n"
      ],
      "metadata": {
        "colab": {
          "base_uri": "https://localhost:8080/"
        },
        "id": "T7lXftucl6Mw",
        "outputId": "7f3070ba-217a-4ffd-e8af-0a3f3c799d94"
      },
      "execution_count": null,
      "outputs": [
        {
          "output_type": "stream",
          "name": "stdout",
          "text": [
            "Epoch: 1/25\n",
            "train_loss : 0.4525882452137385\n",
            "\t\tGoing for validation\n",
            "val_loss_mean : 0.37224072005067554\t mean_accuracy: 0.8157242063492064\n",
            "\tTrain loss:0.452588.. \tValid Loss:0.372241.. \tAccuracy: 0.8157\n",
            "\tValidation loss decreased (inf --> 0.372241).  Saving model ...\n",
            "\tEpoch:1 completed in 0m 4s\n",
            "Epoch: 2/25\n",
            "train_loss : 0.37863113851886493\n",
            "\t\tGoing for validation\n",
            "val_loss_mean : 0.3486633130482265\t mean_accuracy: 0.8256448412698413\n",
            "\tTrain loss:0.378631.. \tValid Loss:0.348663.. \tAccuracy: 0.8256\n",
            "\tValidation loss decreased (0.372241 --> 0.348663).  Saving model ...\n",
            "\tEpoch:2 completed in 0m 4s\n",
            "Epoch: 3/25\n",
            "train_loss : 0.32077104077037616\n",
            "\t\tGoing for validation\n",
            "val_loss_mean : 0.30082001430647715\t mean_accuracy: 0.8489583333333333\n",
            "\tTrain loss:0.320771.. \tValid Loss:0.300820.. \tAccuracy: 0.8490\n",
            "\tValidation loss decreased (0.348663 --> 0.300820).  Saving model ...\n",
            "\tEpoch:3 completed in 0m 4s\n",
            "Epoch: 4/25\n",
            "train_loss : 0.2864251492522922\n",
            "\t\tGoing for validation\n",
            "val_loss_mean : 0.31870768857853754\t mean_accuracy: 0.8511904761904762\n",
            "\tTrain loss:0.286425.. \tValid Loss:0.318708.. \tAccuracy: 0.8512\n",
            "\tEpoch:4 completed in 0m 4s\n",
            "Epoch: 5/25\n",
            "train_loss : 0.26711295017965225\n",
            "\t\tGoing for validation\n",
            "val_loss_mean : 0.302888961242778\t mean_accuracy: 0.8613591269841271\n",
            "\tTrain loss:0.267113.. \tValid Loss:0.302889.. \tAccuracy: 0.8614\n",
            "\tEpoch:5 completed in 0m 4s\n",
            "Epoch: 6/25\n",
            "train_loss : 0.2411651530490798\n",
            "\t\tGoing for validation\n",
            "val_loss_mean : 0.27771723163979395\t mean_accuracy: 0.884920634920635\n",
            "\tTrain loss:0.241165.. \tValid Loss:0.277717.. \tAccuracy: 0.8849\n",
            "\tValidation loss decreased (0.300820 --> 0.277717).  Saving model ...\n",
            "\tEpoch:6 completed in 0m 4s\n",
            "Epoch: 7/25\n",
            "train_loss : 0.2267447799267505\n",
            "\t\tGoing for validation\n",
            "val_loss_mean : 0.26495087891817093\t mean_accuracy: 0.8871527777777778\n",
            "\tTrain loss:0.226745.. \tValid Loss:0.264951.. \tAccuracy: 0.8872\n",
            "\tValidation loss decreased (0.277717 --> 0.264951).  Saving model ...\n",
            "\tEpoch:7 completed in 0m 4s\n",
            "Epoch: 8/25\n",
            "train_loss : 0.2048136608255475\n",
            "\t\tGoing for validation\n",
            "val_loss_mean : 0.3619533010891506\t mean_accuracy: 0.8343253968253969\n",
            "\tTrain loss:0.204814.. \tValid Loss:0.361953.. \tAccuracy: 0.8343\n",
            "\tEpoch:8 completed in 0m 4s\n",
            "Epoch: 9/25\n",
            "train_loss : 0.18413985750302966\n",
            "\t\tGoing for validation\n",
            "val_loss_mean : 0.2624190965933459\t mean_accuracy: 0.8983134920634921\n",
            "\tTrain loss:0.184140.. \tValid Loss:0.262419.. \tAccuracy: 0.8983\n",
            "\tValidation loss decreased (0.264951 --> 0.262419).  Saving model ...\n",
            "\tEpoch:9 completed in 0m 4s\n",
            "Epoch: 10/25\n",
            "train_loss : 0.17211150774076994\n",
            "\t\tGoing for validation\n",
            "val_loss_mean : 0.2595890409180096\t mean_accuracy: 0.8759920634920635\n",
            "\tTrain loss:0.172112.. \tValid Loss:0.259589.. \tAccuracy: 0.8760\n",
            "\tValidation loss decreased (0.262419 --> 0.259589).  Saving model ...\n",
            "\tEpoch:10 completed in 0m 4s\n",
            "Epoch: 11/25\n",
            "train_loss : 0.15389398513398622\n",
            "\t\tGoing for validation\n",
            "val_loss_mean : 0.25665149012846605\t mean_accuracy: 0.8973214285714286\n",
            "\tTrain loss:0.153894.. \tValid Loss:0.256651.. \tAccuracy: 0.8973\n",
            "\tValidation loss decreased (0.259589 --> 0.256651).  Saving model ...\n",
            "\tEpoch:11 completed in 0m 4s\n",
            "Epoch: 12/25\n",
            "train_loss : 0.14186755357229192\n",
            "\t\tGoing for validation\n",
            "val_loss_mean : 0.3301839410726513\t mean_accuracy: 0.8913690476190476\n",
            "\tTrain loss:0.141868.. \tValid Loss:0.330184.. \tAccuracy: 0.8914\n",
            "\tEpoch:12 completed in 0m 4s\n",
            "Epoch: 13/25\n",
            "train_loss : 0.12594746180953598\n",
            "\t\tGoing for validation\n",
            "val_loss_mean : 0.2889741558049406\t mean_accuracy: 0.9037698412698413\n",
            "\tTrain loss:0.125947.. \tValid Loss:0.288974.. \tAccuracy: 0.9038\n",
            "\tEpoch:13 completed in 0m 4s\n",
            "Epoch: 14/25\n",
            "train_loss : 0.10997910728759092\n",
            "\t\tGoing for validation\n",
            "val_loss_mean : 0.2365207283624581\t mean_accuracy: 0.9139384920634921\n",
            "\tTrain loss:0.109979.. \tValid Loss:0.236521.. \tAccuracy: 0.9139\n",
            "\tValidation loss decreased (0.256651 --> 0.236521).  Saving model ...\n",
            "\tEpoch:14 completed in 0m 4s\n",
            "Epoch: 15/25\n",
            "train_loss : 0.10423738765806372\n",
            "\t\tGoing for validation\n",
            "val_loss_mean : 0.29710622051996843\t mean_accuracy: 0.90625\n",
            "\tTrain loss:0.104237.. \tValid Loss:0.297106.. \tAccuracy: 0.9062\n",
            "\tEpoch:15 completed in 0m 4s\n",
            "Epoch: 16/25\n",
            "train_loss : 0.09586528823029972\n",
            "\t\tGoing for validation\n",
            "val_loss_mean : 0.25126385954873903\t mean_accuracy: 0.9241071428571429\n",
            "\tTrain loss:0.095865.. \tValid Loss:0.251264.. \tAccuracy: 0.9241\n",
            "\tEpoch:16 completed in 0m 4s\n",
            "Epoch: 17/25\n",
            "train_loss : 0.07683375823355681\n",
            "\t\tGoing for validation\n",
            "val_loss_mean : 0.3847223514957087\t mean_accuracy: 0.8792162698412699\n",
            "\tTrain loss:0.076834.. \tValid Loss:0.384722.. \tAccuracy: 0.8792\n",
            "\tEpoch:17 completed in 0m 4s\n",
            "Epoch: 18/25\n",
            "train_loss : 0.07913007536533072\n",
            "\t\tGoing for validation\n",
            "val_loss_mean : 0.2878286969581885\t mean_accuracy: 0.9151785714285714\n",
            "\tTrain loss:0.079130.. \tValid Loss:0.287829.. \tAccuracy: 0.9152\n",
            "\tEpoch:18 completed in 0m 4s\n",
            "Epoch: 19/25\n",
            "train_loss : 0.05475544761093296\n",
            "\t\tGoing for validation\n",
            "val_loss_mean : 0.2882588960762535\t mean_accuracy: 0.9285714285714286\n",
            "\tTrain loss:0.054755.. \tValid Loss:0.288259.. \tAccuracy: 0.9286\n",
            "\tEpoch:19 completed in 0m 4s\n",
            "Epoch: 20/25\n",
            "train_loss : 0.035330133554949\n",
            "\t\tGoing for validation\n",
            "val_loss_mean : 0.31168726831674576\t mean_accuracy: 0.9330357142857143\n",
            "\tTrain loss:0.035330.. \tValid Loss:0.311687.. \tAccuracy: 0.9330\n",
            "\tEpoch:20 completed in 0m 4s\n",
            "Epoch: 21/25\n",
            "train_loss : 0.030095267209998357\n",
            "\t\tGoing for validation\n",
            "val_loss_mean : 0.3434716628398746\t mean_accuracy: 0.9228670634920635\n",
            "\tTrain loss:0.030095.. \tValid Loss:0.343472.. \tAccuracy: 0.9229\n",
            "\tEpoch:21 completed in 0m 4s\n",
            "Epoch: 22/25\n",
            "train_loss : 0.02688930368671201\n",
            "\t\tGoing for validation\n",
            "val_loss_mean : 0.3674187272387956\t mean_accuracy: 0.9273313492063492\n",
            "\tTrain loss:0.026889.. \tValid Loss:0.367419.. \tAccuracy: 0.9273\n",
            "\tEpoch:22 completed in 0m 4s\n",
            "Epoch: 23/25\n",
            "train_loss : 0.019401414516294953\n",
            "\t\tGoing for validation\n",
            "val_loss_mean : 0.3455146399459669\t mean_accuracy: 0.9352678571428571\n",
            "\tTrain loss:0.019401.. \tValid Loss:0.345515.. \tAccuracy: 0.9353\n",
            "\tEpoch:23 completed in 0m 4s\n",
            "Epoch: 24/25\n",
            "train_loss : 0.019255716224902047\n",
            "\t\tGoing for validation\n",
            "val_loss_mean : 0.35529194719025065\t mean_accuracy: 0.9273313492063492\n",
            "\tTrain loss:0.019256.. \tValid Loss:0.355292.. \tAccuracy: 0.9273\n",
            "\tEpoch:24 completed in 0m 4s\n",
            "Epoch: 25/25\n",
            "train_loss : 0.01925525581340509\n",
            "\t\tGoing for validation\n",
            "val_loss_mean : 0.35358917486986946\t mean_accuracy: 0.9352678571428571\n",
            "\tTrain loss:0.019255.. \tValid Loss:0.353589.. \tAccuracy: 0.9353\n",
            "\tEpoch:25 completed in 0m 4s\n",
            "Training completed in 1m 30s\n"
          ]
        },
        {
          "output_type": "execute_result",
          "data": {
            "text/plain": [
              "<matplotlib.legend.Legend at 0x7f279c581810>"
            ]
          },
          "metadata": {},
          "execution_count": 26
        },
        {
          "output_type": "display_data",
          "data": {
            "text/plain": [
              "<Figure size 432x288 with 2 Axes>"
            ],
            "image/png": "[encoded data removed]"
          },
          "metadata": {
            "needs_background": "light"
          }
        }
      ]
    },
    {
      "cell_type": "code",
      "source": [
        "test(model2,test_dataloader_2)"
      ],
      "metadata": {
        "id": "XESQdmqJ24BY"
      },
      "execution_count": null,
      "outputs": []
    },
    {
      "cell_type": "code",
      "source": [
        ""
      ],
      "metadata": {
        "id": "cwn5f7tv29ha"
      },
      "execution_count": null,
      "outputs": []
    },
    {
      "cell_type": "code",
      "source": [
        "#### load the previously trained models "
      ],
      "metadata": {
        "id": "zFe3MAWJ29ln"
      },
      "execution_count": null,
      "outputs": []
    },
    {
      "cell_type": "code",
      "execution_count": null,
      "metadata": {
        "id": "VcJg3PHZRKMk"
      },
      "outputs": [],
      "source": [
        "test(model2,test_dataloader_2)\n"
      ]
    },
    {
      "cell_type": "code",
      "source": [
        "model1 = CONVNET(BATCH,out_features = 10)\n",
        "load_latest_model(model1, name=\"/content/model.pth\",device=device)\n",
        "model1.float()\n"
      ],
      "metadata": {
        "colab": {
          "base_uri": "https://localhost:8080/"
        },
        "id": "QNENvY6bReLn",
        "outputId": "6477ccea-ae67-4df3-ff41-bc300ee8695a"
      },
      "execution_count": null,
      "outputs": [
        {
          "output_type": "execute_result",
          "data": {
            "text/plain": [
              "CONVNET(\n",
              "  (conv1): Conv2d(1, 32, kernel_size=(5, 5), stride=(1, 1))\n",
              "  (conv2): Conv2d(32, 64, kernel_size=(5, 5), stride=(1, 1))\n",
              "  (conv3): Conv2d(64, 128, kernel_size=(3, 3), stride=(1, 1))\n",
              "  (conv4): Conv2d(128, 256, kernel_size=(3, 3), stride=(1, 1))\n",
              "  (dropout2d): Dropout2d(p=0.2, inplace=False)\n",
              "  (dropout1): Dropout(p=0.6, inplace=False)\n",
              "  (batch_norm_1): BatchNorm2d(32, eps=1e-05, momentum=0.1, affine=True, track_running_stats=True)\n",
              "  (batch_norm_2): BatchNorm2d(256, eps=1e-05, momentum=0.1, affine=True, track_running_stats=True)\n",
              "  (dense1): Linear(in_features=2304, out_features=512, bias=True)\n",
              "  (dense2): Linear(in_features=512, out_features=10, bias=True)\n",
              ")"
            ]
          },
          "metadata": {},
          "execution_count": 7
        }
      ]
    },
    {
      "cell_type": "code",
      "source": [
        "model2 = CONVNET(BATCH,out_features = 2)\n",
        "load_latest_model(model2, name=\"/content/model2.pth\",device=device)\n",
        "model2.float()"
      ],
      "metadata": {
        "colab": {
          "base_uri": "https://localhost:8080/"
        },
        "id": "CAH9OLFK3aGP",
        "outputId": "8d4b787d-d358-4f32-c388-81eaaf672a01"
      },
      "execution_count": null,
      "outputs": [
        {
          "output_type": "execute_result",
          "data": {
            "text/plain": [
              "CONVNET(\n",
              "  (conv1): Conv2d(1, 32, kernel_size=(5, 5), stride=(1, 1))\n",
              "  (conv2): Conv2d(32, 64, kernel_size=(5, 5), stride=(1, 1))\n",
              "  (conv3): Conv2d(64, 128, kernel_size=(3, 3), stride=(1, 1))\n",
              "  (conv4): Conv2d(128, 256, kernel_size=(3, 3), stride=(1, 1))\n",
              "  (dropout2d): Dropout2d(p=0.2, inplace=False)\n",
              "  (dropout1): Dropout(p=0.6, inplace=False)\n",
              "  (batch_norm_1): BatchNorm2d(32, eps=1e-05, momentum=0.1, affine=True, track_running_stats=True)\n",
              "  (batch_norm_2): BatchNorm2d(256, eps=1e-05, momentum=0.1, affine=True, track_running_stats=True)\n",
              "  (dense1): Linear(in_features=2304, out_features=512, bias=True)\n",
              "  (dense2): Linear(in_features=512, out_features=2, bias=True)\n",
              ")"
            ]
          },
          "metadata": {},
          "execution_count": 8
        }
      ]
    },
    {
      "cell_type": "code",
      "source": [
        "# next we try an ensemble based model of the previous base model and a new model trained on only major missclassified labels"
      ],
      "metadata": {
        "id": "LKsGMyyLReP4"
      },
      "execution_count": null,
      "outputs": []
    },
    {
      "cell_type": "code",
      "source": [
        ""
      ],
      "metadata": {
        "colab": {
          "base_uri": "https://localhost:8080/"
        },
        "id": "aRaGGwUH3kdm",
        "outputId": "263d6167-9d7d-425b-e3d4-7a07774ee07f"
      },
      "execution_count": null,
      "outputs": [
        {
          "output_type": "execute_result",
          "data": {
            "text/plain": [
              "CONVNET(\n",
              "  (conv1): Conv2d(1, 32, kernel_size=(5, 5), stride=(1, 1))\n",
              "  (conv2): Conv2d(32, 64, kernel_size=(5, 5), stride=(1, 1))\n",
              "  (conv3): Conv2d(64, 128, kernel_size=(3, 3), stride=(1, 1))\n",
              "  (conv4): Conv2d(128, 256, kernel_size=(3, 3), stride=(1, 1))\n",
              "  (dropout2d): Dropout2d(p=0.2, inplace=False)\n",
              "  (dropout1): Dropout(p=0.6, inplace=False)\n",
              "  (batch_norm_1): BatchNorm2d(32, eps=1e-05, momentum=0.1, affine=True, track_running_stats=True)\n",
              "  (batch_norm_2): BatchNorm2d(256, eps=1e-05, momentum=0.1, affine=True, track_running_stats=True)\n",
              "  (dense1): Linear(in_features=2304, out_features=512, bias=True)\n",
              "  (dense2): Linear(in_features=512, out_features=2, bias=True)\n",
              ")"
            ]
          },
          "metadata": {},
          "execution_count": 41
        }
      ]
    },
    {
      "cell_type": "code",
      "source": [
        ""
      ],
      "metadata": {
        "id": "Nr2Tjsqj3kfQ"
      },
      "execution_count": null,
      "outputs": []
    },
    {
      "cell_type": "code",
      "source": [
        "class Ensemble1(nn.Module):\n",
        "  def __init__(self,model1,model2,output_sizes= [10,2]):\n",
        "    super().__init__()\n",
        "    self.p1 = model1\n",
        "    self.p2 = model2\n",
        "    self.output_sizes=  output_sizes\n",
        "    #self.set_trainable_false(self.p1)\n",
        "    #self.set_trainable_false(self.p2)\n",
        "    self.d11 = nn.Linear(in_features= self.output_sizes[0],out_features = 32)\n",
        "    self.d12 = nn.Linear(in_features= self.output_sizes[1],out_features = 32)\n",
        "    self.d2 = nn.Linear(in_features = 32*2, out_features = 128)\n",
        "    self.d3 = nn.Linear(in_features = 128, out_features = self.output_sizes[0])\n",
        "    self.dropout = nn.Dropout(0.4)\n",
        "    \n",
        "  def set_trainable_false(self,model):\n",
        "    for param in model.parameters():\n",
        "      param.requires_grad = False\n",
        "    \n",
        "\n",
        "  def forward(self,x):\n",
        "    x1 = self.p1(x)\n",
        "    x1 = self.d11(x1)\n",
        "    x1 = F.relu(x1)\n",
        "\n",
        "    x2 = self.p2(x)\n",
        "    x2 = self.d12(x2)\n",
        "    x2 = F.relu(x2)\n",
        "\n",
        "    x = torch.cat((x1,x2),dim=-1)\n",
        "    x = F.relu(self.dropout(self.d2(x)))\n",
        "    x = self.d3(x)\n",
        "    return x\n",
        "\n"
      ],
      "metadata": {
        "id": "a4RfRsVkReSF"
      },
      "execution_count": null,
      "outputs": []
    },
    {
      "cell_type": "code",
      "source": [
        "ens = Ensemble1(model1,model2)\n",
        "if torch.cuda.is_available():\n",
        "  ens.cuda()\n",
        "ens.float()"
      ],
      "metadata": {
        "colab": {
          "base_uri": "https://localhost:8080/"
        },
        "id": "mtkDXJUklbES",
        "outputId": "980e4958-4264-4135-ba6e-8075a234d962"
      },
      "execution_count": null,
      "outputs": [
        {
          "output_type": "execute_result",
          "data": {
            "text/plain": [
              "Ensemble1(\n",
              "  (p1): CONVNET(\n",
              "    (conv1): Conv2d(1, 32, kernel_size=(5, 5), stride=(1, 1))\n",
              "    (conv2): Conv2d(32, 64, kernel_size=(5, 5), stride=(1, 1))\n",
              "    (conv3): Conv2d(64, 128, kernel_size=(3, 3), stride=(1, 1))\n",
              "    (conv4): Conv2d(128, 256, kernel_size=(3, 3), stride=(1, 1))\n",
              "    (dropout2d): Dropout2d(p=0.2, inplace=False)\n",
              "    (dropout1): Dropout(p=0.6, inplace=False)\n",
              "    (batch_norm_1): BatchNorm2d(32, eps=1e-05, momentum=0.1, affine=True, track_running_stats=True)\n",
              "    (batch_norm_2): BatchNorm2d(256, eps=1e-05, momentum=0.1, affine=True, track_running_stats=True)\n",
              "    (dense1): Linear(in_features=2304, out_features=512, bias=True)\n",
              "    (dense2): Linear(in_features=512, out_features=10, bias=True)\n",
              "  )\n",
              "  (p2): CONVNET(\n",
              "    (conv1): Conv2d(1, 32, kernel_size=(5, 5), stride=(1, 1))\n",
              "    (conv2): Conv2d(32, 64, kernel_size=(5, 5), stride=(1, 1))\n",
              "    (conv3): Conv2d(64, 128, kernel_size=(3, 3), stride=(1, 1))\n",
              "    (conv4): Conv2d(128, 256, kernel_size=(3, 3), stride=(1, 1))\n",
              "    (dropout2d): Dropout2d(p=0.2, inplace=False)\n",
              "    (dropout1): Dropout(p=0.6, inplace=False)\n",
              "    (batch_norm_1): BatchNorm2d(32, eps=1e-05, momentum=0.1, affine=True, track_running_stats=True)\n",
              "    (batch_norm_2): BatchNorm2d(256, eps=1e-05, momentum=0.1, affine=True, track_running_stats=True)\n",
              "    (dense1): Linear(in_features=2304, out_features=512, bias=True)\n",
              "    (dense2): Linear(in_features=512, out_features=2, bias=True)\n",
              "  )\n",
              "  (d11): Linear(in_features=10, out_features=32, bias=True)\n",
              "  (d12): Linear(in_features=2, out_features=32, bias=True)\n",
              "  (d2): Linear(in_features=64, out_features=128, bias=True)\n",
              "  (d3): Linear(in_features=128, out_features=10, bias=True)\n",
              "  (dropout): Dropout(p=0.4, inplace=False)\n",
              ")"
            ]
          },
          "metadata": {},
          "execution_count": 10
        }
      ]
    },
    {
      "cell_type": "code",
      "source": [
        "train_dataloader,val_dataloader,test_dataloader = prepare_data(data,labels)\n",
        "opt3 = optim.Adam(ens.parameters(),lr=learning_rate)\n",
        "schedular3 = torch.optim.lr_scheduler.ReduceLROnPlateau(opt3,patience = 5) \n",
        "loss3 = nn.CrossEntropyLoss()"
      ],
      "metadata": {
        "colab": {
          "base_uri": "https://localhost:8080/"
        },
        "id": "MjppTifFReUr",
        "outputId": "6f08930d-9c24-455d-b79e-cf4fb0cbee80"
      },
      "execution_count": null,
      "outputs": [
        {
          "output_type": "stream",
          "name": "stdout",
          "text": [
            "train size 48450 \n",
            "test size 9000\n",
            "validation set size 2550\n"
          ]
        }
      ]
    },
    {
      "cell_type": "code",
      "source": [
        "history3=train(ens,train_dataloader,val_dataloader,epochs,opt3,loss3,schedular3,name=\"ens1.pth\")"
      ],
      "metadata": {
        "colab": {
          "base_uri": "https://localhost:8080/"
        },
        "id": "L1sKPwpJReXo",
        "outputId": "b1a89377-949c-40d3-e922-c3fd6cf01863"
      },
      "execution_count": null,
      "outputs": [
        {
          "output_type": "stream",
          "name": "stdout",
          "text": [
            "Epoch: 1/25\n",
            "train_loss : 0.30654676012485826\n",
            "\t\tGoing for validation\n",
            "val_loss_mean : 0.21433907109312714\t mean_accuracy: 0.92578125\n",
            "\tTrain loss:0.306547.. \tValid Loss:0.214339.. \tAccuracy: 0.9258\n",
            "\tValidation loss decreased (inf --> 0.214339).  Saving model ...\n",
            "\tEpoch:1 completed in 0m 44s\n",
            "Epoch: 2/25\n",
            "train_loss : 0.22307646834589664\n",
            "\t\tGoing for validation\n",
            "val_loss_mean : 0.21815871861763297\t mean_accuracy: 0.9258522727272727\n",
            "\tTrain loss:0.223076.. \tValid Loss:0.218159.. \tAccuracy: 0.9259\n",
            "\tEpoch:2 completed in 0m 45s\n",
            "Epoch: 3/25\n",
            "train_loss : 0.2077031631311617\n",
            "\t\tGoing for validation\n",
            "val_loss_mean : 0.21752535097184592\t mean_accuracy: 0.921875\n",
            "\tTrain loss:0.207703.. \tValid Loss:0.217525.. \tAccuracy: 0.9219\n",
            "\tEpoch:3 completed in 0m 44s\n",
            "Epoch: 4/25\n",
            "train_loss : 0.18726160162537306\n",
            "\t\tGoing for validation\n",
            "val_loss_mean : 0.23146708630956708\t mean_accuracy: 0.9197443181818181\n",
            "\tTrain loss:0.187262.. \tValid Loss:0.231467.. \tAccuracy: 0.9197\n",
            "\tEpoch:4 completed in 0m 44s\n",
            "Epoch: 5/25\n",
            "train_loss : 0.17974706108531247\n",
            "\t\tGoing for validation\n",
            "val_loss_mean : 0.24758885186165572\t mean_accuracy: 0.9172585227272727\n",
            "\tTrain loss:0.179747.. \tValid Loss:0.247589.. \tAccuracy: 0.9173\n",
            "\tEpoch:5 completed in 0m 44s\n",
            "Epoch: 6/25\n",
            "train_loss : 0.16691540518541984\n",
            "\t\tGoing for validation\n",
            "val_loss_mean : 0.25264710253104566\t mean_accuracy: 0.920703125\n",
            "\tTrain loss:0.166915.. \tValid Loss:0.252647.. \tAccuracy: 0.9207\n",
            "\tEpoch:6 completed in 0m 44s\n",
            "Epoch: 7/25\n",
            "train_loss : 0.16034580593400022\n",
            "\t\tGoing for validation\n",
            "val_loss_mean : 0.26421594659332187\t mean_accuracy: 0.9224786931818182\n",
            "\tTrain loss:0.160346.. \tValid Loss:0.264216.. \tAccuracy: 0.9225\n",
            "\tEpoch:7 completed in 0m 44s\n",
            "Epoch: 8/25\n",
            "train_loss : 0.10184664338134693\n",
            "\t\tGoing for validation\n",
            "val_loss_mean : 0.2440714965108782\t mean_accuracy: 0.9259943181818182\n",
            "\tTrain loss:0.101847.. \tValid Loss:0.244071.. \tAccuracy: 0.9260\n",
            "\tEpoch:8 completed in 0m 44s\n",
            "Epoch: 9/25\n",
            "train_loss : 0.08719323720750721\n",
            "\t\tGoing for validation\n",
            "val_loss_mean : 0.24658250565698836\t mean_accuracy: 0.931640625\n",
            "\tTrain loss:0.087193.. \tValid Loss:0.246583.. \tAccuracy: 0.9316\n",
            "\tEpoch:9 completed in 0m 44s\n",
            "Epoch: 10/25\n",
            "train_loss : 0.08023699240639141\n",
            "\t\tGoing for validation\n",
            "val_loss_mean : 0.2605889914790168\t mean_accuracy: 0.9299005681818182\n",
            "\tTrain loss:0.080237.. \tValid Loss:0.260589.. \tAccuracy: 0.9299\n",
            "\tEpoch:10 completed in 0m 44s\n",
            "Epoch: 11/25\n",
            "train_loss : 0.0729716327941205\n",
            "\t\tGoing for validation\n",
            "val_loss_mean : 0.2786643458617618\t mean_accuracy: 0.9291193181818181\n",
            "\tTrain loss:0.072972.. \tValid Loss:0.278664.. \tAccuracy: 0.9291\n",
            "\tEpoch:11 completed in 0m 44s\n",
            "Epoch: 12/25\n",
            "train_loss : 0.06696945108342814\n",
            "\t\tGoing for validation\n",
            "val_loss_mean : 0.274691289117618\t mean_accuracy: 0.9322443181818182\n",
            "\tTrain loss:0.066969.. \tValid Loss:0.274691.. \tAccuracy: 0.9322\n",
            "\tEpoch:12 completed in 0m 44s\n",
            "Epoch: 13/25\n",
            "train_loss : 0.06488352949862067\n",
            "\t\tGoing for validation\n",
            "val_loss_mean : 0.2807217705645598\t mean_accuracy: 0.929580965909091\n",
            "\tTrain loss:0.064884.. \tValid Loss:0.280722.. \tAccuracy: 0.9296\n",
            "\tEpoch:13 completed in 0m 44s\n",
            "Epoch: 14/25\n",
            "train_loss : 0.05908576397854595\n",
            "\t\tGoing for validation\n",
            "val_loss_mean : 0.27757242856314407\t mean_accuracy: 0.9295099431818181\n",
            "\tTrain loss:0.059086.. \tValid Loss:0.277572.. \tAccuracy: 0.9295\n",
            "\tEpoch:14 completed in 0m 44s\n",
            "Epoch: 15/25\n",
            "train_loss : 0.05936127561470148\n",
            "\t\tGoing for validation\n",
            "val_loss_mean : 0.2868467708292883\t mean_accuracy: 0.9274147727272727\n",
            "\tTrain loss:0.059361.. \tValid Loss:0.286847.. \tAccuracy: 0.9274\n",
            "\tEpoch:15 completed in 0m 44s\n",
            "Epoch: 16/25\n",
            "train_loss : 0.05608550690505623\n",
            "\t\tGoing for validation\n",
            "val_loss_mean : 0.2810952560103033\t mean_accuracy: 0.9303267045454545\n",
            "\tTrain loss:0.056086.. \tValid Loss:0.281095.. \tAccuracy: 0.9303\n",
            "\tEpoch:16 completed in 0m 44s\n",
            "Epoch: 17/25\n",
            "train_loss : 0.05670945931770823\n",
            "\t\tGoing for validation\n",
            "val_loss_mean : 0.2785957840795163\t mean_accuracy: 0.9306818181818182\n",
            "\tTrain loss:0.056709.. \tValid Loss:0.278596.. \tAccuracy: 0.9307\n",
            "\tEpoch:17 completed in 0m 44s\n",
            "Epoch: 18/25\n",
            "train_loss : 0.05602299268226825\n",
            "\t\tGoing for validation\n",
            "val_loss_mean : 0.28920373662840576\t mean_accuracy: 0.9293678977272727\n",
            "\tTrain loss:0.056023.. \tValid Loss:0.289204.. \tAccuracy: 0.9294\n",
            "\tEpoch:18 completed in 0m 44s\n",
            "Epoch: 19/25\n",
            "train_loss : 0.054771757545064914\n",
            "\t\tGoing for validation\n",
            "val_loss_mean : 0.2918572817638051\t mean_accuracy: 0.92890625\n",
            "\tTrain loss:0.054772.. \tValid Loss:0.291857.. \tAccuracy: 0.9289\n",
            "\tEpoch:19 completed in 0m 44s\n",
            "Epoch: 20/25\n",
            "train_loss : 0.053968891782648465\n",
            "\t\tGoing for validation\n",
            "val_loss_mean : 0.28139921331312506\t mean_accuracy: 0.930859375\n",
            "\tTrain loss:0.053969.. \tValid Loss:0.281399.. \tAccuracy: 0.9309\n",
            "\tEpoch:20 completed in 0m 44s\n",
            "Epoch: 21/25\n",
            "train_loss : 0.05416874573325889\n",
            "\t\tGoing for validation\n",
            "val_loss_mean : 0.2913528415607288\t mean_accuracy: 0.9277698863636363\n",
            "\tTrain loss:0.054169.. \tValid Loss:0.291353.. \tAccuracy: 0.9278\n",
            "\tEpoch:21 completed in 0m 44s\n",
            "Epoch: 22/25\n",
            "train_loss : 0.05297010478162781\n",
            "\t\tGoing for validation\n",
            "val_loss_mean : 0.2967521176266018\t mean_accuracy: 0.9295454545454545\n",
            "\tTrain loss:0.052970.. \tValid Loss:0.296752.. \tAccuracy: 0.9295\n",
            "\tEpoch:22 completed in 0m 44s\n",
            "Epoch: 23/25\n",
            "train_loss : 0.05469255510702214\n",
            "\t\tGoing for validation\n",
            "val_loss_mean : 0.2955786900129169\t mean_accuracy: 0.9287642045454545\n",
            "\tTrain loss:0.054693.. \tValid Loss:0.295579.. \tAccuracy: 0.9288\n",
            "\tEpoch:23 completed in 0m 44s\n",
            "Epoch: 24/25\n",
            "train_loss : 0.05387782839222169\n",
            "\t\tGoing for validation\n",
            "val_loss_mean : 0.28725208845571615\t mean_accuracy: 0.9287286931818182\n",
            "\tTrain loss:0.053878.. \tValid Loss:0.287252.. \tAccuracy: 0.9287\n",
            "\tEpoch:24 completed in 0m 44s\n",
            "Epoch: 25/25\n",
            "train_loss : 0.05452323470833494\n",
            "\t\tGoing for validation\n",
            "val_loss_mean : 0.2915168120916462\t mean_accuracy: 0.9283380681818182\n",
            "\tTrain loss:0.054523.. \tValid Loss:0.291517.. \tAccuracy: 0.9283\n",
            "\tEpoch:25 completed in 0m 44s\n",
            "Training completed in 18m 23s\n"
          ]
        }
      ]
    },
    {
      "cell_type": "code",
      "source": [
        "\n",
        "test(ens,test_dataloader)"
      ],
      "metadata": {
        "colab": {
          "base_uri": "https://localhost:8080/",
          "height": 370
        },
        "id": "cg5IAlEFReaX",
        "outputId": "54390650-6eba-474f-ed22-e3c11eda9a8d"
      },
      "execution_count": null,
      "outputs": [
        {
          "output_type": "stream",
          "name": "stdout",
          "text": [
            "Label: [8, 1, 7, 8, 2, 9, 0, 1, 4, 8, 6, 9, 3, 2, 7, 4, 3, 7, 9, 4, 5, 2, 8, 9, 5, 4, 0, 2, 7, 1, 5, 5, 7, 1, 3, 1, 2, 8, 3, 5, 7, 5, 2, 5, 6, 9, 3, 1, 4, 3, 6, 2, 9, 7, 5, 6, 8, 7, 2, 7, 4, 3, 1, 0, 5, 3, 4, 0, 4, 0, 2, 7, 3, 4, 2, 5, 4, 1, 3, 9, 7, 1, 8, 8, 4, 3, 6, 4, 8, 6, 9, 0, 5, 7, 7, 5, 6, 6, 0, 5, 9, 8, 8, 6, 6, 0, 7, 8, 3, 8, 2, 8, 4, 9, 9, 5, 1, 7, 0, 4, 9, 1, 6, 1, 4, 9, 8, 7, 2, 8, 7, 8, 0, 9, 8, 3, 9, 8, 9, 4, 2, 6, 3, 5, 5, 1, 3, 7, 3, 1, 7, 7, 4, 1, 5, 3, 6, 2, 1, 8, 2, 1, 6, 3, 3, 0, 7, 7, 4, 5, 1, 1, 4, 3, 4, 9, 8, 3, 9, 7, 6, 7, 9, 2, 0, 8, 8, 4, 4, 0, 0, 3, 2, 4, 0, 0, 3, 8, 2, 1, 3, 4, 1, 1, 0, 8, 6, 8, 3, 8, 4, 8, 8, 3, 2, 7, 1, 6, 8, 2, 9, 2, 9, 1, 5, 8, 4, 6, 8, 2, 3, 0, 3, 7, 9, 4, 3, 7, 7, 4, 7, 4, 8, 8, 7, 6, 5, 4, 4, 9, 2, 4, 0, 6, 8, 0, 5, 6, 4, 6, 4, 3, 4, 1, 3, 0, 7, 2, 4, 8, 9, 5, 0, 0, 0, 5, 6, 3, 4, 9, 5, 5, 5, 0, 2, 4, 3, 1, 5, 7, 3, 6, 2, 7, 7, 1, 9, 2, 3, 3, 4, 5, 6, 9, 4, 6, 3, 9, 9, 3, 6, 9, 2, 3, 7, 9, 0, 9, 9, 1, 1, 0, 9, 4, 9, 3, 8, 6, 3, 1, 5, 9, 2, 8, 9, 2, 8, 7, 8, 6, 3, 5, 8, 0, 4, 1, 1, 2, 6, 3, 8, 5, 3, 7, 5, 5, 9, 0, 4, 4, 6, 0, 3, 2, 0, 1, 3, 0, 3, 0, 4, 8, 6, 0, 7, 6, 5, 2, 2, 6, 1, 9, 7, 5, 3, 1, 1, 4, 8, 1, 6, 5, 2, 1, 7, 5, 8, 5, 9, 6, 2, 7, 4, 9, 8, 4, 1, 5, 1, 6, 2, 1, 5, 0, 0, 6, 9, 7, 5, 5, 9, 7, 9, 6, 5, 1, 0, 7, 6, 0, 9, 6, 9, 3, 2, 8, 4, 4, 7, 2, 6, 0, 0, 4, 5, 3, 1, 5, 1, 9, 7, 6, 1, 6, 9, 1, 3, 6, 3, 7, 6, 2, 4, 2, 7, 7, 2, 9, 7, 8, 2, 8, 6, 4, 4, 0, 8, 7, 6, 1, 8, 8, 5, 2, 0, 6, 4, 7, 0, 3, 4, 9, 5, 4, 4, 8, 8, 0, 5, 9, 6, 3, 9, 3, 8, 1, 2, 3, 0, 4, 9, 7, 4, 5, 1, 1, 1, 0, 3, 8, 5, 0, 3, 6, 5, 0, 6, 6, 3, 5, 0, 1, 7, 3, 0, 7, 4, 4, 2, 3, 4, 4, 8, 9, 4, 4, 6, 8, 2, 5, 0, 9, 6, 3, 9, 3, 6, 9, 6, 5, 3, 8, 7, 5, 4, 0, 3, 9, 5, 1, 0, 8, 7, 7, 7, 2, 4, 0, 5, 0, 7, 1, 9, 2, 3, 9, 6, 5, 5, 3, 4, 9, 3, 5, 4, 7, 8, 8, 6, 0, 5, 5, 4, 4, 3, 6, 4, 3, 1, 7, 0, 0, 5, 0, 1, 6, 0, 9, 5, 8, 7, 6, 3, 4, 5, 2, 7, 0, 1, 4, 7, 7, 7, 5, 9, 4, 0, 0, 4, 9, 3, 8, 2, 0, 0, 6, 2, 4, 4, 7, 3, 1, 3, 4, 0, 0, 9, 5, 6, 2, 6, 8, 4, 2, 8, 5, 7, 0, 2, 4, 9, 2, 7, 9, 6, 3, 0, 4, 6, 4, 5, 8, 6, 7, 5, 2, 5, 4, 0, 1, 1, 3, 5, 6, 7, 3, 1, 2, 7, 5, 4, 4, 1, 2, 2, 2, 6, 2, 5, 5, 9, 4, 0, 4, 9, 3, 0, 6, 1, 9, 6, 3, 7, 2, 0, 0, 3, 7, 0, 2, 9, 0, 3, 2, 8, 2, 0, 9, 7, 1, 9, 3, 4, 8, 9, 2, 1, 4, 7, 7, 6, 6, 4, 4, 8, 5, 6, 1, 8, 6, 2, 6, 7, 2, 1, 2, 5, 0, 5, 9, 1, 7, 7, 2, 1, 5, 1, 8, 2, 4, 1, 3, 6, 4, 9, 1, 3, 8, 5, 5, 7, 2, 1, 0, 2, 0, 1, 8, 6, 1, 9, 2, 4, 9, 6, 3, 8, 1, 7, 2, 7, 0, 7, 3, 1, 7, 9, 3, 4, 6, 2, 0, 2, 3, 5, 7, 2, 4, 6, 9, 4, 3, 7, 6, 6, 1, 6, 0, 6, 0, 5, 1, 9, 1, 6, 0, 7, 1, 9, 5, 0, 1, 0, 1, 7, 8, 1, 5, 0, 6, 8, 6, 3, 3, 0, 2, 3, 2, 9, 5, 8, 0, 2, 0, 3, 3, 8, 4, 6, 0, 6, 6, 8, 2, 2, 1, 8, 4, 3, 8, 9, 5, 2, 0, 0, 4, 5, 9, 4, 1, 2, 0, 4, 9, 2, 4, 9, 5, 2, 8, 8, 9, 5, 8, 9, 4, 2, 6, 4, 4, 4, 0, 9, 2, 3, 9, 6, 4, 1, 0, 0, 1, 9, 0, 7, 8, 6, 0, 9, 9, 9, 1, 2, 9, 2, 4, 3, 0, 2, 2, 7, 7, 2, 5, 2, 4, 3, 8, 3, 8, 4, 1, 6, 9, 8, 3, 6, 2, 4, 3, 3, 0, 8, 6, 2, 7, 1, 4, 1, 3, 7, 4, 6, 8, 9, 1, 5, 3, 3, 2, 2, 6, 8, 2, 6, 1, 2, 7, 3, 5, 2, 9, 5, 8, 8, 7, 6, 8, 1, 5, 4, 9, 3, 5, 3, 1, 8, 8, 3, 2, 6, 6, 3, 1, 9, 1, 4, 8, 6, 8, 0, 2, 9, 1, 7, 7, 2, 2, 6, 5, 3, 7, 0, 7, 7, 1, 3, 3, 7, 3, 8, 6, 6, 3, 4, 0, 2, 2, 4, 8, 4, 1, 0, 7, 0, 7, 3, 9, 5, 8, 9, 5, 0, 0, 4, 7, 7, 0, 4, 9, 7, 2, 2, 5, 4, 7, 5, 1, 8, 2, 7, 6, 9, 0, 2, 0, 4, 8, 7, 2, 7, 6, 1, 6, 5, 9, 7, 2, 4, 9, 1, 7, 7, 7, 5, 8, 5, 8, 1, 2, 2, 3, 7, 4, 4, 9, 2, 8, 1, 3, 6, 2, 8, 3, 5, 4, 3, 9, 9, 4, 8, 6, 6, 8, 1, 2, 2, 5, 9, 5, 6, 3, 1, 9, 3, 1, 3, 4, 4, 9, 8, 7, 7, 8, 2, 6, 3, 0, 3, 1, 0, 6, 5, 2, 5, 6, 2, 7, 5, 9, 0, 2, 3, 7, 0, 9, 6, 5, 1, 4, 7, 6, 2, 0, 8, 2, 7, 4, 2, 2, 8, 9, 4, 3, 3, 6, 5, 6, 1, 3, 6, 3, 4, 4, 6, 5, 9, 2, 8, 0, 8, 4, 8, 2, 2, 9, 0, 1, 4, 2, 4, 4, 8, 3, 5, 8, 0, 3, 1, 3, 3, 0, 9, 8, 7, 8, 5, 9, 6, 7, 6, 1, 6, 7, 3, 0, 0, 3, 8, 5, 1, 5, 0, 5, 8, 6, 4, 3, 0, 9, 3, 9, 3, 7, 0, 0, 7, 9, 7, 7, 9, 6, 8, 0, 9, 3, 5, 0, 3, 3, 5, 5, 8, 5, 1, 0, 6, 8, 7, 3, 5, 5, 4, 9, 4, 0, 8, 5, 4, 8, 1, 7, 9, 3, 5, 4, 8, 2, 3, 2, 5, 1, 1, 8, 2, 1, 7, 1, 4, 4, 1, 5, 5, 8, 8, 6, 6, 1, 1, 4, 3, 4, 1, 4, 5, 4, 5, 4, 7, 7, 4, 4, 6, 0, 5, 4, 9, 6, 8, 0, 1, 4, 4, 5, 8, 8, 2, 3, 8, 8, 9, 9, 9, 5, 9, 7, 5, 5, 3, 0, 1, 2, 4, 8, 1, 5, 7, 4, 5, 8, 8, 0, 3, 6, 0, 5, 4, 1, 1, 1, 7, 3, 6, 0, 7, 4, 7, 5, 6, 9, 7, 3, 3, 2, 3, 9, 3, 3, 8, 1, 5, 0, 0, 2, 6, 4, 7, 3, 7, 9, 9, 1, 2, 7, 7, 3, 6, 6, 8, 2, 0, 6, 5, 7, 8, 4, 8, 7, 3, 8, 1, 5, 3, 4, 8, 3, 1, 5, 7, 2, 3, 7, 0, 4, 7, 1, 6, 5, 7, 0, 8, 9, 2, 1, 7, 2, 4, 5, 2, 0, 5, 1, 6, 9, 5, 6, 9, 1, 2, 6, 7, 2, 0, 9, 8, 8, 6, 8, 4, 2, 4, 4, 2, 7, 8, 8, 1, 2, 5, 3, 2, 5, 4, 4, 4, 9, 2, 6, 0, 0, 4, 2, 6, 8, 2, 6, 9, 6, 8, 7, 0, 8, 9, 2, 2, 4, 3, 2, 0, 3, 3, 0, 9, 1, 8, 0, 3, 4, 6, 2, 7, 1, 6, 1, 3, 2, 1, 5, 9, 8, 9, 9, 2, 3, 4, 0, 5, 6, 9, 3, 8, 7, 9, 0, 1, 4, 4, 1, 3, 6, 1, 6, 0, 9, 2, 5, 8, 0, 4, 4, 6, 3, 0, 2, 1, 4, 0, 1, 2, 5, 4, 5, 6, 0, 1, 2, 5, 7, 7, 0, 2, 7, 1, 5, 0, 3, 4, 5, 4, 9, 8, 6, 8, 0, 3, 4, 6, 8, 6, 2, 0, 7, 0, 7, 3, 6, 4, 4, 7, 7, 8, 6, 5, 3, 8, 8, 4, 3, 2, 0, 9, 7, 9, 0, 1, 0, 5, 2, 6, 6, 0, 8, 5, 0, 9, 5, 4, 8, 3, 9, 4, 3, 3, 4, 5, 5, 3, 3, 4, 1, 6, 4, 4, 8, 2, 8, 9, 1, 1, 7, 9, 1, 7, 4, 2, 0, 5, 5, 6, 0, 2, 0, 4, 3, 7, 8, 2, 6, 3, 1, 1, 7, 5, 1, 2, 4, 8, 6, 6, 7, 7, 7, 5, 3, 1, 9, 5, 3, 6, 0, 7, 9, 8, 7, 1, 7, 3, 6, 7, 2, 3, 1, 1, 5, 0, 9, 1, 0, 1, 3, 8, 7, 6, 8, 7, 9, 2, 5, 2, 0, 0, 7, 7, 8, 6, 2, 7, 3, 6, 2, 0, 6, 9, 2, 9, 5, 2, 3, 0, 9, 1, 3, 9, 4, 8, 8, 0, 4, 8, 6, 4, 7, 5, 3, 3, 5, 5, 9, 0, 5, 3, 0, 2, 8, 9, 6, 7, 8, 4, 3, 5, 9, 0, 6, 3, 2, 7, 3, 1, 6, 1, 4, 4, 8, 6, 5, 8, 8, 8, 2, 6, 4, 0, 7, 8, 6, 0, 9, 4, 7, 5, 0, 2, 5, 6, 8, 8, 3, 9, 5, 2, 1, 2, 3, 8, 5, 2, 5, 0, 0, 3, 6, 8, 8, 1, 4, 7, 2, 2, 8, 5, 0, 7, 9, 6, 3, 7, 0, 8, 8, 5, 5, 3, 8, 0, 2, 4, 5, 4, 2, 9, 7, 6, 1, 3, 1, 4, 2, 7, 3, 5, 4, 8, 6, 7, 4, 4, 9, 6, 7, 6, 0, 6, 4, 1, 3, 7, 0, 2, 6, 5, 3, 0, 2, 5, 8, 9, 7, 5, 6, 8, 1, 3, 4, 6, 7, 7, 3, 2, 8, 8, 4, 0, 6, 3, 8, 4, 3, 8, 0, 9, 8, 2, 2, 6, 1, 0, 5, 4, 6, 1, 8, 8, 9, 7, 2, 6, 5, 4, 5, 0, 1, 5, 6, 0, 4, 8, 4, 9, 1, 1, 1, 8, 5, 8, 2, 8, 3, 0, 0, 6, 9, 3, 9, 8, 7, 0, 3, 0, 9, 6, 2, 6, 1, 6, 1, 1, 0, 2, 0, 1, 9, 7, 3, 4, 3, 7, 0, 3, 5, 8, 9, 5, 1, 8, 2, 7, 9, 0, 6, 3, 7, 1, 5, 5, 5, 5, 2, 2, 3, 1, 6, 9, 8, 6, 4, 3, 5, 3, 1, 1, 3, 5, 7, 6, 2, 7, 1, 5, 5, 2, 0, 7, 0, 0, 4, 6, 7, 6, 2, 8, 3, 1, 0, 6, 8, 7, 2, 2, 1, 5, 5, 3, 1, 0, 7, 0, 8, 3, 3, 8, 9, 4, 9, 0, 2, 1, 7, 8, 5, 0, 9, 3, 2, 2, 5, 1, 4, 3, 9, 8, 5, 4, 7, 5, 2, 0, 8, 7, 2, 1, 3, 9, 4, 8, 6, 7, 3, 4, 9, 9, 7, 6, 3, 6, 3, 7, 9, 8, 8, 1, 5, 9, 0, 9, 6, 6, 4, 2, 3, 9, 0, 1, 4, 0, 3, 1, 9, 3, 1, 5, 0, 2, 9, 7, 0, 0, 0, 7, 6, 7, 4, 6, 3, 7, 4, 3, 5, 5, 1, 4, 3, 9, 6, 2, 6, 1, 2, 7, 6, 7, 8, 9, 6, 8, 9, 7, 3, 0, 4, 4, 3, 1, 4, 9, 8, 0, 6, 4, 2, 1, 8, 9, 8, 0, 5, 4, 1, 4, 6, 2, 3, 0, 3, 4, 0, 1, 6, 4, 0, 4, 4, 1, 2, 4, 0, 4, 9, 0, 4, 5, 1, 4, 6, 0, 4, 4, 2, 9, 0, 3, 8, 1, 4, 0, 7, 0, 5, 7, 2, 8, 7, 1, 8, 7, 6, 5, 5, 9, 3, 3, 8, 3, 7, 5, 0, 6, 9, 2, 4, 8, 2, 3, 9, 2, 9, 1, 0, 8, 0, 3, 2, 7, 1, 0, 1, 4, 3, 2, 6, 1, 0, 6, 1, 0, 1, 5, 0, 6, 1, 5, 4, 6, 4, 1, 6, 9, 3, 0, 1, 9, 1, 6, 8, 4, 6, 1, 1, 2, 0, 2, 0, 4, 8, 5, 3, 6, 5, 2, 3, 3, 6, 1, 9, 6, 4, 6, 9, 4, 3, 9, 5, 5, 7, 2, 4, 5, 1, 2, 5, 4, 1, 1, 7, 8, 4, 8, 4, 7, 1, 9, 6, 6, 1, 4, 0, 9, 3, 5, 1, 8, 5, 0, 4, 6, 1, 5, 7, 0, 3, 1, 0, 9, 1, 0, 2, 3, 8, 3, 6, 1, 9, 9, 9, 8, 6, 2, 9, 8, 2, 9, 0, 4, 3, 1, 5, 4, 2, 5, 2, 1, 3, 8, 2, 8, 2, 0, 8, 0, 7, 2, 5, 7, 6, 8, 9, 8, 2, 7, 3, 7, 3, 8, 6, 4, 0, 2, 8, 5, 3, 1, 8, 9, 6, 7, 7, 8, 9, 4, 7, 2, 2, 4, 5, 6, 7, 0, 0, 2, 1, 8, 8, 9, 4, 0, 8, 0, 8, 1, 3, 2, 7, 3, 4, 0, 5, 9, 0, 8, 9, 5, 6, 8, 5, 0, 0, 9, 9, 2, 1, 0, 7, 8, 0, 1, 8, 8, 5, 5, 1, 9, 9, 2, 2, 4, 6, 3, 7, 0, 9, 5, 3, 1, 8, 1, 8, 9, 3, 7, 5, 0, 8, 8, 1, 9, 4, 5, 6, 9, 9, 1, 4, 0, 5, 1, 1, 2, 2, 7, 9, 7, 9, 0, 3, 7, 8, 1, 3, 7, 8, 7, 3, 7, 9, 6, 8, 0, 4, 5, 0, 3, 1, 2, 4, 2, 9, 7, 0, 0, 8, 8, 9, 5, 9, 8, 4, 5, 8, 5, 1, 1, 5, 2, 9, 1, 6, 7, 1, 6, 9, 5, 1, 1, 0, 1, 6, 1, 2, 2, 8, 9, 7, 9, 0, 0, 3, 3, 0, 2, 8, 2, 2, 3, 3, 7, 4, 8, 8, 9, 6, 5, 8, 9, 3, 6, 6, 9, 2, 5, 6, 9, 7, 2, 2, 4, 2, 2, 3, 9, 9, 9, 5, 3, 3, 8, 9, 7, 6, 6, 7, 1, 1, 1, 8, 6, 4, 3, 4, 9, 3, 1, 2, 7, 0, 5, 8, 1, 0, 3, 8, 9, 3, 4, 0, 2, 1, 9, 4, 2, 2, 8, 4, 1, 4, 1, 7, 6, 8, 3, 4, 0, 2, 6, 9, 3, 5, 9, 4, 7, 3, 0, 8, 0, 9, 1, 8, 9, 9, 8, 4, 5, 6, 8, 2, 3, 0, 6, 3, 2, 6, 1, 6, 0, 4, 5, 9, 9, 8, 1, 6, 9, 1, 7, 8, 6, 7, 4, 2, 3, 8, 5, 8, 4, 4, 0, 2, 1, 8, 0, 7, 5, 8, 6, 8, 2, 1, 2, 1, 1, 6, 4, 4, 9, 3, 0, 5, 8, 9, 4, 4, 0, 2, 9, 4, 7, 0, 2, 2, 7, 9, 6, 4, 0, 0, 1, 9, 5, 9, 1, 0, 6, 4, 4, 8, 4, 3, 8, 3, 1, 0, 5, 0, 1, 3, 6, 0, 8, 1, 9, 8, 8, 3, 8, 4, 4, 0, 0, 4, 1, 0, 1, 6, 1, 8, 9, 2, 1, 5, 5, 1, 9, 6, 9, 9, 3, 0, 6, 2, 9, 0, 3, 8, 3, 7, 1, 9, 9, 3, 0, 2, 5, 3, 2, 8, 6, 7, 9, 7, 2, 1, 8, 5, 7, 5, 5, 0, 0, 1, 3, 8, 2, 0, 5, 3, 8, 4, 5, 4, 3, 4, 6, 8, 0, 1, 7, 0, 6, 1, 3, 2, 2, 0, 4, 3, 4, 6, 9, 4, 0, 6, 8, 5, 3, 5, 2, 1, 3, 6, 2, 7, 6, 0, 2, 8, 4, 4, 7, 6, 2, 6, 5, 8, 7, 3, 6, 3, 0, 6, 5, 6, 3, 1, 7, 4, 6, 3, 4, 2, 9, 5, 4, 2, 5, 2, 1, 9, 8, 0, 9, 3, 9, 9, 7, 2, 2, 8, 0, 2, 9, 6, 8, 5, 6, 7, 6, 9, 9, 1, 2, 9, 4, 4, 5, 5, 2, 6, 0, 5, 6, 7, 0, 6, 0, 5, 8, 0, 5, 5, 7, 3, 6, 8, 2, 7, 8, 2, 4, 5, 7, 6, 3, 6, 9, 8, 9, 9, 3, 8, 7, 8, 9, 2, 1, 2, 6, 6, 9, 7, 3, 4, 9, 9, 1, 6, 2, 3, 6, 4, 1, 2, 2, 7, 3, 5, 0, 1, 3, 6, 3, 5, 1, 4, 5, 0, 5, 2, 7, 2, 3, 6, 0, 1, 6, 9, 4, 4, 9, 4, 4, 0, 6, 5, 2, 8, 3, 6, 1, 4, 8, 8, 7, 6, 5, 9, 6, 0, 1, 0, 8, 3, 6, 4, 3, 5, 7, 5, 5, 1, 3, 3, 0, 6, 1, 0, 7, 3, 2, 5, 1, 5, 5, 6, 1, 5, 2, 9, 6, 3, 2, 0, 1, 5, 3, 6, 4, 6, 1, 4, 3, 7, 3, 1, 8, 9, 2, 8, 5, 6, 5, 6, 4, 6, 1, 4, 8, 1, 4, 0, 8, 1, 0, 3, 4, 3, 7, 4, 5, 9, 2, 5, 6, 4, 4, 2, 1, 0, 3, 4, 5, 2, 3, 4, 1, 8, 6, 0, 5, 7, 3, 6, 4, 7, 0, 7, 2, 3, 4, 0, 2, 6, 9, 4, 8, 1, 7, 9, 5, 6, 2, 4, 8, 5, 5, 2, 2, 2, 3, 6, 9, 3, 3, 7, 0, 0, 0, 2, 1, 5, 2, 9, 1, 5, 6, 7, 4, 7, 2, 5, 7, 3, 8, 4, 7, 7, 6, 4, 6, 2, 1, 3, 8, 9, 2, 2, 6, 2, 7, 8, 5, 8, 4, 2, 2, 3, 2, 0, 0, 9, 9, 5, 6, 7, 0, 1, 9, 6, 8, 7, 1, 2, 3, 6, 2, 5, 2, 2, 5, 2, 2, 5, 7, 4, 5, 9, 4, 1, 8, 1, 8, 2, 5, 5, 9, 6, 0, 5, 9, 6, 4, 9, 0, 0, 1, 2, 0, 5, 8, 3, 5, 3, 3, 4, 9, 3, 5, 3, 4, 0, 5, 4, 5, 0, 7, 5, 6, 0, 2, 0, 2, 2, 1, 7, 5, 3, 3, 0, 1, 5, 6, 9, 9, 6, 6, 2, 0, 9, 6, 3, 6, 8, 6, 8, 3, 7, 3, 4, 9, 5, 5, 1, 3, 1, 7, 2, 1, 6, 5, 0, 0, 5, 2, 9, 4, 9, 8, 2, 4, 3, 0, 7, 7, 8, 2, 6, 1, 6, 1, 7, 8, 3, 2, 2, 2, 1, 4, 2, 7, 3, 1, 4, 3, 1, 3, 5, 9, 5, 6, 6, 9, 0, 6, 1, 3, 4, 7, 8, 4, 0, 2, 6, 5, 0, 1, 5, 4, 3, 8, 2, 8, 4, 1, 4, 8, 5, 9, 8, 6, 3, 3, 5, 9, 7, 2, 1, 7, 7, 8, 1, 4, 9, 9, 9, 2, 0, 1, 3, 7, 1, 5, 1, 7, 9, 5, 8, 1, 4, 9, 4, 1, 0, 3, 2, 4, 3, 2, 6, 8, 1, 3, 9, 0, 5, 5, 2, 4, 3, 4, 8, 6, 5, 2, 5, 3, 2, 1, 6, 4, 4, 9, 7, 9, 3, 2, 1, 9, 9, 6, 9, 3, 9, 1, 4, 8, 9, 9, 4, 5, 2, 8, 3, 5, 7, 4, 7, 6, 4, 7, 2, 7, 1, 7, 5, 2, 3, 5, 2, 8, 3, 9, 4, 4, 5, 2, 4, 0, 0, 8, 2, 4, 2, 2, 2, 5, 6, 8, 4, 4, 3, 9, 7, 8, 8, 3, 8, 8, 1, 3, 9, 8, 4, 4, 5, 7, 6, 8, 9, 5, 2, 9, 5, 3, 9, 3, 3, 7, 7, 1, 5, 0, 7, 4, 4, 8, 5, 0, 8, 7, 9, 0, 5, 0, 9, 4, 5, 3, 0, 8, 7, 5, 3, 2, 1, 1, 8, 8, 5, 0, 7, 5, 6, 8, 3, 1, 6, 7, 3, 6, 8, 2, 8, 2, 4, 5, 3, 5, 4, 9, 2, 7, 7, 1, 8, 2, 4, 8, 0, 2, 8, 4, 2, 0, 9, 7, 2, 7, 1, 9, 2, 3, 6, 7, 2, 4, 7, 9, 8, 7, 6, 1, 4, 2, 8, 3, 6, 4, 3, 2, 5, 9, 0, 0, 8, 7, 4, 1, 4, 5, 1, 4, 5, 3, 4, 9, 8, 2, 9, 2, 9, 3, 4, 2, 2, 0, 0, 5, 8, 5, 6, 3, 4, 3, 6, 4, 1, 7, 7, 3, 4, 8, 6, 5, 6, 9, 7, 5, 0, 5, 7, 2, 7, 5, 5, 2, 4, 2, 5, 5, 8, 8, 9, 5, 3, 7, 4, 4, 1, 2, 2, 8, 8, 0, 2, 9, 6, 3, 1, 4, 0, 2, 9, 3, 6, 5, 1, 1, 2, 7, 6, 6, 3, 7, 7, 6, 5, 9, 1, 0, 5, 6, 7, 7, 0, 4, 1, 0, 5, 1, 9, 1, 1, 7, 0, 3, 0, 5, 9, 5, 3, 7, 0, 1, 2, 8, 8, 7, 1, 8, 8, 3, 7, 4, 0, 5, 3, 9, 8, 4, 5, 5, 4, 7, 2, 7, 4, 0, 8, 9, 6, 6, 6, 5, 4, 6, 6, 6, 8, 0, 6, 9, 4, 0, 6, 3, 4, 2, 0, 8, 6, 2, 9, 6, 9, 0, 4, 3, 5, 9, 4, 8, 1, 6, 4, 0, 2, 1, 8, 5, 1, 7, 4, 8, 5, 4, 2, 6, 9, 2, 0, 3, 2, 9, 2, 7, 8, 8, 3, 9, 0, 6, 7, 2, 6, 3, 5, 9, 0, 9, 7, 4, 6, 0, 0, 4, 1, 3, 8, 3, 5, 3, 0, 5, 8, 0, 8, 6, 2, 8, 3, 6, 4, 5, 7, 9, 1, 9, 0, 5, 8, 0, 0, 0, 4, 6, 9, 9, 0, 3, 6, 3, 1, 3, 3, 8, 4, 2, 7, 4, 3, 3, 7, 8, 3, 9, 8, 4, 8, 4, 0, 2, 5, 7, 3, 6, 1, 4, 8, 4, 0, 3, 8, 6, 3, 4, 8, 4, 9, 1, 2, 5, 7, 3, 4, 4, 2, 2, 0, 7, 4, 4, 8, 2, 8, 3, 4, 8, 9, 6, 3, 9, 4, 7, 7, 8, 5, 9, 5, 1, 9, 4, 7, 4, 6, 3, 3, 0, 6, 9, 7, 4, 9, 6, 5, 5, 7, 3, 0, 8, 9, 1, 7, 6, 0, 8, 1, 7, 5, 8, 2, 0, 5, 0, 3, 5, 3, 5, 1, 1, 6, 9, 3, 8, 5, 3, 9, 0, 6, 3, 4, 4, 6, 8, 2, 5, 3, 8, 8, 3, 4, 9, 3, 3, 2, 2, 2, 9, 5, 2, 2, 8, 6, 3, 2, 0, 4, 5, 0, 3, 6, 9, 1, 6, 0, 7, 9, 5, 0, 9, 1, 2, 8, 5, 0, 7, 6, 0, 9, 4, 3, 5, 9, 2, 8, 4, 0, 9, 4, 2, 2, 6, 7, 0, 2, 0, 1, 5, 2, 1, 8, 0, 5, 9, 7, 0, 0, 2, 0, 9, 5, 6, 4, 4, 6, 8, 0, 8, 7, 2, 8, 0, 4, 4, 1, 4, 3, 5, 6, 1, 8, 0, 8, 9, 3, 9, 6, 2, 3, 2, 0, 3, 9, 5, 4, 6, 4, 6, 1, 0, 6, 3, 1, 3, 2, 8, 8, 2, 9, 6, 2, 3, 9, 2, 4, 1, 7, 7, 9, 9, 4, 4, 5, 2, 5, 9, 6, 7, 0, 1, 2, 6, 1, 4, 6, 9, 7, 9, 8, 0, 8, 9, 8, 3, 9, 2, 5, 2, 8, 4, 5, 4, 4, 1, 4, 3, 9, 0, 4, 5, 7, 9, 6, 3, 3, 0, 7, 3, 9, 5, 4, 5, 8, 9, 1, 6, 1, 7, 4, 2, 6, 1, 8, 1, 5, 2, 6, 6, 8, 1, 5, 9, 5, 1, 7, 1, 7, 2, 3, 0, 4, 4, 9, 2, 8, 9, 6, 7, 0, 6, 5, 4, 9, 6, 5, 9, 5, 9, 0, 9, 1, 4, 8, 2, 8, 9, 3, 0, 1, 6, 5, 3, 0, 1, 6, 1, 2, 7, 2, 8, 3, 9, 5, 6, 2, 9, 1, 9, 1, 6, 6, 5, 2, 7, 2, 7, 4, 1, 8, 2, 5, 8, 7, 4, 0, 3, 5, 4, 5, 6, 2, 7, 9, 5, 8, 9, 3, 4, 9, 1, 7, 0, 5, 7, 8, 5, 6, 0, 7, 8, 3, 6, 2, 0, 1, 9, 7, 3, 1, 4, 1, 2, 8, 4, 7, 7, 0, 6, 9, 0, 9, 1, 3, 5, 1, 4, 1, 0, 7, 8, 1, 2, 3, 1, 5, 3, 4, 8, 6, 4, 7, 9, 8, 5, 6, 1, 2, 1, 3, 3, 3, 8, 1, 9, 7, 7, 6, 9, 8, 4, 1, 1, 7, 3, 3, 9, 9, 4, 3, 8, 2, 8, 0, 2, 0, 8, 5, 7, 2, 1, 4, 2, 9, 6, 2, 0, 4, 3, 6, 1, 3, 0, 3, 0, 9, 2, 7, 8, 6, 2, 9, 7, 9, 9, 3, 6, 0, 3, 9, 8, 4, 6, 2, 9, 5, 7, 8, 7, 2, 8, 5, 4, 4, 1, 5, 5, 3, 0, 1, 4, 1, 3, 1, 4, 8, 6, 7, 6, 7, 0, 0, 1, 7, 3, 5, 1, 6, 0, 8, 7, 7, 1, 6, 9, 8, 2, 8, 2, 0, 1, 6, 0, 6, 8, 2, 3, 6, 9, 2, 9, 3, 0, 4, 8, 3, 7, 9, 4, 4, 2, 4, 1, 7, 7, 9, 2, 8, 8, 3, 9, 1, 7, 0, 0, 8, 7, 5, 5, 8, 7, 0, 6, 7, 2, 5, 7, 9, 9, 3, 9, 0, 3, 4, 3, 0, 2, 0, 7, 0, 3, 4, 8, 0, 5, 2, 7, 0, 8, 3, 2, 8, 1, 9, 1, 8, 0, 9, 5, 7, 7, 8, 8, 6, 9, 2, 1, 4, 1, 7, 5, 4, 7, 5, 1, 8, 8, 9, 9, 8, 2, 5, 1, 6, 4, 5, 8, 4, 1, 8, 1, 7, 4, 1, 8, 5, 9, 0, 8, 7, 5, 9, 8, 5, 3, 1, 9, 3, 4, 4, 5, 4, 1, 5, 4, 2, 8, 3, 3, 7, 5, 4, 2, 1, 2, 0, 7, 4, 7, 4, 0, 0, 1, 2, 5, 6, 8, 5, 1, 7, 5, 9, 7, 8, 9, 8, 7, 3, 1, 3, 6, 9, 0, 1, 1, 5, 9, 1, 9, 1, 2, 4, 8, 1, 4, 9, 8, 7, 1, 9, 9, 1, 4, 5, 3, 5, 5, 9, 5, 6, 1, 3, 8, 7, 4, 2, 8, 1, 7, 6, 1, 2, 8, 8, 7, 0, 5, 1, 4, 4, 7, 8, 7, 7, 5, 6, 3, 4, 9, 8, 6, 0, 9, 6, 7, 3, 8, 9, 6, 6, 8, 0, 5, 8, 5, 0, 0, 0, 4, 9, 3, 1, 7, 4, 2, 6, 7, 6, 4, 0, 6, 4, 5, 4, 7, 4, 0, 1, 1, 3, 8, 7, 8, 8, 0, 7, 2, 5, 8, 4, 3, 0, 6, 5, 6, 4, 6, 9, 0, 0, 8, 0, 4, 3, 5, 8, 0, 2, 9, 9, 4, 4, 9, 0, 8, 0, 9, 3, 0, 1, 6, 9, 0, 3, 6, 6, 1, 0, 2, 5, 7, 1, 5, 7, 1, 4, 6, 5, 6, 0, 1, 7, 1, 6, 4, 6, 1, 6, 0, 4, 6, 6, 3, 9, 7, 2, 9, 1, 4, 7, 9, 9, 5, 9, 9, 2, 4, 9, 5, 2, 8, 3, 0, 1, 1, 2, 9, 5, 6, 0, 0, 9, 4, 5, 5, 6, 5, 9, 8, 2, 5, 4, 9, 6, 7, 6, 7, 7, 1, 2, 1, 0, 1, 4, 0, 6, 5, 2, 0, 5, 7, 7, 0, 4, 1, 7, 8, 5, 2, 0, 9, 7, 9, 4, 2, 9, 5, 6, 5, 1, 9, 3, 9, 3, 4, 7, 4, 5, 6, 5, 0, 9, 4, 9, 5, 6, 3, 8, 0, 9, 4, 2, 1, 5, 9, 4, 4, 5, 9, 9, 0, 4, 0, 7, 9, 9, 9, 6, 8, 3, 7, 2, 7, 1, 6, 0, 8, 0, 0, 5, 1, 0, 5, 5, 3, 3, 2, 5, 1, 0, 3, 8, 1, 2, 7, 2, 0, 7, 1, 9, 3, 0, 1, 9, 9, 9, 3, 6, 1, 3, 9, 4, 4, 3, 6, 8, 1, 2, 0, 8, 9, 5, 3, 4, 0, 0, 8, 8, 5, 6, 5, 2, 3, 7, 6, 5, 1, 0, 8, 9, 3, 1, 2, 4, 7, 1, 3, 5, 2, 8, 2, 6, 5, 4, 0, 8, 4, 3, 3, 7, 8, 3, 7, 7, 9, 0, 7, 4, 3, 5, 1, 1, 3, 8, 2, 0, 3, 2, 4, 0, 4, 6, 1, 3, 4, 2, 6, 0, 8, 2, 9, 6, 7, 0, 3, 4, 8, 6, 3, 0, 0, 1, 8, 3, 1, 3, 1, 4, 7, 1, 9, 8, 9, 4, 5, 9, 2, 6, 0, 3, 9, 6, 4, 7, 1, 5, 8, 5, 0, 6, 2, 7, 2, 6, 7, 8, 3, 0, 9, 7, 8, 3, 6, 8, 6, 8, 6, 1, 1, 3, 2, 8, 0, 3, 3, 1, 3, 0, 3, 0, 2, 7, 3, 8, 8, 9, 2, 2, 4, 8, 2, 4, 5, 2, 6, 6, 2, 5, 6, 8, 6, 8, 1, 1, 6, 4, 3, 8, 7, 5, 2, 5, 7, 6, 8, 8, 3, 4, 8, 7, 5, 6, 0, 1, 2, 2, 7, 8, 7, 0, 3, 1, 3, 6, 2, 4, 4, 0, 1, 5, 2, 4, 7, 2, 6, 5, 2, 0, 4, 3, 4, 3, 5, 2, 7, 3, 8, 3, 1, 7, 1, 0, 0, 3, 9, 2, 7, 5, 8, 7, 6, 6, 6, 4, 6, 3, 7, 7, 8, 2, 7, 0, 0, 8, 2, 5, 4, 2, 0, 5, 6, 8, 5, 7, 4, 0, 9, 3, 5, 8, 1, 0, 6, 1, 6, 8, 2, 6, 4, 0, 6, 4, 1, 7, 2, 2, 5, 3, 9, 1, 3, 0, 9, 1, 3, 1, 8, 0, 4, 8, 2, 2, 8, 0, 0, 2, 3, 5, 2, 8, 5, 9, 9, 2, 3, 9, 9, 6, 5, 6, 5, 5, 1, 5, 2, 0, 0, 6, 9, 9, 6, 4, 5, 1, 8, 3, 5, 4, 6, 5, 6, 7, 4, 3, 2, 1, 9, 0, 0, 0, 3, 5, 9, 0, 4, 2, 7, 1, 4, 2, 4, 6, 3, 9, 6, 8, 2, 1, 4, 4, 5, 5, 9, 2, 8, 2, 7, 7, 8, 7, 0, 3, 2, 1, 9, 6, 8, 0, 5, 6, 4, 3, 5, 3, 1, 2, 2, 5, 5, 4, 9, 3, 3, 1, 3, 6, 8, 8, 0, 7, 3, 8, 1, 6, 2, 4, 9, 3, 2, 8, 3, 8, 7, 2, 0, 2, 5, 5, 3, 9, 4, 4, 2, 3, 7, 9, 3, 2, 7, 8, 7, 6, 7, 3, 7, 9, 9, 0, 2, 6, 2, 3, 0, 4, 9, 1, 5, 4, 2, 4, 3, 1, 6, 0, 0, 0, 5, 9, 9, 0, 7, 1, 1, 1, 6, 3, 8, 3, 9, 1, 0, 4, 2, 8, 5, 0, 4, 8, 7, 2, 4, 7, 5, 7, 5, 6, 8, 3, 2, 2, 2, 3, 6, 0, 8, 1, 5, 1, 7, 2, 2, 4, 4, 3, 8, 3, 4, 5, 4, 2, 4, 3, 4, 2, 9, 3, 5, 5, 5, 5, 0, 5, 5, 2, 3, 0, 4, 9, 8, 4, 6, 7, 3, 8, 8, 4, 4, 2, 4, 3, 6, 2, 9, 6, 7, 7, 2, 1, 6, 4, 6, 9, 2, 6, 0, 3, 1, 8, 7, 1, 1, 6, 3, 4, 3, 7, 0, 4, 4, 7, 5, 3, 5, 1, 8, 6, 8, 3, 9, 6, 9, 7, 0, 6, 0, 8, 0, 0, 3, 7, 3, 8, 0, 8, 8, 2, 0, 7, 3, 9, 4, 7, 7, 9, 0, 9, 3, 4, 6, 8, 1, 1, 1, 9, 9, 5, 6, 5, 8, 7, 0, 9, 8, 5, 0, 5, 1, 3, 4, 4, 0, 8, 5, 6, 8, 2, 8, 6, 1, 7, 9, 3, 5, 1, 7, 7, 7, 1, 2, 2, 5, 9, 9, 9, 3, 9, 0, 0, 1, 9, 8, 4, 2, 6, 8, 1, 6, 1, 5, 9, 4, 8, 0, 0, 0, 2, 9, 4, 2, 7, 8, 6, 8, 9, 2, 5, 2, 2, 4, 2, 5, 6, 7, 0, 0, 6, 1, 5, 5, 3, 9, 8, 9, 4, 6, 2, 2, 3, 2, 5, 5, 0, 4, 1, 2, 9, 1, 1, 1, 9, 0, 1, 8, 3, 8, 5, 5, 1, 1, 5, 0, 6, 2, 7, 9, 4, 3, 7, 9, 8, 7, 1, 1, 1, 1, 8, 5, 4, 0, 8, 2, 7, 3, 5, 8, 6, 7, 6, 3, 5, 9, 9, 3, 0, 3, 5, 4, 9, 0, 9, 1, 9, 7, 9, 7, 0, 7, 5, 1, 8, 8, 3, 1, 9, 2, 2, 4, 7, 4, 3, 2, 3, 5, 2, 7, 3, 9, 6, 2, 3, 7, 7, 9, 1, 9, 3, 6, 3, 2, 1, 0, 6, 5, 7, 2, 4, 0, 4, 2, 9, 8, 4, 2, 0, 8, 3, 6, 8, 9, 4, 1, 2, 4, 1, 3, 8, 0, 1, 0, 8, 0, 2, 5, 3, 2, 5, 1, 1, 7, 4, 8, 0, 5, 2, 2, 2, 4, 3, 7, 2, 7, 3, 3, 4, 5, 9, 3, 9, 4, 7, 8, 3, 4, 4, 9, 8, 4, 0, 4, 9, 2, 9, 7, 0, 4, 3, 3, 1, 2, 3, 0, 4, 7, 1, 0, 9, 8, 5, 9, 3, 1, 1, 1, 7, 6, 2, 5, 9, 1, 2, 6, 8, 1, 3, 0, 9, 1, 9, 4, 3, 8, 4, 8, 7, 5, 9, 6, 7, 3, 3, 3, 5, 5, 0, 4, 5, 7, 2, 5, 9, 9, 3, 7, 8, 8, 6, 9, 7, 7, 7, 7, 8, 1, 0, 0, 8, 9, 2, 3, 3, 9, 2, 6, 4, 0, 6, 8, 4, 1, 6, 6, 2, 1, 7, 2, 0, 6, 6, 7, 2, 8, 0, 2, 0, 6, 0, 9, 6, 7, 7, 6, 7, 8, 4, 9, 8, 8, 9, 0, 9, 0, 5, 2, 2, 7, 6, 8, 0, 1, 7, 9, 0, 0, 3, 5, 6, 9, 6, 8, 6, 0, 9, 1, 4, 6, 5, 5, 7, 5, 7, 5, 6, 9, 4, 1, 6, 3, 5, 0, 7, 6, 2, 7, 3, 6, 1, 1, 3, 9, 0, 5, 4, 1, 2, 0, 4, 2, 1, 5, 9, 3, 5, 7, 6, 3, 1, 0, 9, 0, 8, 4, 6, 0, 6, 3, 3, 6, 9, 7, 1, 7, 7, 1, 9, 2, 9, 4, 3, 3, 3, 9, 2, 9, 2, 6, 9, 3, 5, 2, 1, 0, 4, 4, 9, 3, 5, 0, 9, 2, 1, 6, 3, 9, 9, 1, 1, 4, 6, 7, 5, 1, 2, 0, 9, 6, 1, 1, 1, 7, 6, 7, 9, 3, 3, 8, 3, 0, 4, 8, 2, 8, 9, 9, 5, 1, 8, 9, 8, 1, 2, 5, 9, 0, 5, 1, 7, 6, 0, 0, 0, 6, 1, 5, 8, 8, 5, 8, 0, 4, 9, 3, 2, 8, 9, 6, 1, 3, 4, 4, 3, 5, 6, 7, 7, 4, 9, 7, 3, 2, 4, 6, 6, 8, 1, 7, 9, 1, 7, 1, 5, 6, 4, 0, 9, 9, 5, 0, 0, 4, 1, 1, 0, 0, 3, 1, 8, 1, 4, 4, 4, 2, 8, 6, 6, 9, 9, 6, 4, 1, 6, 6, 6, 7, 0, 2, 2, 1, 8, 0, 8, 1, 9, 9, 3, 8, 8, 8, 6, 6, 7, 7, 7, 6, 2, 6, 4, 0, 1, 1, 3, 5, 6, 0, 4, 5, 9, 7, 4, 5, 6, 8, 3, 6, 1, 8, 9, 7, 7, 7, 1, 9, 4, 0, 3, 9, 0, 2, 4, 0, 0, 7, 7, 5, 4, 4, 5, 2, 5, 5, 9, 0, 4, 6, 0, 6, 8, 5, 6, 5, 3, 7, 7, 8, 4, 7, 2, 6, 9, 5, 2, 2, 7, 4, 2, 5, 8, 1, 0, 8, 2, 1, 7, 6, 0, 6, 6, 0, 0, 4, 2, 1, 1, 4, 4, 8, 7, 8, 0, 0, 6, 8, 4, 5, 7, 2, 5, 5, 9, 4, 8, 8, 4, 5, 6, 3, 4, 7, 8, 2, 5, 3, 1, 6, 4, 6, 1, 0, 8, 7, 6, 8, 1, 2, 8, 5, 4, 0, 5, 2, 0, 9, 7, 8, 8, 6, 9, 5, 9, 3, 6, 5, 8, 6, 9, 2, 0, 1, 3, 1, 6, 2, 3, 4, 2, 6, 8, 5, 2, 3, 7, 1, 2, 9, 9, 2, 9, 6, 8, 3, 2, 0, 3, 7, 7, 4, 7, 7, 0, 5, 2, 1, 9, 6, 1, 7, 4, 7, 9, 6, 7, 3, 4, 9, 0, 5, 1, 4, 8, 6, 1, 3, 3, 7, 7, 4, 3, 3, 1, 2, 9, 2, 2, 3, 0, 0, 1, 0, 8, 2, 9, 5, 3, 9, 1, 3, 2, 3, 5, 9, 2, 7, 3, 6, 4, 2, 9, 2, 0, 5, 8, 2, 9, 6, 5, 8, 5, 0, 2, 3, 5, 8, 9, 9, 7, 2, 4, 2, 1, 5, 9, 7, 5, 8, 7, 4, 2, 2, 0, 9, 5, 0, 2, 5, 7, 2, 0, 9, 0, 2, 8, 8, 0, 8, 6, 4, 5, 4, 4, 6, 8, 1, 5, 0, 2, 1, 4, 3, 6, 0, 5, 0, 3, 8, 6, 4, 6, 1, 4, 9, 8, 7, 2, 9, 1, 3, 1, 4, 2, 2, 2, 4, 4, 4, 1, 2, 4, 3, 2, 2, 3, 1, 3, 9, 8, 1, 3, 1, 7, 9, 4, 3, 0, 0, 7, 7, 3, 4, 9, 2, 6, 8, 9, 0, 8, 3, 7, 5, 3, 7, 8, 7, 0, 3, 4, 1, 9, 5, 2, 8, 4, 7, 2, 8, 7, 5, 5, 7, 2, 0, 4, 2, 7, 9, 7, 9, 0, 0, 3, 3, 0, 8, 2, 6, 4, 7, 6, 5, 2, 4, 3, 4, 9, 9, 7, 5, 7, 0, 9, 5, 1, 2, 0, 6, 6, 3, 2, 0, 6, 7, 4, 7, 0, 7, 1, 2, 7, 6, 7, 0, 0, 3, 3, 4, 6, 9, 4, 5, 3, 4, 2, 0, 0, 6, 0, 7, 5, 0, 9, 0, 1, 3, 2, 9, 3, 3, 7, 9, 0, 0, 0, 1, 6, 7, 1, 6, 0, 9, 0, 6, 7, 9, 9, 0, 8, 5, 5, 2, 7, 4, 3, 1, 3, 5, 5, 0, 0, 5, 1, 5, 2, 1, 0, 9, 9, 3, 1, 9, 0, 3, 4, 2, 6, 7, 8, 1, 1, 7, 1, 4, 2, 3, 6, 4, 6, 0, 2, 2, 0, 9, 9, 3, 6, 6, 2, 0, 6, 6, 0, 0, 9, 3, 3, 5, 6, 4, 8, 5, 4, 3, 0, 2, 0, 4, 8, 2, 6, 1, 3, 3, 5, 0, 2, 5, 4, 9, 0, 8, 3, 9, 6, 6, 9, 9, 5, 7, 7, 3, 6, 6, 4, 8, 9, 1, 5, 7, 9, 7, 6, 4, 6, 9, 9, 4, 2, 4, 3, 3, 6, 0, 7, 4, 4, 8, 1, 5, 4, 4, 4, 9, 7, 3, 3, 6, 6, 9, 8, 4, 0, 4, 9, 9, 6, 5, 8, 4, 4, 3, 1, 5, 8, 3, 2, 2, 1, 5, 1, 4, 0, 0, 6, 9, 8, 2, 4, 9, 9, 5, 3, 4, 5, 3, 5, 8, 4, 7, 2, 3, 8, 2, 9, 6, 3, 4, 6, 3, 9, 1, 8, 1, 0, 9, 3, 0, 2, 7, 4, 1, 8, 9, 1, 5, 3, 2, 8, 4, 2, 6, 2, 5, 1, 7, 3, 9, 5, 4, 1, 9, 0, 8, 9, 0, 8, 8, 6, 4, 6, 9, 3, 5, 9, 6, 5, 2, 6, 9, 1, 0, 5, 8, 4, 3, 1, 3, 6, 2, 9, 8, 2, 9, 8, 1, 2, 1, 5, 1, 2, 4, 6, 6, 8, 7, 2, 5, 5, 5, 5, 5, 3, 7, 1, 6, 8, 4, 3, 7, 7, 7, 4, 5, 6, 7, 7, 7, 0, 8, 7, 1, 5, 5, 6, 8, 9, 4, 9, 6, 6, 4, 0, 4, 5, 8, 0, 0, 3, 5, 0, 8, 1, 8, 8, 7, 9, 2, 7, 7, 2, 1, 1, 4, 7, 3, 5, 0, 8, 0, 8, 7, 4, 9, 0, 5, 7, 8, 6, 9, 8, 2, 8, 5, 4, 3, 5, 5, 5, 0, 2, 0, 7, 4, 4, 7, 1, 6, 5, 8, 0, 4, 9, 3, 1, 1, 0, 9, 1, 3, 6, 1, 2, 9, 1, 0, 3, 0, 0, 4, 9, 2, 2, 3, 8, 8, 7, 1, 6, 4, 5, 9, 6, 4, 6, 1, 2, 1, 4, 0, 6, 9, 1, 5, 6, 5, 0, 1, 3, 2, 5, 3, 9, 3, 6, 7, 2, 4, 2, 3, 8, 7, 5, 5, 7, 9, 8, 5, 9, 0, 6, 7, 6, 7, 9, 3, 4, 8, 4, 2, 1, 1, 7, 8, 2, 5, 3, 9, 0, 5, 9, 4, 7, 9, 7, 0, 2, 5, 7, 6, 5, 9, 4, 9, 0, 9, 3, 1, 2, 3, 9, 9, 4, 9, 9, 9, 0, 8, 6, 2, 5, 3, 1, 5, 5, 9, 0, 3, 8, 1, 8, 6, 3, 5, 8, 7, 5, 1, 0, 4, 8, 3, 2, 7, 9, 1, 4, 5, 7, 0, 2, 8, 2, 8, 4, 6, 1, 4, 8, 4, 0, 6, 5, 4, 2, 1, 0, 2, 1, 7, 6, 4, 6, 7, 6, 7, 1, 6, 1, 9, 0, 4, 7, 3, 1, 3, 5, 6, 1, 0, 7, 8, 8, 9, 1, 5, 6, 2, 3, 3, 4, 1, 9, 4, 7, 8, 2, 0, 5, 3, 9, 2, 3, 4, 6, 7, 9, 3, 5, 8, 2, 4, 4, 4, 6, 4, 9, 4, 6, 5, 4, 9, 2, 7, 1, 4, 8, 0, 0, 4, 6, 1, 7, 2, 6, 6, 4, 0, 9, 3, 0, 0, 2, 9, 3, 2, 3, 5, 0, 1, 7, 6, 5, 0, 0, 7, 5, 8, 2, 8, 9, 6, 1, 0, 0, 2, 2, 6, 2, 5, 2, 9, 6, 1, 1, 9, 6, 0, 5, 5, 9, 4, 3, 5, 7, 4, 7, 5, 2, 2, 9, 8, 7, 2, 9, 0, 4, 0, 0, 4, 1, 7, 7, 5, 9, 0, 3, 2, 5, 1, 7, 1, 2, 4, 9, 0, 6, 6, 1, 1, 7, 9, 1, 4, 6, 0, 2, 2, 4, 2, 4, 9, 5, 0, 6, 6, 9, 4, 0, 5, 3, 7, 6, 8, 0, 2, 3, 5, 0, 2, 8, 6, 0, 8, 0, 1, 9, 9, 5, 7, 4, 7, 4, 5, 5, 6, 5, 9, 7, 3, 2, 8, 1, 1, 6, 3, 9, 9, 2, 2, 8, 7, 7, 1, 9, 7, 4, 0, 5, 6, 6, 6, 5, 8, 6, 4, 4, 0, 6, 8, 7, 0, 0, 5, 1, 5, 4, 7, 3, 9, 2, 8, 6, 0, 6, 5, 2, 4, 6, 3, 3, 7, 0, 0, 6, 6, 4, 4, 3, 5, 5, 3, 9, 8, 7, 8, 3, 9, 7, 0, 1, 8, 3, 1, 6, 2, 4, 0, 1, 4, 8, 6, 6, 3, 8, 8, 4, 7, 2, 7, 6, 9, 9, 2, 3, 9, 7, 8, 1, 1, 8, 1, 0, 3, 7, 2, 9, 6, 0, 6, 7, 7, 1, 3, 0, 7, 5, 9, 4, 6, 0, 4, 6, 9, 1, 2, 5, 6, 3, 7, 1, 8, 0, 7, 9, 8, 9, 7, 4, 1, 9, 6, 4, 3, 5, 8, 4, 3, 2, 8, 7, 5, 5, 2, 4, 8, 6, 0, 0, 0, 5, 0, 9, 7, 9, 5, 4, 3, 7, 4, 3, 3, 6, 3, 0, 0, 6, 7, 3, 4, 3, 5, 3, 1, 3, 4, 9, 9, 4, 2, 5, 1, 2, 1, 8, 7, 5, 5, 7, 2, 6, 3, 9, 4, 4, 0, 1, 6, 3, 7, 9, 4, 2, 7, 9, 5, 7, 0, 8, 9, 9, 0, 5, 3, 6, 7, 2, 7, 6, 2, 1, 6, 9, 2, 9, 1, 6, 1, 9, 0, 5, 5, 7, 7, 8, 6, 9, 1, 7, 2, 3, 8, 2, 3, 0, 6, 1, 1, 9, 2, 3, 0, 0, 7, 9, 8, 8, 3, 0, 6, 8, 8, 8, 1, 2, 3, 0, 0, 2, 0, 4, 1, 2, 8, 9, 5, 6, 4, 6, 2, 5, 6, 0, 7, 7, 0, 7, 5, 6, 9, 0, 1, 5, 3, 9, 4, 0, 0, 2, 5, 9, 0, 3, 8, 9, 5, 6, 5, 9, 8, 4, 0, 1, 5, 1, 0, 4, 2, 4, 0, 9, 5, 5, 0, 4, 2, 3, 0, 3, 9, 4, 2, 5, 1, 9, 8, 1, 2, 7, 6, 7, 7, 4, 2, 2, 5, 3, 3, 3, 9, 8, 5, 3, 8, 5, 2, 7, 3, 9, 7, 7, 9, 5, 9, 1, 4, 3, 0, 3, 1, 7, 4, 1, 7, 7, 3, 1, 8, 1, 7, 9, 3, 0, 8, 4, 2, 2, 3, 5, 0, 5, 8, 5, 4, 5, 5, 9, 4, 0, 6, 3, 9, 6, 0, 7, 6, 8, 6, 0, 4, 8, 9, 4, 0, 2, 1, 1, 1, 5, 8, 0, 6, 3, 0, 6, 0, 0, 1, 0, 2, 4, 8, 9, 8, 3, 9, 8, 3, 9, 5, 4, 0, 4, 0, 6, 7, 8, 7, 3, 5, 4, 5, 9, 9, 3, 6, 9, 5, 9, 8, 2, 6, 5, 1, 8, 5, 3, 4, 3, 6, 7, 7, 8, 8, 0, 8, 4, 9, 4, 0, 7, 2, 5, 9, 6, 4, 5, 4, 3, 8, 1, 3, 4, 3, 4, 5, 3, 4, 2, 0, 4, 6, 5, 4, 9, 3, 8, 0, 0, 3, 2, 4, 9, 7, 1, 8, 6, 4, 7, 0, 9, 2, 9, 6, 9, 8, 8, 6, 9, 7, 3, 4, 0, 5, 9, 6, 6, 0, 8, 1, 2, 2, 9, 0, 5, 0, 1, 4, 6, 8, 4, 1, 7, 1, 5, 2, 1, 0, 4, 5, 2, 6, 8, 5, 5, 5, 0, 7, 1, 5, 5, 7, 1, 3, 1, 9, 6, 0, 5, 5, 4, 3, 3, 8, 2, 8, 3, 9, 5, 9, 3, 4, 7, 2, 3, 5, 6, 7, 0, 1, 9, 4, 1, 0, 5, 8, 6, 4, 6, 4, 0, 0, 7, 0, 7, 0, 6, 4, 1, 9, 6, 7, 1, 4, 9, 7, 9, 0, 3, 7, 3, 6, 6, 1, 0, 4, 6, 7, 2, 9, 1, 0, 3, 2, 0, 2, 2, 5, 5, 3, 4, 8, 1, 8, 3, 5, 9, 5, 2, 7, 5, 3, 9, 2, 0, 8, 0, 2, 7, 5, 6, 7, 4, 0, 1, 3, 9, 7, 3, 0, 3, 3, 1, 3, 9, 6, 5, 4, 4, 7, 1, 1, 3, 2, 5, 2, 9, 1, 7, 9, 7, 2, 0, 7, 7, 2, 6, 1, 5, 2, 8, 1, 1, 8, 5, 1, 1, 5, 3, 7, 4, 8, 0, 9, 9, 7, 1, 4, 5, 2, 3, 6, 8, 4, 6, 3, 1, 3, 8, 7, 0, 1, 8, 8, 7, 5, 0, 1, 7, 1, 1, 5, 4, 7, 2, 6, 1, 8, 8, 4, 0, 0, 3, 2, 9, 7, 7, 0, 6, 8, 4, 5, 4, 7, 5, 6, 5, 6, 0, 7, 4, 0, 2, 7, 1, 8, 7, 4, 2, 7, 5, 9, 0, 2, 2, 1, 8, 3, 8, 4, 5, 0, 6, 6, 8, 8, 5, 2, 3, 7, 4, 9, 0, 9, 3, 4, 9, 5, 5, 7, 4, 3, 9, 3, 0, 4, 6, 9, 1, 9, 3, 4, 1, 9, 0, 0, 5, 3, 3, 7, 6, 4, 6, 4, 5, 2, 6, 4, 9, 5, 0, 2, 6, 9, 5, 7, 8, 9, 8, 1, 3, 1, 7, 5, 7, 4, 4, 7, 1, 3, 3, 9, 6, 7, 9, 2, 6, 3, 3, 4, 9, 0, 9, 7, 1, 9, 0, 5, 8, 4, 7, 3, 8, 1, 2, 8, 4, 2, 4, 9, 5, 8, 7, 1, 5, 0, 6, 5, 0, 4, 0, 6, 4, 7, 4, 9, 7, 2, 8, 3, 5, 6, 4, 1, 4, 7, 9, 6, 4, 9, 8, 8, 3, 1, 1, 1, 5, 9, 4, 2, 1, 1, 0, 7, 5, 5, 2, 1, 8, 0, 6, 8, 4, 1, 2, 8, 5, 9, 5, 9, 0, 1, 7, 5, 2, 7, 4, 7, 9, 9, 9, 1, 0, 9, 1, 7, 4, 9, 8, 9, 9, 6, 1, 9, 4, 8, 2, 0, 1, 2, 9, 7, 5, 6, 8, 3, 9, 6, 8, 5, 5, 3, 9, 0, 8, 3, 8, 6, 2, 0, 3, 3, 6, 5, 0, 9, 8, 7, 5, 3, 4, 4, 4, 6, 4, 6, 2, 8, 2, 9, 6, 7, 8, 1, 1, 6, 5, 5, 9, 5, 8, 4, 0, 5, 3, 5, 4, 8, 9, 2, 3, 3, 6, 2, 2, 1, 9, 3, 2, 7, 5, 0, 4, 9, 3, 1, 8, 3, 3, 6, 8, 2, 6, 2, 3, 0, 3, 4, 3, 5, 6, 5, 9, 9, 0, 7, 5, 1, 9, 3, 5, 4, 7, 0, 4, 2, 2, 2, 8, 1, 9, 6, 6, 0, 3, 0, 9, 2, 6, 2, 4, 7, 4, 3, 1, 4, 0, 6, 7, 2, 8, 3, 4, 1, 1, 8, 0, 3, 7, 4, 4, 9, 9, 2, 1, 5, 0, 8, 6, 0, 8, 9, 2, 6, 4, 7, 1, 2, 1, 6, 8, 2, 9, 3, 5, 4, 7, 5, 3, 8, 1, 8, 9, 1, 2, 4, 8, 2, 7, 4, 7, 0, 9, 6, 1, 4, 2, 6, 4, 6, 5, 1, 2, 0, 6, 5, 8, 1, 4, 2, 6, 3, 5, 7, 9, 4, 4, 1, 4, 0, 3, 2, 0, 7, 3, 6, 6, 0, 1, 4, 5, 4, 8, 6, 2, 7, 8, 9, 6, 7, 0, 6, 1, 7, 1, 3, 3, 7, 4, 0, 0, 0, 1, 3, 5, 0, 4, 3, 3, 0, 0, 1, 2, 2, 1, 1, 0, 4, 8, 3, 2, 8, 4, 1, 5, 8, 6, 0, 3, 6, 6, 6, 1, 4, 6, 4, 4, 0, 3, 1, 0, 9, 4, 0, 2, 1, 9, 7, 3, 4, 5, 4, 1, 4, 4, 9, 5, 3, 7, 4, 3, 1, 1, 1, 0, 2, 8, 5, 3, 7, 5, 1, 2, 7, 2, 9, 5, 6, 9, 8, 6, 3, 6, 3, 0, 9, 7, 0, 2, 1, 0, 9, 3, 9, 0, 3, 5, 9, 3, 0, 4, 9, 5, 6, 1, 6, 7, 1, 3, 8, 9, 2, 3, 5, 9, 1, 4, 7, 7, 4, 1, 1, 6, 1, 2, 0, 3, 7, 8, 1, 8, 3, 9, 2, 9, 2, 9, 1, 7, 4, 9, 9, 2, 8, 8, 3, 3, 6, 0, 8, 4, 1, 2, 1, 0, 4, 8, 1, 7, 2, 5, 4, 4, 3, 5, 2, 1, 3, 0, 4, 0, 1, 2, 6, 4, 2, 7, 1, 6, 2, 9, 1, 8, 6, 0, 1, 5, 7, 8, 2, 5, 2, 4, 4, 5, 4, 9, 1, 9, 6, 7, 3, 0, 0, 2, 8, 9, 9, 1, 6, 6, 9, 5, 4, 0, 1, 1, 4, 1, 0, 4, 0, 8, 7, 9, 2, 0, 5, 7, 5, 5, 3, 1, 1, 8, 9, 0, 8, 2, 2, 5, 6, 1, 5, 2, 4, 5, 1, 4, 4, 9, 2, 0, 9, 6, 3, 2, 7, 4]\n",
            "Preds: [8, 1, 7, 8, 2, 9, 0, 1, 4, 8, 0, 9, 3, 2, 7, 2, 3, 7, 9, 4, 5, 2, 8, 9, 5, 4, 0, 2, 7, 1, 5, 5, 7, 1, 3, 1, 2, 8, 3, 5, 7, 5, 2, 5, 6, 7, 3, 1, 4, 3, 6, 2, 9, 7, 5, 6, 8, 7, 2, 7, 4, 3, 1, 0, 5, 3, 4, 0, 6, 0, 2, 7, 3, 4, 2, 5, 4, 1, 3, 9, 7, 1, 8, 8, 4, 3, 6, 4, 8, 2, 9, 0, 5, 7, 5, 5, 0, 6, 0, 5, 9, 0, 8, 6, 6, 0, 7, 8, 3, 8, 6, 8, 6, 9, 9, 5, 1, 7, 0, 4, 9, 1, 6, 1, 4, 9, 8, 7, 0, 8, 7, 8, 0, 9, 8, 3, 9, 8, 9, 4, 2, 6, 3, 5, 5, 1, 3, 7, 3, 1, 7, 7, 4, 1, 5, 0, 2, 2, 1, 8, 2, 1, 6, 3, 3, 0, 7, 7, 4, 5, 1, 1, 6, 3, 3, 9, 8, 3, 9, 7, 2, 7, 9, 4, 0, 8, 8, 6, 4, 0, 0, 3, 2, 4, 0, 0, 3, 8, 2, 1, 3, 4, 1, 1, 0, 8, 4, 8, 3, 8, 4, 8, 8, 3, 2, 7, 1, 2, 8, 2, 9, 2, 9, 1, 5, 8, 4, 6, 8, 2, 3, 0, 3, 7, 9, 6, 3, 7, 7, 4, 7, 4, 8, 8, 7, 6, 5, 4, 4, 9, 2, 4, 0, 6, 8, 0, 5, 6, 4, 6, 4, 3, 4, 1, 3, 0, 7, 6, 4, 8, 9, 5, 0, 3, 0, 5, 0, 3, 6, 9, 5, 5, 5, 0, 2, 4, 3, 1, 5, 7, 3, 6, 6, 7, 7, 1, 9, 2, 3, 3, 4, 5, 6, 9, 4, 6, 3, 9, 9, 6, 6, 9, 2, 3, 7, 9, 0, 9, 9, 1, 1, 0, 9, 2, 9, 3, 8, 2, 3, 1, 5, 9, 2, 8, 9, 2, 8, 7, 8, 6, 6, 5, 8, 0, 4, 1, 1, 2, 8, 3, 8, 5, 3, 7, 5, 5, 9, 0, 4, 4, 0, 0, 3, 2, 0, 1, 3, 0, 3, 0, 4, 8, 6, 0, 9, 6, 5, 2, 2, 6, 1, 9, 7, 5, 3, 1, 1, 4, 8, 1, 0, 5, 2, 1, 7, 5, 8, 5, 9, 2, 2, 7, 4, 9, 8, 4, 1, 5, 1, 0, 2, 1, 5, 0, 0, 6, 9, 7, 5, 5, 9, 7, 9, 6, 5, 1, 0, 7, 2, 0, 9, 0, 9, 3, 2, 8, 4, 4, 9, 2, 6, 0, 0, 4, 5, 3, 1, 5, 1, 9, 7, 0, 1, 0, 9, 1, 3, 6, 3, 7, 0, 2, 4, 2, 7, 7, 2, 9, 7, 8, 2, 8, 6, 4, 4, 0, 8, 7, 6, 3, 8, 8, 5, 2, 0, 6, 4, 7, 0, 3, 4, 9, 5, 4, 3, 8, 8, 0, 7, 9, 6, 3, 9, 3, 8, 1, 2, 3, 0, 5, 9, 7, 4, 5, 1, 1, 1, 0, 3, 8, 5, 0, 3, 8, 5, 0, 4, 6, 3, 5, 0, 1, 7, 3, 0, 7, 3, 4, 4, 3, 4, 3, 8, 9, 4, 4, 6, 8, 2, 5, 0, 9, 6, 3, 9, 3, 6, 9, 6, 5, 3, 8, 7, 5, 2, 0, 3, 9, 5, 1, 0, 8, 5, 7, 7, 2, 4, 6, 5, 0, 7, 1, 9, 4, 3, 9, 3, 5, 5, 3, 4, 9, 3, 5, 4, 7, 8, 8, 6, 0, 5, 5, 4, 4, 3, 6, 6, 3, 1, 7, 0, 0, 5, 0, 1, 6, 0, 9, 5, 8, 7, 6, 6, 4, 5, 2, 7, 0, 1, 4, 7, 7, 7, 5, 9, 4, 0, 0, 4, 9, 3, 8, 2, 0, 0, 6, 2, 6, 4, 7, 3, 3, 3, 4, 0, 0, 9, 5, 6, 2, 6, 8, 4, 2, 8, 5, 7, 0, 0, 4, 9, 2, 7, 9, 3, 3, 0, 3, 2, 4, 5, 8, 6, 7, 5, 2, 5, 2, 0, 1, 1, 3, 5, 0, 7, 3, 1, 2, 7, 5, 4, 4, 1, 2, 2, 2, 3, 4, 5, 5, 9, 4, 0, 4, 9, 3, 0, 0, 1, 9, 6, 3, 7, 6, 0, 0, 3, 7, 0, 2, 9, 0, 3, 2, 8, 2, 0, 9, 7, 1, 9, 3, 4, 8, 9, 2, 1, 2, 7, 7, 6, 6, 6, 4, 8, 5, 6, 1, 8, 6, 2, 6, 7, 2, 1, 2, 5, 0, 5, 9, 1, 7, 7, 4, 1, 5, 1, 8, 2, 4, 1, 3, 0, 4, 9, 1, 3, 8, 5, 5, 7, 2, 1, 0, 2, 0, 3, 8, 6, 1, 9, 2, 4, 9, 2, 3, 8, 1, 7, 2, 7, 3, 7, 3, 1, 7, 9, 3, 6, 6, 2, 0, 2, 3, 7, 7, 2, 4, 0, 9, 4, 3, 5, 0, 6, 1, 6, 0, 2, 0, 5, 1, 9, 1, 2, 0, 7, 1, 9, 5, 0, 1, 0, 1, 7, 8, 1, 5, 6, 6, 8, 6, 3, 3, 0, 2, 3, 2, 9, 5, 8, 0, 2, 0, 3, 3, 8, 4, 6, 0, 6, 6, 8, 2, 2, 1, 8, 4, 3, 8, 9, 5, 2, 0, 0, 4, 5, 9, 6, 1, 2, 0, 4, 9, 2, 4, 9, 5, 2, 8, 8, 9, 5, 8, 9, 4, 2, 6, 3, 4, 4, 6, 9, 2, 3, 9, 6, 4, 1, 0, 0, 1, 9, 0, 7, 8, 6, 0, 9, 9, 9, 1, 2, 9, 2, 4, 3, 0, 2, 6, 7, 7, 2, 5, 2, 4, 3, 8, 3, 8, 4, 1, 6, 9, 8, 3, 8, 2, 2, 3, 3, 0, 8, 6, 2, 7, 1, 4, 1, 3, 7, 4, 3, 8, 9, 8, 5, 2, 3, 2, 2, 3, 8, 2, 6, 1, 0, 7, 3, 5, 2, 9, 5, 8, 8, 7, 6, 8, 1, 5, 4, 9, 3, 5, 3, 1, 8, 8, 3, 2, 0, 6, 3, 1, 9, 1, 3, 8, 6, 8, 0, 2, 9, 1, 7, 7, 2, 2, 6, 5, 3, 7, 0, 7, 7, 1, 3, 3, 7, 3, 8, 2, 0, 3, 4, 6, 4, 2, 4, 8, 4, 1, 0, 7, 0, 7, 3, 9, 5, 8, 9, 5, 0, 6, 4, 7, 7, 0, 2, 9, 7, 2, 2, 5, 4, 7, 5, 1, 8, 2, 7, 6, 9, 0, 0, 0, 4, 8, 7, 4, 7, 3, 3, 6, 5, 9, 7, 2, 2, 9, 1, 7, 7, 7, 5, 8, 5, 8, 1, 2, 4, 2, 7, 4, 6, 9, 2, 8, 1, 3, 0, 2, 8, 3, 5, 4, 3, 9, 9, 4, 8, 6, 6, 8, 1, 2, 2, 5, 9, 5, 6, 3, 1, 9, 3, 1, 3, 4, 4, 9, 8, 7, 7, 8, 2, 2, 3, 0, 3, 1, 0, 6, 5, 2, 5, 6, 6, 7, 5, 9, 0, 2, 3, 7, 0, 9, 6, 5, 1, 2, 7, 6, 2, 0, 8, 0, 7, 6, 2, 2, 8, 9, 4, 3, 3, 8, 5, 6, 1, 3, 6, 3, 4, 4, 6, 5, 9, 2, 8, 0, 8, 4, 8, 2, 2, 9, 0, 1, 4, 2, 4, 4, 8, 6, 5, 8, 0, 3, 1, 3, 3, 6, 9, 8, 7, 8, 5, 9, 0, 9, 6, 1, 6, 5, 3, 0, 0, 3, 8, 5, 1, 5, 0, 5, 8, 6, 2, 3, 0, 9, 3, 9, 3, 7, 0, 0, 7, 9, 7, 7, 9, 6, 8, 0, 7, 3, 0, 0, 3, 3, 5, 5, 8, 5, 1, 0, 6, 8, 7, 3, 5, 5, 4, 9, 4, 0, 8, 5, 4, 8, 1, 7, 9, 3, 5, 4, 8, 0, 3, 2, 5, 1, 1, 8, 2, 1, 7, 1, 4, 4, 1, 5, 5, 8, 8, 0, 2, 1, 1, 4, 3, 2, 1, 4, 5, 4, 5, 4, 7, 7, 4, 4, 6, 0, 5, 4, 9, 6, 8, 0, 1, 4, 4, 5, 8, 8, 2, 3, 8, 8, 9, 9, 9, 5, 9, 7, 5, 5, 3, 0, 1, 2, 4, 8, 1, 5, 7, 4, 5, 8, 8, 0, 3, 6, 0, 5, 2, 1, 1, 1, 7, 3, 6, 0, 7, 4, 7, 5, 6, 9, 7, 3, 3, 2, 3, 9, 3, 3, 8, 1, 5, 0, 0, 2, 6, 4, 7, 3, 7, 9, 9, 1, 2, 7, 7, 3, 6, 6, 8, 2, 0, 2, 5, 7, 8, 4, 8, 7, 3, 8, 1, 5, 3, 4, 8, 3, 1, 5, 7, 2, 3, 7, 0, 2, 7, 1, 6, 5, 7, 0, 8, 9, 4, 1, 7, 2, 4, 5, 2, 0, 5, 1, 6, 9, 5, 0, 9, 1, 2, 6, 7, 2, 0, 9, 8, 8, 6, 8, 4, 2, 3, 4, 2, 7, 8, 8, 1, 2, 5, 3, 2, 5, 4, 4, 4, 9, 2, 6, 0, 0, 4, 2, 2, 8, 2, 6, 9, 0, 8, 7, 0, 8, 9, 2, 2, 4, 3, 2, 0, 3, 3, 0, 9, 1, 8, 0, 3, 3, 6, 2, 7, 1, 6, 1, 3, 2, 1, 5, 9, 8, 9, 9, 2, 3, 4, 0, 5, 6, 9, 3, 8, 7, 9, 0, 1, 4, 4, 1, 3, 6, 1, 6, 6, 9, 2, 5, 8, 0, 4, 2, 6, 3, 0, 2, 1, 4, 0, 1, 2, 5, 4, 5, 6, 0, 1, 2, 5, 9, 7, 0, 2, 7, 1, 7, 0, 3, 4, 5, 4, 9, 8, 6, 8, 0, 3, 4, 0, 8, 0, 2, 0, 7, 0, 7, 3, 6, 4, 4, 7, 7, 8, 0, 5, 3, 8, 8, 6, 3, 2, 0, 9, 7, 9, 0, 1, 0, 5, 2, 6, 6, 0, 8, 5, 0, 9, 5, 6, 7, 3, 9, 4, 3, 3, 4, 5, 5, 3, 3, 4, 1, 6, 4, 4, 8, 2, 8, 9, 1, 1, 7, 9, 1, 7, 4, 2, 0, 5, 5, 6, 0, 2, 0, 4, 3, 7, 8, 2, 6, 3, 1, 1, 7, 5, 1, 2, 4, 8, 6, 6, 7, 7, 7, 5, 3, 1, 9, 5, 3, 0, 0, 7, 9, 8, 7, 1, 7, 3, 6, 9, 2, 3, 1, 1, 5, 6, 9, 1, 0, 1, 6, 8, 7, 2, 8, 7, 9, 2, 5, 2, 0, 0, 7, 7, 8, 6, 2, 7, 3, 6, 2, 0, 0, 9, 2, 9, 5, 2, 3, 0, 9, 1, 3, 9, 4, 8, 8, 3, 4, 8, 6, 4, 5, 5, 3, 3, 5, 5, 9, 0, 5, 3, 0, 2, 8, 9, 6, 7, 8, 4, 3, 5, 9, 0, 6, 3, 2, 7, 3, 1, 6, 1, 4, 4, 8, 0, 5, 8, 8, 7, 2, 0, 3, 6, 9, 8, 6, 3, 9, 4, 7, 7, 0, 2, 5, 6, 8, 8, 3, 9, 5, 2, 1, 2, 3, 8, 5, 2, 5, 0, 0, 3, 6, 8, 8, 1, 4, 7, 2, 2, 0, 5, 0, 7, 9, 6, 4, 7, 0, 8, 8, 5, 5, 3, 8, 0, 2, 6, 5, 4, 2, 9, 7, 6, 1, 3, 1, 4, 2, 7, 3, 5, 2, 8, 6, 7, 4, 4, 9, 2, 7, 6, 0, 6, 4, 1, 3, 7, 3, 2, 6, 5, 3, 0, 2, 5, 8, 9, 7, 5, 6, 8, 1, 3, 4, 6, 7, 7, 3, 3, 8, 8, 4, 0, 6, 3, 8, 4, 3, 8, 0, 9, 8, 2, 4, 6, 1, 0, 5, 6, 2, 3, 8, 8, 9, 7, 2, 4, 5, 4, 5, 0, 1, 5, 6, 0, 4, 8, 4, 9, 1, 1, 1, 8, 5, 8, 2, 8, 3, 0, 0, 2, 9, 3, 9, 8, 7, 0, 3, 0, 9, 0, 2, 6, 1, 6, 1, 1, 0, 2, 0, 1, 9, 7, 3, 4, 3, 7, 0, 3, 5, 8, 9, 5, 1, 8, 2, 7, 9, 0, 0, 3, 7, 1, 5, 5, 5, 5, 2, 2, 3, 1, 6, 9, 8, 2, 3, 3, 5, 3, 1, 1, 1, 5, 7, 4, 2, 7, 1, 5, 5, 2, 0, 7, 0, 0, 4, 4, 7, 6, 2, 8, 3, 1, 0, 0, 8, 7, 2, 2, 1, 5, 7, 3, 1, 0, 7, 3, 8, 3, 3, 8, 9, 4, 9, 0, 2, 1, 7, 8, 5, 0, 9, 3, 2, 2, 5, 1, 4, 3, 9, 8, 5, 4, 7, 5, 2, 0, 8, 7, 2, 1, 3, 9, 4, 8, 6, 7, 3, 4, 9, 7, 7, 6, 3, 0, 3, 7, 9, 8, 8, 1, 5, 9, 0, 9, 6, 2, 4, 2, 3, 9, 0, 1, 4, 0, 3, 1, 9, 3, 1, 5, 0, 2, 9, 7, 0, 0, 0, 7, 6, 7, 4, 6, 3, 7, 4, 3, 5, 5, 1, 4, 3, 9, 6, 2, 6, 1, 2, 7, 0, 7, 8, 9, 0, 8, 9, 7, 3, 3, 4, 4, 3, 1, 4, 9, 8, 0, 6, 4, 2, 1, 8, 9, 8, 0, 5, 4, 1, 4, 6, 2, 3, 0, 3, 4, 6, 1, 6, 6, 0, 4, 4, 1, 2, 4, 0, 4, 9, 6, 2, 5, 3, 6, 2, 0, 4, 4, 2, 9, 0, 3, 8, 1, 4, 0, 7, 0, 5, 7, 2, 8, 9, 1, 8, 7, 0, 5, 5, 9, 3, 3, 8, 3, 7, 5, 0, 6, 9, 2, 4, 8, 0, 3, 9, 2, 9, 1, 8, 8, 0, 3, 2, 9, 1, 6, 1, 4, 3, 2, 0, 1, 0, 6, 1, 0, 1, 5, 3, 6, 1, 5, 4, 2, 4, 3, 0, 9, 3, 0, 1, 9, 1, 6, 8, 4, 6, 1, 1, 2, 0, 2, 0, 4, 8, 5, 3, 6, 5, 2, 0, 3, 6, 1, 9, 6, 4, 6, 9, 2, 3, 9, 5, 5, 7, 2, 4, 9, 1, 2, 5, 4, 1, 1, 7, 8, 4, 8, 2, 7, 1, 9, 6, 4, 1, 3, 0, 9, 6, 5, 1, 8, 5, 0, 4, 6, 1, 5, 7, 0, 4, 1, 0, 9, 1, 0, 2, 3, 8, 3, 6, 1, 9, 9, 9, 8, 6, 2, 9, 8, 2, 9, 0, 6, 4, 3, 5, 4, 2, 5, 2, 1, 3, 8, 2, 8, 3, 0, 8, 0, 7, 2, 5, 7, 6, 8, 9, 8, 0, 7, 3, 9, 3, 8, 6, 4, 0, 2, 8, 5, 3, 1, 8, 9, 3, 7, 7, 8, 9, 4, 7, 2, 2, 4, 5, 2, 7, 0, 0, 2, 1, 8, 8, 9, 6, 0, 8, 0, 8, 1, 3, 2, 7, 3, 4, 0, 5, 9, 0, 8, 9, 5, 6, 0, 5, 0, 0, 9, 9, 2, 1, 3, 7, 8, 0, 1, 8, 8, 5, 5, 1, 9, 9, 0, 2, 4, 6, 3, 7, 0, 9, 5, 3, 1, 8, 1, 8, 9, 3, 7, 5, 6, 8, 8, 1, 9, 4, 5, 3, 9, 9, 1, 4, 0, 5, 1, 1, 2, 2, 7, 9, 7, 9, 0, 6, 7, 8, 1, 3, 7, 8, 7, 3, 7, 9, 0, 8, 0, 2, 5, 0, 3, 1, 2, 4, 2, 9, 7, 0, 0, 8, 8, 9, 5, 9, 8, 2, 5, 8, 5, 1, 1, 5, 2, 9, 1, 6, 7, 1, 0, 9, 5, 1, 1, 0, 1, 0, 1, 2, 0, 8, 9, 7, 9, 0, 3, 3, 3, 0, 2, 8, 2, 2, 3, 3, 7, 4, 8, 8, 9, 6, 5, 8, 9, 3, 6, 2, 9, 2, 5, 6, 9, 7, 2, 2, 4, 2, 2, 3, 9, 9, 9, 5, 3, 3, 8, 9, 9, 6, 6, 9, 1, 1, 1, 8, 6, 6, 3, 4, 9, 3, 1, 2, 7, 0, 5, 8, 1, 0, 3, 8, 9, 3, 4, 0, 2, 1, 9, 4, 2, 2, 8, 4, 1, 4, 1, 7, 6, 8, 3, 4, 0, 2, 4, 9, 3, 5, 9, 4, 7, 3, 0, 8, 0, 9, 1, 8, 9, 9, 8, 4, 5, 6, 6, 2, 3, 0, 6, 3, 2, 6, 1, 6, 0, 4, 5, 9, 9, 8, 1, 2, 9, 1, 7, 2, 6, 7, 4, 2, 3, 8, 5, 8, 4, 2, 0, 2, 1, 8, 0, 7, 5, 8, 0, 8, 2, 1, 2, 1, 1, 6, 6, 4, 9, 3, 0, 5, 8, 9, 4, 4, 0, 6, 9, 3, 7, 0, 2, 2, 7, 9, 6, 4, 0, 0, 1, 9, 5, 9, 1, 0, 6, 4, 4, 8, 4, 3, 8, 3, 1, 0, 5, 0, 1, 3, 6, 0, 8, 1, 9, 8, 8, 3, 8, 2, 4, 0, 0, 4, 1, 0, 1, 0, 1, 8, 9, 2, 1, 5, 5, 1, 9, 6, 9, 9, 3, 0, 4, 4, 9, 0, 3, 8, 3, 7, 1, 9, 9, 3, 0, 2, 5, 3, 4, 8, 2, 7, 9, 7, 2, 1, 8, 5, 7, 5, 5, 0, 0, 1, 3, 8, 2, 0, 5, 3, 8, 4, 5, 4, 3, 4, 0, 8, 0, 1, 7, 0, 6, 1, 3, 2, 2, 0, 4, 3, 4, 0, 9, 4, 0, 6, 8, 5, 3, 5, 2, 1, 3, 6, 4, 7, 2, 0, 2, 8, 4, 4, 7, 2, 2, 6, 5, 8, 7, 3, 0, 3, 0, 6, 5, 6, 3, 1, 7, 4, 6, 3, 4, 2, 9, 5, 4, 2, 5, 2, 1, 9, 8, 0, 9, 3, 9, 9, 7, 2, 2, 8, 0, 2, 9, 6, 8, 5, 0, 7, 6, 9, 7, 1, 2, 9, 6, 4, 5, 5, 2, 2, 6, 5, 6, 7, 0, 6, 0, 5, 8, 0, 8, 5, 7, 3, 6, 8, 2, 7, 8, 6, 4, 5, 7, 6, 3, 6, 9, 8, 9, 7, 3, 8, 7, 8, 9, 2, 1, 2, 6, 6, 9, 7, 3, 4, 9, 9, 1, 6, 2, 3, 6, 4, 3, 2, 2, 7, 3, 5, 0, 1, 3, 6, 3, 5, 1, 4, 5, 0, 5, 2, 7, 2, 3, 0, 0, 1, 6, 9, 4, 6, 9, 4, 4, 0, 0, 5, 2, 8, 3, 0, 1, 4, 8, 8, 7, 6, 5, 9, 2, 0, 1, 0, 8, 3, 6, 4, 3, 5, 7, 5, 5, 1, 3, 3, 0, 6, 1, 0, 7, 3, 2, 5, 1, 5, 5, 6, 1, 5, 2, 9, 6, 3, 2, 0, 1, 5, 3, 6, 4, 6, 1, 6, 3, 7, 3, 1, 2, 9, 2, 8, 5, 2, 5, 6, 4, 0, 1, 4, 8, 1, 2, 0, 8, 6, 0, 3, 4, 3, 7, 3, 5, 9, 2, 5, 2, 4, 4, 2, 1, 0, 3, 4, 5, 2, 3, 4, 1, 8, 6, 0, 5, 7, 3, 6, 4, 7, 0, 7, 2, 3, 4, 0, 2, 4, 9, 4, 8, 1, 7, 9, 5, 4, 2, 4, 8, 5, 5, 2, 4, 2, 3, 6, 9, 3, 3, 7, 0, 0, 0, 2, 1, 5, 6, 9, 1, 5, 6, 7, 4, 7, 2, 5, 7, 3, 8, 4, 7, 7, 6, 4, 6, 2, 1, 3, 8, 9, 0, 2, 6, 2, 7, 8, 5, 8, 4, 2, 3, 3, 2, 0, 0, 7, 9, 5, 0, 7, 0, 1, 9, 6, 8, 7, 1, 2, 3, 2, 2, 5, 2, 2, 5, 2, 2, 5, 7, 4, 5, 9, 6, 0, 8, 1, 8, 2, 5, 5, 9, 6, 0, 5, 9, 6, 2, 9, 0, 0, 3, 2, 0, 5, 8, 3, 5, 3, 3, 4, 9, 3, 5, 3, 4, 0, 5, 4, 5, 0, 7, 5, 0, 0, 2, 0, 2, 2, 1, 7, 5, 3, 3, 0, 1, 5, 0, 9, 9, 6, 2, 2, 0, 9, 2, 6, 6, 8, 6, 8, 3, 7, 3, 3, 9, 5, 5, 1, 4, 1, 7, 2, 1, 6, 5, 0, 0, 5, 2, 9, 4, 9, 8, 5, 4, 3, 0, 7, 7, 8, 2, 6, 1, 6, 1, 7, 8, 3, 2, 2, 2, 1, 3, 2, 7, 3, 1, 4, 3, 1, 3, 5, 9, 5, 4, 4, 9, 0, 6, 1, 3, 4, 7, 8, 4, 0, 0, 6, 5, 0, 1, 5, 4, 3, 8, 2, 8, 4, 1, 4, 8, 5, 9, 8, 3, 3, 3, 5, 9, 7, 2, 1, 7, 7, 8, 1, 4, 9, 9, 9, 2, 0, 1, 3, 7, 1, 5, 2, 7, 9, 5, 8, 1, 3, 9, 4, 1, 0, 3, 2, 4, 3, 2, 6, 8, 1, 3, 9, 0, 5, 5, 2, 4, 3, 4, 8, 4, 5, 2, 5, 3, 2, 1, 6, 6, 4, 9, 7, 9, 3, 4, 1, 7, 9, 2, 9, 3, 9, 1, 4, 8, 9, 9, 4, 5, 2, 8, 3, 5, 7, 4, 7, 6, 4, 7, 2, 7, 1, 7, 5, 2, 3, 5, 2, 8, 3, 9, 4, 4, 5, 2, 4, 0, 0, 8, 4, 4, 2, 2, 2, 5, 6, 8, 4, 4, 3, 9, 9, 8, 8, 3, 8, 8, 1, 3, 9, 8, 4, 4, 5, 7, 6, 8, 9, 5, 2, 9, 5, 3, 7, 3, 3, 7, 7, 1, 5, 0, 7, 4, 4, 8, 5, 0, 8, 7, 9, 8, 7, 0, 9, 4, 5, 3, 0, 8, 7, 5, 3, 2, 1, 1, 8, 8, 5, 0, 7, 5, 6, 8, 3, 1, 6, 7, 3, 0, 8, 2, 8, 2, 4, 5, 3, 5, 4, 9, 6, 7, 7, 1, 8, 2, 4, 8, 3, 2, 8, 4, 2, 0, 9, 7, 2, 7, 1, 9, 2, 3, 4, 7, 2, 4, 7, 9, 8, 7, 6, 1, 4, 2, 8, 3, 6, 4, 3, 2, 5, 9, 0, 6, 8, 7, 4, 1, 3, 5, 1, 4, 5, 3, 4, 9, 8, 4, 9, 2, 9, 3, 4, 2, 2, 0, 0, 5, 8, 5, 6, 3, 4, 3, 4, 4, 1, 7, 7, 3, 4, 8, 6, 5, 0, 9, 7, 5, 0, 5, 5, 2, 7, 5, 5, 2, 4, 2, 5, 5, 8, 8, 9, 5, 3, 7, 6, 4, 1, 2, 2, 8, 8, 0, 2, 9, 6, 3, 1, 4, 0, 2, 9, 3, 6, 5, 1, 1, 2, 7, 6, 4, 4, 7, 7, 6, 5, 9, 1, 0, 5, 6, 7, 7, 6, 4, 3, 0, 5, 1, 9, 1, 1, 7, 0, 3, 0, 5, 9, 5, 3, 7, 0, 1, 2, 0, 8, 7, 1, 8, 8, 3, 7, 4, 0, 5, 3, 9, 6, 4, 5, 5, 4, 7, 2, 7, 4, 0, 8, 9, 6, 6, 6, 5, 6, 0, 6, 6, 8, 0, 2, 9, 4, 0, 2, 3, 4, 2, 0, 8, 6, 2, 9, 6, 9, 0, 4, 3, 5, 9, 4, 6, 1, 6, 2, 0, 2, 1, 8, 5, 1, 7, 4, 8, 7, 6, 2, 6, 9, 2, 0, 3, 2, 9, 2, 7, 8, 8, 3, 9, 0, 0, 7, 2, 4, 3, 5, 9, 0, 9, 7, 4, 6, 0, 0, 4, 1, 3, 8, 3, 5, 3, 0, 5, 8, 0, 8, 6, 2, 8, 3, 6, 4, 5, 7, 9, 1, 9, 6, 5, 0, 0, 0, 3, 4, 6, 9, 9, 0, 3, 6, 3, 1, 3, 3, 8, 3, 2, 7, 4, 3, 3, 7, 8, 3, 9, 8, 4, 8, 4, 0, 2, 5, 7, 3, 2, 1, 4, 8, 6, 0, 3, 8, 6, 3, 4, 8, 4, 9, 1, 2, 5, 7, 3, 4, 4, 0, 2, 0, 7, 4, 4, 8, 2, 8, 3, 4, 8, 9, 6, 3, 9, 4, 7, 7, 8, 5, 9, 5, 1, 9, 4, 7, 6, 6, 3, 3, 0, 6, 9, 7, 2, 7, 0, 5, 5, 7, 3, 0, 8, 9, 1, 7, 6, 0, 8, 1, 7, 5, 8, 2, 0, 5, 0, 3, 5, 3, 5, 1, 1, 6, 9, 3, 8, 5, 3, 9, 0, 6, 3, 4, 4, 6, 8, 0, 5, 3, 8, 8, 3, 2, 9, 3, 3, 2, 2, 2, 9, 5, 2, 2, 8, 6, 3, 2, 0, 3, 5, 0, 3, 0, 9, 1, 6, 0, 7, 9, 5, 6, 9, 1, 2, 8, 5, 0, 7, 2, 0, 9, 2, 3, 5, 9, 2, 8, 4, 0, 9, 4, 2, 2, 6, 7, 2, 6, 0, 1, 5, 2, 1, 8, 0, 5, 9, 7, 0, 0, 2, 0, 9, 5, 6, 3, 4, 6, 8, 0, 8, 7, 4, 8, 0, 4, 4, 1, 4, 3, 5, 2, 1, 4, 0, 8, 9, 3, 9, 6, 2, 5, 2, 0, 3, 9, 5, 4, 6, 4, 6, 1, 0, 6, 3, 1, 3, 2, 8, 8, 6, 9, 0, 6, 3, 9, 2, 4, 3, 7, 7, 9, 9, 4, 4, 5, 2, 5, 9, 6, 7, 6, 1, 2, 6, 1, 4, 6, 9, 7, 9, 8, 0, 8, 9, 8, 3, 9, 2, 5, 2, 8, 4, 5, 4, 4, 1, 4, 3, 9, 0, 4, 5, 7, 9, 0, 3, 3, 0, 7, 3, 9, 5, 1, 5, 8, 9, 1, 2, 1, 7, 4, 2, 6, 1, 8, 1, 5, 2, 6, 6, 8, 1, 5, 9, 5, 1, 7, 1, 9, 2, 3, 0, 4, 4, 9, 2, 8, 9, 6, 7, 0, 6, 5, 4, 9, 6, 5, 7, 5, 9, 0, 9, 3, 2, 8, 2, 8, 9, 3, 0, 1, 6, 5, 3, 0, 1, 2, 1, 2, 7, 2, 8, 3, 9, 5, 2, 2, 9, 1, 9, 8, 0, 6, 5, 2, 7, 8, 7, 4, 1, 8, 2, 7, 8, 7, 4, 0, 3, 5, 4, 5, 4, 2, 7, 9, 5, 8, 9, 3, 4, 9, 1, 9, 0, 5, 7, 8, 5, 6, 0, 7, 8, 3, 6, 2, 0, 1, 9, 7, 3, 1, 4, 1, 2, 8, 4, 7, 7, 0, 6, 9, 6, 9, 1, 3, 5, 1, 4, 1, 0, 7, 8, 1, 2, 3, 1, 5, 3, 4, 8, 0, 4, 7, 9, 8, 5, 6, 1, 2, 1, 3, 3, 3, 8, 1, 9, 7, 7, 6, 9, 8, 4, 1, 1, 7, 3, 3, 9, 9, 4, 3, 8, 2, 8, 0, 2, 0, 8, 5, 7, 2, 1, 6, 2, 9, 6, 2, 0, 4, 3, 6, 1, 3, 0, 3, 0, 9, 2, 7, 8, 6, 2, 9, 7, 9, 9, 3, 6, 0, 3, 9, 8, 4, 2, 2, 9, 5, 7, 8, 9, 2, 8, 5, 4, 4, 1, 5, 5, 3, 0, 1, 4, 1, 3, 1, 4, 8, 6, 7, 6, 7, 0, 0, 1, 7, 3, 5, 1, 6, 0, 8, 7, 7, 1, 2, 9, 8, 2, 8, 2, 0, 1, 6, 0, 2, 8, 2, 3, 6, 9, 2, 9, 3, 2, 4, 8, 3, 7, 9, 2, 3, 2, 4, 1, 7, 7, 9, 2, 8, 8, 3, 9, 1, 7, 0, 0, 8, 7, 5, 5, 8, 7, 0, 0, 7, 2, 5, 7, 9, 9, 6, 9, 0, 3, 4, 3, 0, 2, 0, 7, 6, 3, 2, 8, 0, 5, 2, 7, 0, 8, 3, 2, 8, 1, 9, 1, 8, 0, 9, 5, 7, 7, 8, 8, 0, 9, 2, 1, 4, 1, 7, 5, 4, 7, 5, 1, 8, 8, 9, 9, 8, 2, 5, 3, 6, 4, 5, 8, 4, 1, 8, 1, 7, 4, 1, 8, 5, 9, 0, 8, 7, 5, 9, 8, 5, 3, 1, 9, 6, 6, 4, 5, 4, 1, 5, 4, 2, 8, 3, 3, 7, 5, 4, 6, 1, 2, 0, 7, 4, 7, 4, 0, 0, 1, 2, 5, 6, 8, 5, 1, 7, 5, 9, 7, 8, 9, 8, 7, 3, 1, 3, 6, 9, 0, 1, 1, 5, 9, 1, 9, 1, 3, 4, 8, 1, 4, 7, 8, 7, 1, 9, 9, 1, 6, 5, 3, 5, 5, 9, 5, 6, 3, 3, 8, 7, 4, 2, 8, 1, 7, 6, 1, 4, 8, 8, 7, 0, 5, 1, 4, 4, 7, 8, 7, 7, 5, 6, 3, 6, 9, 8, 4, 0, 7, 6, 7, 3, 8, 9, 6, 6, 8, 0, 5, 8, 5, 0, 0, 0, 6, 9, 3, 1, 7, 4, 2, 6, 7, 3, 4, 0, 6, 4, 5, 4, 7, 4, 0, 1, 1, 3, 8, 7, 8, 8, 0, 7, 2, 5, 8, 4, 3, 0, 6, 5, 6, 4, 0, 9, 0, 0, 8, 0, 3, 3, 5, 8, 0, 2, 9, 9, 4, 4, 9, 0, 8, 0, 9, 3, 6, 1, 6, 9, 0, 3, 3, 6, 1, 0, 2, 5, 7, 1, 5, 7, 1, 2, 6, 5, 0, 0, 1, 9, 1, 6, 4, 0, 1, 6, 0, 4, 6, 6, 3, 9, 7, 2, 9, 1, 4, 7, 9, 9, 5, 9, 9, 2, 4, 9, 5, 2, 8, 3, 0, 1, 1, 2, 9, 5, 6, 0, 0, 9, 4, 5, 5, 6, 5, 9, 8, 2, 5, 4, 9, 6, 7, 6, 9, 7, 1, 2, 1, 0, 1, 4, 0, 6, 5, 2, 0, 5, 7, 7, 0, 4, 1, 7, 8, 5, 2, 0, 9, 7, 9, 4, 4, 9, 5, 6, 5, 1, 9, 3, 9, 3, 4, 7, 4, 5, 6, 5, 0, 9, 4, 9, 5, 6, 3, 8, 0, 9, 4, 2, 1, 5, 9, 4, 4, 5, 9, 9, 0, 4, 6, 7, 9, 9, 9, 6, 8, 3, 7, 2, 7, 1, 6, 0, 8, 0, 0, 5, 1, 0, 5, 5, 3, 3, 8, 5, 1, 0, 6, 8, 1, 2, 7, 2, 0, 7, 1, 9, 3, 0, 1, 9, 9, 9, 5, 6, 1, 3, 9, 4, 3, 3, 6, 8, 1, 2, 0, 8, 9, 5, 3, 3, 0, 0, 8, 8, 5, 6, 5, 2, 3, 7, 6, 5, 1, 0, 8, 9, 3, 1, 2, 4, 7, 1, 3, 5, 2, 8, 2, 2, 5, 4, 0, 8, 4, 3, 3, 7, 8, 3, 7, 7, 9, 0, 7, 4, 3, 5, 1, 0, 3, 8, 2, 0, 3, 2, 4, 0, 2, 6, 1, 3, 4, 2, 6, 0, 8, 2, 9, 6, 7, 0, 3, 4, 8, 0, 3, 0, 0, 1, 8, 3, 1, 3, 1, 3, 7, 1, 9, 8, 9, 8, 5, 9, 3, 6, 0, 3, 9, 6, 2, 7, 1, 5, 8, 5, 0, 6, 2, 7, 2, 2, 7, 8, 3, 0, 9, 7, 8, 3, 2, 8, 6, 8, 6, 1, 1, 3, 2, 8, 0, 3, 3, 1, 3, 0, 3, 2, 2, 7, 3, 8, 8, 9, 2, 2, 4, 8, 2, 4, 5, 2, 6, 4, 2, 5, 0, 8, 6, 8, 1, 1, 6, 4, 3, 8, 9, 5, 0, 5, 7, 0, 8, 8, 3, 4, 8, 7, 5, 6, 0, 1, 4, 2, 7, 8, 7, 3, 3, 1, 3, 6, 2, 4, 4, 0, 1, 5, 2, 4, 5, 2, 6, 5, 2, 0, 4, 3, 4, 2, 5, 2, 7, 3, 8, 3, 1, 9, 1, 0, 6, 3, 9, 2, 7, 5, 8, 7, 6, 2, 6, 4, 6, 3, 7, 7, 8, 2, 7, 0, 0, 8, 2, 5, 4, 2, 0, 5, 6, 8, 5, 8, 4, 0, 9, 3, 5, 8, 1, 0, 0, 1, 6, 8, 2, 6, 4, 0, 6, 4, 1, 7, 4, 2, 5, 3, 9, 1, 3, 0, 9, 1, 3, 1, 8, 0, 4, 8, 2, 2, 8, 0, 0, 6, 3, 5, 2, 8, 5, 9, 9, 2, 3, 9, 9, 6, 5, 6, 5, 5, 1, 5, 2, 0, 0, 3, 9, 9, 6, 4, 5, 1, 8, 3, 5, 4, 6, 5, 6, 7, 4, 3, 2, 1, 9, 0, 0, 3, 3, 5, 9, 0, 4, 2, 5, 1, 2, 2, 4, 6, 3, 9, 6, 8, 2, 1, 4, 3, 5, 5, 9, 2, 8, 2, 7, 7, 8, 7, 0, 3, 2, 1, 9, 6, 8, 6, 5, 6, 4, 3, 5, 3, 1, 2, 6, 5, 5, 4, 9, 3, 3, 1, 3, 2, 8, 8, 0, 7, 3, 8, 1, 6, 2, 4, 9, 3, 2, 8, 3, 8, 7, 2, 0, 2, 5, 5, 3, 9, 4, 4, 2, 3, 7, 9, 3, 2, 7, 0, 7, 6, 7, 3, 7, 9, 9, 0, 2, 6, 2, 3, 0, 4, 9, 1, 5, 4, 2, 2, 3, 1, 6, 0, 0, 0, 5, 9, 9, 0, 7, 1, 1, 1, 0, 3, 8, 3, 9, 1, 0, 4, 2, 8, 5, 0, 3, 8, 7, 2, 4, 7, 5, 7, 5, 0, 8, 3, 2, 2, 0, 3, 6, 0, 8, 1, 5, 1, 7, 2, 2, 4, 4, 3, 8, 3, 4, 5, 4, 2, 4, 3, 2, 2, 9, 3, 5, 5, 5, 5, 0, 5, 5, 2, 3, 0, 4, 7, 8, 4, 6, 7, 3, 8, 8, 4, 4, 2, 4, 3, 6, 2, 9, 6, 7, 7, 2, 3, 6, 4, 6, 9, 2, 6, 0, 3, 1, 8, 7, 1, 1, 6, 3, 4, 3, 7, 0, 4, 6, 7, 5, 3, 5, 1, 8, 6, 8, 3, 9, 2, 9, 7, 0, 3, 0, 8, 0, 0, 3, 7, 6, 8, 0, 8, 8, 2, 0, 7, 3, 9, 4, 7, 7, 9, 0, 9, 3, 4, 8, 8, 1, 8, 1, 9, 9, 5, 6, 5, 8, 7, 0, 9, 8, 5, 0, 5, 1, 3, 2, 4, 0, 8, 5, 6, 8, 2, 8, 6, 1, 7, 9, 3, 5, 1, 7, 7, 9, 1, 2, 2, 5, 9, 9, 9, 3, 9, 0, 0, 1, 9, 8, 4, 2, 0, 8, 1, 6, 1, 5, 9, 4, 8, 0, 0, 0, 2, 9, 4, 2, 7, 8, 6, 8, 9, 2, 5, 2, 6, 4, 0, 5, 6, 7, 6, 0, 3, 1, 5, 5, 3, 9, 8, 9, 4, 6, 6, 4, 3, 2, 5, 5, 0, 4, 1, 2, 9, 1, 1, 1, 9, 0, 1, 8, 3, 8, 5, 5, 1, 3, 5, 0, 6, 2, 7, 9, 4, 3, 7, 9, 8, 7, 1, 1, 1, 1, 8, 5, 4, 0, 8, 2, 7, 3, 5, 8, 6, 7, 6, 3, 5, 9, 9, 3, 0, 3, 5, 4, 9, 0, 9, 1, 9, 7, 9, 7, 0, 7, 5, 1, 8, 8, 3, 1, 9, 2, 4, 4, 7, 4, 3, 2, 3, 5, 2, 9, 3, 9, 6, 2, 3, 7, 7, 9, 1, 9, 3, 6, 3, 2, 1, 0, 6, 5, 7, 2, 4, 0, 4, 2, 9, 8, 4, 2, 0, 8, 3, 2, 8, 9, 4, 1, 2, 4, 1, 3, 8, 6, 1, 0, 8, 0, 2, 5, 3, 2, 5, 1, 1, 7, 4, 8, 0, 5, 2, 2, 2, 6, 3, 7, 2, 7, 3, 3, 4, 5, 9, 3, 9, 4, 7, 8, 3, 2, 4, 9, 8, 4, 0, 4, 9, 2, 9, 7, 0, 4, 3, 3, 1, 2, 3, 0, 4, 7, 1, 0, 9, 8, 5, 9, 3, 8, 1, 1, 7, 6, 2, 7, 9, 1, 2, 6, 8, 1, 3, 0, 9, 1, 9, 4, 3, 8, 4, 8, 7, 5, 9, 0, 9, 3, 3, 3, 5, 5, 0, 4, 5, 7, 2, 5, 9, 9, 6, 9, 8, 8, 2, 9, 7, 7, 7, 7, 8, 1, 0, 0, 8, 9, 2, 3, 3, 9, 2, 6, 4, 0, 6, 8, 4, 1, 0, 6, 2, 1, 7, 2, 0, 6, 6, 7, 2, 8, 0, 2, 6, 6, 0, 9, 3, 7, 7, 6, 7, 8, 4, 9, 8, 8, 9, 0, 9, 0, 5, 2, 2, 7, 0, 8, 0, 1, 7, 9, 0, 0, 3, 5, 6, 9, 6, 8, 6, 0, 9, 3, 4, 4, 5, 5, 7, 5, 7, 5, 6, 9, 4, 1, 4, 3, 5, 0, 7, 6, 2, 9, 3, 6, 1, 3, 3, 9, 0, 5, 4, 1, 2, 0, 4, 2, 1, 5, 9, 3, 5, 7, 6, 4, 1, 0, 9, 0, 8, 6, 6, 0, 6, 3, 3, 0, 9, 7, 1, 7, 5, 1, 9, 2, 9, 4, 3, 4, 3, 9, 2, 9, 2, 0, 9, 3, 5, 2, 1, 0, 4, 4, 9, 3, 5, 0, 9, 2, 1, 6, 3, 9, 9, 1, 1, 4, 2, 7, 5, 1, 2, 6, 9, 6, 1, 1, 1, 7, 6, 7, 9, 3, 3, 8, 3, 0, 4, 8, 2, 8, 9, 9, 5, 1, 8, 9, 8, 1, 2, 5, 9, 0, 5, 1, 7, 6, 0, 0, 0, 6, 1, 5, 8, 8, 5, 8, 0, 4, 9, 3, 2, 8, 9, 4, 1, 3, 4, 3, 3, 5, 6, 7, 7, 4, 9, 7, 3, 2, 4, 6, 0, 8, 1, 7, 9, 1, 7, 1, 5, 4, 4, 0, 9, 9, 5, 0, 0, 3, 1, 1, 0, 0, 3, 6, 8, 1, 4, 2, 4, 2, 8, 6, 6, 9, 9, 6, 4, 1, 0, 6, 6, 7, 0, 2, 2, 1, 8, 0, 8, 1, 9, 9, 3, 8, 8, 8, 2, 6, 7, 7, 7, 6, 2, 6, 4, 0, 1, 1, 3, 5, 6, 0, 6, 5, 9, 7, 4, 5, 0, 8, 3, 6, 1, 8, 9, 7, 7, 7, 1, 9, 6, 0, 3, 9, 6, 2, 8, 0, 0, 7, 7, 5, 4, 6, 5, 2, 5, 5, 9, 0, 4, 6, 0, 6, 4, 5, 6, 5, 3, 7, 7, 8, 6, 7, 2, 4, 9, 5, 2, 2, 7, 4, 2, 5, 8, 1, 0, 8, 2, 1, 7, 6, 0, 6, 6, 6, 0, 4, 2, 1, 1, 4, 4, 8, 7, 8, 0, 0, 3, 8, 4, 5, 7, 2, 5, 5, 9, 4, 8, 8, 4, 5, 6, 3, 4, 7, 8, 2, 5, 3, 1, 2, 6, 6, 1, 0, 8, 9, 2, 8, 1, 2, 8, 5, 4, 0, 5, 2, 0, 9, 9, 8, 8, 6, 9, 5, 9, 3, 6, 5, 8, 6, 9, 2, 0, 1, 3, 1, 6, 2, 3, 4, 2, 6, 8, 5, 8, 3, 7, 1, 2, 7, 9, 2, 7, 6, 8, 3, 2, 0, 3, 7, 9, 6, 7, 7, 0, 5, 2, 1, 9, 6, 1, 7, 4, 7, 9, 6, 7, 3, 4, 9, 0, 5, 1, 4, 8, 0, 1, 3, 3, 7, 7, 4, 3, 3, 1, 2, 9, 2, 2, 3, 0, 0, 1, 0, 8, 2, 9, 5, 3, 9, 1, 3, 2, 3, 5, 9, 2, 9, 3, 0, 4, 2, 9, 2, 0, 5, 8, 2, 9, 0, 5, 8, 5, 0, 2, 3, 5, 8, 9, 9, 7, 2, 4, 2, 1, 5, 9, 7, 5, 8, 7, 4, 2, 2, 0, 9, 5, 0, 2, 5, 7, 2, 0, 9, 0, 2, 8, 8, 0, 8, 6, 4, 5, 4, 6, 6, 8, 1, 5, 0, 2, 1, 4, 3, 2, 0, 5, 0, 3, 8, 6, 4, 4, 1, 4, 9, 8, 7, 2, 9, 1, 3, 1, 4, 2, 2, 2, 4, 3, 4, 1, 2, 4, 3, 2, 2, 3, 1, 3, 9, 8, 1, 3, 1, 7, 9, 2, 3, 0, 0, 7, 7, 3, 4, 7, 2, 0, 8, 9, 6, 8, 3, 7, 5, 3, 7, 8, 7, 0, 3, 6, 1, 9, 5, 2, 8, 4, 7, 2, 2, 7, 5, 5, 7, 0, 0, 4, 2, 7, 9, 7, 9, 0, 0, 3, 3, 0, 8, 2, 6, 4, 7, 6, 5, 2, 4, 3, 4, 9, 9, 7, 5, 7, 0, 9, 5, 1, 2, 0, 2, 6, 3, 4, 0, 6, 7, 4, 7, 0, 7, 1, 2, 7, 6, 7, 0, 0, 3, 3, 2, 6, 9, 4, 5, 3, 4, 2, 0, 0, 6, 0, 7, 5, 0, 9, 0, 1, 3, 2, 9, 3, 3, 7, 9, 0, 0, 0, 1, 6, 7, 1, 6, 0, 9, 0, 6, 7, 9, 9, 0, 8, 5, 5, 2, 7, 4, 3, 1, 3, 5, 5, 0, 0, 5, 1, 5, 2, 1, 0, 9, 9, 3, 1, 9, 0, 3, 4, 2, 2, 7, 8, 1, 1, 7, 1, 4, 2, 3, 4, 4, 6, 0, 2, 2, 0, 9, 9, 4, 6, 6, 2, 0, 6, 6, 0, 0, 9, 3, 3, 5, 6, 4, 8, 5, 4, 3, 0, 2, 0, 4, 8, 2, 6, 1, 3, 3, 5, 0, 2, 5, 3, 9, 0, 8, 3, 9, 6, 3, 9, 9, 5, 5, 7, 3, 6, 4, 4, 8, 9, 1, 5, 7, 9, 7, 4, 6, 6, 9, 9, 4, 2, 6, 3, 3, 6, 0, 7, 4, 4, 8, 1, 5, 4, 4, 4, 9, 7, 3, 3, 0, 2, 9, 8, 4, 0, 4, 9, 9, 6, 5, 8, 4, 4, 3, 1, 5, 8, 6, 2, 2, 1, 5, 1, 4, 0, 0, 0, 9, 8, 2, 4, 9, 9, 5, 3, 4, 5, 3, 5, 8, 4, 7, 2, 3, 8, 2, 9, 6, 3, 4, 6, 3, 9, 1, 8, 1, 0, 9, 3, 0, 2, 7, 4, 1, 8, 9, 1, 5, 3, 0, 8, 2, 2, 2, 2, 5, 1, 7, 3, 9, 5, 2, 1, 9, 0, 8, 9, 0, 8, 8, 6, 4, 6, 9, 3, 5, 9, 6, 5, 2, 2, 9, 1, 0, 5, 8, 4, 3, 1, 3, 6, 2, 9, 8, 2, 9, 8, 1, 2, 1, 5, 1, 2, 6, 6, 0, 8, 7, 2, 5, 5, 5, 5, 5, 3, 7, 1, 6, 8, 4, 4, 7, 7, 7, 4, 5, 6, 7, 7, 7, 0, 8, 9, 1, 5, 5, 6, 8, 9, 6, 9, 6, 6, 4, 0, 4, 5, 8, 0, 0, 3, 5, 0, 8, 1, 8, 8, 7, 5, 2, 7, 7, 2, 1, 3, 4, 7, 3, 5, 0, 8, 0, 8, 9, 4, 9, 0, 5, 7, 8, 6, 9, 8, 2, 8, 5, 4, 3, 5, 5, 5, 0, 2, 0, 7, 4, 3, 7, 1, 6, 5, 8, 0, 4, 7, 3, 1, 1, 0, 9, 1, 3, 6, 1, 2, 9, 1, 0, 3, 0, 0, 4, 9, 2, 3, 3, 8, 8, 7, 1, 0, 4, 5, 9, 6, 4, 6, 1, 2, 1, 4, 0, 6, 9, 1, 5, 6, 5, 0, 1, 3, 2, 5, 3, 9, 3, 2, 7, 2, 4, 3, 3, 8, 7, 5, 5, 7, 9, 8, 5, 9, 0, 6, 7, 2, 7, 9, 3, 4, 8, 4, 2, 1, 3, 7, 8, 2, 5, 3, 9, 0, 5, 9, 4, 7, 9, 7, 0, 2, 5, 7, 6, 5, 9, 4, 7, 0, 9, 3, 1, 2, 3, 9, 9, 4, 9, 9, 9, 0, 8, 0, 4, 5, 3, 1, 5, 5, 9, 0, 3, 8, 1, 8, 6, 3, 5, 8, 7, 5, 1, 0, 4, 8, 0, 2, 7, 9, 1, 6, 5, 7, 0, 2, 8, 2, 8, 4, 6, 1, 4, 8, 4, 0, 6, 5, 4, 2, 1, 0, 2, 1, 7, 0, 4, 6, 7, 6, 7, 1, 6, 1, 9, 0, 3, 7, 3, 3, 3, 5, 0, 1, 0, 7, 8, 8, 9, 1, 5, 6, 2, 3, 3, 3, 1, 9, 4, 7, 8, 6, 0, 5, 3, 9, 2, 3, 4, 6, 7, 9, 3, 5, 8, 6, 4, 8, 4, 6, 4, 9, 4, 6, 5, 4, 9, 2, 7, 1, 4, 8, 0, 0, 4, 6, 1, 7, 2, 6, 6, 4, 0, 9, 3, 0, 0, 2, 9, 3, 6, 3, 5, 0, 1, 7, 0, 5, 0, 6, 7, 5, 8, 2, 8, 9, 6, 1, 0, 0, 2, 0, 6, 2, 5, 2, 9, 4, 1, 1, 9, 3, 0, 5, 5, 9, 4, 3, 5, 7, 4, 7, 5, 2, 2, 9, 8, 7, 2, 9, 0, 2, 0, 0, 4, 1, 7, 7, 5, 9, 0, 3, 2, 5, 1, 7, 1, 2, 4, 9, 0, 0, 6, 1, 1, 7, 9, 1, 4, 6, 0, 2, 2, 4, 2, 4, 9, 5, 0, 6, 6, 9, 3, 0, 5, 3, 7, 6, 8, 0, 2, 3, 5, 0, 2, 8, 0, 0, 8, 0, 1, 9, 9, 5, 9, 6, 7, 4, 5, 5, 6, 5, 9, 7, 3, 6, 8, 1, 1, 6, 3, 9, 9, 2, 2, 8, 7, 7, 1, 9, 7, 4, 0, 5, 6, 6, 0, 5, 8, 0, 4, 4, 0, 6, 8, 8, 0, 0, 5, 1, 5, 6, 7, 3, 9, 2, 8, 4, 0, 6, 5, 2, 4, 6, 3, 3, 7, 0, 0, 6, 6, 2, 4, 3, 5, 5, 3, 9, 8, 7, 8, 3, 9, 7, 0, 1, 8, 3, 1, 6, 0, 4, 0, 1, 4, 8, 6, 6, 3, 4, 8, 4, 7, 2, 7, 6, 5, 9, 2, 3, 9, 7, 8, 1, 1, 8, 1, 0, 3, 9, 2, 9, 6, 0, 0, 7, 7, 1, 3, 0, 7, 7, 9, 4, 6, 0, 4, 0, 9, 1, 2, 5, 6, 3, 7, 1, 8, 0, 7, 9, 8, 9, 7, 6, 1, 9, 0, 4, 3, 5, 8, 4, 3, 2, 8, 7, 5, 5, 2, 4, 8, 2, 0, 0, 0, 5, 0, 9, 7, 9, 5, 4, 3, 7, 4, 3, 3, 4, 3, 0, 0, 6, 7, 3, 4, 3, 5, 3, 1, 0, 4, 9, 9, 4, 2, 5, 1, 2, 1, 8, 7, 5, 5, 7, 2, 6, 6, 9, 4, 4, 0, 1, 6, 3, 7, 9, 4, 2, 7, 9, 5, 7, 0, 8, 9, 9, 0, 5, 3, 6, 7, 2, 7, 6, 2, 1, 6, 9, 2, 9, 1, 4, 1, 9, 6, 5, 5, 7, 7, 8, 0, 9, 1, 7, 2, 3, 8, 2, 3, 0, 6, 1, 1, 9, 2, 3, 0, 3, 7, 9, 8, 8, 3, 2, 6, 8, 8, 8, 1, 2, 3, 0, 0, 2, 0, 4, 1, 2, 8, 9, 5, 6, 4, 6, 2, 5, 0, 0, 7, 7, 0, 5, 5, 6, 9, 0, 1, 7, 6, 9, 4, 6, 6, 2, 5, 9, 0, 3, 8, 9, 5, 2, 5, 9, 8, 4, 0, 1, 5, 1, 0, 4, 2, 4, 0, 9, 5, 5, 0, 4, 2, 3, 0, 3, 9, 4, 2, 5, 1, 9, 8, 1, 2, 7, 3, 7, 7, 4, 2, 2, 5, 3, 3, 3, 7, 8, 5, 3, 8, 5, 6, 7, 3, 9, 7, 7, 9, 5, 5, 1, 4, 3, 0, 3, 1, 7, 4, 1, 7, 7, 3, 1, 8, 1, 7, 9, 3, 0, 8, 4, 2, 2, 3, 5, 0, 5, 8, 5, 4, 5, 5, 9, 4, 0, 6, 3, 9, 6, 0, 7, 6, 8, 6, 0, 4, 8, 9, 4, 0, 2, 1, 1, 1, 5, 8, 0, 6, 0, 0, 6, 0, 0, 1, 0, 2, 4, 8, 9, 8, 3, 9, 8, 3, 9, 5, 4, 0, 4, 0, 6, 7, 8, 7, 3, 5, 4, 5, 5, 9, 3, 6, 9, 5, 9, 8, 2, 6, 5, 1, 8, 5, 3, 6, 3, 6, 7, 7, 8, 8, 0, 8, 6, 9, 4, 0, 7, 2, 5, 9, 6, 4, 5, 4, 3, 8, 1, 3, 4, 3, 2, 5, 3, 4, 4, 0, 4, 2, 5, 4, 9, 3, 8, 0, 0, 3, 2, 4, 9, 7, 1, 8, 6, 4, 7, 0, 9, 2, 9, 6, 9, 8, 8, 0, 9, 7, 3, 4, 2, 5, 9, 6, 6, 0, 8, 1, 2, 2, 9, 0, 5, 8, 1, 4, 6, 8, 4, 1, 9, 1, 5, 2, 1, 6, 4, 5, 2, 6, 8, 5, 5, 5, 0, 7, 1, 5, 5, 7, 1, 3, 1, 9, 6, 0, 5, 5, 4, 3, 3, 8, 2, 8, 3, 9, 5, 9, 3, 4, 7, 2, 3, 5, 2, 7, 0, 1, 9, 4, 1, 0, 5, 8, 6, 4, 6, 3, 0, 0, 7, 0, 7, 0, 6, 4, 1, 9, 3, 7, 1, 4, 9, 7, 9, 0, 3, 7, 3, 6, 6, 1, 0, 4, 3, 7, 2, 9, 1, 0, 3, 2, 0, 2, 2, 5, 5, 3, 4, 8, 1, 8, 3, 5, 9, 5, 2, 7, 5, 3, 9, 2, 0, 8, 2, 2, 7, 5, 6, 7, 4, 6, 1, 6, 9, 7, 3, 0, 3, 3, 1, 3, 9, 4, 5, 4, 4, 7, 1, 1, 3, 2, 5, 4, 9, 1, 7, 9, 7, 2, 0, 7, 7, 6, 0, 1, 5, 2, 8, 1, 1, 8, 5, 1, 1, 5, 3, 7, 4, 8, 8, 9, 9, 7, 1, 3, 5, 2, 3, 6, 8, 4, 0, 3, 3, 3, 8, 7, 0, 1, 8, 8, 9, 5, 6, 1, 7, 1, 1, 5, 4, 7, 6, 6, 1, 8, 8, 6, 0, 0, 3, 2, 9, 7, 7, 0, 6, 8, 4, 5, 6, 7, 5, 6, 5, 6, 0, 7, 4, 0, 2, 7, 1, 8, 7, 4, 2, 7, 5, 9, 0, 6, 2, 1, 8, 3, 8, 4, 5, 0, 0, 6, 8, 8, 5, 2, 2, 7, 4, 9, 0, 9, 3, 4, 9, 5, 5, 7, 4, 3, 9, 3, 0, 4, 2, 9, 1, 9, 3, 4, 1, 9, 0, 0, 5, 3, 3, 7, 0, 4, 6, 4, 5, 2, 6, 4, 9, 5, 0, 2, 6, 9, 5, 7, 8, 9, 8, 1, 3, 1, 7, 5, 7, 4, 4, 7, 1, 3, 3, 9, 6, 7, 9, 2, 6, 3, 3, 4, 9, 0, 9, 7, 4, 9, 0, 5, 8, 4, 7, 3, 8, 1, 2, 8, 4, 2, 4, 9, 5, 8, 7, 1, 5, 0, 2, 5, 0, 4, 2, 0, 4, 7, 4, 9, 7, 2, 8, 3, 5, 6, 6, 1, 4, 7, 9, 4, 4, 9, 8, 8, 3, 1, 1, 1, 5, 9, 4, 2, 1, 1, 0, 7, 5, 5, 2, 1, 8, 0, 6, 8, 4, 1, 2, 8, 5, 9, 5, 9, 0, 1, 7, 5, 2, 7, 6, 7, 9, 9, 9, 1, 0, 9, 1, 7, 4, 9, 8, 9, 9, 6, 1, 9, 4, 8, 2, 0, 1, 4, 9, 7, 5, 2, 8, 3, 9, 0, 8, 5, 5, 3, 9, 0, 8, 6, 8, 6, 2, 0, 3, 3, 6, 5, 0, 9, 8, 7, 5, 3, 3, 4, 4, 6, 4, 6, 2, 8, 2, 9, 6, 7, 8, 1, 1, 2, 5, 5, 9, 5, 8, 3, 0, 5, 3, 5, 4, 8, 9, 2, 3, 3, 6, 2, 2, 1, 9, 0, 2, 7, 5, 5, 4, 9, 3, 1, 8, 3, 3, 6, 8, 2, 6, 2, 3, 0, 3, 4, 3, 5, 6, 5, 9, 9, 0, 7, 5, 1, 9, 3, 5, 4, 7, 0, 4, 2, 2, 2, 8, 1, 9, 6, 6, 0, 3, 0, 9, 2, 6, 2, 4, 7, 4, 3, 1, 4, 0, 6, 7, 2, 8, 3, 4, 1, 1, 8, 0, 3, 7, 4, 4, 5, 9, 2, 1, 5, 0, 8, 6, 0, 8, 9, 2, 6, 6, 7, 1, 2, 1, 6, 8, 4, 5, 3, 5, 4, 7, 5, 3, 8, 1, 8, 9, 1, 2, 4, 8, 2, 7, 4, 7, 0, 9, 6, 1, 4, 2, 0, 4, 6, 5, 1, 2, 0, 6, 5, 8, 1, 3, 2, 6, 3, 5, 7, 9, 2, 6, 1, 4, 0, 3, 2, 0, 7, 3, 6, 6, 0, 1, 4, 5, 2, 8, 6, 2, 7, 8, 9, 6, 7, 0, 6, 1, 7, 1, 3, 3, 7, 4, 0, 0, 0, 1, 3, 5, 0, 2, 3, 3, 0, 0, 1, 2, 2, 1, 1, 0, 0, 8, 3, 2, 8, 4, 1, 5, 8, 6, 0, 3, 0, 2, 0, 1, 4, 6, 6, 4, 0, 3, 1, 6, 9, 4, 0, 2, 1, 9, 7, 3, 4, 5, 6, 1, 4, 3, 9, 5, 3, 7, 4, 3, 1, 1, 1, 0, 2, 8, 5, 3, 7, 5, 1, 2, 7, 0, 9, 5, 6, 9, 8, 0, 3, 6, 3, 6, 9, 7, 0, 2, 1, 0, 9, 3, 9, 0, 3, 5, 9, 3, 6, 4, 9, 8, 6, 1, 6, 7, 1, 3, 8, 9, 0, 3, 5, 9, 1, 2, 7, 7, 4, 1, 1, 0, 1, 2, 0, 3, 7, 8, 1, 8, 3, 9, 2, 9, 2, 9, 1, 7, 4, 9, 9, 2, 8, 8, 3, 3, 6, 0, 8, 4, 1, 2, 1, 0, 4, 8, 1, 7, 2, 5, 4, 4, 3, 5, 2, 1, 3, 0, 4, 0, 1, 2, 2, 4, 2, 7, 1, 6, 2, 9, 1, 8, 0, 0, 1, 5, 7, 8, 2, 5, 2, 2, 4, 5, 6, 9, 1, 9, 6, 7, 3, 0, 0, 2, 8, 9, 9, 1, 6, 6, 5, 5, 4, 0, 1, 1, 4, 1, 0, 2, 0, 8, 7, 9, 0, 0, 5, 7, 5, 5, 3, 1, 1, 8, 9, 0, 8, 2, 2, 5, 6, 1, 5, 2, 4, 5, 1, 4, 4, 9, 2, 0, 9, 2, 3, 2, 7, 4]\n",
            "\n",
            "\n",
            "testing accuracy : 0.9148888888888889\t f1_score: 0.9140321457503796\n"
          ]
        },
        {
          "output_type": "display_data",
          "data": {
            "text/plain": [
              "<Figure size 288x288 with 2 Axes>"
            ],
            "image/png": "[encoded data removed]"
          },
          "metadata": {
            "needs_background": "light"
          }
        }
      ]
    },
    {
      "cell_type": "code",
      "source": [
        ""
      ],
      "metadata": {
        "id": "P9OzCvXyRec4"
      },
      "execution_count": null,
      "outputs": []
    },
    {
      "cell_type": "code",
      "source": [
        "## codes below are just for rough "
      ],
      "metadata": {
        "id": "V_1435UPRehd"
      },
      "execution_count": null,
      "outputs": []
    },
    {
      "cell_type": "code",
      "source": [
        "#training a binnary classifier for label 6\n",
        "\n",
        "\n",
        "labels2.mean()"
      ],
      "metadata": {
        "colab": {
          "base_uri": "https://localhost:8080/"
        },
        "id": "HDK3UufV-VDB",
        "outputId": "23d60ea0-22b3-45e5-8f0b-b3ad013ea07b"
      },
      "execution_count": null,
      "outputs": [
        {
          "output_type": "execute_result",
          "data": {
            "text/plain": [
              "0.1"
            ]
          },
          "metadata": {},
          "execution_count": 32
        }
      ]
    },
    {
      "cell_type": "code",
      "source": [
        "labels2 = labels2.tolist()"
      ],
      "metadata": {
        "id": "2IiJOjgyFHax"
      },
      "execution_count": null,
      "outputs": []
    },
    {
      "cell_type": "code",
      "source": [
        "a = [2,3,4]\n",
        "a.index"
      ],
      "metadata": {
        "id": "nKsTx8SjFQI4"
      },
      "execution_count": null,
      "outputs": []
    },
    {
      "cell_type": "code",
      "source": [
        "labels2[9]"
      ],
      "metadata": {
        "colab": {
          "base_uri": "https://localhost:8080/",
          "height": 165
        },
        "id": "U5voB5VoFC1t",
        "outputId": "8cc93a89-d926-4a08-bc13-9918ada4a9e0"
      },
      "execution_count": null,
      "outputs": [
        {
          "output_type": "error",
          "ename": "AttributeError",
          "evalue": "ignored",
          "traceback": [
            "\u001b[0;31m---------------------------------------------------------------------------\u001b[0m",
            "\u001b[0;31mAttributeError\u001b[0m                            Traceback (most recent call last)",
            "\u001b[0;32m<ipython-input-17-dc7b3123353a>\u001b[0m in \u001b[0;36m<module>\u001b[0;34m()\u001b[0m\n\u001b[0;32m----> 1\u001b[0;31m \u001b[0mlabels2\u001b[0m\u001b[0;34m[\u001b[0m\u001b[0;36m9\u001b[0m\u001b[0;34m]\u001b[0m\u001b[0;34m.\u001b[0m\u001b[0mindex\u001b[0m\u001b[0;34m\u001b[0m\u001b[0;34m\u001b[0m\u001b[0m\n\u001b[0m",
            "\u001b[0;31mAttributeError\u001b[0m: 'int' object has no attribute 'index'"
          ]
        }
      ]
    },
    {
      "cell_type": "code",
      "source": [
        "data2,label2 = binary_oversample(data,labels,class_index = 1,size=10000)"
      ],
      "metadata": {
        "id": "6RcgnJ-AJBpd"
      },
      "execution_count": null,
      "outputs": []
    },
    {
      "cell_type": "code",
      "source": [
        "label2.mean()"
      ],
      "metadata": {
        "id": "LDw0V5pdKShO",
        "colab": {
          "base_uri": "https://localhost:8080/"
        },
        "outputId": "74537eda-5dde-4fd3-e35e-fcf4dec6ecf1"
      },
      "execution_count": null,
      "outputs": [
        {
          "output_type": "execute_result",
          "data": {
            "text/plain": [
              "0.5"
            ]
          },
          "metadata": {},
          "execution_count": 45
        }
      ]
    },
    {
      "cell_type": "code",
      "source": [
        ""
      ],
      "metadata": {
        "colab": {
          "base_uri": "https://localhost:8080/"
        },
        "id": "5bZiAgGXHB5a",
        "outputId": "5d31551f-d1cd-4977-fc59-02ade4b64dd9"
      },
      "execution_count": null,
      "outputs": [
        {
          "output_type": "execute_result",
          "data": {
            "text/plain": [
              "array([[0, 0, 0, ..., 0, 0, 0],\n",
              "       [0, 0, 0, ..., 0, 0, 0],\n",
              "       [0, 0, 0, ..., 0, 0, 0],\n",
              "       ...,\n",
              "       [0, 0, 0, ..., 0, 0, 0],\n",
              "       [0, 0, 0, ..., 0, 0, 0],\n",
              "       [0, 0, 0, ..., 0, 0, 0]])"
            ]
          },
          "metadata": {},
          "execution_count": 40
        }
      ]
    },
    {
      "cell_type": "code",
      "source": [
        ""
      ],
      "metadata": {
        "id": "dzHe-0YeI-fD"
      },
      "execution_count": null,
      "outputs": []
    }
  ],
  "metadata": {
    "accelerator": "GPU",
    "colab": {
      "collapsed_sections": [],
      "name": "FashionMNIST.ipynb",
      "provenance": []
    },
    "kernelspec": {
      "display_name": "Python 3",
      "name": "python3"
    },
    "language_info": {
      "name": "python"
    },
    "widgets": {
      "application/vnd.jupyter.widget-state+json": {
        "2b5d256e3b2c426cbd5b84a454597c8f": {
          "model_module": "@jupyter-widgets/controls",
          "model_name": "HBoxModel",
          "model_module_version": "1.5.0",
          "state": {
            "_dom_classes": [],
            "_model_module": "@jupyter-widgets/controls",
            "_model_module_version": "1.5.0",
            "_model_name": "HBoxModel",
            "_view_count": null,
            "_view_module": "@jupyter-widgets/controls",
            "_view_module_version": "1.5.0",
            "_view_name": "HBoxView",
            "box_style": "",
            "children": [
              "IPY_MODEL_903dee586cfc4c16aeb46c5a934bc23a",
              "IPY_MODEL_3b9517898a454e7db12ac93e88fdbcb6",
              "IPY_MODEL_28be44306c4b4e589ff2d7a3677c7c4c"
            ],
            "layout": "IPY_MODEL_44f7faa633bd4f25a838103ca4667e78"
          }
        },
        "903dee586cfc4c16aeb46c5a934bc23a": {
          "model_module": "@jupyter-widgets/controls",
          "model_name": "HTMLModel",
          "model_module_version": "1.5.0",
          "state": {
            "_dom_classes": [],
            "_model_module": "@jupyter-widgets/controls",
            "_model_module_version": "1.5.0",
            "_model_name": "HTMLModel",
            "_view_count": null,
            "_view_module": "@jupyter-widgets/controls",
            "_view_module_version": "1.5.0",
            "_view_name": "HTMLView",
            "description": "",
            "description_tooltip": null,
            "layout": "IPY_MODEL_f61fe089232f41efb6b3772647244cba",
            "placeholder": "​",
            "style": "IPY_MODEL_a03705dcfee740479c82da38ff5fea36",
            "value": ""
          }
        },
        "3b9517898a454e7db12ac93e88fdbcb6": {
          "model_module": "@jupyter-widgets/controls",
          "model_name": "FloatProgressModel",
          "model_module_version": "1.5.0",
          "state": {
            "_dom_classes": [],
            "_model_module": "@jupyter-widgets/controls",
            "_model_module_version": "1.5.0",
            "_model_name": "FloatProgressModel",
            "_view_count": null,
            "_view_module": "@jupyter-widgets/controls",
            "_view_module_version": "1.5.0",
            "_view_name": "ProgressView",
            "bar_style": "success",
            "description": "",
            "description_tooltip": null,
            "layout": "IPY_MODEL_15f8ae5b87ea4194b8afbf9a0a8d5672",
            "max": 26421880,
            "min": 0,
            "orientation": "horizontal",
            "style": "IPY_MODEL_b81fa4c49d38468f96db282e5292e3e8",
            "value": 26421880
          }
        },
        "28be44306c4b4e589ff2d7a3677c7c4c": {
          "model_module": "@jupyter-widgets/controls",
          "model_name": "HTMLModel",
          "model_module_version": "1.5.0",
          "state": {
            "_dom_classes": [],
            "_model_module": "@jupyter-widgets/controls",
            "_model_module_version": "1.5.0",
            "_model_name": "HTMLModel",
            "_view_count": null,
            "_view_module": "@jupyter-widgets/controls",
            "_view_module_version": "1.5.0",
            "_view_name": "HTMLView",
            "description": "",
            "description_tooltip": null,
            "layout": "IPY_MODEL_5b00715675bd406eb26bc4f1322df04e",
            "placeholder": "​",
            "style": "IPY_MODEL_911411c9f2f14b38a691bec0506a32df",
            "value": " 26422272/? [00:01&lt;00:00, 23653637.82it/s]"
          }
        },
        "44f7faa633bd4f25a838103ca4667e78": {
          "model_module": "@jupyter-widgets/base",
          "model_name": "LayoutModel",
          "model_module_version": "1.2.0",
          "state": {
            "_model_module": "@jupyter-widgets/base",
            "_model_module_version": "1.2.0",
            "_model_name": "LayoutModel",
            "_view_count": null,
            "_view_module": "@jupyter-widgets/base",
            "_view_module_version": "1.2.0",
            "_view_name": "LayoutView",
            "align_content": null,
            "align_items": null,
            "align_self": null,
            "border": null,
            "bottom": null,
            "display": null,
            "flex": null,
            "flex_flow": null,
            "grid_area": null,
            "grid_auto_columns": null,
            "grid_auto_flow": null,
            "grid_auto_rows": null,
            "grid_column": null,
            "grid_gap": null,
            "grid_row": null,
            "grid_template_areas": null,
            "grid_template_columns": null,
            "grid_template_rows": null,
            "height": null,
            "justify_content": null,
            "justify_items": null,
            "left": null,
            "margin": null,
            "max_height": null,
            "max_width": null,
            "min_height": null,
            "min_width": null,
            "object_fit": null,
            "object_position": null,
            "order": null,
            "overflow": null,
            "overflow_x": null,
            "overflow_y": null,
            "padding": null,
            "right": null,
            "top": null,
            "visibility": null,
            "width": null
          }
        },
        "f61fe089232f41efb6b3772647244cba": {
          "model_module": "@jupyter-widgets/base",
          "model_name": "LayoutModel",
          "model_module_version": "1.2.0",
          "state": {
            "_model_module": "@jupyter-widgets/base",
            "_model_module_version": "1.2.0",
            "_model_name": "LayoutModel",
            "_view_count": null,
            "_view_module": "@jupyter-widgets/base",
            "_view_module_version": "1.2.0",
            "_view_name": "LayoutView",
            "align_content": null,
            "align_items": null,
            "align_self": null,
            "border": null,
            "bottom": null,
            "display": null,
            "flex": null,
            "flex_flow": null,
            "grid_area": null,
            "grid_auto_columns": null,
            "grid_auto_flow": null,
            "grid_auto_rows": null,
            "grid_column": null,
            "grid_gap": null,
            "grid_row": null,
            "grid_template_areas": null,
            "grid_template_columns": null,
            "grid_template_rows": null,
            "height": null,
            "justify_content": null,
            "justify_items": null,
            "left": null,
            "margin": null,
            "max_height": null,
            "max_width": null,
            "min_height": null,
            "min_width": null,
            "object_fit": null,
            "object_position": null,
            "order": null,
            "overflow": null,
            "overflow_x": null,
            "overflow_y": null,
            "padding": null,
            "right": null,
            "top": null,
            "visibility": null,
            "width": null
          }
        },
        "a03705dcfee740479c82da38ff5fea36": {
          "model_module": "@jupyter-widgets/controls",
          "model_name": "DescriptionStyleModel",
          "model_module_version": "1.5.0",
          "state": {
            "_model_module": "@jupyter-widgets/controls",
            "_model_module_version": "1.5.0",
            "_model_name": "DescriptionStyleModel",
            "_view_count": null,
            "_view_module": "@jupyter-widgets/base",
            "_view_module_version": "1.2.0",
            "_view_name": "StyleView",
            "description_width": ""
          }
        },
        "15f8ae5b87ea4194b8afbf9a0a8d5672": {
          "model_module": "@jupyter-widgets/base",
          "model_name": "LayoutModel",
          "model_module_version": "1.2.0",
          "state": {
            "_model_module": "@jupyter-widgets/base",
            "_model_module_version": "1.2.0",
            "_model_name": "LayoutModel",
            "_view_count": null,
            "_view_module": "@jupyter-widgets/base",
            "_view_module_version": "1.2.0",
            "_view_name": "LayoutView",
            "align_content": null,
            "align_items": null,
            "align_self": null,
            "border": null,
            "bottom": null,
            "display": null,
            "flex": null,
            "flex_flow": null,
            "grid_area": null,
            "grid_auto_columns": null,
            "grid_auto_flow": null,
            "grid_auto_rows": null,
            "grid_column": null,
            "grid_gap": null,
            "grid_row": null,
            "grid_template_areas": null,
            "grid_template_columns": null,
            "grid_template_rows": null,
            "height": null,
            "justify_content": null,
            "justify_items": null,
            "left": null,
            "margin": null,
            "max_height": null,
            "max_width": null,
            "min_height": null,
            "min_width": null,
            "object_fit": null,
            "object_position": null,
            "order": null,
            "overflow": null,
            "overflow_x": null,
            "overflow_y": null,
            "padding": null,
            "right": null,
            "top": null,
            "visibility": null,
            "width": null
          }
        },
        "b81fa4c49d38468f96db282e5292e3e8": {
          "model_module": "@jupyter-widgets/controls",
          "model_name": "ProgressStyleModel",
          "model_module_version": "1.5.0",
          "state": {
            "_model_module": "@jupyter-widgets/controls",
            "_model_module_version": "1.5.0",
            "_model_name": "ProgressStyleModel",
            "_view_count": null,
            "_view_module": "@jupyter-widgets/base",
            "_view_module_version": "1.2.0",
            "_view_name": "StyleView",
            "bar_color": null,
            "description_width": ""
          }
        },
        "5b00715675bd406eb26bc4f1322df04e": {
          "model_module": "@jupyter-widgets/base",
          "model_name": "LayoutModel",
          "model_module_version": "1.2.0",
          "state": {
            "_model_module": "@jupyter-widgets/base",
            "_model_module_version": "1.2.0",
            "_model_name": "LayoutModel",
            "_view_count": null,
            "_view_module": "@jupyter-widgets/base",
            "_view_module_version": "1.2.0",
            "_view_name": "LayoutView",
            "align_content": null,
            "align_items": null,
            "align_self": null,
            "border": null,
            "bottom": null,
            "display": null,
            "flex": null,
            "flex_flow": null,
            "grid_area": null,
            "grid_auto_columns": null,
            "grid_auto_flow": null,
            "grid_auto_rows": null,
            "grid_column": null,
            "grid_gap": null,
            "grid_row": null,
            "grid_template_areas": null,
            "grid_template_columns": null,
            "grid_template_rows": null,
            "height": null,
            "justify_content": null,
            "justify_items": null,
            "left": null,
            "margin": null,
            "max_height": null,
            "max_width": null,
            "min_height": null,
            "min_width": null,
            "object_fit": null,
            "object_position": null,
            "order": null,
            "overflow": null,
            "overflow_x": null,
            "overflow_y": null,
            "padding": null,
            "right": null,
            "top": null,
            "visibility": null,
            "width": null
          }
        },
        "911411c9f2f14b38a691bec0506a32df": {
          "model_module": "@jupyter-widgets/controls",
          "model_name": "DescriptionStyleModel",
          "model_module_version": "1.5.0",
          "state": {
            "_model_module": "@jupyter-widgets/controls",
            "_model_module_version": "1.5.0",
            "_model_name": "DescriptionStyleModel",
            "_view_count": null,
            "_view_module": "@jupyter-widgets/base",
            "_view_module_version": "1.2.0",
            "_view_name": "StyleView",
            "description_width": ""
          }
        },
        "a8a88bd8d4ec4dc3b314f805472b525c": {
          "model_module": "@jupyter-widgets/controls",
          "model_name": "HBoxModel",
          "model_module_version": "1.5.0",
          "state": {
            "_dom_classes": [],
            "_model_module": "@jupyter-widgets/controls",
            "_model_module_version": "1.5.0",
            "_model_name": "HBoxModel",
            "_view_count": null,
            "_view_module": "@jupyter-widgets/controls",
            "_view_module_version": "1.5.0",
            "_view_name": "HBoxView",
            "box_style": "",
            "children": [
              "IPY_MODEL_ff4c2ea4c8d14a8697464965ab193ee3",
              "IPY_MODEL_26cbce5eb4b840cf9de4ddbfecb0d11b",
              "IPY_MODEL_83ed9681a82a492486cc8c155589dbb3"
            ],
            "layout": "IPY_MODEL_edaad50e963f446e8f34f42f869dc12f"
          }
        },
        "ff4c2ea4c8d14a8697464965ab193ee3": {
          "model_module": "@jupyter-widgets/controls",
          "model_name": "HTMLModel",
          "model_module_version": "1.5.0",
          "state": {
            "_dom_classes": [],
            "_model_module": "@jupyter-widgets/controls",
            "_model_module_version": "1.5.0",
            "_model_name": "HTMLModel",
            "_view_count": null,
            "_view_module": "@jupyter-widgets/controls",
            "_view_module_version": "1.5.0",
            "_view_name": "HTMLView",
            "description": "",
            "description_tooltip": null,
            "layout": "IPY_MODEL_9d097962b36a49539149def97db1091d",
            "placeholder": "​",
            "style": "IPY_MODEL_83eb44703e8747d3b76ecf662c0be6f8",
            "value": ""
          }
        },
        "26cbce5eb4b840cf9de4ddbfecb0d11b": {
          "model_module": "@jupyter-widgets/controls",
          "model_name": "FloatProgressModel",
          "model_module_version": "1.5.0",
          "state": {
            "_dom_classes": [],
            "_model_module": "@jupyter-widgets/controls",
            "_model_module_version": "1.5.0",
            "_model_name": "FloatProgressModel",
            "_view_count": null,
            "_view_module": "@jupyter-widgets/controls",
            "_view_module_version": "1.5.0",
            "_view_name": "ProgressView",
            "bar_style": "success",
            "description": "",
            "description_tooltip": null,
            "layout": "IPY_MODEL_cfd7cbd694e243ffba0b037c1a57a20b",
            "max": 29515,
            "min": 0,
            "orientation": "horizontal",
            "style": "IPY_MODEL_4a52e958166944599cdabaec90520f0e",
            "value": 29515
          }
        },
        "83ed9681a82a492486cc8c155589dbb3": {
          "model_module": "@jupyter-widgets/controls",
          "model_name": "HTMLModel",
          "model_module_version": "1.5.0",
          "state": {
            "_dom_classes": [],
            "_model_module": "@jupyter-widgets/controls",
            "_model_module_version": "1.5.0",
            "_model_name": "HTMLModel",
            "_view_count": null,
            "_view_module": "@jupyter-widgets/controls",
            "_view_module_version": "1.5.0",
            "_view_name": "HTMLView",
            "description": "",
            "description_tooltip": null,
            "layout": "IPY_MODEL_25f7dd8496394f5d89ecd13012928b06",
            "placeholder": "​",
            "style": "IPY_MODEL_723ee17f01634d1995dddda5ae1771d2",
            "value": " 29696/? [00:00&lt;00:00, 116601.23it/s]"
          }
        },
        "edaad50e963f446e8f34f42f869dc12f": {
          "model_module": "@jupyter-widgets/base",
          "model_name": "LayoutModel",
          "model_module_version": "1.2.0",
          "state": {
            "_model_module": "@jupyter-widgets/base",
            "_model_module_version": "1.2.0",
            "_model_name": "LayoutModel",
            "_view_count": null,
            "_view_module": "@jupyter-widgets/base",
            "_view_module_version": "1.2.0",
            "_view_name": "LayoutView",
            "align_content": null,
            "align_items": null,
            "align_self": null,
            "border": null,
            "bottom": null,
            "display": null,
            "flex": null,
            "flex_flow": null,
            "grid_area": null,
            "grid_auto_columns": null,
            "grid_auto_flow": null,
            "grid_auto_rows": null,
            "grid_column": null,
            "grid_gap": null,
            "grid_row": null,
            "grid_template_areas": null,
            "grid_template_columns": null,
            "grid_template_rows": null,
            "height": null,
            "justify_content": null,
            "justify_items": null,
            "left": null,
            "margin": null,
            "max_height": null,
            "max_width": null,
            "min_height": null,
            "min_width": null,
            "object_fit": null,
            "object_position": null,
            "order": null,
            "overflow": null,
            "overflow_x": null,
            "overflow_y": null,
            "padding": null,
            "right": null,
            "top": null,
            "visibility": null,
            "width": null
          }
        },
        "9d097962b36a49539149def97db1091d": {
          "model_module": "@jupyter-widgets/base",
          "model_name": "LayoutModel",
          "model_module_version": "1.2.0",
          "state": {
            "_model_module": "@jupyter-widgets/base",
            "_model_module_version": "1.2.0",
            "_model_name": "LayoutModel",
            "_view_count": null,
            "_view_module": "@jupyter-widgets/base",
            "_view_module_version": "1.2.0",
            "_view_name": "LayoutView",
            "align_content": null,
            "align_items": null,
            "align_self": null,
            "border": null,
            "bottom": null,
            "display": null,
            "flex": null,
            "flex_flow": null,
            "grid_area": null,
            "grid_auto_columns": null,
            "grid_auto_flow": null,
            "grid_auto_rows": null,
            "grid_column": null,
            "grid_gap": null,
            "grid_row": null,
            "grid_template_areas": null,
            "grid_template_columns": null,
            "grid_template_rows": null,
            "height": null,
            "justify_content": null,
            "justify_items": null,
            "left": null,
            "margin": null,
            "max_height": null,
            "max_width": null,
            "min_height": null,
            "min_width": null,
            "object_fit": null,
            "object_position": null,
            "order": null,
            "overflow": null,
            "overflow_x": null,
            "overflow_y": null,
            "padding": null,
            "right": null,
            "top": null,
            "visibility": null,
            "width": null
          }
        },
        "83eb44703e8747d3b76ecf662c0be6f8": {
          "model_module": "@jupyter-widgets/controls",
          "model_name": "DescriptionStyleModel",
          "model_module_version": "1.5.0",
          "state": {
            "_model_module": "@jupyter-widgets/controls",
            "_model_module_version": "1.5.0",
            "_model_name": "DescriptionStyleModel",
            "_view_count": null,
            "_view_module": "@jupyter-widgets/base",
            "_view_module_version": "1.2.0",
            "_view_name": "StyleView",
            "description_width": ""
          }
        },
        "cfd7cbd694e243ffba0b037c1a57a20b": {
          "model_module": "@jupyter-widgets/base",
          "model_name": "LayoutModel",
          "model_module_version": "1.2.0",
          "state": {
            "_model_module": "@jupyter-widgets/base",
            "_model_module_version": "1.2.0",
            "_model_name": "LayoutModel",
            "_view_count": null,
            "_view_module": "@jupyter-widgets/base",
            "_view_module_version": "1.2.0",
            "_view_name": "LayoutView",
            "align_content": null,
            "align_items": null,
            "align_self": null,
            "border": null,
            "bottom": null,
            "display": null,
            "flex": null,
            "flex_flow": null,
            "grid_area": null,
            "grid_auto_columns": null,
            "grid_auto_flow": null,
            "grid_auto_rows": null,
            "grid_column": null,
            "grid_gap": null,
            "grid_row": null,
            "grid_template_areas": null,
            "grid_template_columns": null,
            "grid_template_rows": null,
            "height": null,
            "justify_content": null,
            "justify_items": null,
            "left": null,
            "margin": null,
            "max_height": null,
            "max_width": null,
            "min_height": null,
            "min_width": null,
            "object_fit": null,
            "object_position": null,
            "order": null,
            "overflow": null,
            "overflow_x": null,
            "overflow_y": null,
            "padding": null,
            "right": null,
            "top": null,
            "visibility": null,
            "width": null
          }
        },
        "4a52e958166944599cdabaec90520f0e": {
          "model_module": "@jupyter-widgets/controls",
          "model_name": "ProgressStyleModel",
          "model_module_version": "1.5.0",
          "state": {
            "_model_module": "@jupyter-widgets/controls",
            "_model_module_version": "1.5.0",
            "_model_name": "ProgressStyleModel",
            "_view_count": null,
            "_view_module": "@jupyter-widgets/base",
            "_view_module_version": "1.2.0",
            "_view_name": "StyleView",
            "bar_color": null,
            "description_width": ""
          }
        },
        "25f7dd8496394f5d89ecd13012928b06": {
          "model_module": "@jupyter-widgets/base",
          "model_name": "LayoutModel",
          "model_module_version": "1.2.0",
          "state": {
            "_model_module": "@jupyter-widgets/base",
            "_model_module_version": "1.2.0",
            "_model_name": "LayoutModel",
            "_view_count": null,
            "_view_module": "@jupyter-widgets/base",
            "_view_module_version": "1.2.0",
            "_view_name": "LayoutView",
            "align_content": null,
            "align_items": null,
            "align_self": null,
            "border": null,
            "bottom": null,
            "display": null,
            "flex": null,
            "flex_flow": null,
            "grid_area": null,
            "grid_auto_columns": null,
            "grid_auto_flow": null,
            "grid_auto_rows": null,
            "grid_column": null,
            "grid_gap": null,
            "grid_row": null,
            "grid_template_areas": null,
            "grid_template_columns": null,
            "grid_template_rows": null,
            "height": null,
            "justify_content": null,
            "justify_items": null,
            "left": null,
            "margin": null,
            "max_height": null,
            "max_width": null,
            "min_height": null,
            "min_width": null,
            "object_fit": null,
            "object_position": null,
            "order": null,
            "overflow": null,
            "overflow_x": null,
            "overflow_y": null,
            "padding": null,
            "right": null,
            "top": null,
            "visibility": null,
            "width": null
          }
        },
        "723ee17f01634d1995dddda5ae1771d2": {
          "model_module": "@jupyter-widgets/controls",
          "model_name": "DescriptionStyleModel",
          "model_module_version": "1.5.0",
          "state": {
            "_model_module": "@jupyter-widgets/controls",
            "_model_module_version": "1.5.0",
            "_model_name": "DescriptionStyleModel",
            "_view_count": null,
            "_view_module": "@jupyter-widgets/base",
            "_view_module_version": "1.2.0",
            "_view_name": "StyleView",
            "description_width": ""
          }
        },
        "4666f42ce97844c49cd4b7e9e53cf52d": {
          "model_module": "@jupyter-widgets/controls",
          "model_name": "HBoxModel",
          "model_module_version": "1.5.0",
          "state": {
            "_dom_classes": [],
            "_model_module": "@jupyter-widgets/controls",
            "_model_module_version": "1.5.0",
            "_model_name": "HBoxModel",
            "_view_count": null,
            "_view_module": "@jupyter-widgets/controls",
            "_view_module_version": "1.5.0",
            "_view_name": "HBoxView",
            "box_style": "",
            "children": [
              "IPY_MODEL_91fa1330eaf64be2b590211f1a17d786",
              "IPY_MODEL_7d6dcfac43514172845300ef3e8adbf9",
              "IPY_MODEL_5cfa54f36721405e8dcab74e823d2998"
            ],
            "layout": "IPY_MODEL_9cfee14d50ba44b9bfdae4dfcfba8e98"
          }
        },
        "91fa1330eaf64be2b590211f1a17d786": {
          "model_module": "@jupyter-widgets/controls",
          "model_name": "HTMLModel",
          "model_module_version": "1.5.0",
          "state": {
            "_dom_classes": [],
            "_model_module": "@jupyter-widgets/controls",
            "_model_module_version": "1.5.0",
            "_model_name": "HTMLModel",
            "_view_count": null,
            "_view_module": "@jupyter-widgets/controls",
            "_view_module_version": "1.5.0",
            "_view_name": "HTMLView",
            "description": "",
            "description_tooltip": null,
            "layout": "IPY_MODEL_67fbc4d5a6a249eda26185745ff92167",
            "placeholder": "​",
            "style": "IPY_MODEL_f9cc7d31a6424b34868093c0f4843a45",
            "value": ""
          }
        },
        "7d6dcfac43514172845300ef3e8adbf9": {
          "model_module": "@jupyter-widgets/controls",
          "model_name": "FloatProgressModel",
          "model_module_version": "1.5.0",
          "state": {
            "_dom_classes": [],
            "_model_module": "@jupyter-widgets/controls",
            "_model_module_version": "1.5.0",
            "_model_name": "FloatProgressModel",
            "_view_count": null,
            "_view_module": "@jupyter-widgets/controls",
            "_view_module_version": "1.5.0",
            "_view_name": "ProgressView",
            "bar_style": "success",
            "description": "",
            "description_tooltip": null,
            "layout": "IPY_MODEL_b7ad2ece11f84c379eb32d322df5719d",
            "max": 4422102,
            "min": 0,
            "orientation": "horizontal",
            "style": "IPY_MODEL_ad855f58a51947c1aeb6eaebc433f304",
            "value": 4422102
          }
        },
        "5cfa54f36721405e8dcab74e823d2998": {
          "model_module": "@jupyter-widgets/controls",
          "model_name": "HTMLModel",
          "model_module_version": "1.5.0",
          "state": {
            "_dom_classes": [],
            "_model_module": "@jupyter-widgets/controls",
            "_model_module_version": "1.5.0",
            "_model_name": "HTMLModel",
            "_view_count": null,
            "_view_module": "@jupyter-widgets/controls",
            "_view_module_version": "1.5.0",
            "_view_name": "HTMLView",
            "description": "",
            "description_tooltip": null,
            "layout": "IPY_MODEL_9664f26a6ea74a3881d24a9930a4f108",
            "placeholder": "​",
            "style": "IPY_MODEL_70a05d2b027042e3b1abbb0e17cabc05",
            "value": " 4422656/? [00:00&lt;00:00, 7528738.56it/s]"
          }
        },
        "9cfee14d50ba44b9bfdae4dfcfba8e98": {
          "model_module": "@jupyter-widgets/base",
          "model_name": "LayoutModel",
          "model_module_version": "1.2.0",
          "state": {
            "_model_module": "@jupyter-widgets/base",
            "_model_module_version": "1.2.0",
            "_model_name": "LayoutModel",
            "_view_count": null,
            "_view_module": "@jupyter-widgets/base",
            "_view_module_version": "1.2.0",
            "_view_name": "LayoutView",
            "align_content": null,
            "align_items": null,
            "align_self": null,
            "border": null,
            "bottom": null,
            "display": null,
            "flex": null,
            "flex_flow": null,
            "grid_area": null,
            "grid_auto_columns": null,
            "grid_auto_flow": null,
            "grid_auto_rows": null,
            "grid_column": null,
            "grid_gap": null,
            "grid_row": null,
            "grid_template_areas": null,
            "grid_template_columns": null,
            "grid_template_rows": null,
            "height": null,
            "justify_content": null,
            "justify_items": null,
            "left": null,
            "margin": null,
            "max_height": null,
            "max_width": null,
            "min_height": null,
            "min_width": null,
            "object_fit": null,
            "object_position": null,
            "order": null,
            "overflow": null,
            "overflow_x": null,
            "overflow_y": null,
            "padding": null,
            "right": null,
            "top": null,
            "visibility": null,
            "width": null
          }
        },
        "67fbc4d5a6a249eda26185745ff92167": {
          "model_module": "@jupyter-widgets/base",
          "model_name": "LayoutModel",
          "model_module_version": "1.2.0",
          "state": {
            "_model_module": "@jupyter-widgets/base",
            "_model_module_version": "1.2.0",
            "_model_name": "LayoutModel",
            "_view_count": null,
            "_view_module": "@jupyter-widgets/base",
            "_view_module_version": "1.2.0",
            "_view_name": "LayoutView",
            "align_content": null,
            "align_items": null,
            "align_self": null,
            "border": null,
            "bottom": null,
            "display": null,
            "flex": null,
            "flex_flow": null,
            "grid_area": null,
            "grid_auto_columns": null,
            "grid_auto_flow": null,
            "grid_auto_rows": null,
            "grid_column": null,
            "grid_gap": null,
            "grid_row": null,
            "grid_template_areas": null,
            "grid_template_columns": null,
            "grid_template_rows": null,
            "height": null,
            "justify_content": null,
            "justify_items": null,
            "left": null,
            "margin": null,
            "max_height": null,
            "max_width": null,
            "min_height": null,
            "min_width": null,
            "object_fit": null,
            "object_position": null,
            "order": null,
            "overflow": null,
            "overflow_x": null,
            "overflow_y": null,
            "padding": null,
            "right": null,
            "top": null,
            "visibility": null,
            "width": null
          }
        },
        "f9cc7d31a6424b34868093c0f4843a45": {
          "model_module": "@jupyter-widgets/controls",
          "model_name": "DescriptionStyleModel",
          "model_module_version": "1.5.0",
          "state": {
            "_model_module": "@jupyter-widgets/controls",
            "_model_module_version": "1.5.0",
            "_model_name": "DescriptionStyleModel",
            "_view_count": null,
            "_view_module": "@jupyter-widgets/base",
            "_view_module_version": "1.2.0",
            "_view_name": "StyleView",
            "description_width": ""
          }
        },
        "b7ad2ece11f84c379eb32d322df5719d": {
          "model_module": "@jupyter-widgets/base",
          "model_name": "LayoutModel",
          "model_module_version": "1.2.0",
          "state": {
            "_model_module": "@jupyter-widgets/base",
            "_model_module_version": "1.2.0",
            "_model_name": "LayoutModel",
            "_view_count": null,
            "_view_module": "@jupyter-widgets/base",
            "_view_module_version": "1.2.0",
            "_view_name": "LayoutView",
            "align_content": null,
            "align_items": null,
            "align_self": null,
            "border": null,
            "bottom": null,
            "display": null,
            "flex": null,
            "flex_flow": null,
            "grid_area": null,
            "grid_auto_columns": null,
            "grid_auto_flow": null,
            "grid_auto_rows": null,
            "grid_column": null,
            "grid_gap": null,
            "grid_row": null,
            "grid_template_areas": null,
            "grid_template_columns": null,
            "grid_template_rows": null,
            "height": null,
            "justify_content": null,
            "justify_items": null,
            "left": null,
            "margin": null,
            "max_height": null,
            "max_width": null,
            "min_height": null,
            "min_width": null,
            "object_fit": null,
            "object_position": null,
            "order": null,
            "overflow": null,
            "overflow_x": null,
            "overflow_y": null,
            "padding": null,
            "right": null,
            "top": null,
            "visibility": null,
            "width": null
          }
        },
        "ad855f58a51947c1aeb6eaebc433f304": {
          "model_module": "@jupyter-widgets/controls",
          "model_name": "ProgressStyleModel",
          "model_module_version": "1.5.0",
          "state": {
            "_model_module": "@jupyter-widgets/controls",
            "_model_module_version": "1.5.0",
            "_model_name": "ProgressStyleModel",
            "_view_count": null,
            "_view_module": "@jupyter-widgets/base",
            "_view_module_version": "1.2.0",
            "_view_name": "StyleView",
            "bar_color": null,
            "description_width": ""
          }
        },
        "9664f26a6ea74a3881d24a9930a4f108": {
          "model_module": "@jupyter-widgets/base",
          "model_name": "LayoutModel",
          "model_module_version": "1.2.0",
          "state": {
            "_model_module": "@jupyter-widgets/base",
            "_model_module_version": "1.2.0",
            "_model_name": "LayoutModel",
            "_view_count": null,
            "_view_module": "@jupyter-widgets/base",
            "_view_module_version": "1.2.0",
            "_view_name": "LayoutView",
            "align_content": null,
            "align_items": null,
            "align_self": null,
            "border": null,
            "bottom": null,
            "display": null,
            "flex": null,
            "flex_flow": null,
            "grid_area": null,
            "grid_auto_columns": null,
            "grid_auto_flow": null,
            "grid_auto_rows": null,
            "grid_column": null,
            "grid_gap": null,
            "grid_row": null,
            "grid_template_areas": null,
            "grid_template_columns": null,
            "grid_template_rows": null,
            "height": null,
            "justify_content": null,
            "justify_items": null,
            "left": null,
            "margin": null,
            "max_height": null,
            "max_width": null,
            "min_height": null,
            "min_width": null,
            "object_fit": null,
            "object_position": null,
            "order": null,
            "overflow": null,
            "overflow_x": null,
            "overflow_y": null,
            "padding": null,
            "right": null,
            "top": null,
            "visibility": null,
            "width": null
          }
        },
        "70a05d2b027042e3b1abbb0e17cabc05": {
          "model_module": "@jupyter-widgets/controls",
          "model_name": "DescriptionStyleModel",
          "model_module_version": "1.5.0",
          "state": {
            "_model_module": "@jupyter-widgets/controls",
            "_model_module_version": "1.5.0",
            "_model_name": "DescriptionStyleModel",
            "_view_count": null,
            "_view_module": "@jupyter-widgets/base",
            "_view_module_version": "1.2.0",
            "_view_name": "StyleView",
            "description_width": ""
          }
        },
        "d2f5e416a9d24af2997ec4d95cf62621": {
          "model_module": "@jupyter-widgets/controls",
          "model_name": "HBoxModel",
          "model_module_version": "1.5.0",
          "state": {
            "_dom_classes": [],
            "_model_module": "@jupyter-widgets/controls",
            "_model_module_version": "1.5.0",
            "_model_name": "HBoxModel",
            "_view_count": null,
            "_view_module": "@jupyter-widgets/controls",
            "_view_module_version": "1.5.0",
            "_view_name": "HBoxView",
            "box_style": "",
            "children": [
              "IPY_MODEL_5a3355a3af884c6eb6b271e0ab99f3d6",
              "IPY_MODEL_b4e3f9420c3a405f86a9c9e6eaf20795",
              "IPY_MODEL_4e20f001cdf64887b9689b65173c2d94"
            ],
            "layout": "IPY_MODEL_cbb35e7ed9da43c68a650c3257a56ab9"
          }
        },
        "5a3355a3af884c6eb6b271e0ab99f3d6": {
          "model_module": "@jupyter-widgets/controls",
          "model_name": "HTMLModel",
          "model_module_version": "1.5.0",
          "state": {
            "_dom_classes": [],
            "_model_module": "@jupyter-widgets/controls",
            "_model_module_version": "1.5.0",
            "_model_name": "HTMLModel",
            "_view_count": null,
            "_view_module": "@jupyter-widgets/controls",
            "_view_module_version": "1.5.0",
            "_view_name": "HTMLView",
            "description": "",
            "description_tooltip": null,
            "layout": "IPY_MODEL_dad55ec7e68e48d18c10c34eaee9c39b",
            "placeholder": "​",
            "style": "IPY_MODEL_f0ed997398224c9e90b9903e0f3e29e6",
            "value": ""
          }
        },
        "b4e3f9420c3a405f86a9c9e6eaf20795": {
          "model_module": "@jupyter-widgets/controls",
          "model_name": "FloatProgressModel",
          "model_module_version": "1.5.0",
          "state": {
            "_dom_classes": [],
            "_model_module": "@jupyter-widgets/controls",
            "_model_module_version": "1.5.0",
            "_model_name": "FloatProgressModel",
            "_view_count": null,
            "_view_module": "@jupyter-widgets/controls",
            "_view_module_version": "1.5.0",
            "_view_name": "ProgressView",
            "bar_style": "success",
            "description": "",
            "description_tooltip": null,
            "layout": "IPY_MODEL_96dcd61c5bb24539aea201c7550abadd",
            "max": 5148,
            "min": 0,
            "orientation": "horizontal",
            "style": "IPY_MODEL_8ae9f5e383224dc59251f597b777fc88",
            "value": 5148
          }
        },
        "4e20f001cdf64887b9689b65173c2d94": {
          "model_module": "@jupyter-widgets/controls",
          "model_name": "HTMLModel",
          "model_module_version": "1.5.0",
          "state": {
            "_dom_classes": [],
            "_model_module": "@jupyter-widgets/controls",
            "_model_module_version": "1.5.0",
            "_model_name": "HTMLModel",
            "_view_count": null,
            "_view_module": "@jupyter-widgets/controls",
            "_view_module_version": "1.5.0",
            "_view_name": "HTMLView",
            "description": "",
            "description_tooltip": null,
            "layout": "IPY_MODEL_66dab5e7d9664e579f51580ab47b7615",
            "placeholder": "​",
            "style": "IPY_MODEL_8c88593d0b8549db87e7584fc2c7c772",
            "value": " 6144/? [00:00&lt;00:00, 154560.09it/s]"
          }
        },
        "cbb35e7ed9da43c68a650c3257a56ab9": {
          "model_module": "@jupyter-widgets/base",
          "model_name": "LayoutModel",
          "model_module_version": "1.2.0",
          "state": {
            "_model_module": "@jupyter-widgets/base",
            "_model_module_version": "1.2.0",
            "_model_name": "LayoutModel",
            "_view_count": null,
            "_view_module": "@jupyter-widgets/base",
            "_view_module_version": "1.2.0",
            "_view_name": "LayoutView",
            "align_content": null,
            "align_items": null,
            "align_self": null,
            "border": null,
            "bottom": null,
            "display": null,
            "flex": null,
            "flex_flow": null,
            "grid_area": null,
            "grid_auto_columns": null,
            "grid_auto_flow": null,
            "grid_auto_rows": null,
            "grid_column": null,
            "grid_gap": null,
            "grid_row": null,
            "grid_template_areas": null,
            "grid_template_columns": null,
            "grid_template_rows": null,
            "height": null,
            "justify_content": null,
            "justify_items": null,
            "left": null,
            "margin": null,
            "max_height": null,
            "max_width": null,
            "min_height": null,
            "min_width": null,
            "object_fit": null,
            "object_position": null,
            "order": null,
            "overflow": null,
            "overflow_x": null,
            "overflow_y": null,
            "padding": null,
            "right": null,
            "top": null,
            "visibility": null,
            "width": null
          }
        },
        "dad55ec7e68e48d18c10c34eaee9c39b": {
          "model_module": "@jupyter-widgets/base",
          "model_name": "LayoutModel",
          "model_module_version": "1.2.0",
          "state": {
            "_model_module": "@jupyter-widgets/base",
            "_model_module_version": "1.2.0",
            "_model_name": "LayoutModel",
            "_view_count": null,
            "_view_module": "@jupyter-widgets/base",
            "_view_module_version": "1.2.0",
            "_view_name": "LayoutView",
            "align_content": null,
            "align_items": null,
            "align_self": null,
            "border": null,
            "bottom": null,
            "display": null,
            "flex": null,
            "flex_flow": null,
            "grid_area": null,
            "grid_auto_columns": null,
            "grid_auto_flow": null,
            "grid_auto_rows": null,
            "grid_column": null,
            "grid_gap": null,
            "grid_row": null,
            "grid_template_areas": null,
            "grid_template_columns": null,
            "grid_template_rows": null,
            "height": null,
            "justify_content": null,
            "justify_items": null,
            "left": null,
            "margin": null,
            "max_height": null,
            "max_width": null,
            "min_height": null,
            "min_width": null,
            "object_fit": null,
            "object_position": null,
            "order": null,
            "overflow": null,
            "overflow_x": null,
            "overflow_y": null,
            "padding": null,
            "right": null,
            "top": null,
            "visibility": null,
            "width": null
          }
        },
        "f0ed997398224c9e90b9903e0f3e29e6": {
          "model_module": "@jupyter-widgets/controls",
          "model_name": "DescriptionStyleModel",
          "model_module_version": "1.5.0",
          "state": {
            "_model_module": "@jupyter-widgets/controls",
            "_model_module_version": "1.5.0",
            "_model_name": "DescriptionStyleModel",
            "_view_count": null,
            "_view_module": "@jupyter-widgets/base",
            "_view_module_version": "1.2.0",
            "_view_name": "StyleView",
            "description_width": ""
          }
        },
        "96dcd61c5bb24539aea201c7550abadd": {
          "model_module": "@jupyter-widgets/base",
          "model_name": "LayoutModel",
          "model_module_version": "1.2.0",
          "state": {
            "_model_module": "@jupyter-widgets/base",
            "_model_module_version": "1.2.0",
            "_model_name": "LayoutModel",
            "_view_count": null,
            "_view_module": "@jupyter-widgets/base",
            "_view_module_version": "1.2.0",
            "_view_name": "LayoutView",
            "align_content": null,
            "align_items": null,
            "align_self": null,
            "border": null,
            "bottom": null,
            "display": null,
            "flex": null,
            "flex_flow": null,
            "grid_area": null,
            "grid_auto_columns": null,
            "grid_auto_flow": null,
            "grid_auto_rows": null,
            "grid_column": null,
            "grid_gap": null,
            "grid_row": null,
            "grid_template_areas": null,
            "grid_template_columns": null,
            "grid_template_rows": null,
            "height": null,
            "justify_content": null,
            "justify_items": null,
            "left": null,
            "margin": null,
            "max_height": null,
            "max_width": null,
            "min_height": null,
            "min_width": null,
            "object_fit": null,
            "object_position": null,
            "order": null,
            "overflow": null,
            "overflow_x": null,
            "overflow_y": null,
            "padding": null,
            "right": null,
            "top": null,
            "visibility": null,
            "width": null
          }
        },
        "8ae9f5e383224dc59251f597b777fc88": {
          "model_module": "@jupyter-widgets/controls",
          "model_name": "ProgressStyleModel",
          "model_module_version": "1.5.0",
          "state": {
            "_model_module": "@jupyter-widgets/controls",
            "_model_module_version": "1.5.0",
            "_model_name": "ProgressStyleModel",
            "_view_count": null,
            "_view_module": "@jupyter-widgets/base",
            "_view_module_version": "1.2.0",
            "_view_name": "StyleView",
            "bar_color": null,
            "description_width": ""
          }
        },
        "66dab5e7d9664e579f51580ab47b7615": {
          "model_module": "@jupyter-widgets/base",
          "model_name": "LayoutModel",
          "model_module_version": "1.2.0",
          "state": {
            "_model_module": "@jupyter-widgets/base",
            "_model_module_version": "1.2.0",
            "_model_name": "LayoutModel",
            "_view_count": null,
            "_view_module": "@jupyter-widgets/base",
            "_view_module_version": "1.2.0",
            "_view_name": "LayoutView",
            "align_content": null,
            "align_items": null,
            "align_self": null,
            "border": null,
            "bottom": null,
            "display": null,
            "flex": null,
            "flex_flow": null,
            "grid_area": null,
            "grid_auto_columns": null,
            "grid_auto_flow": null,
            "grid_auto_rows": null,
            "grid_column": null,
            "grid_gap": null,
            "grid_row": null,
            "grid_template_areas": null,
            "grid_template_columns": null,
            "grid_template_rows": null,
            "height": null,
            "justify_content": null,
            "justify_items": null,
            "left": null,
            "margin": null,
            "max_height": null,
            "max_width": null,
            "min_height": null,
            "min_width": null,
            "object_fit": null,
            "object_position": null,
            "order": null,
            "overflow": null,
            "overflow_x": null,
            "overflow_y": null,
            "padding": null,
            "right": null,
            "top": null,
            "visibility": null,
            "width": null
          }
        },
        "8c88593d0b8549db87e7584fc2c7c772": {
          "model_module": "@jupyter-widgets/controls",
          "model_name": "DescriptionStyleModel",
          "model_module_version": "1.5.0",
          "state": {
            "_model_module": "@jupyter-widgets/controls",
            "_model_module_version": "1.5.0",
            "_model_name": "DescriptionStyleModel",
            "_view_count": null,
            "_view_module": "@jupyter-widgets/base",
            "_view_module_version": "1.2.0",
            "_view_name": "StyleView",
            "description_width": ""
          }
        }
      }
    }
  },
  "nbformat": 4,
  "nbformat_minor": 0
}